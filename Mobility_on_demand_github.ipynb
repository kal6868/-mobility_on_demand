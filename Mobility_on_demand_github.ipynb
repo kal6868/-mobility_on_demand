{
 "cells": [
  {
   "cell_type": "code",
   "execution_count": 279,
   "id": "c672c240",
   "metadata": {},
   "outputs": [],
   "source": [
    "location = 'C:/Users/user/Desktop/saltlux/project/project_second/smart_card/'"
   ]
  },
  {
   "cell_type": "code",
   "execution_count": 280,
   "id": "2d31586a",
   "metadata": {},
   "outputs": [],
   "source": [
    "import pandas as pd\n",
    "import numpy as np\n",
    "\n",
    "from tqdm.notebook import tqdm\n",
    "\n",
    "import matplotlib.pyplot as mpl\n",
    "import seaborn as sns\n",
    "import matplotlib.pyplot as plt\n",
    "\n",
    "import folium\n",
    "from folium.plugins import MarkerCluster\n",
    "import scipy.stats"
   ]
  },
  {
   "cell_type": "code",
   "execution_count": 281,
   "id": "c2938aeb",
   "metadata": {},
   "outputs": [],
   "source": [
    "pd.options.display.max_rows = 10000\n",
    "pd.options.display.max_columns = 1000\n",
    "pd.options.display.float_format = '{:.5f}'.format"
   ]
  },
  {
   "cell_type": "code",
   "execution_count": 282,
   "id": "513a026a",
   "metadata": {},
   "outputs": [],
   "source": [
    "# 그래프 속성\n",
    "mpl.rc('font', family = 'Malgun Gothic')\n",
    "mpl.rc('axes', unicode_minus = False)"
   ]
  },
  {
   "cell_type": "code",
   "execution_count": null,
   "id": "b0aed812",
   "metadata": {},
   "outputs": [],
   "source": [
    "rawdata = pd.read_csv(location + 'filename.csv', encoding = 'euc-kr')\n",
    "rawdata.head()"
   ]
  },
  {
   "cell_type": "code",
   "execution_count": null,
   "id": "fe526855",
   "metadata": {},
   "outputs": [],
   "source": [
    "rawdata.info()"
   ]
  },
  {
   "cell_type": "markdown",
   "id": "bbca0ce2",
   "metadata": {},
   "source": [
    "## 전처리\n",
    "* 출발지와 도착지가 동일한 사람들을 제거 (환승을 이용해서 원위치로 돌아오는 사람들 + 타자마자 카드를 찍어서 하차로 남는 경우들)\n",
    "* Circuity 값이 너무 높은 사람들은 제거해야 한다 (추후 환승이 circuity에 미치는 영향을 조사하기 위해서)"
   ]
  },
  {
   "cell_type": "code",
   "execution_count": null,
   "id": "5a5da431",
   "metadata": {},
   "outputs": [],
   "source": [
    "rawdata[rawdata['on_area_name'] == rawdata['off_area_name']].info()"
   ]
  },
  {
   "cell_type": "code",
   "execution_count": 286,
   "id": "ba6b8b4a",
   "metadata": {},
   "outputs": [],
   "source": [
    "#출발지와 도착지가 똑같은 데이터는 제거\n",
    "df_mobility = rawdata[~(rawdata['on_area_name'] == rawdata['off_area_name'])]"
   ]
  },
  {
   "cell_type": "code",
   "execution_count": null,
   "id": "53c3ce30",
   "metadata": {},
   "outputs": [],
   "source": [
    "df_mobility.info()"
   ]
  },
  {
   "cell_type": "markdown",
   "id": "c0fd4c17",
   "metadata": {},
   "source": [
    "* Circuity 이상치 제거 (무한대 값과 0값이 포함되어있음)\n",
    "* 역 이름으로는 미처 제거되지 못한 원자리로 돌아오는 데이터가 아직 남아있음\n",
    "* Haversine이 0이기 때문에 무한대 값이 생겨버림\n",
    "* Total_Distance 값이 0인 경우가 있음. 이런 경우 Circuityr가 0이 되어버린다. 마찬가지로 제거"
   ]
  },
  {
   "cell_type": "code",
   "execution_count": null,
   "id": "62a378a2",
   "metadata": {},
   "outputs": [],
   "source": [
    "df_mobility['Circuity'].describe()"
   ]
  },
  {
   "cell_type": "code",
   "execution_count": null,
   "id": "ef57c5f1",
   "metadata": {},
   "outputs": [],
   "source": [
    "df_mobility[df_mobility['Circuity'] == np.inf].info()"
   ]
  },
  {
   "cell_type": "code",
   "execution_count": null,
   "id": "6f9fcb94",
   "metadata": {},
   "outputs": [],
   "source": [
    "df_mobility[df_mobility['Circuity'] == 0].info()"
   ]
  },
  {
   "cell_type": "code",
   "execution_count": 291,
   "id": "09d89e36",
   "metadata": {},
   "outputs": [],
   "source": [
    "df_mobility1 = df_mobility[~(df_mobility['Circuity'] == 0) & ~(df_mobility['Circuity'] == np.inf)]"
   ]
  },
  {
   "cell_type": "code",
   "execution_count": null,
   "id": "0398b781",
   "metadata": {},
   "outputs": [],
   "source": [
    "df_mobility1.describe()"
   ]
  },
  {
   "cell_type": "code",
   "execution_count": 293,
   "id": "f044960e",
   "metadata": {},
   "outputs": [
    {
     "data": {
      "text/plain": [
       "0.2674461090752107"
      ]
     },
     "execution_count": 293,
     "metadata": {},
     "output_type": "execute_result"
    }
   ],
   "source": [
    "# 마지막으로 iqr 이상치 제거를 통해서 Circuity가 너무 높은 값들은 제거한다.\n",
    "iqr = df_mobility1['Circuity'].quantile(0.75) - df_mobility1['Circuity'].quantile(0.25)\n",
    "iqr"
   ]
  },
  {
   "cell_type": "code",
   "execution_count": null,
   "id": "8ef62284",
   "metadata": {},
   "outputs": [],
   "source": [
    "df_mobility1[~((df_mobility1['Circuity'] > df_mobility1['Circuity'].quantile(0.25) - 1.5*iqr) & (df_mobility1['Circuity'] < df_mobility1['Circuity'].quantile(0.75) + 1.5*iqr))].info()"
   ]
  },
  {
   "cell_type": "code",
   "execution_count": 295,
   "id": "7beabcee",
   "metadata": {},
   "outputs": [],
   "source": [
    "df_pre_com = df_mobility1[(df_mobility1['Circuity'] > df_mobility1['Circuity'].quantile(0.25) - 1.5*iqr) & (df_mobility1['Circuity'] < df_mobility1['Circuity'].quantile(0.75) + 1.5*iqr)]"
   ]
  },
  {
   "cell_type": "code",
   "execution_count": null,
   "id": "e238870f",
   "metadata": {},
   "outputs": [],
   "source": [
    "df_pre_com.info()"
   ]
  },
  {
   "cell_type": "code",
   "execution_count": null,
   "id": "6de073ea",
   "metadata": {},
   "outputs": [],
   "source": [
    "#Circuity의 중앙값과 평균이 크게 차이나지 않는다\n",
    "df_pre_com.describe()"
   ]
  },
  {
   "cell_type": "markdown",
   "id": "a1f00be6",
   "metadata": {},
   "source": [
    " ### 1. 데이터 시각화를 이용하여 어느 지역에 가장 많은 인구가 승차하는지, 하차하는지, 이용하는 지역을 볼 수 있다"
   ]
  },
  {
   "cell_type": "code",
   "execution_count": 298,
   "id": "bbc7ef39",
   "metadata": {},
   "outputs": [],
   "source": [
    "latitude = 37.5560526\n",
    "longitude = 126.9667922"
   ]
  },
  {
   "cell_type": "code",
   "execution_count": 299,
   "id": "1580d203",
   "metadata": {},
   "outputs": [],
   "source": [
    "wt_lat = df_pre_com[(df_pre_com['on_hour'] >= 7) & (df_pre_com['on_hour'] < 9)]['on_lat'].head(10000)\n",
    "wt_lon = df_pre_com[(df_pre_com['on_hour'] >= 7) & (df_pre_com['on_hour'] < 9)]['on_lon'].head(10000)"
   ]
  },
  {
   "cell_type": "code",
   "execution_count": 300,
   "id": "754a6388",
   "metadata": {},
   "outputs": [
    {
     "data": {
      "text/plain": [
       "22   37.60774\n",
       "25   37.54874\n",
       "27   37.43486\n",
       "33   37.60080\n",
       "34   37.48810\n",
       "Name: on_lat, dtype: float64"
      ]
     },
     "execution_count": 300,
     "metadata": {},
     "output_type": "execute_result"
    }
   ],
   "source": [
    "wt_lat.head()"
   ]
  },
  {
   "cell_type": "code",
   "execution_count": 301,
   "id": "40e9e902",
   "metadata": {},
   "outputs": [
    {
     "data": {
      "text/html": [
       "<div>\n",
       "<style scoped>\n",
       "    .dataframe tbody tr th:only-of-type {\n",
       "        vertical-align: middle;\n",
       "    }\n",
       "\n",
       "    .dataframe tbody tr th {\n",
       "        vertical-align: top;\n",
       "    }\n",
       "\n",
       "    .dataframe thead th {\n",
       "        text-align: right;\n",
       "    }\n",
       "</style>\n",
       "<table border=\"1\" class=\"dataframe\">\n",
       "  <thead>\n",
       "    <tr style=\"text-align: right;\">\n",
       "      <th></th>\n",
       "      <th>station</th>\n",
       "      <th>count</th>\n",
       "    </tr>\n",
       "  </thead>\n",
       "  <tbody>\n",
       "    <tr>\n",
       "      <th>0</th>\n",
       "      <td>강남역</td>\n",
       "      <td>85059</td>\n",
       "    </tr>\n",
       "    <tr>\n",
       "      <th>1</th>\n",
       "      <td>잠실역</td>\n",
       "      <td>72552</td>\n",
       "    </tr>\n",
       "    <tr>\n",
       "      <th>2</th>\n",
       "      <td>사당역</td>\n",
       "      <td>64689</td>\n",
       "    </tr>\n",
       "    <tr>\n",
       "      <th>3</th>\n",
       "      <td>고속터미널역</td>\n",
       "      <td>63526</td>\n",
       "    </tr>\n",
       "    <tr>\n",
       "      <th>4</th>\n",
       "      <td>홍대입구역</td>\n",
       "      <td>54797</td>\n",
       "    </tr>\n",
       "  </tbody>\n",
       "</table>\n",
       "</div>"
      ],
      "text/plain": [
       "  station  count\n",
       "0     강남역  85059\n",
       "1     잠실역  72552\n",
       "2     사당역  64689\n",
       "3  고속터미널역  63526\n",
       "4   홍대입구역  54797"
      ]
     },
     "execution_count": 301,
     "metadata": {},
     "output_type": "execute_result"
    }
   ],
   "source": [
    "wt_count = pd.DataFrame(df_pre_com['on_area_name'].value_counts().reset_index())\n",
    "wt_count.columns = ['station', 'count']\n",
    "wt_count.head()"
   ]
  },
  {
   "cell_type": "code",
   "execution_count": 302,
   "id": "fad94a7b",
   "metadata": {},
   "outputs": [
    {
     "data": {
      "text/plain": [
       "157"
      ]
     },
     "execution_count": 302,
     "metadata": {},
     "output_type": "execute_result"
    }
   ],
   "source": [
    "wt_count[wt_count['count'] > 10000]['station'].count()"
   ]
  },
  {
   "cell_type": "code",
   "execution_count": 303,
   "id": "47be84a4",
   "metadata": {},
   "outputs": [
    {
     "name": "stdout",
     "output_type": "stream",
     "text": [
      "['강남역', '잠실역', '사당역', '고속터미널역', '홍대입구역']\n",
      "157\n"
     ]
    }
   ],
   "source": [
    "top_station = list(wt_count[wt_count['count'] > 10000]['station'])\n",
    "print(top_station[:5])\n",
    "print(len(top_station))"
   ]
  },
  {
   "cell_type": "code",
   "execution_count": 304,
   "id": "762c0c94",
   "metadata": {},
   "outputs": [
    {
     "data": {
      "application/vnd.jupyter.widget-view+json": {
       "model_id": "bb5012347e5b47508a8df4f270abee5f",
       "version_major": 2,
       "version_minor": 0
      },
      "text/plain": [
       "  0%|          | 0/157 [00:00<?, ?it/s]"
      ]
     },
     "metadata": {},
     "output_type": "display_data"
    },
    {
     "data": {
      "application/vnd.jupyter.widget-view+json": {
       "model_id": "793ec75dedac481aa5ff97ec604b52c2",
       "version_major": 2,
       "version_minor": 0
      },
      "text/plain": [
       "  0%|          | 0/157 [00:00<?, ?it/s]"
      ]
     },
     "metadata": {},
     "output_type": "display_data"
    }
   ],
   "source": [
    "top_station_lat = [rawdata[rawdata['on_area_name'] == top_station[i]]['on_lat'].iloc[0] for i in tqdm(range(len(top_station)))]\n",
    "top_station_lon = [rawdata[rawdata['on_area_name'] == top_station[i]]['on_lon'].iloc[0] for i in tqdm(range(len(top_station)))]"
   ]
  },
  {
   "cell_type": "code",
   "execution_count": 305,
   "id": "77bc3c4a",
   "metadata": {},
   "outputs": [
    {
     "name": "stdout",
     "output_type": "stream",
     "text": [
      "157\n",
      "157\n"
     ]
    }
   ],
   "source": [
    "print(len(top_station_lat))\n",
    "print(len(top_station_lon))"
   ]
  },
  {
   "cell_type": "code",
   "execution_count": 306,
   "id": "8e6aca65",
   "metadata": {},
   "outputs": [
    {
     "data": {
      "application/vnd.jupyter.widget-view+json": {
       "model_id": "1823ee8b8ab643909422dac26e95ffe3",
       "version_major": 2,
       "version_minor": 0
      },
      "text/plain": [
       "0it [00:00, ?it/s]"
      ]
     },
     "metadata": {},
     "output_type": "display_data"
    },
    {
     "data": {
      "text/html": [
       "<div style=\"width:100%;\"><div style=\"position:relative;width:100%;height:0;padding-bottom:60%;\"><span style=\"color:#565656\">Make this Notebook Trusted to load map: File -> Trust Notebook</span><iframe src=\"about:blank\" style=\"position:absolute;width:100%;height:100%;left:0;top:0;border:none !important;\" data-html=%3C%21DOCTYPE%20html%3E%0A%3Chead%3E%20%20%20%20%0A%20%20%20%20%3Cmeta%20http-equiv%3D%22content-type%22%20content%3D%22text/html%3B%20charset%3DUTF-8%22%20/%3E%0A%20%20%20%20%0A%20%20%20%20%20%20%20%20%3Cscript%3E%0A%20%20%20%20%20%20%20%20%20%20%20%20L_NO_TOUCH%20%3D%20false%3B%0A%20%20%20%20%20%20%20%20%20%20%20%20L_DISABLE_3D%20%3D%20false%3B%0A%20%20%20%20%20%20%20%20%3C/script%3E%0A%20%20%20%20%0A%20%20%20%20%3Cstyle%3Ehtml%2C%20body%20%7Bwidth%3A%20100%25%3Bheight%3A%20100%25%3Bmargin%3A%200%3Bpadding%3A%200%3B%7D%3C/style%3E%0A%20%20%20%20%3Cstyle%3E%23map%20%7Bposition%3Aabsolute%3Btop%3A0%3Bbottom%3A0%3Bright%3A0%3Bleft%3A0%3B%7D%3C/style%3E%0A%20%20%20%20%3Cscript%20src%3D%22https%3A//cdn.jsdelivr.net/npm/leaflet%401.6.0/dist/leaflet.js%22%3E%3C/script%3E%0A%20%20%20%20%3Cscript%20src%3D%22https%3A//code.jquery.com/jquery-1.12.4.min.js%22%3E%3C/script%3E%0A%20%20%20%20%3Cscript%20src%3D%22https%3A//maxcdn.bootstrapcdn.com/bootstrap/3.2.0/js/bootstrap.min.js%22%3E%3C/script%3E%0A%20%20%20%20%3Cscript%20src%3D%22https%3A//cdnjs.cloudflare.com/ajax/libs/Leaflet.awesome-markers/2.0.2/leaflet.awesome-markers.js%22%3E%3C/script%3E%0A%20%20%20%20%3Clink%20rel%3D%22stylesheet%22%20href%3D%22https%3A//cdn.jsdelivr.net/npm/leaflet%401.6.0/dist/leaflet.css%22/%3E%0A%20%20%20%20%3Clink%20rel%3D%22stylesheet%22%20href%3D%22https%3A//maxcdn.bootstrapcdn.com/bootstrap/3.2.0/css/bootstrap.min.css%22/%3E%0A%20%20%20%20%3Clink%20rel%3D%22stylesheet%22%20href%3D%22https%3A//maxcdn.bootstrapcdn.com/bootstrap/3.2.0/css/bootstrap-theme.min.css%22/%3E%0A%20%20%20%20%3Clink%20rel%3D%22stylesheet%22%20href%3D%22https%3A//maxcdn.bootstrapcdn.com/font-awesome/4.6.3/css/font-awesome.min.css%22/%3E%0A%20%20%20%20%3Clink%20rel%3D%22stylesheet%22%20href%3D%22https%3A//cdnjs.cloudflare.com/ajax/libs/Leaflet.awesome-markers/2.0.2/leaflet.awesome-markers.css%22/%3E%0A%20%20%20%20%3Clink%20rel%3D%22stylesheet%22%20href%3D%22https%3A//cdn.jsdelivr.net/gh/python-visualization/folium/folium/templates/leaflet.awesome.rotate.min.css%22/%3E%0A%20%20%20%20%0A%20%20%20%20%20%20%20%20%20%20%20%20%3Cmeta%20name%3D%22viewport%22%20content%3D%22width%3Ddevice-width%2C%0A%20%20%20%20%20%20%20%20%20%20%20%20%20%20%20%20initial-scale%3D1.0%2C%20maximum-scale%3D1.0%2C%20user-scalable%3Dno%22%20/%3E%0A%20%20%20%20%20%20%20%20%20%20%20%20%3Cstyle%3E%0A%20%20%20%20%20%20%20%20%20%20%20%20%20%20%20%20%23map_738e1ac90aac43499480c8d4f40c9de8%20%7B%0A%20%20%20%20%20%20%20%20%20%20%20%20%20%20%20%20%20%20%20%20position%3A%20relative%3B%0A%20%20%20%20%20%20%20%20%20%20%20%20%20%20%20%20%20%20%20%20width%3A%201000.0px%3B%0A%20%20%20%20%20%20%20%20%20%20%20%20%20%20%20%20%20%20%20%20height%3A%201000.0px%3B%0A%20%20%20%20%20%20%20%20%20%20%20%20%20%20%20%20%20%20%20%20left%3A%200.0%25%3B%0A%20%20%20%20%20%20%20%20%20%20%20%20%20%20%20%20%20%20%20%20top%3A%200.0%25%3B%0A%20%20%20%20%20%20%20%20%20%20%20%20%20%20%20%20%7D%0A%20%20%20%20%20%20%20%20%20%20%20%20%3C/style%3E%0A%20%20%20%20%20%20%20%20%0A%20%20%20%20%3Cscript%20src%3D%22https%3A//cdnjs.cloudflare.com/ajax/libs/leaflet.markercluster/1.1.0/leaflet.markercluster.js%22%3E%3C/script%3E%0A%20%20%20%20%3Clink%20rel%3D%22stylesheet%22%20href%3D%22https%3A//cdnjs.cloudflare.com/ajax/libs/leaflet.markercluster/1.1.0/MarkerCluster.css%22/%3E%0A%20%20%20%20%3Clink%20rel%3D%22stylesheet%22%20href%3D%22https%3A//cdnjs.cloudflare.com/ajax/libs/leaflet.markercluster/1.1.0/MarkerCluster.Default.css%22/%3E%0A%3C/head%3E%0A%3Cbody%3E%20%20%20%20%0A%20%20%20%20%0A%20%20%20%20%20%20%20%20%20%20%20%20%3Cdiv%20class%3D%22folium-map%22%20id%3D%22map_738e1ac90aac43499480c8d4f40c9de8%22%20%3E%3C/div%3E%0A%20%20%20%20%20%20%20%20%0A%3C/body%3E%0A%3Cscript%3E%20%20%20%20%0A%20%20%20%20%0A%20%20%20%20%20%20%20%20%20%20%20%20var%20map_738e1ac90aac43499480c8d4f40c9de8%20%3D%20L.map%28%0A%20%20%20%20%20%20%20%20%20%20%20%20%20%20%20%20%22map_738e1ac90aac43499480c8d4f40c9de8%22%2C%0A%20%20%20%20%20%20%20%20%20%20%20%20%20%20%20%20%7B%0A%20%20%20%20%20%20%20%20%20%20%20%20%20%20%20%20%20%20%20%20center%3A%20%5B37.5560526%2C%20126.9667922%5D%2C%0A%20%20%20%20%20%20%20%20%20%20%20%20%20%20%20%20%20%20%20%20crs%3A%20L.CRS.EPSG3857%2C%0A%20%20%20%20%20%20%20%20%20%20%20%20%20%20%20%20%20%20%20%20zoom%3A%2010%2C%0A%20%20%20%20%20%20%20%20%20%20%20%20%20%20%20%20%20%20%20%20zoomControl%3A%20true%2C%0A%20%20%20%20%20%20%20%20%20%20%20%20%20%20%20%20%20%20%20%20preferCanvas%3A%20false%2C%0A%20%20%20%20%20%20%20%20%20%20%20%20%20%20%20%20%7D%0A%20%20%20%20%20%20%20%20%20%20%20%20%29%3B%0A%0A%20%20%20%20%20%20%20%20%20%20%20%20%0A%0A%20%20%20%20%20%20%20%20%0A%20%20%20%20%0A%20%20%20%20%20%20%20%20%20%20%20%20var%20tile_layer_1f19c6468257413194066d82a88c17e1%20%3D%20L.tileLayer%28%0A%20%20%20%20%20%20%20%20%20%20%20%20%20%20%20%20%22https%3A//%7Bs%7D.tile.openstreetmap.org/%7Bz%7D/%7Bx%7D/%7By%7D.png%22%2C%0A%20%20%20%20%20%20%20%20%20%20%20%20%20%20%20%20%7B%22attribution%22%3A%20%22Data%20by%20%5Cu0026copy%3B%20%5Cu003ca%20href%3D%5C%22http%3A//openstreetmap.org%5C%22%5Cu003eOpenStreetMap%5Cu003c/a%5Cu003e%2C%20under%20%5Cu003ca%20href%3D%5C%22http%3A//www.openstreetmap.org/copyright%5C%22%5Cu003eODbL%5Cu003c/a%5Cu003e.%22%2C%20%22detectRetina%22%3A%20false%2C%20%22maxNativeZoom%22%3A%2018%2C%20%22maxZoom%22%3A%2018%2C%20%22minZoom%22%3A%200%2C%20%22noWrap%22%3A%20false%2C%20%22opacity%22%3A%201%2C%20%22subdomains%22%3A%20%22abc%22%2C%20%22tms%22%3A%20false%7D%0A%20%20%20%20%20%20%20%20%20%20%20%20%29.addTo%28map_738e1ac90aac43499480c8d4f40c9de8%29%3B%0A%20%20%20%20%20%20%20%20%0A%20%20%20%20%0A%20%20%20%20%20%20%20%20%20%20%20%20var%20marker_cluster_3a499d56cecc47ca8127b9820f58c1fa%20%3D%20L.markerClusterGroup%28%0A%20%20%20%20%20%20%20%20%20%20%20%20%20%20%20%20%7B%7D%0A%20%20%20%20%20%20%20%20%20%20%20%20%29%3B%0A%20%20%20%20%20%20%20%20%20%20%20%20map_738e1ac90aac43499480c8d4f40c9de8.addLayer%28marker_cluster_3a499d56cecc47ca8127b9820f58c1fa%29%3B%0A%20%20%20%20%20%20%20%20%0A%20%20%20%20%0A%20%20%20%20%20%20%20%20%20%20%20%20var%20marker_3356097c6d8f435796d0fd9b2262c93f%20%3D%20L.marker%28%0A%20%20%20%20%20%20%20%20%20%20%20%20%20%20%20%20%5B37.498153%2C%20127.028358%5D%2C%0A%20%20%20%20%20%20%20%20%20%20%20%20%20%20%20%20%7B%22radius%22%3A%201%7D%0A%20%20%20%20%20%20%20%20%20%20%20%20%29.addTo%28marker_cluster_3a499d56cecc47ca8127b9820f58c1fa%29%3B%0A%20%20%20%20%20%20%20%20%0A%20%20%20%20%0A%20%20%20%20%20%20%20%20%20%20%20%20var%20marker_ac71d615bf9140549cfa6c766452b891%20%3D%20L.marker%28%0A%20%20%20%20%20%20%20%20%20%20%20%20%20%20%20%20%5B37.513275%2C%20127.100164%5D%2C%0A%20%20%20%20%20%20%20%20%20%20%20%20%20%20%20%20%7B%22radius%22%3A%201%7D%0A%20%20%20%20%20%20%20%20%20%20%20%20%29.addTo%28marker_cluster_3a499d56cecc47ca8127b9820f58c1fa%29%3B%0A%20%20%20%20%20%20%20%20%0A%20%20%20%20%0A%20%20%20%20%20%20%20%20%20%20%20%20var%20marker_b393d9eaf45f4843be2263566406de20%20%3D%20L.marker%28%0A%20%20%20%20%20%20%20%20%20%20%20%20%20%20%20%20%5B37.476556%2C%20126.981578%5D%2C%0A%20%20%20%20%20%20%20%20%20%20%20%20%20%20%20%20%7B%22radius%22%3A%201%7D%0A%20%20%20%20%20%20%20%20%20%20%20%20%29.addTo%28marker_cluster_3a499d56cecc47ca8127b9820f58c1fa%29%3B%0A%20%20%20%20%20%20%20%20%0A%20%20%20%20%0A%20%20%20%20%20%20%20%20%20%20%20%20var%20marker_47b54219df5e44c98de1d9b489d27c28%20%3D%20L.marker%28%0A%20%20%20%20%20%20%20%20%20%20%20%20%20%20%20%20%5B37.504872%2C%20127.004956%5D%2C%0A%20%20%20%20%20%20%20%20%20%20%20%20%20%20%20%20%7B%22radius%22%3A%201%7D%0A%20%20%20%20%20%20%20%20%20%20%20%20%29.addTo%28marker_cluster_3a499d56cecc47ca8127b9820f58c1fa%29%3B%0A%20%20%20%20%20%20%20%20%0A%20%20%20%20%0A%20%20%20%20%20%20%20%20%20%20%20%20var%20marker_a6408128428f484b836cad22b367d4f3%20%3D%20L.marker%28%0A%20%20%20%20%20%20%20%20%20%20%20%20%20%20%20%20%5B37.55679%2C%20126.923352%5D%2C%0A%20%20%20%20%20%20%20%20%20%20%20%20%20%20%20%20%7B%22radius%22%3A%201%7D%0A%20%20%20%20%20%20%20%20%20%20%20%20%29.addTo%28marker_cluster_3a499d56cecc47ca8127b9820f58c1fa%29%3B%0A%20%20%20%20%20%20%20%20%0A%20%20%20%20%0A%20%20%20%20%20%20%20%20%20%20%20%20var%20marker_cfeeb9e69afa4da1ac3cee6da4995449%20%3D%20L.marker%28%0A%20%20%20%20%20%20%20%20%20%20%20%20%20%20%20%20%5B37.50437%2C%20127.048481%5D%2C%0A%20%20%20%20%20%20%20%20%20%20%20%20%20%20%20%20%7B%22radius%22%3A%201%7D%0A%20%20%20%20%20%20%20%20%20%20%20%20%29.addTo%28marker_cluster_3a499d56cecc47ca8127b9820f58c1fa%29%3B%0A%20%20%20%20%20%20%20%20%0A%20%20%20%20%0A%20%20%20%20%20%20%20%20%20%20%20%20var%20marker_9072ce9e5f3c42af92693fde2ec029f5%20%3D%20L.marker%28%0A%20%20%20%20%20%20%20%20%20%20%20%20%20%20%20%20%5B37.493973%2C%20127.01461299999998%5D%2C%0A%20%20%20%20%20%20%20%20%20%20%20%20%20%20%20%20%7B%22radius%22%3A%201%7D%0A%20%20%20%20%20%20%20%20%20%20%20%20%29.addTo%28marker_cluster_3a499d56cecc47ca8127b9820f58c1fa%29%3B%0A%20%20%20%20%20%20%20%20%0A%20%20%20%20%0A%20%20%20%20%20%20%20%20%20%20%20%20var%20marker_64d7ccd87c1548b49c5f25686b5ae1bf%20%3D%20L.marker%28%0A%20%20%20%20%20%20%20%20%20%20%20%20%20%20%20%20%5B37.540943%2C%20127.068165%5D%2C%0A%20%20%20%20%20%20%20%20%20%20%20%20%20%20%20%20%7B%22radius%22%3A%201%7D%0A%20%20%20%20%20%20%20%20%20%20%20%20%29.addTo%28marker_cluster_3a499d56cecc47ca8127b9820f58c1fa%29%3B%0A%20%20%20%20%20%20%20%20%0A%20%20%20%20%0A%20%20%20%20%20%20%20%20%20%20%20%20var%20marker_0b22b2c47c2241a4b543040c3a5e169c%20%3D%20L.marker%28%0A%20%20%20%20%20%20%20%20%20%20%20%20%20%20%20%20%5B37.483152%2C%20126.901558%5D%2C%0A%20%20%20%20%20%20%20%20%20%20%20%20%20%20%20%20%7B%22radius%22%3A%201%7D%0A%20%20%20%20%20%20%20%20%20%20%20%20%29.addTo%28marker_cluster_3a499d56cecc47ca8127b9820f58c1fa%29%3B%0A%20%20%20%20%20%20%20%20%0A%20%20%20%20%0A%20%20%20%20%20%20%20%20%20%20%20%20var%20marker_1478c48d7d6445f7b3c21968b881ac9a%20%3D%20L.marker%28%0A%20%20%20%20%20%20%20%20%20%20%20%20%20%20%20%20%5B37.508844%2C%20127.062999%5D%2C%0A%20%20%20%20%20%20%20%20%20%20%20%20%20%20%20%20%7B%22radius%22%3A%201%7D%0A%20%20%20%20%20%20%20%20%20%20%20%20%29.addTo%28marker_cluster_3a499d56cecc47ca8127b9820f58c1fa%29%3B%0A%20%20%20%20%20%20%20%20%0A%20%20%20%20%0A%20%20%20%20%20%20%20%20%20%20%20%20var%20marker_7da375661d094a5cb3774fb9ede54d98%20%3D%20L.marker%28%0A%20%20%20%20%20%20%20%20%20%20%20%20%20%20%20%20%5B37.549982%2C%20126.914496%5D%2C%0A%20%20%20%20%20%20%20%20%20%20%20%20%20%20%20%20%7B%22radius%22%3A%201%7D%0A%20%20%20%20%20%20%20%20%20%20%20%20%29.addTo%28marker_cluster_3a499d56cecc47ca8127b9820f58c1fa%29%3B%0A%20%20%20%20%20%20%20%20%0A%20%20%20%20%0A%20%20%20%20%20%20%20%20%20%20%20%20var%20marker_79f600fcea6c41ec8dab2bb82d3f135a%20%3D%20L.marker%28%0A%20%20%20%20%20%20%20%20%20%20%20%20%20%20%20%20%5B37.56599600000001%2C%20126.982161%5D%2C%0A%20%20%20%20%20%20%20%20%20%20%20%20%20%20%20%20%7B%22radius%22%3A%201%7D%0A%20%20%20%20%20%20%20%20%20%20%20%20%29.addTo%28marker_cluster_3a499d56cecc47ca8127b9820f58c1fa%29%3B%0A%20%20%20%20%20%20%20%20%0A%20%20%20%20%0A%20%20%20%20%20%20%20%20%20%20%20%20var%20marker_8a07c3b6cd9041de944dfeddd7bd2649%20%3D%20L.marker%28%0A%20%20%20%20%20%20%20%20%20%20%20%20%20%20%20%20%5B37.484247%2C%20126.929731%5D%2C%0A%20%20%20%20%20%20%20%20%20%20%20%20%20%20%20%20%7B%22radius%22%3A%201%7D%0A%20%20%20%20%20%20%20%20%20%20%20%20%29.addTo%28marker_cluster_3a499d56cecc47ca8127b9820f58c1fa%29%3B%0A%20%20%20%20%20%20%20%20%0A%20%20%20%20%0A%20%20%20%20%20%20%20%20%20%20%20%20var%20marker_9ecb8f6be8124bc8bc2b96c7d0234758%20%3D%20L.marker%28%0A%20%20%20%20%20%20%20%20%20%20%20%20%20%20%20%20%5B37.500672%2C%20127.036468%5D%2C%0A%20%20%20%20%20%20%20%20%20%20%20%20%20%20%20%20%7B%22radius%22%3A%201%7D%0A%20%20%20%20%20%20%20%20%20%20%20%20%29.addTo%28marker_cluster_3a499d56cecc47ca8127b9820f58c1fa%29%3B%0A%20%20%20%20%20%20%20%20%0A%20%20%20%20%0A%20%20%20%20%20%20%20%20%20%20%20%20var%20marker_07677acabf7f4aeaa0191c717c03e726%20%3D%20L.marker%28%0A%20%20%20%20%20%20%20%20%20%20%20%20%20%20%20%20%5B37.522027%2C%20126.924758%5D%2C%0A%20%20%20%20%20%20%20%20%20%20%20%20%20%20%20%20%7B%22radius%22%3A%201%7D%0A%20%20%20%20%20%20%20%20%20%20%20%20%29.addTo%28marker_cluster_3a499d56cecc47ca8127b9820f58c1fa%29%3B%0A%20%20%20%20%20%20%20%20%0A%20%20%20%20%0A%20%20%20%20%20%20%20%20%20%20%20%20var%20marker_8b61fc6a9d114e56beb8711226996789%20%3D%20L.marker%28%0A%20%20%20%20%20%20%20%20%20%20%20%20%20%20%20%20%5B37.554383%2C%20126.971133%5D%2C%0A%20%20%20%20%20%20%20%20%20%20%20%20%20%20%20%20%7B%22radius%22%3A%201%7D%0A%20%20%20%20%20%20%20%20%20%20%20%20%29.addTo%28marker_cluster_3a499d56cecc47ca8127b9820f58c1fa%29%3B%0A%20%20%20%20%20%20%20%20%0A%20%20%20%20%0A%20%20%20%20%20%20%20%20%20%20%20%20var%20marker_32f50647d7f94339ab4b2b2f27fb1a72%20%3D%20L.marker%28%0A%20%20%20%20%20%20%20%20%20%20%20%20%20%20%20%20%5B37.565669%2C%20127.008977%5D%2C%0A%20%20%20%20%20%20%20%20%20%20%20%20%20%20%20%20%7B%22radius%22%3A%201%7D%0A%20%20%20%20%20%20%20%20%20%20%20%20%29.addTo%28marker_cluster_3a499d56cecc47ca8127b9820f58c1fa%29%3B%0A%20%20%20%20%20%20%20%20%0A%20%20%20%20%0A%20%20%20%20%20%20%20%20%20%20%20%20var%20marker_8d1b0369c66745c4915c74b43f5bf202%20%3D%20L.marker%28%0A%20%20%20%20%20%20%20%20%20%20%20%20%20%20%20%20%5B37.50844%2C%20126.891508%5D%2C%0A%20%20%20%20%20%20%20%20%20%20%20%20%20%20%20%20%7B%22radius%22%3A%201%7D%0A%20%20%20%20%20%20%20%20%20%20%20%20%29.addTo%28marker_cluster_3a499d56cecc47ca8127b9820f58c1fa%29%3B%0A%20%20%20%20%20%20%20%20%0A%20%20%20%20%0A%20%20%20%20%20%20%20%20%20%20%20%20var%20marker_b20f422795be40ad940257ac5463dcaf%20%3D%20L.marker%28%0A%20%20%20%20%20%20%20%20%20%20%20%20%20%20%20%20%5B37.57257%2C%20126.990396%5D%2C%0A%20%20%20%20%20%20%20%20%20%20%20%20%20%20%20%20%7B%22radius%22%3A%201%7D%0A%20%20%20%20%20%20%20%20%20%20%20%20%29.addTo%28marker_cluster_3a499d56cecc47ca8127b9820f58c1fa%29%3B%0A%20%20%20%20%20%20%20%20%0A%20%20%20%20%0A%20%20%20%20%20%20%20%20%20%20%20%20var%20marker_3b75bd8e26ac42e28e84a760f670f95f%20%3D%20L.marker%28%0A%20%20%20%20%20%20%20%20%20%20%20%20%20%20%20%20%5B37.535127%2C%20127.094714%5D%2C%0A%20%20%20%20%20%20%20%20%20%20%20%20%20%20%20%20%7B%22radius%22%3A%201%7D%0A%20%20%20%20%20%20%20%20%20%20%20%20%29.addTo%28marker_cluster_3a499d56cecc47ca8127b9820f58c1fa%29%3B%0A%20%20%20%20%20%20%20%20%0A%20%20%20%20%0A%20%20%20%20%20%20%20%20%20%20%20%20var%20marker_a08dc9361d334462a24e0a16189850e4%20%3D%20L.marker%28%0A%20%20%20%20%20%20%20%20%20%20%20%20%20%20%20%20%5B37.484609000000006%2C%20127.034674%5D%2C%0A%20%20%20%20%20%20%20%20%20%20%20%20%20%20%20%20%7B%22radius%22%3A%201%7D%0A%20%20%20%20%20%20%20%20%20%20%20%20%29.addTo%28marker_cluster_3a499d56cecc47ca8127b9820f58c1fa%29%3B%0A%20%20%20%20%20%20%20%20%0A%20%20%20%20%0A%20%20%20%20%20%20%20%20%20%20%20%20var%20marker_4afcfeddc83c4bcb8fedaf87771d27cf%20%3D%20L.marker%28%0A%20%20%20%20%20%20%20%20%20%20%20%20%20%20%20%20%5B37.48125%2C%20126.952685%5D%2C%0A%20%20%20%20%20%20%20%20%20%20%20%20%20%20%20%20%7B%22radius%22%3A%201%7D%0A%20%20%20%20%20%20%20%20%20%20%20%20%29.addTo%28marker_cluster_3a499d56cecc47ca8127b9820f58c1fa%29%3B%0A%20%20%20%20%20%20%20%20%0A%20%20%20%20%0A%20%20%20%20%20%20%20%20%20%20%20%20var%20marker_886e315407964f44bd5feec40e59415b%20%3D%20L.marker%28%0A%20%20%20%20%20%20%20%20%20%20%20%20%20%20%20%20%5B37.480376%2C%20126.882676%5D%2C%0A%20%20%20%20%20%20%20%20%20%20%20%20%20%20%20%20%7B%22radius%22%3A%201%7D%0A%20%20%20%20%20%20%20%20%20%20%20%20%29.addTo%28marker_cluster_3a499d56cecc47ca8127b9820f58c1fa%29%3B%0A%20%20%20%20%20%20%20%20%0A%20%20%20%20%0A%20%20%20%20%20%20%20%20%20%20%20%20var%20marker_a5ee7814670f4bf486131cba78a3ca86%20%3D%20L.marker%28%0A%20%20%20%20%20%20%20%20%20%20%20%20%20%20%20%20%5B37.534781%2C%20126.902618%5D%2C%0A%20%20%20%20%20%20%20%20%20%20%20%20%20%20%20%20%7B%22radius%22%3A%201%7D%0A%20%20%20%20%20%20%20%20%20%20%20%20%29.addTo%28marker_cluster_3a499d56cecc47ca8127b9820f58c1fa%29%3B%0A%20%20%20%20%20%20%20%20%0A%20%20%20%20%0A%20%20%20%20%20%20%20%20%20%20%20%20var%20marker_5042187f15b047af8752c4f750ba29e2%20%3D%20L.marker%28%0A%20%20%20%20%20%20%20%20%20%20%20%20%20%20%20%20%5B37.56365%2C%20126.97553899999998%5D%2C%0A%20%20%20%20%20%20%20%20%20%20%20%20%20%20%20%20%7B%22radius%22%3A%201%7D%0A%20%20%20%20%20%20%20%20%20%20%20%20%29.addTo%28marker_cluster_3a499d56cecc47ca8127b9820f58c1fa%29%3B%0A%20%20%20%20%20%20%20%20%0A%20%20%20%20%0A%20%20%20%20%20%20%20%20%20%20%20%20var%20marker_cfce44e194284f8a9aa6a86909f342c8%20%3D%20L.marker%28%0A%20%20%20%20%20%20%20%20%20%20%20%20%20%20%20%20%5B37.53838%2C%20127.124181%5D%2C%0A%20%20%20%20%20%20%20%20%20%20%20%20%20%20%20%20%7B%22radius%22%3A%201%7D%0A%20%20%20%20%20%20%20%20%20%20%20%20%29.addTo%28marker_cluster_3a499d56cecc47ca8127b9820f58c1fa%29%3B%0A%20%20%20%20%20%20%20%20%0A%20%20%20%20%0A%20%20%20%20%20%20%20%20%20%20%20%20var%20marker_331d7ca19a4f441b8f730919317d084f%20%3D%20L.marker%28%0A%20%20%20%20%20%20%20%20%20%20%20%20%20%20%20%20%5B37.656313%2C%20127.063271%5D%2C%0A%20%20%20%20%20%20%20%20%20%20%20%20%20%20%20%20%7B%22radius%22%3A%201%7D%0A%20%20%20%20%20%20%20%20%20%20%20%20%29.addTo%28marker_cluster_3a499d56cecc47ca8127b9820f58c1fa%29%3B%0A%20%20%20%20%20%20%20%20%0A%20%20%20%20%0A%20%20%20%20%20%20%20%20%20%20%20%20var%20marker_723d852ba47548f694b9e83b005d1810%20%3D%20L.marker%28%0A%20%20%20%20%20%20%20%20%20%20%20%20%20%20%20%20%5B37.571631%2C%20126.976482%5D%2C%0A%20%20%20%20%20%20%20%20%20%20%20%20%20%20%20%20%7B%22radius%22%3A%201%7D%0A%20%20%20%20%20%20%20%20%20%20%20%20%29.addTo%28marker_cluster_3a499d56cecc47ca8127b9820f58c1fa%29%3B%0A%20%20%20%20%20%20%20%20%0A%20%20%20%20%0A%20%20%20%20%20%20%20%20%20%20%20%20var%20marker_bff2ac55180644fb9e17529ba1c6e3df%20%3D%20L.marker%28%0A%20%20%20%20%20%20%20%20%20%20%20%20%20%20%20%20%5B37.555154%2C%20126.936975%5D%2C%0A%20%20%20%20%20%20%20%20%20%20%20%20%20%20%20%20%7B%22radius%22%3A%201%7D%0A%20%20%20%20%20%20%20%20%20%20%20%20%29.addTo%28marker_cluster_3a499d56cecc47ca8127b9820f58c1fa%29%3B%0A%20%20%20%20%20%20%20%20%0A%20%20%20%20%0A%20%20%20%20%20%20%20%20%20%20%20%20var%20marker_98683f3a3ac84ef18e0b703dfe6649d3%20%3D%20L.marker%28%0A%20%20%20%20%20%20%20%20%20%20%20%20%20%20%20%20%5B37.582024%2C%20127.001901%5D%2C%0A%20%20%20%20%20%20%20%20%20%20%20%20%20%20%20%20%7B%22radius%22%3A%201%7D%0A%20%20%20%20%20%20%20%20%20%20%20%20%29.addTo%28marker_cluster_3a499d56cecc47ca8127b9820f58c1fa%29%3B%0A%20%20%20%20%20%20%20%20%0A%20%20%20%20%0A%20%20%20%20%20%20%20%20%20%20%20%20var%20marker_3b218dd87899407c80494ee3733391dd%20%3D%20L.marker%28%0A%20%20%20%20%20%20%20%20%20%20%20%20%20%20%20%20%5B37.560957%2C%20126.986336%5D%2C%0A%20%20%20%20%20%20%20%20%20%20%20%20%20%20%20%20%7B%22radius%22%3A%201%7D%0A%20%20%20%20%20%20%20%20%20%20%20%20%29.addTo%28marker_cluster_3a499d56cecc47ca8127b9820f58c1fa%29%3B%0A%20%20%20%20%20%20%20%20%0A%20%20%20%20%0A%20%20%20%20%20%20%20%20%20%20%20%20var%20marker_631061b4456b4c498b94b991955c1324%20%3D%20L.marker%28%0A%20%20%20%20%20%20%20%20%20%20%20%20%20%20%20%20%5B37.493301%2C%20126.894954%5D%2C%0A%20%20%20%20%20%20%20%20%20%20%20%20%20%20%20%20%7B%22radius%22%3A%201%7D%0A%20%20%20%20%20%20%20%20%20%20%20%20%29.addTo%28marker_cluster_3a499d56cecc47ca8127b9820f58c1fa%29%3B%0A%20%20%20%20%20%20%20%20%0A%20%20%20%20%0A%20%20%20%20%20%20%20%20%20%20%20%20var%20marker_fe4f38c3478746b7b2073d16002cc1d9%20%3D%20L.marker%28%0A%20%20%20%20%20%20%20%20%20%20%20%20%20%20%20%20%5B37.561135%2C%20126.993624%5D%2C%0A%20%20%20%20%20%20%20%20%20%20%20%20%20%20%20%20%7B%22radius%22%3A%201%7D%0A%20%20%20%20%20%20%20%20%20%20%20%20%29.addTo%28marker_cluster_3a499d56cecc47ca8127b9820f58c1fa%29%3B%0A%20%20%20%20%20%20%20%20%0A%20%20%20%20%0A%20%20%20%20%20%20%20%20%20%20%20%20var%20marker_9ac4d76871a046c3909f6449c3a412cc%20%3D%20L.marker%28%0A%20%20%20%20%20%20%20%20%20%20%20%20%20%20%20%20%5B37.566424%2C%20126.992593%5D%2C%0A%20%20%20%20%20%20%20%20%20%20%20%20%20%20%20%20%7B%22radius%22%3A%201%7D%0A%20%20%20%20%20%20%20%20%20%20%20%20%29.addTo%28marker_cluster_3a499d56cecc47ca8127b9820f58c1fa%29%3B%0A%20%20%20%20%20%20%20%20%0A%20%20%20%20%0A%20%20%20%20%20%20%20%20%20%20%20%20var%20marker_eb1cfbdcaa884677b76a0afcad19cb08%20%3D%20L.marker%28%0A%20%20%20%20%20%20%20%20%20%20%20%20%20%20%20%20%5B37.619418%2C%20126.920904%5D%2C%0A%20%20%20%20%20%20%20%20%20%20%20%20%20%20%20%20%7B%22radius%22%3A%201%7D%0A%20%20%20%20%20%20%20%20%20%20%20%20%29.addTo%28marker_cluster_3a499d56cecc47ca8127b9820f58c1fa%29%3B%0A%20%20%20%20%20%20%20%20%0A%20%20%20%20%0A%20%20%20%20%20%20%20%20%20%20%20%20var%20marker_3e330c28ebc84acc92d64577f623d0cb%20%3D%20L.marker%28%0A%20%20%20%20%20%20%20%20%20%20%20%20%20%20%20%20%5B37.570932%2C%20127.009308%5D%2C%0A%20%20%20%20%20%20%20%20%20%20%20%20%20%20%20%20%7B%22radius%22%3A%201%7D%0A%20%20%20%20%20%20%20%20%20%20%20%20%29.addTo%28marker_cluster_3a499d56cecc47ca8127b9820f58c1fa%29%3B%0A%20%20%20%20%20%20%20%20%0A%20%20%20%20%0A%20%20%20%20%20%20%20%20%20%20%20%20var%20marker_52822f6a39d84d04b88bbb875985e123%20%3D%20L.marker%28%0A%20%20%20%20%20%20%20%20%20%20%20%20%20%20%20%20%5B37.637873%2C%20127.025505%5D%2C%0A%20%20%20%20%20%20%20%20%20%20%20%20%20%20%20%20%7B%22radius%22%3A%201%7D%0A%20%20%20%20%20%20%20%20%20%20%20%20%29.addTo%28marker_cluster_3a499d56cecc47ca8127b9820f58c1fa%29%3B%0A%20%20%20%20%20%20%20%20%0A%20%20%20%20%0A%20%20%20%20%20%20%20%20%20%20%20%20var%20marker_10dbfa49dcd242789b6226ac1a287458%20%3D%20L.marker%28%0A%20%20%20%20%20%20%20%20%20%20%20%20%20%20%20%20%5B37.544533%2C%20126.951454%5D%2C%0A%20%20%20%20%20%20%20%20%20%20%20%20%20%20%20%20%7B%22radius%22%3A%201%7D%0A%20%20%20%20%20%20%20%20%20%20%20%20%29.addTo%28marker_cluster_3a499d56cecc47ca8127b9820f58c1fa%29%3B%0A%20%20%20%20%20%20%20%20%0A%20%20%20%20%0A%20%20%20%20%20%20%20%20%20%20%20%20var%20marker_34ca709c20d34dde87b25b96428220fd%20%3D%20L.marker%28%0A%20%20%20%20%20%20%20%20%20%20%20%20%20%20%20%20%5B37.613251%2C%20127.030084%5D%2C%0A%20%20%20%20%20%20%20%20%20%20%20%20%20%20%20%20%7B%22radius%22%3A%201%7D%0A%20%20%20%20%20%20%20%20%20%20%20%20%29.addTo%28marker_cluster_3a499d56cecc47ca8127b9820f58c1fa%29%3B%0A%20%20%20%20%20%20%20%20%0A%20%20%20%20%0A%20%20%20%20%20%20%20%20%20%20%20%20var%20marker_b2bed010c7fc4b0cb32e8dd6710f8849%20%3D%20L.marker%28%0A%20%20%20%20%20%20%20%20%20%20%20%20%20%20%20%20%5B37.485199%2C%20127.01616%5D%2C%0A%20%20%20%20%20%20%20%20%20%20%20%20%20%20%20%20%7B%22radius%22%3A%201%7D%0A%20%20%20%20%20%20%20%20%20%20%20%20%29.addTo%28marker_cluster_3a499d56cecc47ca8127b9820f58c1fa%29%3B%0A%20%20%20%20%20%20%20%20%0A%20%20%20%20%0A%20%20%20%20%20%20%20%20%20%20%20%20var%20marker_31451abe43bd4e15805ba8e020ed9616%20%3D%20L.marker%28%0A%20%20%20%20%20%20%20%20%20%20%20%20%20%20%20%20%5B37.477071%2C%20126.963508%5D%2C%0A%20%20%20%20%20%20%20%20%20%20%20%20%20%20%20%20%7B%22radius%22%3A%201%7D%0A%20%20%20%20%20%20%20%20%20%20%20%20%29.addTo%28marker_cluster_3a499d56cecc47ca8127b9820f58c1fa%29%3B%0A%20%20%20%20%20%20%20%20%0A%20%20%20%20%0A%20%20%20%20%20%20%20%20%20%20%20%20var%20marker_390550bafc544a6cb19bb50a49f333a7%20%3D%20L.marker%28%0A%20%20%20%20%20%20%20%20%20%20%20%20%20%20%20%20%5B37.647535%2C%20127.034272%5D%2C%0A%20%20%20%20%20%20%20%20%20%20%20%20%20%20%20%20%7B%22radius%22%3A%201%7D%0A%20%20%20%20%20%20%20%20%20%20%20%20%29.addTo%28marker_cluster_3a499d56cecc47ca8127b9820f58c1fa%29%3B%0A%20%20%20%20%20%20%20%20%0A%20%20%20%20%0A%20%20%20%20%20%20%20%20%20%20%20%20var%20marker_b76db2c7d05d4c2e94edc3c4d24b4372%20%3D%20L.marker%28%0A%20%20%20%20%20%20%20%20%20%20%20%20%20%20%20%20%5B37.513574%2C%20126.940891%5D%2C%0A%20%20%20%20%20%20%20%20%20%20%20%20%20%20%20%20%7B%22radius%22%3A%201%7D%0A%20%20%20%20%20%20%20%20%20%20%20%20%29.addTo%28marker_cluster_3a499d56cecc47ca8127b9820f58c1fa%29%3B%0A%20%20%20%20%20%20%20%20%0A%20%20%20%20%0A%20%20%20%20%20%20%20%20%20%20%20%20var%20marker_142dbb6868f74d90a03c450318f1ce4b%20%3D%20L.marker%28%0A%20%20%20%20%20%20%20%20%20%20%20%20%20%20%20%20%5B37.541629%2C%20126.840422%5D%2C%0A%20%20%20%20%20%20%20%20%20%20%20%20%20%20%20%20%7B%22radius%22%3A%201%7D%0A%20%20%20%20%20%20%20%20%20%20%20%20%29.addTo%28marker_cluster_3a499d56cecc47ca8127b9820f58c1fa%29%3B%0A%20%20%20%20%20%20%20%20%0A%20%20%20%20%0A%20%20%20%20%20%20%20%20%20%20%20%20var%20marker_85eb4b04d3aa4f8eac4e87e2af483a22%20%3D%20L.marker%28%0A%20%20%20%20%20%20%20%20%20%20%20%20%20%20%20%20%5B37.544566%2C%20127.056092%5D%2C%0A%20%20%20%20%20%20%20%20%20%20%20%20%20%20%20%20%7B%22radius%22%3A%201%7D%0A%20%20%20%20%20%20%20%20%20%20%20%20%29.addTo%28marker_cluster_3a499d56cecc47ca8127b9820f58c1fa%29%3B%0A%20%20%20%20%20%20%20%20%0A%20%20%20%20%0A%20%20%20%20%20%20%20%20%20%20%20%20var%20marker_4719a0bd3fb240c3a0b4fc9c0a712fd6%20%3D%20L.marker%28%0A%20%20%20%20%20%20%20%20%20%20%20%20%20%20%20%20%5B37.516433%2C%20127.020307%5D%2C%0A%20%20%20%20%20%20%20%20%20%20%20%20%20%20%20%20%7B%22radius%22%3A%201%7D%0A%20%20%20%20%20%20%20%20%20%20%20%20%29.addTo%28marker_cluster_3a499d56cecc47ca8127b9820f58c1fa%29%3B%0A%20%20%20%20%20%20%20%20%0A%20%20%20%20%0A%20%20%20%20%20%20%20%20%20%20%20%20var%20marker_a5f9826cb450481ca6003698b83184a8%20%3D%20L.marker%28%0A%20%20%20%20%20%20%20%20%20%20%20%20%20%20%20%20%5B37.504758%2C%20127.025473%5D%2C%0A%20%20%20%20%20%20%20%20%20%20%20%20%20%20%20%20%7B%22radius%22%3A%201%7D%0A%20%20%20%20%20%20%20%20%20%20%20%20%29.addTo%28marker_cluster_3a499d56cecc47ca8127b9820f58c1fa%29%3B%0A%20%20%20%20%20%20%20%20%0A%20%20%20%20%0A%20%20%20%20%20%20%20%20%20%20%20%20var%20marker_ef221b77d9fc4e70901ac97d62f2aa0f%20%3D%20L.marker%28%0A%20%20%20%20%20%20%20%20%20%20%20%20%20%20%20%20%5B37.558734%2C%20126.978434%5D%2C%0A%20%20%20%20%20%20%20%20%20%20%20%20%20%20%20%20%7B%22radius%22%3A%201%7D%0A%20%20%20%20%20%20%20%20%20%20%20%20%29.addTo%28marker_cluster_3a499d56cecc47ca8127b9820f58c1fa%29%3B%0A%20%20%20%20%20%20%20%20%0A%20%20%20%20%0A%20%20%20%20%20%20%20%20%20%20%20%20var%20marker_c246c777bfe8433cad63cd8b45d3eb5b%20%3D%20L.marker%28%0A%20%20%20%20%20%20%20%20%20%20%20%20%20%20%20%20%5B37.570164%2C%20126.983102%5D%2C%0A%20%20%20%20%20%20%20%20%20%20%20%20%20%20%20%20%7B%22radius%22%3A%201%7D%0A%20%20%20%20%20%20%20%20%20%20%20%20%29.addTo%28marker_cluster_3a499d56cecc47ca8127b9820f58c1fa%29%3B%0A%20%20%20%20%20%20%20%20%0A%20%20%20%20%0A%20%20%20%20%20%20%20%20%20%20%20%20var%20marker_3b92d03376ad4c8080516379e7d06b3b%20%3D%20L.marker%28%0A%20%20%20%20%20%20%20%20%20%20%20%20%20%20%20%20%5B37.479277%2C%20126.85486000000002%5D%2C%0A%20%20%20%20%20%20%20%20%20%20%20%20%20%20%20%20%7B%22radius%22%3A%201%7D%0A%20%20%20%20%20%20%20%20%20%20%20%20%29.addTo%28marker_cluster_3a499d56cecc47ca8127b9820f58c1fa%29%3B%0A%20%20%20%20%20%20%20%20%0A%20%20%20%20%0A%20%20%20%20%20%20%20%20%20%20%20%20var%20marker_dae176a75f784afbad6971b5a7d63568%20%3D%20L.marker%28%0A%20%20%20%20%20%20%20%20%20%20%20%20%20%20%20%20%5B37.511098%2C%20127.021291%5D%2C%0A%20%20%20%20%20%20%20%20%20%20%20%20%20%20%20%20%7B%22radius%22%3A%201%7D%0A%20%20%20%20%20%20%20%20%20%20%20%20%29.addTo%28marker_cluster_3a499d56cecc47ca8127b9820f58c1fa%29%3B%0A%20%20%20%20%20%20%20%20%0A%20%20%20%20%0A%20%20%20%20%20%20%20%20%20%20%20%20var%20marker_9bdb85352e0248debf9d5f2dffc88566%20%3D%20L.marker%28%0A%20%20%20%20%20%20%20%20%20%20%20%20%20%20%20%20%5B37.526492%2C%20127.028481%5D%2C%0A%20%20%20%20%20%20%20%20%20%20%20%20%20%20%20%20%7B%22radius%22%3A%201%7D%0A%20%20%20%20%20%20%20%20%20%20%20%20%29.addTo%28marker_cluster_3a499d56cecc47ca8127b9820f58c1fa%29%3B%0A%20%20%20%20%20%20%20%20%0A%20%20%20%20%0A%20%20%20%20%20%20%20%20%20%20%20%20var%20marker_46091d45321c485d99582de7137bee33%20%3D%20L.marker%28%0A%20%20%20%20%20%20%20%20%20%20%20%20%20%20%20%20%5B37.525827%2C%20126.896643%5D%2C%0A%20%20%20%20%20%20%20%20%20%20%20%20%20%20%20%20%7B%22radius%22%3A%201%7D%0A%20%20%20%20%20%20%20%20%20%20%20%20%29.addTo%28marker_cluster_3a499d56cecc47ca8127b9820f58c1fa%29%3B%0A%20%20%20%20%20%20%20%20%0A%20%20%20%20%0A%20%20%20%20%20%20%20%20%20%20%20%20var%20marker_1b9845deb46941a8a1bced64b3e4f51a%20%3D%20L.marker%28%0A%20%20%20%20%20%20%20%20%20%20%20%20%20%20%20%20%5B37.556989%2C%20127.07991%5D%2C%0A%20%20%20%20%20%20%20%20%20%20%20%20%20%20%20%20%7B%22radius%22%3A%201%7D%0A%20%20%20%20%20%20%20%20%20%20%20%20%29.addTo%28marker_cluster_3a499d56cecc47ca8127b9820f58c1fa%29%3B%0A%20%20%20%20%20%20%20%20%0A%20%20%20%20%0A%20%20%20%20%20%20%20%20%20%20%20%20var%20marker_310199b78799483ba04ca2437aed04f5%20%3D%20L.marker%28%0A%20%20%20%20%20%20%20%20%20%20%20%20%20%20%20%20%5B37.532211%2C%20126.846421%5D%2C%0A%20%20%20%20%20%20%20%20%20%20%20%20%20%20%20%20%7B%22radius%22%3A%201%7D%0A%20%20%20%20%20%20%20%20%20%20%20%20%29.addTo%28marker_cluster_3a499d56cecc47ca8127b9820f58c1fa%29%3B%0A%20%20%20%20%20%20%20%20%0A%20%20%20%20%0A%20%20%20%20%20%20%20%20%20%20%20%20var%20marker_b1194bda8c3641f9b027115d12dd9d9b%20%3D%20L.marker%28%0A%20%20%20%20%20%20%20%20%20%20%20%20%20%20%20%20%5B37.511584%2C%20127.086304%5D%2C%0A%20%20%20%20%20%20%20%20%20%20%20%20%20%20%20%20%7B%22radius%22%3A%201%7D%0A%20%20%20%20%20%20%20%20%20%20%20%20%29.addTo%28marker_cluster_3a499d56cecc47ca8127b9820f58c1fa%29%3B%0A%20%20%20%20%20%20%20%20%0A%20%20%20%20%0A%20%20%20%20%20%20%20%20%20%20%20%20var%20marker_a7b1b8ac2b2d4e2481a1fcba32724544%20%3D%20L.marker%28%0A%20%20%20%20%20%20%20%20%20%20%20%20%20%20%20%20%5B37.576506%2C%20126.985403%5D%2C%0A%20%20%20%20%20%20%20%20%20%20%20%20%20%20%20%20%7B%22radius%22%3A%201%7D%0A%20%20%20%20%20%20%20%20%20%20%20%20%29.addTo%28marker_cluster_3a499d56cecc47ca8127b9820f58c1fa%29%3B%0A%20%20%20%20%20%20%20%20%0A%20%20%20%20%0A%20%20%20%20%20%20%20%20%20%20%20%20var%20marker_b7e450c5339245819473d6d4641ade29%20%3D%20L.marker%28%0A%20%20%20%20%20%20%20%20%20%20%20%20%20%20%20%20%5B37.48755900000001%2C%20126.913306%5D%2C%0A%20%20%20%20%20%20%20%20%20%20%20%20%20%20%20%20%7B%22radius%22%3A%201%7D%0A%20%20%20%20%20%20%20%20%20%20%20%20%29.addTo%28marker_cluster_3a499d56cecc47ca8127b9820f58c1fa%29%3B%0A%20%20%20%20%20%20%20%20%0A%20%20%20%20%0A%20%20%20%20%20%20%20%20%20%20%20%20var%20marker_bed82fc0eeaf4f3699ecfbbd3c0b13ba%20%3D%20L.marker%28%0A%20%20%20%20%20%20%20%20%20%20%20%20%20%20%20%20%5B37.653205%2C%20127.047672%5D%2C%0A%20%20%20%20%20%20%20%20%20%20%20%20%20%20%20%20%7B%22radius%22%3A%201%7D%0A%20%20%20%20%20%20%20%20%20%20%20%20%29.addTo%28marker_cluster_3a499d56cecc47ca8127b9820f58c1fa%29%3B%0A%20%20%20%20%20%20%20%20%0A%20%20%20%20%0A%20%20%20%20%20%20%20%20%20%20%20%20var%20marker_2e2510a9e0534fb382aba91bf36cf2c7%20%3D%20L.marker%28%0A%20%20%20%20%20%20%20%20%20%20%20%20%20%20%20%20%5B37.476179%2C%20126.86823%5D%2C%0A%20%20%20%20%20%20%20%20%20%20%20%20%20%20%20%20%7B%22radius%22%3A%201%7D%0A%20%20%20%20%20%20%20%20%20%20%20%20%29.addTo%28marker_cluster_3a499d56cecc47ca8127b9820f58c1fa%29%3B%0A%20%20%20%20%20%20%20%20%0A%20%20%20%20%0A%20%20%20%20%20%20%20%20%20%20%20%20var%20marker_d25364bf04e24bbebc0575447d4f09cf%20%3D%20L.marker%28%0A%20%20%20%20%20%20%20%20%20%20%20%20%20%20%20%20%5B37.566079%2C%20127.016167%5D%2C%0A%20%20%20%20%20%20%20%20%20%20%20%20%20%20%20%20%7B%22radius%22%3A%201%7D%0A%20%20%20%20%20%20%20%20%20%20%20%20%29.addTo%28marker_cluster_3a499d56cecc47ca8127b9820f58c1fa%29%3B%0A%20%20%20%20%20%20%20%20%0A%20%20%20%20%0A%20%20%20%20%20%20%20%20%20%20%20%20var%20marker_b590170dd0b2409e8fb3ede64174fec4%20%3D%20L.marker%28%0A%20%20%20%20%20%20%20%20%20%20%20%20%20%20%20%20%5B37.556786%2C%20126.946393%5D%2C%0A%20%20%20%20%20%20%20%20%20%20%20%20%20%20%20%20%7B%22radius%22%3A%201%7D%0A%20%20%20%20%20%20%20%20%20%20%20%20%29.addTo%28marker_cluster_3a499d56cecc47ca8127b9820f58c1fa%29%3B%0A%20%20%20%20%20%20%20%20%0A%20%20%20%20%0A%20%20%20%20%20%20%20%20%20%20%20%20var%20marker_b3113d7a8c20420eae22746f9f2b551f%20%3D%20L.marker%28%0A%20%20%20%20%20%20%20%20%20%20%20%20%20%20%20%20%5B37.524489%2C%20126.875301%5D%2C%0A%20%20%20%20%20%20%20%20%20%20%20%20%20%20%20%20%7B%22radius%22%3A%201%7D%0A%20%20%20%20%20%20%20%20%20%20%20%20%29.addTo%28marker_cluster_3a499d56cecc47ca8127b9820f58c1fa%29%3B%0A%20%20%20%20%20%20%20%20%0A%20%20%20%20%0A%20%20%20%20%20%20%20%20%20%20%20%20var%20marker_372fafdcabd74af5b55842e7eea71429%20%3D%20L.marker%28%0A%20%20%20%20%20%20%20%20%20%20%20%20%20%20%20%20%5B37.537117%2C%20127.086165%5D%2C%0A%20%20%20%20%20%20%20%20%20%20%20%20%20%20%20%20%7B%22radius%22%3A%201%7D%0A%20%20%20%20%20%20%20%20%20%20%20%20%29.addTo%28marker_cluster_3a499d56cecc47ca8127b9820f58c1fa%29%3B%0A%20%20%20%20%20%20%20%20%0A%20%20%20%20%0A%20%20%20%20%20%20%20%20%20%20%20%20var%20marker_e02f6afc54bc4b6d9083dbabd7a609b2%20%3D%20L.marker%28%0A%20%20%20%20%20%20%20%20%20%20%20%20%20%20%20%20%5B37.49186%2C%20127.007685%5D%2C%0A%20%20%20%20%20%20%20%20%20%20%20%20%20%20%20%20%7B%22radius%22%3A%201%7D%0A%20%20%20%20%20%20%20%20%20%20%20%20%29.addTo%28marker_cluster_3a499d56cecc47ca8127b9820f58c1fa%29%3B%0A%20%20%20%20%20%20%20%20%0A%20%20%20%20%0A%20%20%20%20%20%20%20%20%20%20%20%20var%20marker_1dca8a6a1aca44669941ba1f1b69d422%20%3D%20L.marker%28%0A%20%20%20%20%20%20%20%20%20%20%20%20%20%20%20%20%5B37.57578%2C%20126.974052%5D%2C%0A%20%20%20%20%20%20%20%20%20%20%20%20%20%20%20%20%7B%22radius%22%3A%201%7D%0A%20%20%20%20%20%20%20%20%20%20%20%20%29.addTo%28marker_cluster_3a499d56cecc47ca8127b9820f58c1fa%29%3B%0A%20%20%20%20%20%20%20%20%0A%20%20%20%20%0A%20%20%20%20%20%20%20%20%20%20%20%20var%20marker_c7c8f269010f46ad9af35b6d54d5cdc9%20%3D%20L.marker%28%0A%20%20%20%20%20%20%20%20%20%20%20%20%20%20%20%20%5B37.514323%2C%20127.031902%5D%2C%0A%20%20%20%20%20%20%20%20%20%20%20%20%20%20%20%20%7B%22radius%22%3A%201%7D%0A%20%20%20%20%20%20%20%20%20%20%20%20%29.addTo%28marker_cluster_3a499d56cecc47ca8127b9820f58c1fa%29%3B%0A%20%20%20%20%20%20%20%20%0A%20%20%20%20%0A%20%20%20%20%20%20%20%20%20%20%20%20var%20marker_d9a570af13684afeb123901fdddcd416%20%3D%20L.marker%28%0A%20%20%20%20%20%20%20%20%20%20%20%20%20%20%20%20%5B37.53619000000001%2C%20127.13119%5D%2C%0A%20%20%20%20%20%20%20%20%20%20%20%20%20%20%20%20%7B%22radius%22%3A%201%7D%0A%20%20%20%20%20%20%20%20%20%20%20%20%29.addTo%28marker_cluster_3a499d56cecc47ca8127b9820f58c1fa%29%3B%0A%20%20%20%20%20%20%20%20%0A%20%20%20%20%0A%20%20%20%20%20%20%20%20%20%20%20%20var%20marker_6572fbbadd894ab9b4c7f5baded3c1b3%20%3D%20L.marker%28%0A%20%20%20%20%20%20%20%20%20%20%20%20%20%20%20%20%5B37.561248%2C%20127.03708799999998%5D%2C%0A%20%20%20%20%20%20%20%20%20%20%20%20%20%20%20%20%7B%22radius%22%3A%201%7D%0A%20%20%20%20%20%20%20%20%20%20%20%20%29.addTo%28marker_cluster_3a499d56cecc47ca8127b9820f58c1fa%29%3B%0A%20%20%20%20%20%20%20%20%0A%20%20%20%20%0A%20%20%20%20%20%20%20%20%20%20%20%20var%20marker_888139ca114147eb9bfb3bfbf907c89b%20%3D%20L.marker%28%0A%20%20%20%20%20%20%20%20%20%20%20%20%20%20%20%20%5B37.487534%2C%20127.102314%5D%2C%0A%20%20%20%20%20%20%20%20%20%20%20%20%20%20%20%20%7B%22radius%22%3A%201%7D%0A%20%20%20%20%20%20%20%20%20%20%20%20%29.addTo%28marker_cluster_3a499d56cecc47ca8127b9820f58c1fa%29%3B%0A%20%20%20%20%20%20%20%20%0A%20%20%20%20%0A%20%20%20%20%20%20%20%20%20%20%20%20var%20marker_9a6fda7c83fa4601959520a2a18a5c4c%20%3D%20L.marker%28%0A%20%20%20%20%20%20%20%20%20%20%20%20%20%20%20%20%5B37.48245900000001%2C%20126.941693%5D%2C%0A%20%20%20%20%20%20%20%20%20%20%20%20%20%20%20%20%7B%22radius%22%3A%201%7D%0A%20%20%20%20%20%20%20%20%20%20%20%20%29.addTo%28marker_cluster_3a499d56cecc47ca8127b9820f58c1fa%29%3B%0A%20%20%20%20%20%20%20%20%0A%20%20%20%20%0A%20%20%20%20%20%20%20%20%20%20%20%20var%20marker_0831cbc1a4664c8abb09b88b1e815318%20%3D%20L.marker%28%0A%20%20%20%20%20%20%20%20%20%20%20%20%20%20%20%20%5B37.544576%2C%20126.97212%5D%2C%0A%20%20%20%20%20%20%20%20%20%20%20%20%20%20%20%20%7B%22radius%22%3A%201%7D%0A%20%20%20%20%20%20%20%20%20%20%20%20%29.addTo%28marker_cluster_3a499d56cecc47ca8127b9820f58c1fa%29%3B%0A%20%20%20%20%20%20%20%20%0A%20%20%20%20%0A%20%20%20%20%20%20%20%20%20%20%20%20var%20marker_d59a40d76ce94787ba882845ce1ca74d%20%3D%20L.marker%28%0A%20%20%20%20%20%20%20%20%20%20%20%20%20%20%20%20%5B37.481429%2C%20126.997551%5D%2C%0A%20%20%20%20%20%20%20%20%20%20%20%20%20%20%20%20%7B%22radius%22%3A%201%7D%0A%20%20%20%20%20%20%20%20%20%20%20%20%29.addTo%28marker_cluster_3a499d56cecc47ca8127b9820f58c1fa%29%3B%0A%20%20%20%20%20%20%20%20%0A%20%20%20%20%0A%20%20%20%20%20%20%20%20%20%20%20%20var%20marker_293ed1d5a41f46089bac424292573b62%20%3D%20L.marker%28%0A%20%20%20%20%20%20%20%20%20%20%20%20%20%20%20%20%5B37.610046%2C%20126.930275%5D%2C%0A%20%20%20%20%20%20%20%20%20%20%20%20%20%20%20%20%7B%22radius%22%3A%201%7D%0A%20%20%20%20%20%20%20%20%20%20%20%20%29.addTo%28marker_cluster_3a499d56cecc47ca8127b9820f58c1fa%29%3B%0A%20%20%20%20%20%20%20%20%0A%20%20%20%20%0A%20%20%20%20%20%20%20%20%20%20%20%20var%20marker_d17e057c48f043e0965499277dc4a68b%20%3D%20L.marker%28%0A%20%20%20%20%20%20%20%20%20%20%20%20%20%20%20%20%5B37.636477%2C%20127.067957%5D%2C%0A%20%20%20%20%20%20%20%20%20%20%20%20%20%20%20%20%7B%22radius%22%3A%201%7D%0A%20%20%20%20%20%20%20%20%20%20%20%20%29.addTo%28marker_cluster_3a499d56cecc47ca8127b9820f58c1fa%29%3B%0A%20%20%20%20%20%20%20%20%0A%20%20%20%20%0A%20%20%20%20%20%20%20%20%20%20%20%20var%20marker_8d7d51fa47ba4212b53e1eedaf2e2b66%20%3D%20L.marker%28%0A%20%20%20%20%20%20%20%20%20%20%20%20%20%20%20%20%5B37.520663%2C%20127.10382%5D%2C%0A%20%20%20%20%20%20%20%20%20%20%20%20%20%20%20%20%7B%22radius%22%3A%201%7D%0A%20%20%20%20%20%20%20%20%20%20%20%20%29.addTo%28marker_cluster_3a499d56cecc47ca8127b9820f58c1fa%29%3B%0A%20%20%20%20%20%20%20%20%0A%20%20%20%20%0A%20%20%20%20%20%20%20%20%20%20%20%20var%20marker_39bf378894b848a3b826a96aaf341237%20%3D%20L.marker%28%0A%20%20%20%20%20%20%20%20%20%20%20%20%20%20%20%20%5B37.660719%2C%20127.07338%5D%2C%0A%20%20%20%20%20%20%20%20%20%20%20%20%20%20%20%20%7B%22radius%22%3A%201%7D%0A%20%20%20%20%20%20%20%20%20%20%20%20%29.addTo%28marker_cluster_3a499d56cecc47ca8127b9820f58c1fa%29%3B%0A%20%20%20%20%20%20%20%20%0A%20%20%20%20%0A%20%20%20%20%20%20%20%20%20%20%20%20var%20marker_3805be645aad486a8bc1b31d16a5df2d%20%3D%20L.marker%28%0A%20%20%20%20%20%20%20%20%20%20%20%20%20%20%20%20%5B37.592742%2C%20127.016623%5D%2C%0A%20%20%20%20%20%20%20%20%20%20%20%20%20%20%20%20%7B%22radius%22%3A%201%7D%0A%20%20%20%20%20%20%20%20%20%20%20%20%29.addTo%28marker_cluster_3a499d56cecc47ca8127b9820f58c1fa%29%3B%0A%20%20%20%20%20%20%20%20%0A%20%20%20%20%0A%20%20%20%20%20%20%20%20%20%20%20%20var%20marker_a9a2e80dbc1540dcb4e2eaf7532d39a4%20%3D%20L.marker%28%0A%20%20%20%20%20%20%20%20%20%20%20%20%20%20%20%20%5B37.545303%2C%20127.103481%5D%2C%0A%20%20%20%20%20%20%20%20%20%20%20%20%20%20%20%20%7B%22radius%22%3A%201%7D%0A%20%20%20%20%20%20%20%20%20%20%20%20%29.addTo%28marker_cluster_3a499d56cecc47ca8127b9820f58c1fa%29%3B%0A%20%20%20%20%20%20%20%20%0A%20%20%20%20%0A%20%20%20%20%20%20%20%20%20%20%20%20var%20marker_b7db7e1661104e5aa16400b5115c41f8%20%3D%20L.marker%28%0A%20%20%20%20%20%20%20%20%20%20%20%20%20%20%20%20%5B37.485032%2C%20126.98063799999998%5D%2C%0A%20%20%20%20%20%20%20%20%20%20%20%20%20%20%20%20%7B%22radius%22%3A%201%7D%0A%20%20%20%20%20%20%20%20%20%20%20%20%29.addTo%28marker_cluster_3a499d56cecc47ca8127b9820f58c1fa%29%3B%0A%20%20%20%20%20%20%20%20%0A%20%20%20%20%0A%20%20%20%20%20%20%20%20%20%20%20%20var%20marker_974ae3f0a2b74019a3ec739f5fcbdf9f%20%3D%20L.marker%28%0A%20%20%20%20%20%20%20%20%20%20%20%20%20%20%20%20%5B37.561601%2C%20127.063697%5D%2C%0A%20%20%20%20%20%20%20%20%20%20%20%20%20%20%20%20%7B%22radius%22%3A%201%7D%0A%20%20%20%20%20%20%20%20%20%20%20%20%29.addTo%28marker_cluster_3a499d56cecc47ca8127b9820f58c1fa%29%3B%0A%20%20%20%20%20%20%20%20%0A%20%20%20%20%0A%20%20%20%20%20%20%20%20%20%20%20%20var%20marker_ae78dadd16d7486c88b1cf2f1c06678a%20%3D%20L.marker%28%0A%20%20%20%20%20%20%20%20%20%20%20%20%20%20%20%20%5B37.566587%2C%20126.997271%5D%2C%0A%20%20%20%20%20%20%20%20%20%20%20%20%20%20%20%20%7B%22radius%22%3A%201%7D%0A%20%20%20%20%20%20%20%20%20%20%20%20%29.addTo%28marker_cluster_3a499d56cecc47ca8127b9820f58c1fa%29%3B%0A%20%20%20%20%20%20%20%20%0A%20%20%20%20%0A%20%20%20%20%20%20%20%20%20%20%20%20var%20marker_6711cc06cf374c19a12cc09f2e54afd7%20%3D%20L.marker%28%0A%20%20%20%20%20%20%20%20%20%20%20%20%20%20%20%20%5B37.540395%2C%20126.94673799999998%5D%2C%0A%20%20%20%20%20%20%20%20%20%20%20%20%20%20%20%20%7B%22radius%22%3A%201%7D%0A%20%20%20%20%20%20%20%20%20%20%20%20%29.addTo%28marker_cluster_3a499d56cecc47ca8127b9820f58c1fa%29%3B%0A%20%20%20%20%20%20%20%20%0A%20%20%20%20%0A%20%20%20%20%20%20%20%20%20%20%20%20var%20marker_08bfefe4dc54404d8ad39f02994bc106%20%3D%20L.marker%28%0A%20%20%20%20%20%20%20%20%20%20%20%20%20%20%20%20%5B37.587887%2C%20126.94533%5D%2C%0A%20%20%20%20%20%20%20%20%20%20%20%20%20%20%20%20%7B%22radius%22%3A%201%7D%0A%20%20%20%20%20%20%20%20%20%20%20%20%29.addTo%28marker_cluster_3a499d56cecc47ca8127b9820f58c1fa%29%3B%0A%20%20%20%20%20%20%20%20%0A%20%20%20%20%0A%20%20%20%20%20%20%20%20%20%20%20%20var%20marker_8d673b566b3b497690a295e97933e87a%20%3D%20L.marker%28%0A%20%20%20%20%20%20%20%20%20%20%20%20%20%20%20%20%5B37.60221%2C%20127.024315%5D%2C%0A%20%20%20%20%20%20%20%20%20%20%20%20%20%20%20%20%7B%22radius%22%3A%201%7D%0A%20%20%20%20%20%20%20%20%20%20%20%20%29.addTo%28marker_cluster_3a499d56cecc47ca8127b9820f58c1fa%29%3B%0A%20%20%20%20%20%20%20%20%0A%20%20%20%20%0A%20%20%20%20%20%20%20%20%20%20%20%20var%20marker_4ba146aba15249abb78777a023b421cc%20%3D%20L.marker%28%0A%20%20%20%20%20%20%20%20%20%20%20%20%20%20%20%20%5B37.565763%2C%20126.96658899999998%5D%2C%0A%20%20%20%20%20%20%20%20%20%20%20%20%20%20%20%20%7B%22radius%22%3A%201%7D%0A%20%20%20%20%20%20%20%20%20%20%20%20%29.addTo%28marker_cluster_3a499d56cecc47ca8127b9820f58c1fa%29%3B%0A%20%20%20%20%20%20%20%20%0A%20%20%20%20%0A%20%20%20%20%20%20%20%20%20%20%20%20var%20marker_7b9cae7084d84f158b13e48764704821%20%3D%20L.marker%28%0A%20%20%20%20%20%20%20%20%20%20%20%20%20%20%20%20%5B37.496283%2C%20126.953645%5D%2C%0A%20%20%20%20%20%20%20%20%20%20%20%20%20%20%20%20%7B%22radius%22%3A%201%7D%0A%20%20%20%20%20%20%20%20%20%20%20%20%29.addTo%28marker_cluster_3a499d56cecc47ca8127b9820f58c1fa%29%3B%0A%20%20%20%20%20%20%20%20%0A%20%20%20%20%0A%20%20%20%20%20%20%20%20%20%20%20%20var%20marker_23d1aad7e25a47d7a7be53097021256d%20%3D%20L.marker%28%0A%20%20%20%20%20%20%20%20%20%20%20%20%20%20%20%20%5B37.55976500000001%2C%20126.964451%5D%2C%0A%20%20%20%20%20%20%20%20%20%20%20%20%20%20%20%20%7B%22radius%22%3A%201%7D%0A%20%20%20%20%20%20%20%20%20%20%20%20%29.addTo%28marker_cluster_3a499d56cecc47ca8127b9820f58c1fa%29%3B%0A%20%20%20%20%20%20%20%20%0A%20%20%20%20%0A%20%20%20%20%20%20%20%20%20%20%20%20var%20marker_333df98efa3044d0b00fef4d699ca90d%20%3D%20L.marker%28%0A%20%20%20%20%20%20%20%20%20%20%20%20%20%20%20%20%5B37.517968%2C%20126.894782%5D%2C%0A%20%20%20%20%20%20%20%20%20%20%20%20%20%20%20%20%7B%22radius%22%3A%201%7D%0A%20%20%20%20%20%20%20%20%20%20%20%20%29.addTo%28marker_cluster_3a499d56cecc47ca8127b9820f58c1fa%29%3B%0A%20%20%20%20%20%20%20%20%0A%20%20%20%20%0A%20%20%20%20%20%20%20%20%20%20%20%20var%20marker_be6e6fa8cae643bd908dc7a7d36609fb%20%3D%20L.marker%28%0A%20%20%20%20%20%20%20%20%20%20%20%20%20%20%20%20%5B37.576044%2C%20127.024509%5D%2C%0A%20%20%20%20%20%20%20%20%20%20%20%20%20%20%20%20%7B%22radius%22%3A%201%7D%0A%20%20%20%20%20%20%20%20%20%20%20%20%29.addTo%28marker_cluster_3a499d56cecc47ca8127b9820f58c1fa%29%3B%0A%20%20%20%20%20%20%20%20%0A%20%20%20%20%0A%20%20%20%20%20%20%20%20%20%20%20%20var%20marker_2291d16af8174df398a7b934ce36f35a%20%3D%20L.marker%28%0A%20%20%20%20%20%20%20%20%20%20%20%20%20%20%20%20%5B37.528137%2C%20126.917819%5D%2C%0A%20%20%20%20%20%20%20%20%20%20%20%20%20%20%20%20%7B%22radius%22%3A%201%7D%0A%20%20%20%20%20%20%20%20%20%20%20%20%29.addTo%28marker_cluster_3a499d56cecc47ca8127b9820f58c1fa%29%3B%0A%20%20%20%20%20%20%20%20%0A%20%20%20%20%0A%20%20%20%20%20%20%20%20%20%20%20%20var%20marker_de19b148a39c4ceb84b3caec0278ee6e%20%3D%20L.marker%28%0A%20%20%20%20%20%20%20%20%20%20%20%20%20%20%20%20%5B37.486813%2C%20126.982183%5D%2C%0A%20%20%20%20%20%20%20%20%20%20%20%20%20%20%20%20%7B%22radius%22%3A%201%7D%0A%20%20%20%20%20%20%20%20%20%20%20%20%29.addTo%28marker_cluster_3a499d56cecc47ca8127b9820f58c1fa%29%3B%0A%20%20%20%20%20%20%20%20%0A%20%20%20%20%0A%20%20%20%20%20%20%20%20%20%20%20%20var%20marker_8a581900b808467191c89fbecbb4f5fa%20%3D%20L.marker%28%0A%20%20%20%20%20%20%20%20%20%20%20%20%20%20%20%20%5B37.554494%2C%20127.010866%5D%2C%0A%20%20%20%20%20%20%20%20%20%20%20%20%20%20%20%20%7B%22radius%22%3A%201%7D%0A%20%20%20%20%20%20%20%20%20%20%20%20%29.addTo%28marker_cluster_3a499d56cecc47ca8127b9820f58c1fa%29%3B%0A%20%20%20%20%20%20%20%20%0A%20%20%20%20%0A%20%20%20%20%20%20%20%20%20%20%20%20var%20marker_15e172f71fc24c189cb8f841f5933486%20%3D%20L.marker%28%0A%20%20%20%20%20%20%20%20%20%20%20%20%20%20%20%20%5B37.547254%2C%20127.047317%5D%2C%0A%20%20%20%20%20%20%20%20%20%20%20%20%20%20%20%20%7B%22radius%22%3A%201%7D%0A%20%20%20%20%20%20%20%20%20%20%20%20%29.addTo%28marker_cluster_3a499d56cecc47ca8127b9820f58c1fa%29%3B%0A%20%20%20%20%20%20%20%20%0A%20%20%20%20%0A%20%20%20%20%20%20%20%20%20%20%20%20var%20marker_73e7b499d8d940c395dd6cf95c8ef13b%20%3D%20L.marker%28%0A%20%20%20%20%20%20%20%20%20%20%20%20%20%20%20%20%5B37.500785%2C%20127.02637%5D%2C%0A%20%20%20%20%20%20%20%20%20%20%20%20%20%20%20%20%7B%22radius%22%3A%201%7D%0A%20%20%20%20%20%20%20%20%20%20%20%20%29.addTo%28marker_cluster_3a499d56cecc47ca8127b9820f58c1fa%29%3B%0A%20%20%20%20%20%20%20%20%0A%20%20%20%20%0A%20%20%20%20%20%20%20%20%20%20%20%20var%20marker_e106bbe466f34e7084abccd49c31a201%20%3D%20L.marker%28%0A%20%20%20%20%20%20%20%20%20%20%20%20%20%20%20%20%5B37.529235%2C%20126.967947%5D%2C%0A%20%20%20%20%20%20%20%20%20%20%20%20%20%20%20%20%7B%22radius%22%3A%201%7D%0A%20%20%20%20%20%20%20%20%20%20%20%20%29.addTo%28marker_cluster_3a499d56cecc47ca8127b9820f58c1fa%29%3B%0A%20%20%20%20%20%20%20%20%0A%20%20%20%20%0A%20%20%20%20%20%20%20%20%20%20%20%20var%20marker_bb56a556205142439667ee7050d3b9b9%20%3D%20L.marker%28%0A%20%20%20%20%20%20%20%20%20%20%20%20%20%20%20%20%5B37.492969%2C%20127.118331%5D%2C%0A%20%20%20%20%20%20%20%20%20%20%20%20%20%20%20%20%7B%22radius%22%3A%201%7D%0A%20%20%20%20%20%20%20%20%20%20%20%20%29.addTo%28marker_cluster_3a499d56cecc47ca8127b9820f58c1fa%29%3B%0A%20%20%20%20%20%20%20%20%0A%20%20%20%20%0A%20%20%20%20%20%20%20%20%20%20%20%20var%20marker_e2bc756e091e4689b5c65ab26a907d7c%20%3D%20L.marker%28%0A%20%20%20%20%20%20%20%20%20%20%20%20%20%20%20%20%5B37.570964%2C%20127.001549%5D%2C%0A%20%20%20%20%20%20%20%20%20%20%20%20%20%20%20%20%7B%22radius%22%3A%201%7D%0A%20%20%20%20%20%20%20%20%20%20%20%20%29.addTo%28marker_cluster_3a499d56cecc47ca8127b9820f58c1fa%29%3B%0A%20%20%20%20%20%20%20%20%0A%20%20%20%20%0A%20%20%20%20%20%20%20%20%20%20%20%20var%20marker_12bd9f8a30de4a6f8e0c01a8ea244882%20%3D%20L.marker%28%0A%20%20%20%20%20%20%20%20%20%20%20%20%20%20%20%20%5B37.548738%2C%20126.836309%5D%2C%0A%20%20%20%20%20%20%20%20%20%20%20%20%20%20%20%20%7B%22radius%22%3A%201%7D%0A%20%20%20%20%20%20%20%20%20%20%20%20%29.addTo%28marker_cluster_3a499d56cecc47ca8127b9820f58c1fa%29%3B%0A%20%20%20%20%20%20%20%20%0A%20%20%20%20%0A%20%20%20%20%20%20%20%20%20%20%20%20var%20marker_a6d657f20f424573b2a53ae2fee2a5da%20%3D%20L.marker%28%0A%20%20%20%20%20%20%20%20%20%20%20%20%20%20%20%20%5B37.519447%2C%20127.053723%5D%2C%0A%20%20%20%20%20%20%20%20%20%20%20%20%20%20%20%20%7B%22radius%22%3A%201%7D%0A%20%20%20%20%20%20%20%20%20%20%20%20%29.addTo%28marker_cluster_3a499d56cecc47ca8127b9820f58c1fa%29%3B%0A%20%20%20%20%20%20%20%20%0A%20%20%20%20%0A%20%20%20%20%20%20%20%20%20%20%20%20var%20marker_8a839d7cd1624c94ae275692d26735a1%20%3D%20L.marker%28%0A%20%20%20%20%20%20%20%20%20%20%20%20%20%20%20%20%5B37.55014600000001%2C%20127.127534%5D%2C%0A%20%20%20%20%20%20%20%20%20%20%20%20%20%20%20%20%7B%22radius%22%3A%201%7D%0A%20%20%20%20%20%20%20%20%20%20%20%20%29.addTo%28marker_cluster_3a499d56cecc47ca8127b9820f58c1fa%29%3B%0A%20%20%20%20%20%20%20%20%0A%20%20%20%20%0A%20%20%20%20%20%20%20%20%20%20%20%20var%20marker_754df3d0a23449e4b77ff09117464461%20%3D%20L.marker%28%0A%20%20%20%20%20%20%20%20%20%20%20%20%20%20%20%20%5B37.561473%2C%20126.854408%5D%2C%0A%20%20%20%20%20%20%20%20%20%20%20%20%20%20%20%20%7B%22radius%22%3A%201%7D%0A%20%20%20%20%20%20%20%20%20%20%20%20%29.addTo%28marker_cluster_3a499d56cecc47ca8127b9820f58c1fa%29%3B%0A%20%20%20%20%20%20%20%20%0A%20%20%20%20%0A%20%20%20%20%20%20%20%20%20%20%20%20var%20marker_2519d1eb2ecd407eafedbb6bb9abda7f%20%3D%20L.marker%28%0A%20%20%20%20%20%20%20%20%20%20%20%20%20%20%20%20%5B37.645064%2C%20127.064084%5D%2C%0A%20%20%20%20%20%20%20%20%20%20%20%20%20%20%20%20%7B%22radius%22%3A%201%7D%0A%20%20%20%20%20%20%20%20%20%20%20%20%29.addTo%28marker_cluster_3a499d56cecc47ca8127b9820f58c1fa%29%3B%0A%20%20%20%20%20%20%20%20%0A%20%20%20%20%0A%20%20%20%20%20%20%20%20%20%20%20%20var%20marker_83949b79954e4a909acf60ba4ebf21bc%20%3D%20L.marker%28%0A%20%20%20%20%20%20%20%20%20%20%20%20%20%20%20%20%5B37.517295%2C%20127.041745%5D%2C%0A%20%20%20%20%20%20%20%20%20%20%20%20%20%20%20%20%7B%22radius%22%3A%201%7D%0A%20%20%20%20%20%20%20%20%20%20%20%20%29.addTo%28marker_cluster_3a499d56cecc47ca8127b9820f58c1fa%29%3B%0A%20%20%20%20%20%20%20%20%0A%20%20%20%20%0A%20%20%20%20%20%20%20%20%20%20%20%20var%20marker_d71dfae4cb3548048c38ffb3dbe1a041%20%3D%20L.marker%28%0A%20%20%20%20%20%20%20%20%20%20%20%20%20%20%20%20%5B37.558869%2C%20126.837217%5D%2C%0A%20%20%20%20%20%20%20%20%20%20%20%20%20%20%20%20%7B%22radius%22%3A%201%7D%0A%20%20%20%20%20%20%20%20%20%20%20%20%29.addTo%28marker_cluster_3a499d56cecc47ca8127b9820f58c1fa%29%3B%0A%20%20%20%20%20%20%20%20%0A%20%20%20%20%0A%20%20%20%20%20%20%20%20%20%20%20%20var%20marker_7ba232a582264d75a4d02fb671a49c6a%20%3D%20L.marker%28%0A%20%20%20%20%20%20%20%20%20%20%20%20%20%20%20%20%5B37.486048%2C%20127.122416%5D%2C%0A%20%20%20%20%20%20%20%20%20%20%20%20%20%20%20%20%7B%22radius%22%3A%201%7D%0A%20%20%20%20%20%20%20%20%20%20%20%20%29.addTo%28marker_cluster_3a499d56cecc47ca8127b9820f58c1fa%29%3B%0A%20%20%20%20%20%20%20%20%0A%20%20%20%20%0A%20%20%20%20%20%20%20%20%20%20%20%20var%20marker_08974761c8164389b313d5bbe3eb0d79%20%3D%20L.marker%28%0A%20%20%20%20%20%20%20%20%20%20%20%20%20%20%20%20%5B37.526126%2C%20126.864603%5D%2C%0A%20%20%20%20%20%20%20%20%20%20%20%20%20%20%20%20%7B%22radius%22%3A%201%7D%0A%20%20%20%20%20%20%20%20%20%20%20%20%29.addTo%28marker_cluster_3a499d56cecc47ca8127b9820f58c1fa%29%3B%0A%20%20%20%20%20%20%20%20%0A%20%20%20%20%0A%20%20%20%20%20%20%20%20%20%20%20%20var%20marker_4b09423efc1249e6afaa30b66ded2edf%20%3D%20L.marker%28%0A%20%20%20%20%20%20%20%20%20%20%20%20%20%20%20%20%5B37.547958%2C%20127.074632%5D%2C%0A%20%20%20%20%20%20%20%20%20%20%20%20%20%20%20%20%7B%22radius%22%3A%201%7D%0A%20%20%20%20%20%20%20%20%20%20%20%20%29.addTo%28marker_cluster_3a499d56cecc47ca8127b9820f58c1fa%29%3B%0A%20%20%20%20%20%20%20%20%0A%20%20%20%20%0A%20%20%20%20%20%20%20%20%20%20%20%20var%20marker_280d0bea80d04582961a59d8e0251a6c%20%3D%20L.marker%28%0A%20%20%20%20%20%20%20%20%20%20%20%20%20%20%20%20%5B37.626636%2C%20127.02602%5D%2C%0A%20%20%20%20%20%20%20%20%20%20%20%20%20%20%20%20%7B%22radius%22%3A%201%7D%0A%20%20%20%20%20%20%20%20%20%20%20%20%29.addTo%28marker_cluster_3a499d56cecc47ca8127b9820f58c1fa%29%3B%0A%20%20%20%20%20%20%20%20%0A%20%20%20%20%0A%20%20%20%20%20%20%20%20%20%20%20%20var%20marker_ae8f302abc7b40a68f1bb04b5f23c1ea%20%3D%20L.marker%28%0A%20%20%20%20%20%20%20%20%20%20%20%20%20%20%20%20%5B37.56348%2C%20126.903394%5D%2C%0A%20%20%20%20%20%20%20%20%20%20%20%20%20%20%20%20%7B%22radius%22%3A%201%7D%0A%20%20%20%20%20%20%20%20%20%20%20%20%29.addTo%28marker_cluster_3a499d56cecc47ca8127b9820f58c1fa%29%3B%0A%20%20%20%20%20%20%20%20%0A%20%20%20%20%0A%20%20%20%20%20%20%20%20%20%20%20%20var%20marker_b569a64001e2409684f2b54c704fccb9%20%3D%20L.marker%28%0A%20%20%20%20%20%20%20%20%20%20%20%20%20%20%20%20%5B37.636425%2C%20126.918845%5D%2C%0A%20%20%20%20%20%20%20%20%20%20%20%20%20%20%20%20%7B%22radius%22%3A%201%7D%0A%20%20%20%20%20%20%20%20%20%20%20%20%29.addTo%28marker_cluster_3a499d56cecc47ca8127b9820f58c1fa%29%3B%0A%20%20%20%20%20%20%20%20%0A%20%20%20%20%0A%20%20%20%20%20%20%20%20%20%20%20%20var%20marker_ee0ae65460b2466dada764fc24693211%20%3D%20L.marker%28%0A%20%20%20%20%20%20%20%20%20%20%20%20%20%20%20%20%5B37.598479%2C%20126.915539%5D%2C%0A%20%20%20%20%20%20%20%20%20%20%20%20%20%20%20%20%7B%22radius%22%3A%201%7D%0A%20%20%20%20%20%20%20%20%20%20%20%20%29.addTo%28marker_cluster_3a499d56cecc47ca8127b9820f58c1fa%29%3B%0A%20%20%20%20%20%20%20%20%0A%20%20%20%20%0A%20%20%20%20%20%20%20%20%20%20%20%20var%20marker_beea8366dcea4fa5b04813f10da45223%20%3D%20L.marker%28%0A%20%20%20%20%20%20%20%20%20%20%20%20%20%20%20%20%5B37.478667%2C%20127.126214%5D%2C%0A%20%20%20%20%20%20%20%20%20%20%20%20%20%20%20%20%7B%22radius%22%3A%201%7D%0A%20%20%20%20%20%20%20%20%20%20%20%20%29.addTo%28marker_cluster_3a499d56cecc47ca8127b9820f58c1fa%29%3B%0A%20%20%20%20%20%20%20%20%0A%20%20%20%20%0A%20%20%20%20%20%20%20%20%20%20%20%20var%20marker_2b53b16631a54bdf96245968f28ece47%20%3D%20L.marker%28%0A%20%20%20%20%20%20%20%20%20%20%20%20%20%20%20%20%5B37.487664%2C%20126.993624%5D%2C%0A%20%20%20%20%20%20%20%20%20%20%20%20%20%20%20%20%7B%22radius%22%3A%201%7D%0A%20%20%20%20%20%20%20%20%20%20%20%20%29.addTo%28marker_cluster_3a499d56cecc47ca8127b9820f58c1fa%29%3B%0A%20%20%20%20%20%20%20%20%0A%20%20%20%20%0A%20%20%20%20%20%20%20%20%20%20%20%20var%20marker_e76277153c3d4dea97aeebe659680068%20%3D%20L.marker%28%0A%20%20%20%20%20%20%20%20%20%20%20%20%20%20%20%20%5B37.56441%2C%20127.029239%5D%2C%0A%20%20%20%20%20%20%20%20%20%20%20%20%20%20%20%20%7B%22radius%22%3A%201%7D%0A%20%20%20%20%20%20%20%20%20%20%20%20%29.addTo%28marker_cluster_3a499d56cecc47ca8127b9820f58c1fa%29%3B%0A%20%20%20%20%20%20%20%20%0A%20%20%20%20%0A%20%20%20%20%20%20%20%20%20%20%20%20var%20marker_48c4b264a2bd48ec87108e93051a7f6d%20%3D%20L.marker%28%0A%20%20%20%20%20%20%20%20%20%20%20%20%20%20%20%20%5B37.601809%2C%20127.041413%5D%2C%0A%20%20%20%20%20%20%20%20%20%20%20%20%20%20%20%20%7B%22radius%22%3A%201%7D%0A%20%20%20%20%20%20%20%20%20%20%20%20%29.addTo%28marker_cluster_3a499d56cecc47ca8127b9820f58c1fa%29%3B%0A%20%20%20%20%20%20%20%20%0A%20%20%20%20%0A%20%20%20%20%20%20%20%20%20%20%20%20var%20marker_b4445171a98f46fda612a740a13f6497%20%3D%20L.marker%28%0A%20%20%20%20%20%20%20%20%20%20%20%20%20%20%20%20%5B37.580908%2C%20127.088492%5D%2C%0A%20%20%20%20%20%20%20%20%20%20%20%20%20%20%20%20%7B%22radius%22%3A%201%7D%0A%20%20%20%20%20%20%20%20%20%20%20%20%29.addTo%28marker_cluster_3a499d56cecc47ca8127b9820f58c1fa%29%3B%0A%20%20%20%20%20%20%20%20%0A%20%20%20%20%0A%20%20%20%20%20%20%20%20%20%20%20%20var%20marker_dc7ccfa7e5b74c6c8a8c30190120c06f%20%3D%20L.marker%28%0A%20%20%20%20%20%20%20%20%20%20%20%20%20%20%20%20%5B37.486254%2C%20126.887409%5D%2C%0A%20%20%20%20%20%20%20%20%20%20%20%20%20%20%20%20%7B%22radius%22%3A%201%7D%0A%20%20%20%20%20%20%20%20%20%20%20%20%29.addTo%28marker_cluster_3a499d56cecc47ca8127b9820f58c1fa%29%3B%0A%20%20%20%20%20%20%20%20%0A%20%20%20%20%0A%20%20%20%20%20%20%20%20%20%20%20%20var%20marker_92e05617b4d141b5a298543b5d06d5f7%20%3D%20L.marker%28%0A%20%20%20%20%20%20%20%20%20%20%20%20%20%20%20%20%5B37.55223400000001%2C%20127.089506%5D%2C%0A%20%20%20%20%20%20%20%20%20%20%20%20%20%20%20%20%7B%22radius%22%3A%201%7D%0A%20%20%20%20%20%20%20%20%20%20%20%20%29.addTo%28marker_cluster_3a499d56cecc47ca8127b9820f58c1fa%29%3B%0A%20%20%20%20%20%20%20%20%0A%20%20%20%20%0A%20%20%20%20%20%20%20%20%20%20%20%20var%20marker_c6dad05acff0402aa2efab50534d4c2f%20%3D%20L.marker%28%0A%20%20%20%20%20%20%20%20%20%20%20%20%20%20%20%20%5B37.562167%2C%20126.801274%5D%2C%0A%20%20%20%20%20%20%20%20%20%20%20%20%20%20%20%20%7B%22radius%22%3A%201%7D%0A%20%20%20%20%20%20%20%20%20%20%20%20%29.addTo%28marker_cluster_3a499d56cecc47ca8127b9820f58c1fa%29%3B%0A%20%20%20%20%20%20%20%20%0A%20%20%20%20%0A%20%20%20%20%20%20%20%20%20%20%20%20var%20marker_859724917f6644caa21657c7a926700a%20%3D%20L.marker%28%0A%20%20%20%20%20%20%20%20%20%20%20%20%20%20%20%20%5B37.573198%2C%20127.016346%5D%2C%0A%20%20%20%20%20%20%20%20%20%20%20%20%20%20%20%20%7B%22radius%22%3A%201%7D%0A%20%20%20%20%20%20%20%20%20%20%20%20%29.addTo%28marker_cluster_3a499d56cecc47ca8127b9820f58c1fa%29%3B%0A%20%20%20%20%20%20%20%20%0A%20%20%20%20%0A%20%20%20%20%20%20%20%20%20%20%20%20var%20marker_e0299e0fc5b54c3ba197295d0289138f%20%3D%20L.marker%28%0A%20%20%20%20%20%20%20%20%20%20%20%20%20%20%20%20%5B37.566951%2C%20127.052526%5D%2C%0A%20%20%20%20%20%20%20%20%20%20%20%20%20%20%20%20%7B%22radius%22%3A%201%7D%0A%20%20%20%20%20%20%20%20%20%20%20%20%29.addTo%28marker_cluster_3a499d56cecc47ca8127b9820f58c1fa%29%3B%0A%20%20%20%20%20%20%20%20%0A%20%20%20%20%0A%20%20%20%20%20%20%20%20%20%20%20%20var%20marker_d66a4e1821134a30af4db004da4c2a8a%20%3D%20L.marker%28%0A%20%20%20%20%20%20%20%20%20%20%20%20%20%20%20%20%5B37.677876%2C%20127.055321%5D%2C%0A%20%20%20%20%20%20%20%20%20%20%20%20%20%20%20%20%7B%22radius%22%3A%201%7D%0A%20%20%20%20%20%20%20%20%20%20%20%20%29.addTo%28marker_cluster_3a499d56cecc47ca8127b9820f58c1fa%29%3B%0A%20%20%20%20%20%20%20%20%0A%20%20%20%20%0A%20%20%20%20%20%20%20%20%20%20%20%20var%20marker_e9961ce9b6124036b4e92a34457f6470%20%3D%20L.marker%28%0A%20%20%20%20%20%20%20%20%20%20%20%20%20%20%20%20%5B37.618432%2C%20127.075364%5D%2C%0A%20%20%20%20%20%20%20%20%20%20%20%20%20%20%20%20%7B%22radius%22%3A%201%7D%0A%20%20%20%20%20%20%20%20%20%20%20%20%29.addTo%28marker_cluster_3a499d56cecc47ca8127b9820f58c1fa%29%3B%0A%20%20%20%20%20%20%20%20%0A%20%20%20%20%0A%20%20%20%20%20%20%20%20%20%20%20%20var%20marker_0d08ccbc24094c519cd8046d1898b982%20%3D%20L.marker%28%0A%20%20%20%20%20%20%20%20%20%20%20%20%20%20%20%20%5B37.451632%2C%20127.159867%5D%2C%0A%20%20%20%20%20%20%20%20%20%20%20%20%20%20%20%20%7B%22radius%22%3A%201%7D%0A%20%20%20%20%20%20%20%20%20%20%20%20%29.addTo%28marker_cluster_3a499d56cecc47ca8127b9820f58c1fa%29%3B%0A%20%20%20%20%20%20%20%20%0A%20%20%20%20%0A%20%20%20%20%20%20%20%20%20%20%20%20var%20marker_7334ef431a4541ca827f11519464cba2%20%3D%20L.marker%28%0A%20%20%20%20%20%20%20%20%20%20%20%20%20%20%20%20%5B37.670249%2C%20127.079027%5D%2C%0A%20%20%20%20%20%20%20%20%20%20%20%20%20%20%20%20%7B%22radius%22%3A%201%7D%0A%20%20%20%20%20%20%20%20%20%20%20%20%29.addTo%28marker_cluster_3a499d56cecc47ca8127b9820f58c1fa%29%3B%0A%20%20%20%20%20%20%20%20%0A%20%20%20%20%0A%20%20%20%20%20%20%20%20%20%20%20%20var%20marker_654914b78b584628b6ddffb07417c1c2%20%3D%20L.marker%28%0A%20%20%20%20%20%20%20%20%20%20%20%20%20%20%20%20%5B37.491977%2C%20126.823677%5D%2C%0A%20%20%20%20%20%20%20%20%20%20%20%20%20%20%20%20%7B%22radius%22%3A%201%7D%0A%20%20%20%20%20%20%20%20%20%20%20%20%29.addTo%28marker_cluster_3a499d56cecc47ca8127b9820f58c1fa%29%3B%0A%20%20%20%20%20%20%20%20%0A%20%20%20%20%0A%20%20%20%20%20%20%20%20%20%20%20%20var%20marker_c23fa6a30ce848e9aa1ff8d7fb079e40%20%3D%20L.marker%28%0A%20%20%20%20%20%20%20%20%20%20%20%20%20%20%20%20%5B37.586288%2C%20127.02921299999998%5D%2C%0A%20%20%20%20%20%20%20%20%20%20%20%20%20%20%20%20%7B%22radius%22%3A%201%7D%0A%20%20%20%20%20%20%20%20%20%20%20%20%29.addTo%28marker_cluster_3a499d56cecc47ca8127b9820f58c1fa%29%3B%0A%20%20%20%20%20%20%20%20%0A%20%20%20%20%0A%20%20%20%20%20%20%20%20%20%20%20%20var%20marker_ff011033fa0c46ccb4e28b9ae8aa4198%20%3D%20L.marker%28%0A%20%20%20%20%20%20%20%20%20%20%20%20%20%20%20%20%5B37.57626%2C%20126.901568%5D%2C%0A%20%20%20%20%20%20%20%20%20%20%20%20%20%20%20%20%7B%22radius%22%3A%201%7D%0A%20%20%20%20%20%20%20%20%20%20%20%20%29.addTo%28marker_cluster_3a499d56cecc47ca8127b9820f58c1fa%29%3B%0A%20%20%20%20%20%20%20%20%0A%20%20%20%20%0A%20%20%20%20%20%20%20%20%20%20%20%20var%20marker_73200412cb924672a47dc20a32326f5c%20%3D%20L.marker%28%0A%20%20%20%20%20%20%20%20%20%20%20%20%20%20%20%20%5B37.595728%2C%20127.085698%5D%2C%0A%20%20%20%20%20%20%20%20%20%20%20%20%20%20%20%20%7B%22radius%22%3A%201%7D%0A%20%20%20%20%20%20%20%20%20%20%20%20%29.addTo%28marker_cluster_3a499d56cecc47ca8127b9820f58c1fa%29%3B%0A%20%20%20%20%20%20%20%20%0A%20%20%20%20%0A%20%20%20%20%20%20%20%20%20%20%20%20var%20marker_30c198321d204296a7b9306a9e2f9fc4%20%3D%20L.marker%28%0A%20%20%20%20%20%20%20%20%20%20%20%20%20%20%20%20%5B37.507417%2C%20126.721357%5D%2C%0A%20%20%20%20%20%20%20%20%20%20%20%20%20%20%20%20%7B%22radius%22%3A%201%7D%0A%20%20%20%20%20%20%20%20%20%20%20%20%29.addTo%28marker_cluster_3a499d56cecc47ca8127b9820f58c1fa%29%3B%0A%20%20%20%20%20%20%20%20%0A%20%20%20%20%0A%20%20%20%20%20%20%20%20%20%20%20%20var%20marker_c7cb275a7e7f47ffafb5d7460346bb4f%20%3D%20L.marker%28%0A%20%20%20%20%20%20%20%20%20%20%20%20%20%20%20%20%5B37.588396%2C%20127.005992%5D%2C%0A%20%20%20%20%20%20%20%20%20%20%20%20%20%20%20%20%7B%22radius%22%3A%201%7D%0A%20%20%20%20%20%20%20%20%20%20%20%20%29.addTo%28marker_cluster_3a499d56cecc47ca8127b9820f58c1fa%29%3B%0A%20%20%20%20%20%20%20%20%0A%20%20%20%20%0A%20%20%20%20%20%20%20%20%20%20%20%20var%20marker_ca2831b05e1844da9a792f1e8af776d4%20%3D%20L.marker%28%0A%20%20%20%20%20%20%20%20%20%20%20%20%20%20%20%20%5B37.57816500000001%2C%20127.034924%5D%2C%0A%20%20%20%20%20%20%20%20%20%20%20%20%20%20%20%20%7B%22radius%22%3A%201%7D%0A%20%20%20%20%20%20%20%20%20%20%20%20%29.addTo%28marker_cluster_3a499d56cecc47ca8127b9820f58c1fa%29%3B%0A%20%20%20%20%20%20%20%20%0A%20%20%20%20%0A%20%20%20%20%20%20%20%20%20%20%20%20var%20marker_06ed83355f6849dc81b5dc235e9e9923%20%3D%20L.marker%28%0A%20%20%20%20%20%20%20%20%20%20%20%20%20%20%20%20%5B37.49972800000001%2C%20126.928205%5D%2C%0A%20%20%20%20%20%20%20%20%20%20%20%20%20%20%20%20%7B%22radius%22%3A%201%7D%0A%20%20%20%20%20%20%20%20%20%20%20%20%29.addTo%28marker_cluster_3a499d56cecc47ca8127b9820f58c1fa%29%3B%0A%20%20%20%20%20%20%20%20%0A%20%20%20%20%0A%20%20%20%20%20%20%20%20%20%20%20%20var%20marker_a98787583bb14cffa7e38b50ebbdd0bd%20%3D%20L.marker%28%0A%20%20%20%20%20%20%20%20%20%20%20%20%20%20%20%20%5B37.4945%2C%20127.06321%5D%2C%0A%20%20%20%20%20%20%20%20%20%20%20%20%20%20%20%20%7B%22radius%22%3A%201%7D%0A%20%20%20%20%20%20%20%20%20%20%20%20%29.addTo%28marker_cluster_3a499d56cecc47ca8127b9820f58c1fa%29%3B%0A%20%20%20%20%20%20%20%20%0A%20%20%20%20%0A%20%20%20%20%20%20%20%20%20%20%20%20var%20marker_f8f36aa039a04d15a6aea311ab8aa96c%20%3D%20L.marker%28%0A%20%20%20%20%20%20%20%20%20%20%20%20%20%20%20%20%5B37.614959000000006%2C%20127.065937%5D%2C%0A%20%20%20%20%20%20%20%20%20%20%20%20%20%20%20%20%7B%22radius%22%3A%201%7D%0A%20%20%20%20%20%20%20%20%20%20%20%20%29.addTo%28marker_cluster_3a499d56cecc47ca8127b9820f58c1fa%29%3B%0A%20%20%20%20%20%20%20%20%0A%20%20%20%20%0A%20%20%20%20%20%20%20%20%20%20%20%20var%20marker_04c509ca28d84a17b66f41ee642d22e9%20%3D%20L.marker%28%0A%20%20%20%20%20%20%20%20%20%20%20%20%20%20%20%20%5B37.503066%2C%20126.776021%5D%2C%0A%20%20%20%20%20%20%20%20%20%20%20%20%20%20%20%20%7B%22radius%22%3A%201%7D%0A%20%20%20%20%20%20%20%20%20%20%20%20%29.addTo%28marker_cluster_3a499d56cecc47ca8127b9820f58c1fa%29%3B%0A%20%20%20%20%20%20%20%20%0A%20%20%20%20%0A%20%20%20%20%20%20%20%20%20%20%20%20var%20marker_fa36becf1e614c9f9e6818f400d68768%20%3D%20L.marker%28%0A%20%20%20%20%20%20%20%20%20%20%20%20%20%20%20%20%5B37.625554%2C%20127.073%5D%2C%0A%20%20%20%20%20%20%20%20%20%20%20%20%20%20%20%20%7B%22radius%22%3A%201%7D%0A%20%20%20%20%20%20%20%20%20%20%20%20%29.addTo%28marker_cluster_3a499d56cecc47ca8127b9820f58c1fa%29%3B%0A%20%20%20%20%20%20%20%20%0A%20%20%20%20%0A%20%20%20%20%20%20%20%20%20%20%20%20var%20marker_55259df576704103bbca73a128d580cf%20%3D%20L.marker%28%0A%20%20%20%20%20%20%20%20%20%20%20%20%20%20%20%20%5B37.557393%2C%20126.956113%5D%2C%0A%20%20%20%20%20%20%20%20%20%20%20%20%20%20%20%20%7B%22radius%22%3A%201%7D%0A%20%20%20%20%20%20%20%20%20%20%20%20%29.addTo%28marker_cluster_3a499d56cecc47ca8127b9820f58c1fa%29%3B%0A%20%20%20%20%20%20%20%20%0A%20%20%20%20%0A%20%20%20%20%20%20%20%20%20%20%20%20var%20marker_af872d27a8c248b3bd60173611a3e58a%20%3D%20L.marker%28%0A%20%20%20%20%20%20%20%20%20%20%20%20%20%20%20%20%5B37.555735%2C%20127.043672%5D%2C%0A%20%20%20%20%20%20%20%20%20%20%20%20%20%20%20%20%7B%22radius%22%3A%201%7D%0A%20%20%20%20%20%20%20%20%20%20%20%20%29.addTo%28marker_cluster_3a499d56cecc47ca8127b9820f58c1fa%29%3B%0A%20%20%20%20%20%20%20%20%0A%20%20%20%20%0A%20%20%20%20%20%20%20%20%20%20%20%20var%20marker_f731811bad54400ba5d35e3afdb2d332%20%3D%20L.marker%28%0A%20%20%20%20%20%20%20%20%20%20%20%20%20%20%20%20%5B37.588695%2C%20127.087501%5D%2C%0A%20%20%20%20%20%20%20%20%20%20%20%20%20%20%20%20%7B%22radius%22%3A%201%7D%0A%20%20%20%20%20%20%20%20%20%20%20%20%29.addTo%28marker_cluster_3a499d56cecc47ca8127b9820f58c1fa%29%3B%0A%20%20%20%20%20%20%20%20%0A%20%20%20%20%0A%20%20%20%20%20%20%20%20%20%20%20%20var%20marker_7f7ced4226b3492391d775856eefae03%20%3D%20L.marker%28%0A%20%20%20%20%20%20%20%20%20%20%20%20%20%20%20%20%5B37.580019%2C%20127.044727%5D%2C%0A%20%20%20%20%20%20%20%20%20%20%20%20%20%20%20%20%7B%22radius%22%3A%201%7D%0A%20%20%20%20%20%20%20%20%20%20%20%20%29.addTo%28marker_cluster_3a499d56cecc47ca8127b9820f58c1fa%29%3B%0A%20%20%20%20%20%20%20%20%0A%20%20%20%20%0A%20%20%20%20%20%20%20%20%20%20%20%20var%20marker_635df81ea05b4c2aa39bcf38b29ef042%20%3D%20L.marker%28%0A%20%20%20%20%20%20%20%20%20%20%20%20%20%20%20%20%5B37.556076%2C%20126.910068%5D%2C%0A%20%20%20%20%20%20%20%20%20%20%20%20%20%20%20%20%7B%22radius%22%3A%201%7D%0A%20%20%20%20%20%20%20%20%20%20%20%20%29.addTo%28marker_cluster_3a499d56cecc47ca8127b9820f58c1fa%29%3B%0A%20%20%20%20%20%20%20%20%0A%20%20%20%20%0A%20%20%20%20%20%20%20%20%20%20%20%20var%20marker_6fdad8de32514a1e9bb1d6b5a226c632%20%3D%20L.marker%28%0A%20%20%20%20%20%20%20%20%20%20%20%20%20%20%20%20%5B37.55907%2C%20127.005308%5D%2C%0A%20%20%20%20%20%20%20%20%20%20%20%20%20%20%20%20%7B%22radius%22%3A%201%7D%0A%20%20%20%20%20%20%20%20%20%20%20%20%29.addTo%28marker_cluster_3a499d56cecc47ca8127b9820f58c1fa%29%3B%0A%20%20%20%20%20%20%20%20%0A%20%20%20%20%0A%20%20%20%20%20%20%20%20%20%20%20%20var%20marker_c6d38125a4ac40f8a5920e225935891e%20%3D%20L.marker%28%0A%20%20%20%20%20%20%20%20%20%20%20%20%20%20%20%20%5B37.484766%2C%20126.970942%5D%2C%0A%20%20%20%20%20%20%20%20%20%20%20%20%20%20%20%20%7B%22radius%22%3A%201%7D%0A%20%20%20%20%20%20%20%20%20%20%20%20%29.addTo%28marker_cluster_3a499d56cecc47ca8127b9820f58c1fa%29%3B%0A%20%20%20%20%20%20%20%20%0A%20%20%20%20%0A%20%20%20%20%20%20%20%20%20%20%20%20var%20marker_ffa59695160d41ff881aac8986cac0ca%20%3D%20L.marker%28%0A%20%20%20%20%20%20%20%20%20%20%20%20%20%20%20%20%5B37.55502%2C%20127.154166%5D%2C%0A%20%20%20%20%20%20%20%20%20%20%20%20%20%20%20%20%7B%22radius%22%3A%201%7D%0A%20%20%20%20%20%20%20%20%20%20%20%20%29.addTo%28marker_cluster_3a499d56cecc47ca8127b9820f58c1fa%29%3B%0A%20%20%20%20%20%20%20%20%0A%20%20%20%20%0A%20%20%20%20%20%20%20%20%20%20%20%20var%20marker_68e7add30ad241bf8d51417f963a4cb6%20%3D%20L.marker%28%0A%20%20%20%20%20%20%20%20%20%20%20%20%20%20%20%20%5B37.495848%2C%20127.02853799999998%5D%2C%0A%20%20%20%20%20%20%20%20%20%20%20%20%20%20%20%20%7B%22radius%22%3A%201%7D%0A%20%20%20%20%20%20%20%20%20%20%20%20%29.addTo%28marker_cluster_3a499d56cecc47ca8127b9820f58c1fa%29%3B%0A%20%20%20%20%20%20%20%20%0A%20%20%20%20%0A%20%20%20%20%20%20%20%20%20%20%20%20var%20marker_a9ae09155ccd4b0e8074209bef991d9b%20%3D%20L.marker%28%0A%20%20%20%20%20%20%20%20%20%20%20%20%20%20%20%20%5B37.536032%2C%20126.974163%5D%2C%0A%20%20%20%20%20%20%20%20%20%20%20%20%20%20%20%20%7B%22radius%22%3A%201%7D%0A%20%20%20%20%20%20%20%20%20%20%20%20%29.addTo%28marker_cluster_3a499d56cecc47ca8127b9820f58c1fa%29%3B%0A%20%20%20%20%20%20%20%20%0A%20%20%20%20%0A%20%20%20%20%20%20%20%20%20%20%20%20var%20marker_1e33399ee1e649b7a5a7a791a342b922%20%3D%20L.marker%28%0A%20%20%20%20%20%20%20%20%20%20%20%20%20%20%20%20%5B37.5058%2C%20126.753175%5D%2C%0A%20%20%20%20%20%20%20%20%20%20%20%20%20%20%20%20%7B%22radius%22%3A%201%7D%0A%20%20%20%20%20%20%20%20%20%20%20%20%29.addTo%28marker_cluster_3a499d56cecc47ca8127b9820f58c1fa%29%3B%0A%20%20%20%20%20%20%20%20%0A%20%20%20%20%0A%20%20%20%20%20%20%20%20%20%20%20%20var%20marker_e70ace8fbaad489286d06e3cacc8262e%20%3D%20L.marker%28%0A%20%20%20%20%20%20%20%20%20%20%20%20%20%20%20%20%5B37.511075%2C%20127.073861%5D%2C%0A%20%20%20%20%20%20%20%20%20%20%20%20%20%20%20%20%7B%22radius%22%3A%201%7D%0A%20%20%20%20%20%20%20%20%20%20%20%20%29.addTo%28marker_cluster_3a499d56cecc47ca8127b9820f58c1fa%29%3B%0A%20%20%20%20%20%20%20%20%0A%20%20%20%20%0A%20%20%20%20%20%20%20%20%20%20%20%20var%20marker_7769f75f886c4b34bed76014f6791322%20%3D%20L.marker%28%0A%20%20%20%20%20%20%20%20%20%20%20%20%20%20%20%20%5B37.505426%2C%20127.10699%5D%2C%0A%20%20%20%20%20%20%20%20%20%20%20%20%20%20%20%20%7B%22radius%22%3A%201%7D%0A%20%20%20%20%20%20%20%20%20%20%20%20%29.addTo%28marker_cluster_3a499d56cecc47ca8127b9820f58c1fa%29%3B%0A%20%20%20%20%20%20%20%20%0A%20%20%20%20%0A%20%20%20%20%20%20%20%20%20%20%20%20var%20marker_ed414eed2107478ca17a9310dc62dca0%20%3D%20L.marker%28%0A%20%20%20%20%20%20%20%20%20%20%20%20%20%20%20%20%5B37.665183%2C%20127.05765%5D%2C%0A%20%20%20%20%20%20%20%20%20%20%20%20%20%20%20%20%7B%22radius%22%3A%201%7D%0A%20%20%20%20%20%20%20%20%20%20%20%20%29.addTo%28marker_cluster_3a499d56cecc47ca8127b9820f58c1fa%29%3B%0A%20%20%20%20%20%20%20%20%0A%20%20%20%20%0A%20%20%20%20%20%20%20%20%20%20%20%20var%20marker_47606e646e504648aee84569e7fb1018%20%3D%20L.marker%28%0A%20%20%20%20%20%20%20%20%20%20%20%20%20%20%20%20%5B37.546957%2C%20126.874868%5D%2C%0A%20%20%20%20%20%20%20%20%20%20%20%20%20%20%20%20%7B%22radius%22%3A%201%7D%0A%20%20%20%20%20%20%20%20%20%20%20%20%29.addTo%28marker_cluster_3a499d56cecc47ca8127b9820f58c1fa%29%3B%0A%20%20%20%20%20%20%20%20%0A%20%20%20%20%0A%20%20%20%20%20%20%20%20%20%20%20%20var%20marker_e51637bbd96a4dd594410b1a6c82607b%20%3D%20L.marker%28%0A%20%20%20%20%20%20%20%20%20%20%20%20%20%20%20%20%5B37.610587%2C%20127.07773600000002%5D%2C%0A%20%20%20%20%20%20%20%20%20%20%20%20%20%20%20%20%7B%22radius%22%3A%201%7D%0A%20%20%20%20%20%20%20%20%20%20%20%20%29.addTo%28marker_cluster_3a499d56cecc47ca8127b9820f58c1fa%29%3B%0A%20%20%20%20%20%20%20%20%0A%20%20%20%20%0A%20%20%20%20%20%20%20%20%20%20%20%20var%20marker_8ca29c5d40754adb88b57913622508e3%20%3D%20L.marker%28%0A%20%20%20%20%20%20%20%20%20%20%20%20%20%20%20%20%5B37.505843%2C%20127.003922%5D%2C%0A%20%20%20%20%20%20%20%20%20%20%20%20%20%20%20%20%7B%22radius%22%3A%201%7D%0A%20%20%20%20%20%20%20%20%20%20%20%20%29.addTo%28marker_cluster_3a499d56cecc47ca8127b9820f58c1fa%29%3B%0A%20%20%20%20%20%20%20%20%0A%20%20%20%20%0A%20%20%20%20%20%20%20%20%20%20%20%20var%20marker_cf0286e8e0e14fb58ee752cf03784eb9%20%3D%20L.marker%28%0A%20%20%20%20%20%20%20%20%20%20%20%20%20%20%20%20%5B37.619836%2C%20127.083571%5D%2C%0A%20%20%20%20%20%20%20%20%20%20%20%20%20%20%20%20%7B%22radius%22%3A%201%7D%0A%20%20%20%20%20%20%20%20%20%20%20%20%29.addTo%28marker_cluster_3a499d56cecc47ca8127b9820f58c1fa%29%3B%0A%20%20%20%20%20%20%20%20%0A%20%20%20%20%0A%20%20%20%20%20%20%20%20%20%20%20%20var%20marker_3c4ee9c15fb944aab369cfb54fe9d25d%20%3D%20L.marker%28%0A%20%20%20%20%20%20%20%20%20%20%20%20%20%20%20%20%5B37.555437%2C%20126.972753%5D%2C%0A%20%20%20%20%20%20%20%20%20%20%20%20%20%20%20%20%7B%22radius%22%3A%201%7D%0A%20%20%20%20%20%20%20%20%20%20%20%20%29.addTo%28marker_cluster_3a499d56cecc47ca8127b9820f58c1fa%29%3B%0A%20%20%20%20%20%20%20%20%0A%3C/script%3E onload=\"this.contentDocument.open();this.contentDocument.write(    decodeURIComponent(this.getAttribute('data-html')));this.contentDocument.close();\" allowfullscreen webkitallowfullscreen mozallowfullscreen></iframe></div></div>"
      ],
      "text/plain": [
       "<folium.folium.Map at 0x254c3f4c130>"
      ]
     },
     "execution_count": 306,
     "metadata": {},
     "output_type": "execute_result"
    }
   ],
   "source": [
    "#모든 데이터를 지도위에 표시할 수 있는지 테스트\n",
    "#결론 : 불가\n",
    "map_f = folium.Map(location = [latitude, longitude],zoom_start = 10, width = 1000, height = 1000)\n",
    "marker_cluster = MarkerCluster().add_to(map_f)\n",
    "\n",
    "for lat, lon in tqdm(zip(top_station_lat, top_station_lon)):\n",
    "    folium.Marker([lat, lon], radius = 1).add_to(marker_cluster)\n",
    "map_f"
   ]
  },
  {
   "cell_type": "code",
   "execution_count": 307,
   "id": "99ea7b9f",
   "metadata": {},
   "outputs": [
    {
     "data": {
      "text/plain": [
       "Index(['card_name', 'Bus', 'Subway', 'on_area_name', 'on_lon', 'on_lat',\n",
       "       'on_dong', 'on_hour', 'on_minute', 'on_second', 'off_area_name',\n",
       "       'off_lon', 'off_lat', 'off_dong', 'off_hour', 'off_minute',\n",
       "       'off_second', 'no_transfer', 'total_distance', 'total_time', 'route_id',\n",
       "       'Haversine', 'Circuity'],\n",
       "      dtype='object')"
      ]
     },
     "execution_count": 307,
     "metadata": {},
     "output_type": "execute_result"
    }
   ],
   "source": [
    "df_pre_com.columns"
   ]
  },
  {
   "cell_type": "code",
   "execution_count": 308,
   "id": "ebdbb165",
   "metadata": {},
   "outputs": [],
   "source": [
    "#출근길 상위 20개 탑승지역\n",
    "wt_count = pd.DataFrame(df_pre_com[(df_pre_com['on_hour'] >= 7) & (df_pre_com['on_hour'] < 9)]['on_area_name'].value_counts().reset_index())\n",
    "wt_count.columns = ['station', 'count']\n",
    "wt_count20 = wt_count.sort_values(by = 'count', ascending = False).head(20)"
   ]
  },
  {
   "cell_type": "code",
   "execution_count": 309,
   "id": "cabae334",
   "metadata": {},
   "outputs": [
    {
     "data": {
      "text/html": [
       "<div>\n",
       "<style scoped>\n",
       "    .dataframe tbody tr th:only-of-type {\n",
       "        vertical-align: middle;\n",
       "    }\n",
       "\n",
       "    .dataframe tbody tr th {\n",
       "        vertical-align: top;\n",
       "    }\n",
       "\n",
       "    .dataframe thead th {\n",
       "        text-align: right;\n",
       "    }\n",
       "</style>\n",
       "<table border=\"1\" class=\"dataframe\">\n",
       "  <thead>\n",
       "    <tr style=\"text-align: right;\">\n",
       "      <th></th>\n",
       "      <th>station</th>\n",
       "      <th>count</th>\n",
       "    </tr>\n",
       "  </thead>\n",
       "  <tbody>\n",
       "    <tr>\n",
       "      <th>0</th>\n",
       "      <td>사당역</td>\n",
       "      <td>13190</td>\n",
       "    </tr>\n",
       "    <tr>\n",
       "      <th>1</th>\n",
       "      <td>신림역</td>\n",
       "      <td>12459</td>\n",
       "    </tr>\n",
       "    <tr>\n",
       "      <th>2</th>\n",
       "      <td>잠실역</td>\n",
       "      <td>9045</td>\n",
       "    </tr>\n",
       "    <tr>\n",
       "      <th>3</th>\n",
       "      <td>강변역</td>\n",
       "      <td>9000</td>\n",
       "    </tr>\n",
       "    <tr>\n",
       "      <th>4</th>\n",
       "      <td>화곡역</td>\n",
       "      <td>8774</td>\n",
       "    </tr>\n",
       "    <tr>\n",
       "      <th>5</th>\n",
       "      <td>서울대입구역</td>\n",
       "      <td>8769</td>\n",
       "    </tr>\n",
       "    <tr>\n",
       "      <th>6</th>\n",
       "      <td>까치산역</td>\n",
       "      <td>8498</td>\n",
       "    </tr>\n",
       "    <tr>\n",
       "      <th>7</th>\n",
       "      <td>연신내역</td>\n",
       "      <td>8125</td>\n",
       "    </tr>\n",
       "    <tr>\n",
       "      <th>8</th>\n",
       "      <td>낙성대역</td>\n",
       "      <td>7862</td>\n",
       "    </tr>\n",
       "    <tr>\n",
       "      <th>9</th>\n",
       "      <td>광명사거리역</td>\n",
       "      <td>7843</td>\n",
       "    </tr>\n",
       "    <tr>\n",
       "      <th>10</th>\n",
       "      <td>쌍문역</td>\n",
       "      <td>7138</td>\n",
       "    </tr>\n",
       "    <tr>\n",
       "      <th>11</th>\n",
       "      <td>구로디지털단지역</td>\n",
       "      <td>7087</td>\n",
       "    </tr>\n",
       "    <tr>\n",
       "      <th>12</th>\n",
       "      <td>신도림역</td>\n",
       "      <td>7054</td>\n",
       "    </tr>\n",
       "    <tr>\n",
       "      <th>13</th>\n",
       "      <td>당산역</td>\n",
       "      <td>6992</td>\n",
       "    </tr>\n",
       "    <tr>\n",
       "      <th>14</th>\n",
       "      <td>철산역</td>\n",
       "      <td>6654</td>\n",
       "    </tr>\n",
       "    <tr>\n",
       "      <th>15</th>\n",
       "      <td>군자역</td>\n",
       "      <td>6476</td>\n",
       "    </tr>\n",
       "    <tr>\n",
       "      <th>16</th>\n",
       "      <td>천호역</td>\n",
       "      <td>6397</td>\n",
       "    </tr>\n",
       "    <tr>\n",
       "      <th>17</th>\n",
       "      <td>대림역</td>\n",
       "      <td>6361</td>\n",
       "    </tr>\n",
       "    <tr>\n",
       "      <th>18</th>\n",
       "      <td>건대입구역</td>\n",
       "      <td>6265</td>\n",
       "    </tr>\n",
       "    <tr>\n",
       "      <th>19</th>\n",
       "      <td>수유역</td>\n",
       "      <td>6245</td>\n",
       "    </tr>\n",
       "  </tbody>\n",
       "</table>\n",
       "</div>"
      ],
      "text/plain": [
       "     station  count\n",
       "0        사당역  13190\n",
       "1        신림역  12459\n",
       "2        잠실역   9045\n",
       "3        강변역   9000\n",
       "4        화곡역   8774\n",
       "5     서울대입구역   8769\n",
       "6       까치산역   8498\n",
       "7       연신내역   8125\n",
       "8       낙성대역   7862\n",
       "9     광명사거리역   7843\n",
       "10       쌍문역   7138\n",
       "11  구로디지털단지역   7087\n",
       "12      신도림역   7054\n",
       "13       당산역   6992\n",
       "14       철산역   6654\n",
       "15       군자역   6476\n",
       "16       천호역   6397\n",
       "17       대림역   6361\n",
       "18     건대입구역   6265\n",
       "19       수유역   6245"
      ]
     },
     "execution_count": 309,
     "metadata": {},
     "output_type": "execute_result"
    }
   ],
   "source": [
    "wt_count20"
   ]
  },
  {
   "cell_type": "code",
   "execution_count": 310,
   "id": "50102554",
   "metadata": {},
   "outputs": [
    {
     "name": "stdout",
     "output_type": "stream",
     "text": [
      "['사당역', '신림역', '잠실역', '강변역', '화곡역']\n",
      "20\n"
     ]
    }
   ],
   "source": [
    "top_station_1 = list(wt_count20['station'])\n",
    "print(top_station_1[:5])\n",
    "print(len(top_station_1))"
   ]
  },
  {
   "cell_type": "code",
   "execution_count": 311,
   "id": "82b6e1d4",
   "metadata": {},
   "outputs": [
    {
     "data": {
      "application/vnd.jupyter.widget-view+json": {
       "model_id": "451639b432e64476b2d5bdacabc347c3",
       "version_major": 2,
       "version_minor": 0
      },
      "text/plain": [
       "  0%|          | 0/20 [00:00<?, ?it/s]"
      ]
     },
     "metadata": {},
     "output_type": "display_data"
    },
    {
     "data": {
      "application/vnd.jupyter.widget-view+json": {
       "model_id": "79762312cbb04d9ab4b3d2ee2816f89c",
       "version_major": 2,
       "version_minor": 0
      },
      "text/plain": [
       "  0%|          | 0/20 [00:00<?, ?it/s]"
      ]
     },
     "metadata": {},
     "output_type": "display_data"
    }
   ],
   "source": [
    "top_station_lat_1 = [df_pre_com[df_pre_com['on_area_name'] == top_station_1[i]]['on_lat'].iloc[0] for i in tqdm(range(len(top_station_1)))]\n",
    "top_station_lon_1 = [df_pre_com[df_pre_com['on_area_name'] == top_station_1[i]]['on_lon'].iloc[0] for i in tqdm(range(len(top_station_1)))]"
   ]
  },
  {
   "cell_type": "code",
   "execution_count": 312,
   "id": "fe1afebd",
   "metadata": {},
   "outputs": [
    {
     "data": {
      "text/plain": [
       "[37.476556, 126.981578]"
      ]
     },
     "execution_count": 312,
     "metadata": {},
     "output_type": "execute_result"
    }
   ],
   "source": [
    "df_pre_com[df_pre_com['on_area_name'] == top_station_1[0]].iloc[0][['on_lat', 'on_lon']].to_list()"
   ]
  },
  {
   "cell_type": "code",
   "execution_count": 313,
   "id": "d3ccb668",
   "metadata": {},
   "outputs": [],
   "source": [
    "line_number_two = ['신도림역','대림역','구로디지털단지역','신대방역','신림역','봉천역','서울대입구역','낙성대역','사당역']"
   ]
  },
  {
   "cell_type": "code",
   "execution_count": 314,
   "id": "59b0f798",
   "metadata": {},
   "outputs": [],
   "source": [
    "lines_location = []\n",
    "for i in line_number_two:\n",
    "    lines_location.append(df_pre_com[df_pre_com['on_area_name'] == i].iloc[0][['on_lat', 'on_lon']].to_list()) "
   ]
  },
  {
   "cell_type": "code",
   "execution_count": 315,
   "id": "303391d2",
   "metadata": {},
   "outputs": [
    {
     "data": {
      "text/plain": [
       "[[37.50844, 126.891508],\n",
       " [37.493301, 126.894954],\n",
       " [37.483152, 126.901558],\n",
       " [37.48755900000001, 126.913306],\n",
       " [37.484247, 126.929731],\n",
       " [37.48245900000001, 126.941693],\n",
       " [37.48125, 126.952685],\n",
       " [37.477071, 126.963508],\n",
       " [37.476556, 126.981578]]"
      ]
     },
     "execution_count": 315,
     "metadata": {},
     "output_type": "execute_result"
    }
   ],
   "source": [
    "lines_location"
   ]
  },
  {
   "cell_type": "code",
   "execution_count": 316,
   "id": "aa3a1f00",
   "metadata": {},
   "outputs": [],
   "source": [
    "line_number_two_hell = ['신림역','봉천역','서울대입구역','낙성대역']"
   ]
  },
  {
   "cell_type": "code",
   "execution_count": 317,
   "id": "0e4b2081",
   "metadata": {},
   "outputs": [],
   "source": [
    "lines_hell_location = []\n",
    "for i in line_number_two_hell:\n",
    "    lines_hell_location.append(df_pre_com[df_pre_com['on_area_name'] == i].iloc[0][['on_lat', 'on_lon']].to_list()) "
   ]
  },
  {
   "cell_type": "code",
   "execution_count": 318,
   "id": "ab18eb5d",
   "metadata": {},
   "outputs": [
    {
     "data": {
      "text/plain": [
       "[[37.484247, 126.929731],\n",
       " [37.48245900000001, 126.941693],\n",
       " [37.48125, 126.952685],\n",
       " [37.477071, 126.963508]]"
      ]
     },
     "execution_count": 318,
     "metadata": {},
     "output_type": "execute_result"
    }
   ],
   "source": [
    "lines_hell_location"
   ]
  },
  {
   "cell_type": "code",
   "execution_count": 319,
   "id": "772c883b",
   "metadata": {},
   "outputs": [
    {
     "data": {
      "application/vnd.jupyter.widget-view+json": {
       "model_id": "2111d77452f4442babf29be9262494a0",
       "version_major": 2,
       "version_minor": 0
      },
      "text/plain": [
       "0it [00:00, ?it/s]"
      ]
     },
     "metadata": {},
     "output_type": "display_data"
    },
    {
     "data": {
      "text/html": [
       "<div style=\"width:100%;\"><div style=\"position:relative;width:100%;height:0;padding-bottom:60%;\"><span style=\"color:#565656\">Make this Notebook Trusted to load map: File -> Trust Notebook</span><iframe src=\"about:blank\" style=\"position:absolute;width:100%;height:100%;left:0;top:0;border:none !important;\" data-html=%3C%21DOCTYPE%20html%3E%0A%3Chead%3E%20%20%20%20%0A%20%20%20%20%3Cmeta%20http-equiv%3D%22content-type%22%20content%3D%22text/html%3B%20charset%3DUTF-8%22%20/%3E%0A%20%20%20%20%0A%20%20%20%20%20%20%20%20%3Cscript%3E%0A%20%20%20%20%20%20%20%20%20%20%20%20L_NO_TOUCH%20%3D%20false%3B%0A%20%20%20%20%20%20%20%20%20%20%20%20L_DISABLE_3D%20%3D%20false%3B%0A%20%20%20%20%20%20%20%20%3C/script%3E%0A%20%20%20%20%0A%20%20%20%20%3Cstyle%3Ehtml%2C%20body%20%7Bwidth%3A%20100%25%3Bheight%3A%20100%25%3Bmargin%3A%200%3Bpadding%3A%200%3B%7D%3C/style%3E%0A%20%20%20%20%3Cstyle%3E%23map%20%7Bposition%3Aabsolute%3Btop%3A0%3Bbottom%3A0%3Bright%3A0%3Bleft%3A0%3B%7D%3C/style%3E%0A%20%20%20%20%3Cscript%20src%3D%22https%3A//cdn.jsdelivr.net/npm/leaflet%401.6.0/dist/leaflet.js%22%3E%3C/script%3E%0A%20%20%20%20%3Cscript%20src%3D%22https%3A//code.jquery.com/jquery-1.12.4.min.js%22%3E%3C/script%3E%0A%20%20%20%20%3Cscript%20src%3D%22https%3A//maxcdn.bootstrapcdn.com/bootstrap/3.2.0/js/bootstrap.min.js%22%3E%3C/script%3E%0A%20%20%20%20%3Cscript%20src%3D%22https%3A//cdnjs.cloudflare.com/ajax/libs/Leaflet.awesome-markers/2.0.2/leaflet.awesome-markers.js%22%3E%3C/script%3E%0A%20%20%20%20%3Clink%20rel%3D%22stylesheet%22%20href%3D%22https%3A//cdn.jsdelivr.net/npm/leaflet%401.6.0/dist/leaflet.css%22/%3E%0A%20%20%20%20%3Clink%20rel%3D%22stylesheet%22%20href%3D%22https%3A//maxcdn.bootstrapcdn.com/bootstrap/3.2.0/css/bootstrap.min.css%22/%3E%0A%20%20%20%20%3Clink%20rel%3D%22stylesheet%22%20href%3D%22https%3A//maxcdn.bootstrapcdn.com/bootstrap/3.2.0/css/bootstrap-theme.min.css%22/%3E%0A%20%20%20%20%3Clink%20rel%3D%22stylesheet%22%20href%3D%22https%3A//maxcdn.bootstrapcdn.com/font-awesome/4.6.3/css/font-awesome.min.css%22/%3E%0A%20%20%20%20%3Clink%20rel%3D%22stylesheet%22%20href%3D%22https%3A//cdnjs.cloudflare.com/ajax/libs/Leaflet.awesome-markers/2.0.2/leaflet.awesome-markers.css%22/%3E%0A%20%20%20%20%3Clink%20rel%3D%22stylesheet%22%20href%3D%22https%3A//cdn.jsdelivr.net/gh/python-visualization/folium/folium/templates/leaflet.awesome.rotate.min.css%22/%3E%0A%20%20%20%20%0A%20%20%20%20%20%20%20%20%20%20%20%20%3Cmeta%20name%3D%22viewport%22%20content%3D%22width%3Ddevice-width%2C%0A%20%20%20%20%20%20%20%20%20%20%20%20%20%20%20%20initial-scale%3D1.0%2C%20maximum-scale%3D1.0%2C%20user-scalable%3Dno%22%20/%3E%0A%20%20%20%20%20%20%20%20%20%20%20%20%3Cstyle%3E%0A%20%20%20%20%20%20%20%20%20%20%20%20%20%20%20%20%23map_8776018f6848422ba7e5c152a9632d01%20%7B%0A%20%20%20%20%20%20%20%20%20%20%20%20%20%20%20%20%20%20%20%20position%3A%20relative%3B%0A%20%20%20%20%20%20%20%20%20%20%20%20%20%20%20%20%20%20%20%20width%3A%201500.0px%3B%0A%20%20%20%20%20%20%20%20%20%20%20%20%20%20%20%20%20%20%20%20height%3A%201000.0px%3B%0A%20%20%20%20%20%20%20%20%20%20%20%20%20%20%20%20%20%20%20%20left%3A%200.0%25%3B%0A%20%20%20%20%20%20%20%20%20%20%20%20%20%20%20%20%20%20%20%20top%3A%200.0%25%3B%0A%20%20%20%20%20%20%20%20%20%20%20%20%20%20%20%20%7D%0A%20%20%20%20%20%20%20%20%20%20%20%20%3C/style%3E%0A%20%20%20%20%20%20%20%20%0A%3C/head%3E%0A%3Cbody%3E%20%20%20%20%0A%20%20%20%20%0A%20%20%20%20%20%20%20%20%20%20%20%20%3Cdiv%20class%3D%22folium-map%22%20id%3D%22map_8776018f6848422ba7e5c152a9632d01%22%20%3E%3C/div%3E%0A%20%20%20%20%20%20%20%20%0A%3C/body%3E%0A%3Cscript%3E%20%20%20%20%0A%20%20%20%20%0A%20%20%20%20%20%20%20%20%20%20%20%20var%20map_8776018f6848422ba7e5c152a9632d01%20%3D%20L.map%28%0A%20%20%20%20%20%20%20%20%20%20%20%20%20%20%20%20%22map_8776018f6848422ba7e5c152a9632d01%22%2C%0A%20%20%20%20%20%20%20%20%20%20%20%20%20%20%20%20%7B%0A%20%20%20%20%20%20%20%20%20%20%20%20%20%20%20%20%20%20%20%20center%3A%20%5B37.5560526%2C%20126.9667922%5D%2C%0A%20%20%20%20%20%20%20%20%20%20%20%20%20%20%20%20%20%20%20%20crs%3A%20L.CRS.EPSG3857%2C%0A%20%20%20%20%20%20%20%20%20%20%20%20%20%20%20%20%20%20%20%20zoom%3A%2010%2C%0A%20%20%20%20%20%20%20%20%20%20%20%20%20%20%20%20%20%20%20%20zoomControl%3A%20true%2C%0A%20%20%20%20%20%20%20%20%20%20%20%20%20%20%20%20%20%20%20%20preferCanvas%3A%20false%2C%0A%20%20%20%20%20%20%20%20%20%20%20%20%20%20%20%20%7D%0A%20%20%20%20%20%20%20%20%20%20%20%20%29%3B%0A%0A%20%20%20%20%20%20%20%20%20%20%20%20%0A%0A%20%20%20%20%20%20%20%20%0A%20%20%20%20%0A%20%20%20%20%20%20%20%20%20%20%20%20var%20tile_layer_6d7af68715044417b25316f5f616f6ff%20%3D%20L.tileLayer%28%0A%20%20%20%20%20%20%20%20%20%20%20%20%20%20%20%20%22https%3A//%7Bs%7D.tile.openstreetmap.org/%7Bz%7D/%7Bx%7D/%7By%7D.png%22%2C%0A%20%20%20%20%20%20%20%20%20%20%20%20%20%20%20%20%7B%22attribution%22%3A%20%22Data%20by%20%5Cu0026copy%3B%20%5Cu003ca%20href%3D%5C%22http%3A//openstreetmap.org%5C%22%5Cu003eOpenStreetMap%5Cu003c/a%5Cu003e%2C%20under%20%5Cu003ca%20href%3D%5C%22http%3A//www.openstreetmap.org/copyright%5C%22%5Cu003eODbL%5Cu003c/a%5Cu003e.%22%2C%20%22detectRetina%22%3A%20false%2C%20%22maxNativeZoom%22%3A%2018%2C%20%22maxZoom%22%3A%2018%2C%20%22minZoom%22%3A%200%2C%20%22noWrap%22%3A%20false%2C%20%22opacity%22%3A%201%2C%20%22subdomains%22%3A%20%22abc%22%2C%20%22tms%22%3A%20false%7D%0A%20%20%20%20%20%20%20%20%20%20%20%20%29.addTo%28map_8776018f6848422ba7e5c152a9632d01%29%3B%0A%20%20%20%20%20%20%20%20%0A%20%20%20%20%0A%20%20%20%20%20%20%20%20%20%20%20%20var%20marker_d39fa022eece460cb0acae3e4bbaa016%20%3D%20L.marker%28%0A%20%20%20%20%20%20%20%20%20%20%20%20%20%20%20%20%5B37.476556%2C%20126.981578%5D%2C%0A%20%20%20%20%20%20%20%20%20%20%20%20%20%20%20%20%7B%22radius%22%3A%201%7D%0A%20%20%20%20%20%20%20%20%20%20%20%20%29.addTo%28map_8776018f6848422ba7e5c152a9632d01%29%3B%0A%20%20%20%20%20%20%20%20%0A%20%20%20%20%0A%20%20%20%20%20%20%20%20%20%20%20%20var%20marker_4e416ea931d64ec2aebfb51912ae35f6%20%3D%20L.marker%28%0A%20%20%20%20%20%20%20%20%20%20%20%20%20%20%20%20%5B37.484247%2C%20126.929731%5D%2C%0A%20%20%20%20%20%20%20%20%20%20%20%20%20%20%20%20%7B%22radius%22%3A%201%7D%0A%20%20%20%20%20%20%20%20%20%20%20%20%29.addTo%28map_8776018f6848422ba7e5c152a9632d01%29%3B%0A%20%20%20%20%20%20%20%20%0A%20%20%20%20%0A%20%20%20%20%20%20%20%20%20%20%20%20var%20marker_665ac3c877794922b698d94ea0f11324%20%3D%20L.marker%28%0A%20%20%20%20%20%20%20%20%20%20%20%20%20%20%20%20%5B37.513275%2C%20127.100164%5D%2C%0A%20%20%20%20%20%20%20%20%20%20%20%20%20%20%20%20%7B%22radius%22%3A%201%7D%0A%20%20%20%20%20%20%20%20%20%20%20%20%29.addTo%28map_8776018f6848422ba7e5c152a9632d01%29%3B%0A%20%20%20%20%20%20%20%20%0A%20%20%20%20%0A%20%20%20%20%20%20%20%20%20%20%20%20var%20marker_676bbc07bc00414c8e3a16aa2d487103%20%3D%20L.marker%28%0A%20%20%20%20%20%20%20%20%20%20%20%20%20%20%20%20%5B37.535127%2C%20127.094714%5D%2C%0A%20%20%20%20%20%20%20%20%20%20%20%20%20%20%20%20%7B%22radius%22%3A%201%7D%0A%20%20%20%20%20%20%20%20%20%20%20%20%29.addTo%28map_8776018f6848422ba7e5c152a9632d01%29%3B%0A%20%20%20%20%20%20%20%20%0A%20%20%20%20%0A%20%20%20%20%20%20%20%20%20%20%20%20var%20marker_581103f437b246029927dae89328daea%20%3D%20L.marker%28%0A%20%20%20%20%20%20%20%20%20%20%20%20%20%20%20%20%5B37.541629%2C%20126.840422%5D%2C%0A%20%20%20%20%20%20%20%20%20%20%20%20%20%20%20%20%7B%22radius%22%3A%201%7D%0A%20%20%20%20%20%20%20%20%20%20%20%20%29.addTo%28map_8776018f6848422ba7e5c152a9632d01%29%3B%0A%20%20%20%20%20%20%20%20%0A%20%20%20%20%0A%20%20%20%20%20%20%20%20%20%20%20%20var%20marker_90cd9f201e1f495f9cbdce61d78f74dd%20%3D%20L.marker%28%0A%20%20%20%20%20%20%20%20%20%20%20%20%20%20%20%20%5B37.48125%2C%20126.952685%5D%2C%0A%20%20%20%20%20%20%20%20%20%20%20%20%20%20%20%20%7B%22radius%22%3A%201%7D%0A%20%20%20%20%20%20%20%20%20%20%20%20%29.addTo%28map_8776018f6848422ba7e5c152a9632d01%29%3B%0A%20%20%20%20%20%20%20%20%0A%20%20%20%20%0A%20%20%20%20%20%20%20%20%20%20%20%20var%20marker_2786e246d14448dea07687cf3e46c12a%20%3D%20L.marker%28%0A%20%20%20%20%20%20%20%20%20%20%20%20%20%20%20%20%5B37.532211%2C%20126.846421%5D%2C%0A%20%20%20%20%20%20%20%20%20%20%20%20%20%20%20%20%7B%22radius%22%3A%201%7D%0A%20%20%20%20%20%20%20%20%20%20%20%20%29.addTo%28map_8776018f6848422ba7e5c152a9632d01%29%3B%0A%20%20%20%20%20%20%20%20%0A%20%20%20%20%0A%20%20%20%20%20%20%20%20%20%20%20%20var%20marker_35d0ca44be83456c9c963e52b33f678d%20%3D%20L.marker%28%0A%20%20%20%20%20%20%20%20%20%20%20%20%20%20%20%20%5B37.619418%2C%20126.920904%5D%2C%0A%20%20%20%20%20%20%20%20%20%20%20%20%20%20%20%20%7B%22radius%22%3A%201%7D%0A%20%20%20%20%20%20%20%20%20%20%20%20%29.addTo%28map_8776018f6848422ba7e5c152a9632d01%29%3B%0A%20%20%20%20%20%20%20%20%0A%20%20%20%20%0A%20%20%20%20%20%20%20%20%20%20%20%20var%20marker_7c5f2cd5d538459e85c4264b2f48f7a4%20%3D%20L.marker%28%0A%20%20%20%20%20%20%20%20%20%20%20%20%20%20%20%20%5B37.477071%2C%20126.963508%5D%2C%0A%20%20%20%20%20%20%20%20%20%20%20%20%20%20%20%20%7B%22radius%22%3A%201%7D%0A%20%20%20%20%20%20%20%20%20%20%20%20%29.addTo%28map_8776018f6848422ba7e5c152a9632d01%29%3B%0A%20%20%20%20%20%20%20%20%0A%20%20%20%20%0A%20%20%20%20%20%20%20%20%20%20%20%20var%20marker_542c6b8b50ef415094adf16b4e87fcce%20%3D%20L.marker%28%0A%20%20%20%20%20%20%20%20%20%20%20%20%20%20%20%20%5B37.479277%2C%20126.85486000000002%5D%2C%0A%20%20%20%20%20%20%20%20%20%20%20%20%20%20%20%20%7B%22radius%22%3A%201%7D%0A%20%20%20%20%20%20%20%20%20%20%20%20%29.addTo%28map_8776018f6848422ba7e5c152a9632d01%29%3B%0A%20%20%20%20%20%20%20%20%0A%20%20%20%20%0A%20%20%20%20%20%20%20%20%20%20%20%20var%20marker_dfa91808b5fd4bbd8178019090202fd2%20%3D%20L.marker%28%0A%20%20%20%20%20%20%20%20%20%20%20%20%20%20%20%20%5B37.647535%2C%20127.034272%5D%2C%0A%20%20%20%20%20%20%20%20%20%20%20%20%20%20%20%20%7B%22radius%22%3A%201%7D%0A%20%20%20%20%20%20%20%20%20%20%20%20%29.addTo%28map_8776018f6848422ba7e5c152a9632d01%29%3B%0A%20%20%20%20%20%20%20%20%0A%20%20%20%20%0A%20%20%20%20%20%20%20%20%20%20%20%20var%20marker_6d24b7a8517640fb8a56d39a48ff2b3d%20%3D%20L.marker%28%0A%20%20%20%20%20%20%20%20%20%20%20%20%20%20%20%20%5B37.483152%2C%20126.901558%5D%2C%0A%20%20%20%20%20%20%20%20%20%20%20%20%20%20%20%20%7B%22radius%22%3A%201%7D%0A%20%20%20%20%20%20%20%20%20%20%20%20%29.addTo%28map_8776018f6848422ba7e5c152a9632d01%29%3B%0A%20%20%20%20%20%20%20%20%0A%20%20%20%20%0A%20%20%20%20%20%20%20%20%20%20%20%20var%20marker_fb912de30d664f24a158e4423f3dfe96%20%3D%20L.marker%28%0A%20%20%20%20%20%20%20%20%20%20%20%20%20%20%20%20%5B37.50844%2C%20126.891508%5D%2C%0A%20%20%20%20%20%20%20%20%20%20%20%20%20%20%20%20%7B%22radius%22%3A%201%7D%0A%20%20%20%20%20%20%20%20%20%20%20%20%29.addTo%28map_8776018f6848422ba7e5c152a9632d01%29%3B%0A%20%20%20%20%20%20%20%20%0A%20%20%20%20%0A%20%20%20%20%20%20%20%20%20%20%20%20var%20marker_91ae4275b67a4e5f81eb0c50804cae57%20%3D%20L.marker%28%0A%20%20%20%20%20%20%20%20%20%20%20%20%20%20%20%20%5B37.534781%2C%20126.902618%5D%2C%0A%20%20%20%20%20%20%20%20%20%20%20%20%20%20%20%20%7B%22radius%22%3A%201%7D%0A%20%20%20%20%20%20%20%20%20%20%20%20%29.addTo%28map_8776018f6848422ba7e5c152a9632d01%29%3B%0A%20%20%20%20%20%20%20%20%0A%20%20%20%20%0A%20%20%20%20%20%20%20%20%20%20%20%20var%20marker_daa8199c03374069965550e93cff69c2%20%3D%20L.marker%28%0A%20%20%20%20%20%20%20%20%20%20%20%20%20%20%20%20%5B37.476179%2C%20126.86823%5D%2C%0A%20%20%20%20%20%20%20%20%20%20%20%20%20%20%20%20%7B%22radius%22%3A%201%7D%0A%20%20%20%20%20%20%20%20%20%20%20%20%29.addTo%28map_8776018f6848422ba7e5c152a9632d01%29%3B%0A%20%20%20%20%20%20%20%20%0A%20%20%20%20%0A%20%20%20%20%20%20%20%20%20%20%20%20var%20marker_c7e74df732fd4df6a2334f80641e0a67%20%3D%20L.marker%28%0A%20%20%20%20%20%20%20%20%20%20%20%20%20%20%20%20%5B37.556989%2C%20127.07991%5D%2C%0A%20%20%20%20%20%20%20%20%20%20%20%20%20%20%20%20%7B%22radius%22%3A%201%7D%0A%20%20%20%20%20%20%20%20%20%20%20%20%29.addTo%28map_8776018f6848422ba7e5c152a9632d01%29%3B%0A%20%20%20%20%20%20%20%20%0A%20%20%20%20%0A%20%20%20%20%20%20%20%20%20%20%20%20var%20marker_0576dc45c24241f88034e9b7398eef48%20%3D%20L.marker%28%0A%20%20%20%20%20%20%20%20%20%20%20%20%20%20%20%20%5B37.53838%2C%20127.124181%5D%2C%0A%20%20%20%20%20%20%20%20%20%20%20%20%20%20%20%20%7B%22radius%22%3A%201%7D%0A%20%20%20%20%20%20%20%20%20%20%20%20%29.addTo%28map_8776018f6848422ba7e5c152a9632d01%29%3B%0A%20%20%20%20%20%20%20%20%0A%20%20%20%20%0A%20%20%20%20%20%20%20%20%20%20%20%20var%20marker_17d8c3ca7b954875ab0e4c8a126124eb%20%3D%20L.marker%28%0A%20%20%20%20%20%20%20%20%20%20%20%20%20%20%20%20%5B37.493301%2C%20126.894954%5D%2C%0A%20%20%20%20%20%20%20%20%20%20%20%20%20%20%20%20%7B%22radius%22%3A%201%7D%0A%20%20%20%20%20%20%20%20%20%20%20%20%29.addTo%28map_8776018f6848422ba7e5c152a9632d01%29%3B%0A%20%20%20%20%20%20%20%20%0A%20%20%20%20%0A%20%20%20%20%20%20%20%20%20%20%20%20var%20marker_9eb65f39ba8c4f65af7d97e89f752c9f%20%3D%20L.marker%28%0A%20%20%20%20%20%20%20%20%20%20%20%20%20%20%20%20%5B37.540892%2C%20127.071082%5D%2C%0A%20%20%20%20%20%20%20%20%20%20%20%20%20%20%20%20%7B%22radius%22%3A%201%7D%0A%20%20%20%20%20%20%20%20%20%20%20%20%29.addTo%28map_8776018f6848422ba7e5c152a9632d01%29%3B%0A%20%20%20%20%20%20%20%20%0A%20%20%20%20%0A%20%20%20%20%20%20%20%20%20%20%20%20var%20marker_0fceca166a6f496b907e39027007a2a9%20%3D%20L.marker%28%0A%20%20%20%20%20%20%20%20%20%20%20%20%20%20%20%20%5B37.637873%2C%20127.025505%5D%2C%0A%20%20%20%20%20%20%20%20%20%20%20%20%20%20%20%20%7B%22radius%22%3A%201%7D%0A%20%20%20%20%20%20%20%20%20%20%20%20%29.addTo%28map_8776018f6848422ba7e5c152a9632d01%29%3B%0A%20%20%20%20%20%20%20%20%0A%20%20%20%20%0A%20%20%20%20%20%20%20%20%20%20%20%20var%20poly_line_4e6bebee2ddd45f895a1bf39b00552f4%20%3D%20L.polyline%28%0A%20%20%20%20%20%20%20%20%20%20%20%20%20%20%20%20%5B%5B37.50844%2C%20126.891508%5D%2C%20%5B37.493301%2C%20126.894954%5D%2C%20%5B37.483152%2C%20126.901558%5D%2C%20%5B37.48755900000001%2C%20126.913306%5D%2C%20%5B37.484247%2C%20126.929731%5D%2C%20%5B37.48245900000001%2C%20126.941693%5D%2C%20%5B37.48125%2C%20126.952685%5D%2C%20%5B37.477071%2C%20126.963508%5D%2C%20%5B37.476556%2C%20126.981578%5D%5D%2C%0A%20%20%20%20%20%20%20%20%20%20%20%20%20%20%20%20%7B%22bubblingMouseEvents%22%3A%20true%2C%20%22color%22%3A%20%22%233388ff%22%2C%20%22dashArray%22%3A%20null%2C%20%22dashOffset%22%3A%20null%2C%20%22fill%22%3A%20false%2C%20%22fillColor%22%3A%20%22%233388ff%22%2C%20%22fillOpacity%22%3A%200.2%2C%20%22fillRule%22%3A%20%22evenodd%22%2C%20%22lineCap%22%3A%20%22round%22%2C%20%22lineJoin%22%3A%20%22round%22%2C%20%22noClip%22%3A%20false%2C%20%22opacity%22%3A%201.0%2C%20%22smoothFactor%22%3A%201.0%2C%20%22stroke%22%3A%20true%2C%20%22weight%22%3A%203%7D%0A%20%20%20%20%20%20%20%20%20%20%20%20%29.addTo%28map_8776018f6848422ba7e5c152a9632d01%29%3B%0A%20%20%20%20%20%20%20%20%0A%20%20%20%20%0A%20%20%20%20%20%20%20%20%20%20%20%20var%20poly_line_f28bab0cbbac4c288a2bcb792455f807%20%3D%20L.polyline%28%0A%20%20%20%20%20%20%20%20%20%20%20%20%20%20%20%20%5B%5B37.484247%2C%20126.929731%5D%2C%20%5B37.48245900000001%2C%20126.941693%5D%2C%20%5B37.48125%2C%20126.952685%5D%2C%20%5B37.477071%2C%20126.963508%5D%5D%2C%0A%20%20%20%20%20%20%20%20%20%20%20%20%20%20%20%20%7B%22bubblingMouseEvents%22%3A%20true%2C%20%22color%22%3A%20%22%23ba1818%22%2C%20%22dashArray%22%3A%20null%2C%20%22dashOffset%22%3A%20null%2C%20%22fill%22%3A%20false%2C%20%22fillColor%22%3A%20%22%23ba1818%22%2C%20%22fillOpacity%22%3A%200.2%2C%20%22fillRule%22%3A%20%22evenodd%22%2C%20%22lineCap%22%3A%20%22round%22%2C%20%22lineJoin%22%3A%20%22round%22%2C%20%22noClip%22%3A%20false%2C%20%22opacity%22%3A%201.0%2C%20%22smoothFactor%22%3A%201.0%2C%20%22stroke%22%3A%20true%2C%20%22weight%22%3A%203%7D%0A%20%20%20%20%20%20%20%20%20%20%20%20%29.addTo%28map_8776018f6848422ba7e5c152a9632d01%29%3B%0A%20%20%20%20%20%20%20%20%0A%3C/script%3E onload=\"this.contentDocument.open();this.contentDocument.write(    decodeURIComponent(this.getAttribute('data-html')));this.contentDocument.close();\" allowfullscreen webkitallowfullscreen mozallowfullscreen></iframe></div></div>"
      ],
      "text/plain": [
       "<folium.folium.Map at 0x2516bb38220>"
      ]
     },
     "execution_count": 319,
     "metadata": {},
     "output_type": "execute_result"
    }
   ],
   "source": [
    "#Folium 위 2호선 특정 라인에 선 그리기\n",
    "map_f = folium.Map(location = [latitude, longitude],zoom_start = 10, width = 1500, height = 1000)\n",
    "\n",
    "for lat, lon in tqdm(zip(top_station_lat_1, top_station_lon_1)):\n",
    "    folium.Marker([lat, lon], radius = 1).add_to(map_f)\n",
    "    \n",
    "folium.PolyLine(locations = lines_location).add_to(map_f)\n",
    "folium.PolyLine(locations = lines_hell_location, color = '#ba1818').add_to(map_f)\n",
    "map_f"
   ]
  },
  {
   "cell_type": "code",
   "execution_count": 320,
   "id": "3dc85d3f",
   "metadata": {},
   "outputs": [],
   "source": [
    "map_f.save('final_line_two.html')"
   ]
  },
  {
   "cell_type": "code",
   "execution_count": 321,
   "id": "83d5332b",
   "metadata": {},
   "outputs": [],
   "source": [
    "#출근길 상위 20개 하차지역\n",
    "wt_count_off = pd.DataFrame(df_pre_com[(df_pre_com['off_hour'] >= 8) & (df_pre_com['off_hour'] < 10)]['off_area_name'].value_counts().reset_index())\n",
    "wt_count_off.columns = ['station', 'count']\n",
    "wt_count_off20 = wt_count_off.sort_values(by = 'count', ascending = False).head(20)"
   ]
  },
  {
   "cell_type": "code",
   "execution_count": 322,
   "id": "4f28f4cd",
   "metadata": {},
   "outputs": [
    {
     "data": {
      "text/html": [
       "<div>\n",
       "<style scoped>\n",
       "    .dataframe tbody tr th:only-of-type {\n",
       "        vertical-align: middle;\n",
       "    }\n",
       "\n",
       "    .dataframe tbody tr th {\n",
       "        vertical-align: top;\n",
       "    }\n",
       "\n",
       "    .dataframe thead th {\n",
       "        text-align: right;\n",
       "    }\n",
       "</style>\n",
       "<table border=\"1\" class=\"dataframe\">\n",
       "  <thead>\n",
       "    <tr style=\"text-align: right;\">\n",
       "      <th></th>\n",
       "      <th>station</th>\n",
       "      <th>count</th>\n",
       "    </tr>\n",
       "  </thead>\n",
       "  <tbody>\n",
       "    <tr>\n",
       "      <th>0</th>\n",
       "      <td>강남역</td>\n",
       "      <td>22282</td>\n",
       "    </tr>\n",
       "    <tr>\n",
       "      <th>1</th>\n",
       "      <td>역삼역</td>\n",
       "      <td>20406</td>\n",
       "    </tr>\n",
       "    <tr>\n",
       "      <th>2</th>\n",
       "      <td>가산디지털단지역</td>\n",
       "      <td>18526</td>\n",
       "    </tr>\n",
       "    <tr>\n",
       "      <th>3</th>\n",
       "      <td>삼성역</td>\n",
       "      <td>18208</td>\n",
       "    </tr>\n",
       "    <tr>\n",
       "      <th>4</th>\n",
       "      <td>을지로입구역</td>\n",
       "      <td>17096</td>\n",
       "    </tr>\n",
       "  </tbody>\n",
       "</table>\n",
       "</div>"
      ],
      "text/plain": [
       "    station  count\n",
       "0       강남역  22282\n",
       "1       역삼역  20406\n",
       "2  가산디지털단지역  18526\n",
       "3       삼성역  18208\n",
       "4    을지로입구역  17096"
      ]
     },
     "execution_count": 322,
     "metadata": {},
     "output_type": "execute_result"
    }
   ],
   "source": [
    "wt_count_off.head()"
   ]
  },
  {
   "cell_type": "code",
   "execution_count": 323,
   "id": "65b2ac17",
   "metadata": {},
   "outputs": [
    {
     "data": {
      "text/html": [
       "<div>\n",
       "<style scoped>\n",
       "    .dataframe tbody tr th:only-of-type {\n",
       "        vertical-align: middle;\n",
       "    }\n",
       "\n",
       "    .dataframe tbody tr th {\n",
       "        vertical-align: top;\n",
       "    }\n",
       "\n",
       "    .dataframe thead th {\n",
       "        text-align: right;\n",
       "    }\n",
       "</style>\n",
       "<table border=\"1\" class=\"dataframe\">\n",
       "  <thead>\n",
       "    <tr style=\"text-align: right;\">\n",
       "      <th></th>\n",
       "      <th>station</th>\n",
       "      <th>count</th>\n",
       "    </tr>\n",
       "  </thead>\n",
       "  <tbody>\n",
       "    <tr>\n",
       "      <th>0</th>\n",
       "      <td>강남역</td>\n",
       "      <td>22282</td>\n",
       "    </tr>\n",
       "    <tr>\n",
       "      <th>1</th>\n",
       "      <td>역삼역</td>\n",
       "      <td>20406</td>\n",
       "    </tr>\n",
       "    <tr>\n",
       "      <th>2</th>\n",
       "      <td>가산디지털단지역</td>\n",
       "      <td>18526</td>\n",
       "    </tr>\n",
       "    <tr>\n",
       "      <th>3</th>\n",
       "      <td>삼성역</td>\n",
       "      <td>18208</td>\n",
       "    </tr>\n",
       "    <tr>\n",
       "      <th>4</th>\n",
       "      <td>을지로입구역</td>\n",
       "      <td>17096</td>\n",
       "    </tr>\n",
       "  </tbody>\n",
       "</table>\n",
       "</div>"
      ],
      "text/plain": [
       "    station  count\n",
       "0       강남역  22282\n",
       "1       역삼역  20406\n",
       "2  가산디지털단지역  18526\n",
       "3       삼성역  18208\n",
       "4    을지로입구역  17096"
      ]
     },
     "execution_count": 323,
     "metadata": {},
     "output_type": "execute_result"
    }
   ],
   "source": [
    "wt_count_off20.head()"
   ]
  },
  {
   "cell_type": "code",
   "execution_count": 324,
   "id": "28ed0f04",
   "metadata": {},
   "outputs": [
    {
     "name": "stdout",
     "output_type": "stream",
     "text": [
      "['강남역', '역삼역', '가산디지털단지역', '삼성역', '을지로입구역']\n",
      "20\n"
     ]
    }
   ],
   "source": [
    "top_station_2 = list(wt_count_off20['station'])\n",
    "print(top_station_2[:5])\n",
    "print(len(top_station_2))"
   ]
  },
  {
   "cell_type": "code",
   "execution_count": 325,
   "id": "600ef019",
   "metadata": {},
   "outputs": [
    {
     "data": {
      "application/vnd.jupyter.widget-view+json": {
       "model_id": "7da4ad714fbd438a9c68c6526b0e30cf",
       "version_major": 2,
       "version_minor": 0
      },
      "text/plain": [
       "  0%|          | 0/20 [00:00<?, ?it/s]"
      ]
     },
     "metadata": {},
     "output_type": "display_data"
    },
    {
     "data": {
      "application/vnd.jupyter.widget-view+json": {
       "model_id": "4e2966cf457f40ee84651f7b44bfbd04",
       "version_major": 2,
       "version_minor": 0
      },
      "text/plain": [
       "  0%|          | 0/20 [00:00<?, ?it/s]"
      ]
     },
     "metadata": {},
     "output_type": "display_data"
    }
   ],
   "source": [
    "top_station_lat_2 = [df_pre_com[df_pre_com['off_area_name'] == top_station_2[i]]['off_lat'].iloc[0] for i in tqdm(range(len(top_station_2)))]\n",
    "top_station_lon_2 = [df_pre_com[df_pre_com['off_area_name'] == top_station_2[i]]['off_lon'].iloc[0] for i in tqdm(range(len(top_station_2)))]"
   ]
  },
  {
   "cell_type": "code",
   "execution_count": 326,
   "id": "b261aefb",
   "metadata": {},
   "outputs": [],
   "source": [
    "line_number_two_off = ['교대역','강남역','역삼역','선릉역','삼성역']"
   ]
  },
  {
   "cell_type": "code",
   "execution_count": 327,
   "id": "48119f59",
   "metadata": {},
   "outputs": [],
   "source": [
    "lines_location_off20 = []\n",
    "for i in line_number_two_off:\n",
    "    lines_location_off20.append(df_pre_com[df_pre_com['off_area_name'] == i].iloc[0][['off_lat', 'off_lon']].to_list()) "
   ]
  },
  {
   "cell_type": "code",
   "execution_count": 328,
   "id": "10c14696",
   "metadata": {},
   "outputs": [
    {
     "data": {
      "text/plain": [
       "300       37.49294\n",
       "348       37.49294\n",
       "1097      37.49397\n",
       "1103      37.49397\n",
       "1174      37.49397\n",
       "            ...   \n",
       "8205303   37.49397\n",
       "8205353   37.49294\n",
       "8205554   37.49397\n",
       "8205867   37.49397\n",
       "8205975   37.49294\n",
       "Name: off_lat, Length: 46758, dtype: float64"
      ]
     },
     "execution_count": 328,
     "metadata": {},
     "output_type": "execute_result"
    }
   ],
   "source": [
    "df_pre_com[df_pre_com['off_area_name'] == '교대역']['off_lat']"
   ]
  },
  {
   "cell_type": "code",
   "execution_count": 329,
   "id": "4af82620",
   "metadata": {},
   "outputs": [
    {
     "data": {
      "text/plain": [
       "[[37.492938, 127.01382],\n",
       " [37.498153, 127.028358],\n",
       " [37.500672, 127.036468],\n",
       " [37.50437, 127.048481],\n",
       " [37.508844, 127.062999]]"
      ]
     },
     "execution_count": 329,
     "metadata": {},
     "output_type": "execute_result"
    }
   ],
   "source": [
    "lines_location_off20"
   ]
  },
  {
   "cell_type": "code",
   "execution_count": 330,
   "id": "b476207f",
   "metadata": {},
   "outputs": [
    {
     "data": {
      "application/vnd.jupyter.widget-view+json": {
       "model_id": "0a7d06adc00844ac85e73542b649d363",
       "version_major": 2,
       "version_minor": 0
      },
      "text/plain": [
       "0it [00:00, ?it/s]"
      ]
     },
     "metadata": {},
     "output_type": "display_data"
    },
    {
     "data": {
      "text/html": [
       "<div style=\"width:100%;\"><div style=\"position:relative;width:100%;height:0;padding-bottom:60%;\"><span style=\"color:#565656\">Make this Notebook Trusted to load map: File -> Trust Notebook</span><iframe src=\"about:blank\" style=\"position:absolute;width:100%;height:100%;left:0;top:0;border:none !important;\" data-html=%3C%21DOCTYPE%20html%3E%0A%3Chead%3E%20%20%20%20%0A%20%20%20%20%3Cmeta%20http-equiv%3D%22content-type%22%20content%3D%22text/html%3B%20charset%3DUTF-8%22%20/%3E%0A%20%20%20%20%0A%20%20%20%20%20%20%20%20%3Cscript%3E%0A%20%20%20%20%20%20%20%20%20%20%20%20L_NO_TOUCH%20%3D%20false%3B%0A%20%20%20%20%20%20%20%20%20%20%20%20L_DISABLE_3D%20%3D%20false%3B%0A%20%20%20%20%20%20%20%20%3C/script%3E%0A%20%20%20%20%0A%20%20%20%20%3Cstyle%3Ehtml%2C%20body%20%7Bwidth%3A%20100%25%3Bheight%3A%20100%25%3Bmargin%3A%200%3Bpadding%3A%200%3B%7D%3C/style%3E%0A%20%20%20%20%3Cstyle%3E%23map%20%7Bposition%3Aabsolute%3Btop%3A0%3Bbottom%3A0%3Bright%3A0%3Bleft%3A0%3B%7D%3C/style%3E%0A%20%20%20%20%3Cscript%20src%3D%22https%3A//cdn.jsdelivr.net/npm/leaflet%401.6.0/dist/leaflet.js%22%3E%3C/script%3E%0A%20%20%20%20%3Cscript%20src%3D%22https%3A//code.jquery.com/jquery-1.12.4.min.js%22%3E%3C/script%3E%0A%20%20%20%20%3Cscript%20src%3D%22https%3A//maxcdn.bootstrapcdn.com/bootstrap/3.2.0/js/bootstrap.min.js%22%3E%3C/script%3E%0A%20%20%20%20%3Cscript%20src%3D%22https%3A//cdnjs.cloudflare.com/ajax/libs/Leaflet.awesome-markers/2.0.2/leaflet.awesome-markers.js%22%3E%3C/script%3E%0A%20%20%20%20%3Clink%20rel%3D%22stylesheet%22%20href%3D%22https%3A//cdn.jsdelivr.net/npm/leaflet%401.6.0/dist/leaflet.css%22/%3E%0A%20%20%20%20%3Clink%20rel%3D%22stylesheet%22%20href%3D%22https%3A//maxcdn.bootstrapcdn.com/bootstrap/3.2.0/css/bootstrap.min.css%22/%3E%0A%20%20%20%20%3Clink%20rel%3D%22stylesheet%22%20href%3D%22https%3A//maxcdn.bootstrapcdn.com/bootstrap/3.2.0/css/bootstrap-theme.min.css%22/%3E%0A%20%20%20%20%3Clink%20rel%3D%22stylesheet%22%20href%3D%22https%3A//maxcdn.bootstrapcdn.com/font-awesome/4.6.3/css/font-awesome.min.css%22/%3E%0A%20%20%20%20%3Clink%20rel%3D%22stylesheet%22%20href%3D%22https%3A//cdnjs.cloudflare.com/ajax/libs/Leaflet.awesome-markers/2.0.2/leaflet.awesome-markers.css%22/%3E%0A%20%20%20%20%3Clink%20rel%3D%22stylesheet%22%20href%3D%22https%3A//cdn.jsdelivr.net/gh/python-visualization/folium/folium/templates/leaflet.awesome.rotate.min.css%22/%3E%0A%20%20%20%20%0A%20%20%20%20%20%20%20%20%20%20%20%20%3Cmeta%20name%3D%22viewport%22%20content%3D%22width%3Ddevice-width%2C%0A%20%20%20%20%20%20%20%20%20%20%20%20%20%20%20%20initial-scale%3D1.0%2C%20maximum-scale%3D1.0%2C%20user-scalable%3Dno%22%20/%3E%0A%20%20%20%20%20%20%20%20%20%20%20%20%3Cstyle%3E%0A%20%20%20%20%20%20%20%20%20%20%20%20%20%20%20%20%23map_b51162ae1cbd4db8b51a4c23770dc8ca%20%7B%0A%20%20%20%20%20%20%20%20%20%20%20%20%20%20%20%20%20%20%20%20position%3A%20relative%3B%0A%20%20%20%20%20%20%20%20%20%20%20%20%20%20%20%20%20%20%20%20width%3A%201500.0px%3B%0A%20%20%20%20%20%20%20%20%20%20%20%20%20%20%20%20%20%20%20%20height%3A%201000.0px%3B%0A%20%20%20%20%20%20%20%20%20%20%20%20%20%20%20%20%20%20%20%20left%3A%200.0%25%3B%0A%20%20%20%20%20%20%20%20%20%20%20%20%20%20%20%20%20%20%20%20top%3A%200.0%25%3B%0A%20%20%20%20%20%20%20%20%20%20%20%20%20%20%20%20%7D%0A%20%20%20%20%20%20%20%20%20%20%20%20%3C/style%3E%0A%20%20%20%20%20%20%20%20%0A%3C/head%3E%0A%3Cbody%3E%20%20%20%20%0A%20%20%20%20%0A%20%20%20%20%20%20%20%20%20%20%20%20%3Cdiv%20class%3D%22folium-map%22%20id%3D%22map_b51162ae1cbd4db8b51a4c23770dc8ca%22%20%3E%3C/div%3E%0A%20%20%20%20%20%20%20%20%0A%3C/body%3E%0A%3Cscript%3E%20%20%20%20%0A%20%20%20%20%0A%20%20%20%20%20%20%20%20%20%20%20%20var%20map_b51162ae1cbd4db8b51a4c23770dc8ca%20%3D%20L.map%28%0A%20%20%20%20%20%20%20%20%20%20%20%20%20%20%20%20%22map_b51162ae1cbd4db8b51a4c23770dc8ca%22%2C%0A%20%20%20%20%20%20%20%20%20%20%20%20%20%20%20%20%7B%0A%20%20%20%20%20%20%20%20%20%20%20%20%20%20%20%20%20%20%20%20center%3A%20%5B37.5560526%2C%20126.9667922%5D%2C%0A%20%20%20%20%20%20%20%20%20%20%20%20%20%20%20%20%20%20%20%20crs%3A%20L.CRS.EPSG3857%2C%0A%20%20%20%20%20%20%20%20%20%20%20%20%20%20%20%20%20%20%20%20zoom%3A%2010%2C%0A%20%20%20%20%20%20%20%20%20%20%20%20%20%20%20%20%20%20%20%20zoomControl%3A%20true%2C%0A%20%20%20%20%20%20%20%20%20%20%20%20%20%20%20%20%20%20%20%20preferCanvas%3A%20false%2C%0A%20%20%20%20%20%20%20%20%20%20%20%20%20%20%20%20%7D%0A%20%20%20%20%20%20%20%20%20%20%20%20%29%3B%0A%0A%20%20%20%20%20%20%20%20%20%20%20%20%0A%0A%20%20%20%20%20%20%20%20%0A%20%20%20%20%0A%20%20%20%20%20%20%20%20%20%20%20%20var%20tile_layer_f1bf08f3387047d393b84af385b8e365%20%3D%20L.tileLayer%28%0A%20%20%20%20%20%20%20%20%20%20%20%20%20%20%20%20%22https%3A//%7Bs%7D.tile.openstreetmap.org/%7Bz%7D/%7Bx%7D/%7By%7D.png%22%2C%0A%20%20%20%20%20%20%20%20%20%20%20%20%20%20%20%20%7B%22attribution%22%3A%20%22Data%20by%20%5Cu0026copy%3B%20%5Cu003ca%20href%3D%5C%22http%3A//openstreetmap.org%5C%22%5Cu003eOpenStreetMap%5Cu003c/a%5Cu003e%2C%20under%20%5Cu003ca%20href%3D%5C%22http%3A//www.openstreetmap.org/copyright%5C%22%5Cu003eODbL%5Cu003c/a%5Cu003e.%22%2C%20%22detectRetina%22%3A%20false%2C%20%22maxNativeZoom%22%3A%2018%2C%20%22maxZoom%22%3A%2018%2C%20%22minZoom%22%3A%200%2C%20%22noWrap%22%3A%20false%2C%20%22opacity%22%3A%201%2C%20%22subdomains%22%3A%20%22abc%22%2C%20%22tms%22%3A%20false%7D%0A%20%20%20%20%20%20%20%20%20%20%20%20%29.addTo%28map_b51162ae1cbd4db8b51a4c23770dc8ca%29%3B%0A%20%20%20%20%20%20%20%20%0A%20%20%20%20%0A%20%20%20%20%20%20%20%20%20%20%20%20var%20marker_26a39b9aca594760a3239a86117bee54%20%3D%20L.marker%28%0A%20%20%20%20%20%20%20%20%20%20%20%20%20%20%20%20%5B37.498153%2C%20127.028358%5D%2C%0A%20%20%20%20%20%20%20%20%20%20%20%20%20%20%20%20%7B%22radius%22%3A%201%7D%0A%20%20%20%20%20%20%20%20%20%20%20%20%29.addTo%28map_b51162ae1cbd4db8b51a4c23770dc8ca%29%3B%0A%20%20%20%20%20%20%20%20%0A%20%20%20%20%0A%20%20%20%20%20%20%20%20%20%20%20%20var%20marker_388fb032ab5544659cfa18efb678c92a%20%3D%20L.marker%28%0A%20%20%20%20%20%20%20%20%20%20%20%20%20%20%20%20%5B37.500672%2C%20127.036468%5D%2C%0A%20%20%20%20%20%20%20%20%20%20%20%20%20%20%20%20%7B%22radius%22%3A%201%7D%0A%20%20%20%20%20%20%20%20%20%20%20%20%29.addTo%28map_b51162ae1cbd4db8b51a4c23770dc8ca%29%3B%0A%20%20%20%20%20%20%20%20%0A%20%20%20%20%0A%20%20%20%20%20%20%20%20%20%20%20%20var%20marker_2cdb663ad3cf4a9d805761aa56f52b5e%20%3D%20L.marker%28%0A%20%20%20%20%20%20%20%20%20%20%20%20%20%20%20%20%5B37.480376%2C%20126.882676%5D%2C%0A%20%20%20%20%20%20%20%20%20%20%20%20%20%20%20%20%7B%22radius%22%3A%201%7D%0A%20%20%20%20%20%20%20%20%20%20%20%20%29.addTo%28map_b51162ae1cbd4db8b51a4c23770dc8ca%29%3B%0A%20%20%20%20%20%20%20%20%0A%20%20%20%20%0A%20%20%20%20%20%20%20%20%20%20%20%20var%20marker_cdfbbdae7b8f4e5c8d7738ee9fcd3f72%20%3D%20L.marker%28%0A%20%20%20%20%20%20%20%20%20%20%20%20%20%20%20%20%5B37.508844%2C%20127.062999%5D%2C%0A%20%20%20%20%20%20%20%20%20%20%20%20%20%20%20%20%7B%22radius%22%3A%201%7D%0A%20%20%20%20%20%20%20%20%20%20%20%20%29.addTo%28map_b51162ae1cbd4db8b51a4c23770dc8ca%29%3B%0A%20%20%20%20%20%20%20%20%0A%20%20%20%20%0A%20%20%20%20%20%20%20%20%20%20%20%20var%20marker_26c3fd610dbd40afb0310cefd9986def%20%3D%20L.marker%28%0A%20%20%20%20%20%20%20%20%20%20%20%20%20%20%20%20%5B37.56599600000001%2C%20126.982161%5D%2C%0A%20%20%20%20%20%20%20%20%20%20%20%20%20%20%20%20%7B%22radius%22%3A%201%7D%0A%20%20%20%20%20%20%20%20%20%20%20%20%29.addTo%28map_b51162ae1cbd4db8b51a4c23770dc8ca%29%3B%0A%20%20%20%20%20%20%20%20%0A%20%20%20%20%0A%20%20%20%20%20%20%20%20%20%20%20%20var%20marker_39db89d9d7f34e0896009c134004227e%20%3D%20L.marker%28%0A%20%20%20%20%20%20%20%20%20%20%20%20%20%20%20%20%5B37.50437%2C%20127.048481%5D%2C%0A%20%20%20%20%20%20%20%20%20%20%20%20%20%20%20%20%7B%22radius%22%3A%201%7D%0A%20%20%20%20%20%20%20%20%20%20%20%20%29.addTo%28map_b51162ae1cbd4db8b51a4c23770dc8ca%29%3B%0A%20%20%20%20%20%20%20%20%0A%20%20%20%20%0A%20%20%20%20%20%20%20%20%20%20%20%20var%20marker_d697cab8723d4f0f9fe516466be68d39%20%3D%20L.marker%28%0A%20%20%20%20%20%20%20%20%20%20%20%20%20%20%20%20%5B37.522027%2C%20126.924758%5D%2C%0A%20%20%20%20%20%20%20%20%20%20%20%20%20%20%20%20%7B%22radius%22%3A%201%7D%0A%20%20%20%20%20%20%20%20%20%20%20%20%29.addTo%28map_b51162ae1cbd4db8b51a4c23770dc8ca%29%3B%0A%20%20%20%20%20%20%20%20%0A%20%20%20%20%0A%20%20%20%20%20%20%20%20%20%20%20%20var%20marker_7a176ec31f1d48ab8c040bc5b3a92705%20%3D%20L.marker%28%0A%20%20%20%20%20%20%20%20%20%20%20%20%20%20%20%20%5B37.571631%2C%20126.976482%5D%2C%0A%20%20%20%20%20%20%20%20%20%20%20%20%20%20%20%20%7B%22radius%22%3A%201%7D%0A%20%20%20%20%20%20%20%20%20%20%20%20%29.addTo%28map_b51162ae1cbd4db8b51a4c23770dc8ca%29%3B%0A%20%20%20%20%20%20%20%20%0A%20%20%20%20%0A%20%20%20%20%20%20%20%20%20%20%20%20var%20marker_12dea6c0045a478a8429d70558e42f1c%20%3D%20L.marker%28%0A%20%20%20%20%20%20%20%20%20%20%20%20%20%20%20%20%5B37.485243%2C%20126.901596%5D%2C%0A%20%20%20%20%20%20%20%20%20%20%20%20%20%20%20%20%7B%22radius%22%3A%201%7D%0A%20%20%20%20%20%20%20%20%20%20%20%20%29.addTo%28map_b51162ae1cbd4db8b51a4c23770dc8ca%29%3B%0A%20%20%20%20%20%20%20%20%0A%20%20%20%20%0A%20%20%20%20%20%20%20%20%20%20%20%20var%20marker_1b9e04d271aa4fa09aa7091a2233650b%20%3D%20L.marker%28%0A%20%20%20%20%20%20%20%20%20%20%20%20%20%20%20%20%5B37.56365%2C%20126.97553899999998%5D%2C%0A%20%20%20%20%20%20%20%20%20%20%20%20%20%20%20%20%7B%22radius%22%3A%201%7D%0A%20%20%20%20%20%20%20%20%20%20%20%20%29.addTo%28map_b51162ae1cbd4db8b51a4c23770dc8ca%29%3B%0A%20%20%20%20%20%20%20%20%0A%20%20%20%20%0A%20%20%20%20%20%20%20%20%20%20%20%20var%20marker_a490114533ae4bbb8f1593ddacd97983%20%3D%20L.marker%28%0A%20%20%20%20%20%20%20%20%20%20%20%20%20%20%20%20%5B37.513275%2C%20127.100164%5D%2C%0A%20%20%20%20%20%20%20%20%20%20%20%20%20%20%20%20%7B%22radius%22%3A%201%7D%0A%20%20%20%20%20%20%20%20%20%20%20%20%29.addTo%28map_b51162ae1cbd4db8b51a4c23770dc8ca%29%3B%0A%20%20%20%20%20%20%20%20%0A%20%20%20%20%0A%20%20%20%20%20%20%20%20%20%20%20%20var%20marker_dd88f12bcf9e4bf5b607f98b7c384fd3%20%3D%20L.marker%28%0A%20%20%20%20%20%20%20%20%20%20%20%20%20%20%20%20%5B37.492938%2C%20127.01382%5D%2C%0A%20%20%20%20%20%20%20%20%20%20%20%20%20%20%20%20%7B%22radius%22%3A%201%7D%0A%20%20%20%20%20%20%20%20%20%20%20%20%29.addTo%28map_b51162ae1cbd4db8b51a4c23770dc8ca%29%3B%0A%20%20%20%20%20%20%20%20%0A%20%20%20%20%0A%20%20%20%20%20%20%20%20%20%20%20%20var%20marker_e6875beb9a324e4f8b0949beb8b2f1ed%20%3D%20L.marker%28%0A%20%20%20%20%20%20%20%20%20%20%20%20%20%20%20%20%5B37.566277%2C%20126.990967%5D%2C%0A%20%20%20%20%20%20%20%20%20%20%20%20%20%20%20%20%7B%22radius%22%3A%201%7D%0A%20%20%20%20%20%20%20%20%20%20%20%20%29.addTo%28map_b51162ae1cbd4db8b51a4c23770dc8ca%29%3B%0A%20%20%20%20%20%20%20%20%0A%20%20%20%20%0A%20%20%20%20%20%20%20%20%20%20%20%20var%20marker_03525e3b8d894e4485f63bddbe34a33b%20%3D%20L.marker%28%0A%20%20%20%20%20%20%20%20%20%20%20%20%20%20%20%20%5B37.484609000000006%2C%20127.034674%5D%2C%0A%20%20%20%20%20%20%20%20%20%20%20%20%20%20%20%20%7B%22radius%22%3A%201%7D%0A%20%20%20%20%20%20%20%20%20%20%20%20%29.addTo%28map_b51162ae1cbd4db8b51a4c23770dc8ca%29%3B%0A%20%20%20%20%20%20%20%20%0A%20%20%20%20%0A%20%20%20%20%20%20%20%20%20%20%20%20var%20marker_d3204b9576da448a8b58af46e17bc618%20%3D%20L.marker%28%0A%20%20%20%20%20%20%20%20%20%20%20%20%20%20%20%20%5B37.544566%2C%20127.056092%5D%2C%0A%20%20%20%20%20%20%20%20%20%20%20%20%20%20%20%20%7B%22radius%22%3A%201%7D%0A%20%20%20%20%20%20%20%20%20%20%20%20%29.addTo%28map_b51162ae1cbd4db8b51a4c23770dc8ca%29%3B%0A%20%20%20%20%20%20%20%20%0A%20%20%20%20%0A%20%20%20%20%20%20%20%20%20%20%20%20var%20marker_65f2c91e70cf4570a0ade9a62b62d471%20%3D%20L.marker%28%0A%20%20%20%20%20%20%20%20%20%20%20%20%20%20%20%20%5B37.553045%2C%20126.972625%5D%2C%0A%20%20%20%20%20%20%20%20%20%20%20%20%20%20%20%20%7B%22radius%22%3A%201%7D%0A%20%20%20%20%20%20%20%20%20%20%20%20%29.addTo%28map_b51162ae1cbd4db8b51a4c23770dc8ca%29%3B%0A%20%20%20%20%20%20%20%20%0A%20%20%20%20%0A%20%20%20%20%20%20%20%20%20%20%20%20var%20marker_c0050f50318a4630b1234bfb26a9f6a0%20%3D%20L.marker%28%0A%20%20%20%20%20%20%20%20%20%20%20%20%20%20%20%20%5B37.561135%2C%20126.993624%5D%2C%0A%20%20%20%20%20%20%20%20%20%20%20%20%20%20%20%20%7B%22radius%22%3A%201%7D%0A%20%20%20%20%20%20%20%20%20%20%20%20%29.addTo%28map_b51162ae1cbd4db8b51a4c23770dc8ca%29%3B%0A%20%20%20%20%20%20%20%20%0A%20%20%20%20%0A%20%20%20%20%20%20%20%20%20%20%20%20var%20marker_fc800710a83f425fbb74d9cf8eb68ea1%20%3D%20L.marker%28%0A%20%20%20%20%20%20%20%20%20%20%20%20%20%20%20%20%5B37.514323%2C%20127.031902%5D%2C%0A%20%20%20%20%20%20%20%20%20%20%20%20%20%20%20%20%7B%22radius%22%3A%201%7D%0A%20%20%20%20%20%20%20%20%20%20%20%20%29.addTo%28map_b51162ae1cbd4db8b51a4c23770dc8ca%29%3B%0A%20%20%20%20%20%20%20%20%0A%20%20%20%20%0A%20%20%20%20%20%20%20%20%20%20%20%20var%20marker_a65c3def0d2445f5bfd8829f1e361f34%20%3D%20L.marker%28%0A%20%20%20%20%20%20%20%20%20%20%20%20%20%20%20%20%5B37.504872%2C%20127.004956%5D%2C%0A%20%20%20%20%20%20%20%20%20%20%20%20%20%20%20%20%7B%22radius%22%3A%201%7D%0A%20%20%20%20%20%20%20%20%20%20%20%20%29.addTo%28map_b51162ae1cbd4db8b51a4c23770dc8ca%29%3B%0A%20%20%20%20%20%20%20%20%0A%20%20%20%20%0A%20%20%20%20%20%20%20%20%20%20%20%20var%20marker_6ab39c0271d9415980b857efa69abb15%20%3D%20L.marker%28%0A%20%20%20%20%20%20%20%20%20%20%20%20%20%20%20%20%5B37.565669%2C%20127.008977%5D%2C%0A%20%20%20%20%20%20%20%20%20%20%20%20%20%20%20%20%7B%22radius%22%3A%201%7D%0A%20%20%20%20%20%20%20%20%20%20%20%20%29.addTo%28map_b51162ae1cbd4db8b51a4c23770dc8ca%29%3B%0A%20%20%20%20%20%20%20%20%0A%20%20%20%20%0A%20%20%20%20%20%20%20%20%20%20%20%20var%20poly_line_81ce7906d6ca490a82a7b7b1c3b9fb92%20%3D%20L.polyline%28%0A%20%20%20%20%20%20%20%20%20%20%20%20%20%20%20%20%5B%5B37.492938%2C%20127.01382%5D%2C%20%5B37.498153%2C%20127.028358%5D%2C%20%5B37.500672%2C%20127.036468%5D%2C%20%5B37.50437%2C%20127.048481%5D%2C%20%5B37.508844%2C%20127.062999%5D%5D%2C%0A%20%20%20%20%20%20%20%20%20%20%20%20%20%20%20%20%7B%22bubblingMouseEvents%22%3A%20true%2C%20%22color%22%3A%20%22%233388ff%22%2C%20%22dashArray%22%3A%20null%2C%20%22dashOffset%22%3A%20null%2C%20%22fill%22%3A%20false%2C%20%22fillColor%22%3A%20%22%233388ff%22%2C%20%22fillOpacity%22%3A%200.2%2C%20%22fillRule%22%3A%20%22evenodd%22%2C%20%22lineCap%22%3A%20%22round%22%2C%20%22lineJoin%22%3A%20%22round%22%2C%20%22noClip%22%3A%20false%2C%20%22opacity%22%3A%201.0%2C%20%22smoothFactor%22%3A%201.0%2C%20%22stroke%22%3A%20true%2C%20%22weight%22%3A%203%7D%0A%20%20%20%20%20%20%20%20%20%20%20%20%29.addTo%28map_b51162ae1cbd4db8b51a4c23770dc8ca%29%3B%0A%20%20%20%20%20%20%20%20%0A%3C/script%3E onload=\"this.contentDocument.open();this.contentDocument.write(    decodeURIComponent(this.getAttribute('data-html')));this.contentDocument.close();\" allowfullscreen webkitallowfullscreen mozallowfullscreen></iframe></div></div>"
      ],
      "text/plain": [
       "<folium.folium.Map at 0x2516bb71550>"
      ]
     },
     "execution_count": 330,
     "metadata": {},
     "output_type": "execute_result"
    }
   ],
   "source": [
    "#출근길 하차 Top 20\n",
    "map_off_20 = folium.Map(location = [latitude, longitude],zoom_start = 10, width = 1500, height = 1000)\n",
    "\n",
    "for lat, lon in tqdm(zip(top_station_lat_2, top_station_lon_2)):\n",
    "    folium.Marker([lat, lon], radius = 1).add_to(map_off_20)\n",
    "    \n",
    "folium.PolyLine(locations = lines_location_off20).add_to(map_off_20)\n",
    "\n",
    "map_off_20"
   ]
  },
  {
   "cell_type": "code",
   "execution_count": 331,
   "id": "3460a6d1",
   "metadata": {},
   "outputs": [],
   "source": [
    "map_off_20.save('off_top_20.html')"
   ]
  },
  {
   "cell_type": "code",
   "execution_count": 332,
   "id": "cfbcf065",
   "metadata": {},
   "outputs": [],
   "source": [
    "#퇴근길 상위 20개 탑승지역\n",
    "ow_count_on = pd.DataFrame(df_pre_com[(df_pre_com['on_hour'] >= 18) & (df_pre_com['on_hour'] < 20)]['on_area_name'].value_counts().reset_index())\n",
    "ow_count_on.columns = ['station', 'count']\n",
    "ow_count_on_20 = ow_count_on.sort_values(by = 'count', ascending = False).head(20)"
   ]
  },
  {
   "cell_type": "code",
   "execution_count": 333,
   "id": "757482e4",
   "metadata": {},
   "outputs": [
    {
     "name": "stdout",
     "output_type": "stream",
     "text": [
      "['강남역', '여의도역', '잠실역', '선릉역', '삼성역']\n",
      "20\n"
     ]
    }
   ],
   "source": [
    "top_station_3 = list(ow_count_on_20['station'])\n",
    "print(top_station_3[:5])\n",
    "print(len(top_station_3))"
   ]
  },
  {
   "cell_type": "code",
   "execution_count": 334,
   "id": "d5712c3d",
   "metadata": {},
   "outputs": [
    {
     "data": {
      "application/vnd.jupyter.widget-view+json": {
       "model_id": "535d0e4fb6434cc3953d4bd481279b98",
       "version_major": 2,
       "version_minor": 0
      },
      "text/plain": [
       "  0%|          | 0/20 [00:00<?, ?it/s]"
      ]
     },
     "metadata": {},
     "output_type": "display_data"
    },
    {
     "data": {
      "application/vnd.jupyter.widget-view+json": {
       "model_id": "75688c7ac03949519924e50793dd5c84",
       "version_major": 2,
       "version_minor": 0
      },
      "text/plain": [
       "  0%|          | 0/20 [00:00<?, ?it/s]"
      ]
     },
     "metadata": {},
     "output_type": "display_data"
    }
   ],
   "source": [
    "top_station_lat_3 = [df_pre_com[df_pre_com['on_area_name'] == top_station_3[i]]['on_lat'].iloc[0] for i in tqdm(range(len(top_station_3)))]\n",
    "top_station_lon_3 = [df_pre_com[df_pre_com['on_area_name'] == top_station_3[i]]['on_lon'].iloc[0] for i in tqdm(range(len(top_station_3)))]"
   ]
  },
  {
   "cell_type": "code",
   "execution_count": 335,
   "id": "7b2fc940",
   "metadata": {},
   "outputs": [
    {
     "data": {
      "application/vnd.jupyter.widget-view+json": {
       "model_id": "be0b2baac1a845e897b212c914a84d83",
       "version_major": 2,
       "version_minor": 0
      },
      "text/plain": [
       "0it [00:00, ?it/s]"
      ]
     },
     "metadata": {},
     "output_type": "display_data"
    },
    {
     "data": {
      "text/html": [
       "<div style=\"width:100%;\"><div style=\"position:relative;width:100%;height:0;padding-bottom:60%;\"><span style=\"color:#565656\">Make this Notebook Trusted to load map: File -> Trust Notebook</span><iframe src=\"about:blank\" style=\"position:absolute;width:100%;height:100%;left:0;top:0;border:none !important;\" data-html=%3C%21DOCTYPE%20html%3E%0A%3Chead%3E%20%20%20%20%0A%20%20%20%20%3Cmeta%20http-equiv%3D%22content-type%22%20content%3D%22text/html%3B%20charset%3DUTF-8%22%20/%3E%0A%20%20%20%20%0A%20%20%20%20%20%20%20%20%3Cscript%3E%0A%20%20%20%20%20%20%20%20%20%20%20%20L_NO_TOUCH%20%3D%20false%3B%0A%20%20%20%20%20%20%20%20%20%20%20%20L_DISABLE_3D%20%3D%20false%3B%0A%20%20%20%20%20%20%20%20%3C/script%3E%0A%20%20%20%20%0A%20%20%20%20%3Cstyle%3Ehtml%2C%20body%20%7Bwidth%3A%20100%25%3Bheight%3A%20100%25%3Bmargin%3A%200%3Bpadding%3A%200%3B%7D%3C/style%3E%0A%20%20%20%20%3Cstyle%3E%23map%20%7Bposition%3Aabsolute%3Btop%3A0%3Bbottom%3A0%3Bright%3A0%3Bleft%3A0%3B%7D%3C/style%3E%0A%20%20%20%20%3Cscript%20src%3D%22https%3A//cdn.jsdelivr.net/npm/leaflet%401.6.0/dist/leaflet.js%22%3E%3C/script%3E%0A%20%20%20%20%3Cscript%20src%3D%22https%3A//code.jquery.com/jquery-1.12.4.min.js%22%3E%3C/script%3E%0A%20%20%20%20%3Cscript%20src%3D%22https%3A//maxcdn.bootstrapcdn.com/bootstrap/3.2.0/js/bootstrap.min.js%22%3E%3C/script%3E%0A%20%20%20%20%3Cscript%20src%3D%22https%3A//cdnjs.cloudflare.com/ajax/libs/Leaflet.awesome-markers/2.0.2/leaflet.awesome-markers.js%22%3E%3C/script%3E%0A%20%20%20%20%3Clink%20rel%3D%22stylesheet%22%20href%3D%22https%3A//cdn.jsdelivr.net/npm/leaflet%401.6.0/dist/leaflet.css%22/%3E%0A%20%20%20%20%3Clink%20rel%3D%22stylesheet%22%20href%3D%22https%3A//maxcdn.bootstrapcdn.com/bootstrap/3.2.0/css/bootstrap.min.css%22/%3E%0A%20%20%20%20%3Clink%20rel%3D%22stylesheet%22%20href%3D%22https%3A//maxcdn.bootstrapcdn.com/bootstrap/3.2.0/css/bootstrap-theme.min.css%22/%3E%0A%20%20%20%20%3Clink%20rel%3D%22stylesheet%22%20href%3D%22https%3A//maxcdn.bootstrapcdn.com/font-awesome/4.6.3/css/font-awesome.min.css%22/%3E%0A%20%20%20%20%3Clink%20rel%3D%22stylesheet%22%20href%3D%22https%3A//cdnjs.cloudflare.com/ajax/libs/Leaflet.awesome-markers/2.0.2/leaflet.awesome-markers.css%22/%3E%0A%20%20%20%20%3Clink%20rel%3D%22stylesheet%22%20href%3D%22https%3A//cdn.jsdelivr.net/gh/python-visualization/folium/folium/templates/leaflet.awesome.rotate.min.css%22/%3E%0A%20%20%20%20%0A%20%20%20%20%20%20%20%20%20%20%20%20%3Cmeta%20name%3D%22viewport%22%20content%3D%22width%3Ddevice-width%2C%0A%20%20%20%20%20%20%20%20%20%20%20%20%20%20%20%20initial-scale%3D1.0%2C%20maximum-scale%3D1.0%2C%20user-scalable%3Dno%22%20/%3E%0A%20%20%20%20%20%20%20%20%20%20%20%20%3Cstyle%3E%0A%20%20%20%20%20%20%20%20%20%20%20%20%20%20%20%20%23map_41b032a3f8a24e46be5d4d9737b5c87c%20%7B%0A%20%20%20%20%20%20%20%20%20%20%20%20%20%20%20%20%20%20%20%20position%3A%20relative%3B%0A%20%20%20%20%20%20%20%20%20%20%20%20%20%20%20%20%20%20%20%20width%3A%201000.0px%3B%0A%20%20%20%20%20%20%20%20%20%20%20%20%20%20%20%20%20%20%20%20height%3A%201000.0px%3B%0A%20%20%20%20%20%20%20%20%20%20%20%20%20%20%20%20%20%20%20%20left%3A%200.0%25%3B%0A%20%20%20%20%20%20%20%20%20%20%20%20%20%20%20%20%20%20%20%20top%3A%200.0%25%3B%0A%20%20%20%20%20%20%20%20%20%20%20%20%20%20%20%20%7D%0A%20%20%20%20%20%20%20%20%20%20%20%20%3C/style%3E%0A%20%20%20%20%20%20%20%20%0A%20%20%20%20%3Cscript%20src%3D%22https%3A//cdnjs.cloudflare.com/ajax/libs/leaflet.markercluster/1.1.0/leaflet.markercluster.js%22%3E%3C/script%3E%0A%20%20%20%20%3Clink%20rel%3D%22stylesheet%22%20href%3D%22https%3A//cdnjs.cloudflare.com/ajax/libs/leaflet.markercluster/1.1.0/MarkerCluster.css%22/%3E%0A%20%20%20%20%3Clink%20rel%3D%22stylesheet%22%20href%3D%22https%3A//cdnjs.cloudflare.com/ajax/libs/leaflet.markercluster/1.1.0/MarkerCluster.Default.css%22/%3E%0A%3C/head%3E%0A%3Cbody%3E%20%20%20%20%0A%20%20%20%20%0A%20%20%20%20%20%20%20%20%20%20%20%20%3Cdiv%20class%3D%22folium-map%22%20id%3D%22map_41b032a3f8a24e46be5d4d9737b5c87c%22%20%3E%3C/div%3E%0A%20%20%20%20%20%20%20%20%0A%3C/body%3E%0A%3Cscript%3E%20%20%20%20%0A%20%20%20%20%0A%20%20%20%20%20%20%20%20%20%20%20%20var%20map_41b032a3f8a24e46be5d4d9737b5c87c%20%3D%20L.map%28%0A%20%20%20%20%20%20%20%20%20%20%20%20%20%20%20%20%22map_41b032a3f8a24e46be5d4d9737b5c87c%22%2C%0A%20%20%20%20%20%20%20%20%20%20%20%20%20%20%20%20%7B%0A%20%20%20%20%20%20%20%20%20%20%20%20%20%20%20%20%20%20%20%20center%3A%20%5B37.5560526%2C%20126.9667922%5D%2C%0A%20%20%20%20%20%20%20%20%20%20%20%20%20%20%20%20%20%20%20%20crs%3A%20L.CRS.EPSG3857%2C%0A%20%20%20%20%20%20%20%20%20%20%20%20%20%20%20%20%20%20%20%20zoom%3A%2010%2C%0A%20%20%20%20%20%20%20%20%20%20%20%20%20%20%20%20%20%20%20%20zoomControl%3A%20true%2C%0A%20%20%20%20%20%20%20%20%20%20%20%20%20%20%20%20%20%20%20%20preferCanvas%3A%20false%2C%0A%20%20%20%20%20%20%20%20%20%20%20%20%20%20%20%20%7D%0A%20%20%20%20%20%20%20%20%20%20%20%20%29%3B%0A%0A%20%20%20%20%20%20%20%20%20%20%20%20%0A%0A%20%20%20%20%20%20%20%20%0A%20%20%20%20%0A%20%20%20%20%20%20%20%20%20%20%20%20var%20tile_layer_ad0c4e72b0f14b128b0151e433b8184f%20%3D%20L.tileLayer%28%0A%20%20%20%20%20%20%20%20%20%20%20%20%20%20%20%20%22https%3A//%7Bs%7D.tile.openstreetmap.org/%7Bz%7D/%7Bx%7D/%7By%7D.png%22%2C%0A%20%20%20%20%20%20%20%20%20%20%20%20%20%20%20%20%7B%22attribution%22%3A%20%22Data%20by%20%5Cu0026copy%3B%20%5Cu003ca%20href%3D%5C%22http%3A//openstreetmap.org%5C%22%5Cu003eOpenStreetMap%5Cu003c/a%5Cu003e%2C%20under%20%5Cu003ca%20href%3D%5C%22http%3A//www.openstreetmap.org/copyright%5C%22%5Cu003eODbL%5Cu003c/a%5Cu003e.%22%2C%20%22detectRetina%22%3A%20false%2C%20%22maxNativeZoom%22%3A%2018%2C%20%22maxZoom%22%3A%2018%2C%20%22minZoom%22%3A%200%2C%20%22noWrap%22%3A%20false%2C%20%22opacity%22%3A%201%2C%20%22subdomains%22%3A%20%22abc%22%2C%20%22tms%22%3A%20false%7D%0A%20%20%20%20%20%20%20%20%20%20%20%20%29.addTo%28map_41b032a3f8a24e46be5d4d9737b5c87c%29%3B%0A%20%20%20%20%20%20%20%20%0A%20%20%20%20%0A%20%20%20%20%20%20%20%20%20%20%20%20var%20marker_cluster_ff3cd88fa4414a1892fedbda405fa0e5%20%3D%20L.markerClusterGroup%28%0A%20%20%20%20%20%20%20%20%20%20%20%20%20%20%20%20%7B%7D%0A%20%20%20%20%20%20%20%20%20%20%20%20%29%3B%0A%20%20%20%20%20%20%20%20%20%20%20%20map_41b032a3f8a24e46be5d4d9737b5c87c.addLayer%28marker_cluster_ff3cd88fa4414a1892fedbda405fa0e5%29%3B%0A%20%20%20%20%20%20%20%20%0A%20%20%20%20%0A%20%20%20%20%20%20%20%20%20%20%20%20var%20marker_451eeaaa208e43fba9859fde0310cea8%20%3D%20L.marker%28%0A%20%20%20%20%20%20%20%20%20%20%20%20%20%20%20%20%5B37.498153%2C%20127.028358%5D%2C%0A%20%20%20%20%20%20%20%20%20%20%20%20%20%20%20%20%7B%22radius%22%3A%201%7D%0A%20%20%20%20%20%20%20%20%20%20%20%20%29.addTo%28marker_cluster_ff3cd88fa4414a1892fedbda405fa0e5%29%3B%0A%20%20%20%20%20%20%20%20%0A%20%20%20%20%0A%20%20%20%20%20%20%20%20%20%20%20%20var%20marker_df6b5d71172e427a91ea38b2b00fbeaa%20%3D%20L.marker%28%0A%20%20%20%20%20%20%20%20%20%20%20%20%20%20%20%20%5B37.522027%2C%20126.924758%5D%2C%0A%20%20%20%20%20%20%20%20%20%20%20%20%20%20%20%20%7B%22radius%22%3A%201%7D%0A%20%20%20%20%20%20%20%20%20%20%20%20%29.addTo%28marker_cluster_ff3cd88fa4414a1892fedbda405fa0e5%29%3B%0A%20%20%20%20%20%20%20%20%0A%20%20%20%20%0A%20%20%20%20%20%20%20%20%20%20%20%20var%20marker_e715be99e82745bc87f85cdd276d4005%20%3D%20L.marker%28%0A%20%20%20%20%20%20%20%20%20%20%20%20%20%20%20%20%5B37.513275%2C%20127.100164%5D%2C%0A%20%20%20%20%20%20%20%20%20%20%20%20%20%20%20%20%7B%22radius%22%3A%201%7D%0A%20%20%20%20%20%20%20%20%20%20%20%20%29.addTo%28marker_cluster_ff3cd88fa4414a1892fedbda405fa0e5%29%3B%0A%20%20%20%20%20%20%20%20%0A%20%20%20%20%0A%20%20%20%20%20%20%20%20%20%20%20%20var%20marker_1f2381250f3245a2b0ef61242d4480d0%20%3D%20L.marker%28%0A%20%20%20%20%20%20%20%20%20%20%20%20%20%20%20%20%5B37.50437%2C%20127.048481%5D%2C%0A%20%20%20%20%20%20%20%20%20%20%20%20%20%20%20%20%7B%22radius%22%3A%201%7D%0A%20%20%20%20%20%20%20%20%20%20%20%20%29.addTo%28marker_cluster_ff3cd88fa4414a1892fedbda405fa0e5%29%3B%0A%20%20%20%20%20%20%20%20%0A%20%20%20%20%0A%20%20%20%20%20%20%20%20%20%20%20%20var%20marker_6c91d937ba11463c8bc98151d2ef9d5c%20%3D%20L.marker%28%0A%20%20%20%20%20%20%20%20%20%20%20%20%20%20%20%20%5B37.508844%2C%20127.062999%5D%2C%0A%20%20%20%20%20%20%20%20%20%20%20%20%20%20%20%20%7B%22radius%22%3A%201%7D%0A%20%20%20%20%20%20%20%20%20%20%20%20%29.addTo%28marker_cluster_ff3cd88fa4414a1892fedbda405fa0e5%29%3B%0A%20%20%20%20%20%20%20%20%0A%20%20%20%20%0A%20%20%20%20%20%20%20%20%20%20%20%20var%20marker_d2e76e1acee64ff2b221dc5460956016%20%3D%20L.marker%28%0A%20%20%20%20%20%20%20%20%20%20%20%20%20%20%20%20%5B37.56599600000001%2C%20126.982161%5D%2C%0A%20%20%20%20%20%20%20%20%20%20%20%20%20%20%20%20%7B%22radius%22%3A%201%7D%0A%20%20%20%20%20%20%20%20%20%20%20%20%29.addTo%28marker_cluster_ff3cd88fa4414a1892fedbda405fa0e5%29%3B%0A%20%20%20%20%20%20%20%20%0A%20%20%20%20%0A%20%20%20%20%20%20%20%20%20%20%20%20var%20marker_636f6374732c482a9cc30aec8036de71%20%3D%20L.marker%28%0A%20%20%20%20%20%20%20%20%20%20%20%20%20%20%20%20%5B37.500672%2C%20127.036468%5D%2C%0A%20%20%20%20%20%20%20%20%20%20%20%20%20%20%20%20%7B%22radius%22%3A%201%7D%0A%20%20%20%20%20%20%20%20%20%20%20%20%29.addTo%28marker_cluster_ff3cd88fa4414a1892fedbda405fa0e5%29%3B%0A%20%20%20%20%20%20%20%20%0A%20%20%20%20%0A%20%20%20%20%20%20%20%20%20%20%20%20var%20marker_9b609b42dee4421e87baba4471d0a6c2%20%3D%20L.marker%28%0A%20%20%20%20%20%20%20%20%20%20%20%20%20%20%20%20%5B37.480376%2C%20126.882676%5D%2C%0A%20%20%20%20%20%20%20%20%20%20%20%20%20%20%20%20%7B%22radius%22%3A%201%7D%0A%20%20%20%20%20%20%20%20%20%20%20%20%29.addTo%28marker_cluster_ff3cd88fa4414a1892fedbda405fa0e5%29%3B%0A%20%20%20%20%20%20%20%20%0A%20%20%20%20%0A%20%20%20%20%20%20%20%20%20%20%20%20var%20marker_8a7e29c2b98e4600ac24b8cc05ec3a03%20%3D%20L.marker%28%0A%20%20%20%20%20%20%20%20%20%20%20%20%20%20%20%20%5B37.483152%2C%20126.901558%5D%2C%0A%20%20%20%20%20%20%20%20%20%20%20%20%20%20%20%20%7B%22radius%22%3A%201%7D%0A%20%20%20%20%20%20%20%20%20%20%20%20%29.addTo%28marker_cluster_ff3cd88fa4414a1892fedbda405fa0e5%29%3B%0A%20%20%20%20%20%20%20%20%0A%20%20%20%20%0A%20%20%20%20%20%20%20%20%20%20%20%20var%20marker_66a9a1ce416e4167bf2adb89965cee74%20%3D%20L.marker%28%0A%20%20%20%20%20%20%20%20%20%20%20%20%20%20%20%20%5B37.504872%2C%20127.004956%5D%2C%0A%20%20%20%20%20%20%20%20%20%20%20%20%20%20%20%20%7B%22radius%22%3A%201%7D%0A%20%20%20%20%20%20%20%20%20%20%20%20%29.addTo%28marker_cluster_ff3cd88fa4414a1892fedbda405fa0e5%29%3B%0A%20%20%20%20%20%20%20%20%0A%20%20%20%20%0A%20%20%20%20%20%20%20%20%20%20%20%20var%20marker_782b3500d3f344c2bffde19647d04b1e%20%3D%20L.marker%28%0A%20%20%20%20%20%20%20%20%20%20%20%20%20%20%20%20%5B37.571631%2C%20126.976482%5D%2C%0A%20%20%20%20%20%20%20%20%20%20%20%20%20%20%20%20%7B%22radius%22%3A%201%7D%0A%20%20%20%20%20%20%20%20%20%20%20%20%29.addTo%28marker_cluster_ff3cd88fa4414a1892fedbda405fa0e5%29%3B%0A%20%20%20%20%20%20%20%20%0A%20%20%20%20%0A%20%20%20%20%20%20%20%20%20%20%20%20var%20marker_890f3f06163243b0b7f12e6e42eee986%20%3D%20L.marker%28%0A%20%20%20%20%20%20%20%20%20%20%20%20%20%20%20%20%5B37.493973%2C%20127.01461299999998%5D%2C%0A%20%20%20%20%20%20%20%20%20%20%20%20%20%20%20%20%7B%22radius%22%3A%201%7D%0A%20%20%20%20%20%20%20%20%20%20%20%20%29.addTo%28marker_cluster_ff3cd88fa4414a1892fedbda405fa0e5%29%3B%0A%20%20%20%20%20%20%20%20%0A%20%20%20%20%0A%20%20%20%20%20%20%20%20%20%20%20%20var%20marker_486299526bbb42c3b364578288480908%20%3D%20L.marker%28%0A%20%20%20%20%20%20%20%20%20%20%20%20%20%20%20%20%5B37.56365%2C%20126.97553899999998%5D%2C%0A%20%20%20%20%20%20%20%20%20%20%20%20%20%20%20%20%7B%22radius%22%3A%201%7D%0A%20%20%20%20%20%20%20%20%20%20%20%20%29.addTo%28marker_cluster_ff3cd88fa4414a1892fedbda405fa0e5%29%3B%0A%20%20%20%20%20%20%20%20%0A%20%20%20%20%0A%20%20%20%20%20%20%20%20%20%20%20%20var%20marker_eb99afc38826422f91e9d27486e5832e%20%3D%20L.marker%28%0A%20%20%20%20%20%20%20%20%20%20%20%20%20%20%20%20%5B37.554383%2C%20126.971133%5D%2C%0A%20%20%20%20%20%20%20%20%20%20%20%20%20%20%20%20%7B%22radius%22%3A%201%7D%0A%20%20%20%20%20%20%20%20%20%20%20%20%29.addTo%28marker_cluster_ff3cd88fa4414a1892fedbda405fa0e5%29%3B%0A%20%20%20%20%20%20%20%20%0A%20%20%20%20%0A%20%20%20%20%20%20%20%20%20%20%20%20var%20marker_2b69391e33c042fabb95f7126cdab570%20%3D%20L.marker%28%0A%20%20%20%20%20%20%20%20%20%20%20%20%20%20%20%20%5B37.484609000000006%2C%20127.034674%5D%2C%0A%20%20%20%20%20%20%20%20%20%20%20%20%20%20%20%20%7B%22radius%22%3A%201%7D%0A%20%20%20%20%20%20%20%20%20%20%20%20%29.addTo%28marker_cluster_ff3cd88fa4414a1892fedbda405fa0e5%29%3B%0A%20%20%20%20%20%20%20%20%0A%20%20%20%20%0A%20%20%20%20%20%20%20%20%20%20%20%20var%20marker_f22c539af86243fe9601efb92b5433d7%20%3D%20L.marker%28%0A%20%20%20%20%20%20%20%20%20%20%20%20%20%20%20%20%5B37.566424%2C%20126.992593%5D%2C%0A%20%20%20%20%20%20%20%20%20%20%20%20%20%20%20%20%7B%22radius%22%3A%201%7D%0A%20%20%20%20%20%20%20%20%20%20%20%20%29.addTo%28marker_cluster_ff3cd88fa4414a1892fedbda405fa0e5%29%3B%0A%20%20%20%20%20%20%20%20%0A%20%20%20%20%0A%20%20%20%20%20%20%20%20%20%20%20%20var%20marker_db00d6cb8395405eb93a470fba62cbfa%20%3D%20L.marker%28%0A%20%20%20%20%20%20%20%20%20%20%20%20%20%20%20%20%5B37.565669%2C%20127.008977%5D%2C%0A%20%20%20%20%20%20%20%20%20%20%20%20%20%20%20%20%7B%22radius%22%3A%201%7D%0A%20%20%20%20%20%20%20%20%20%20%20%20%29.addTo%28marker_cluster_ff3cd88fa4414a1892fedbda405fa0e5%29%3B%0A%20%20%20%20%20%20%20%20%0A%20%20%20%20%0A%20%20%20%20%20%20%20%20%20%20%20%20var%20marker_13a72c8386a34d68823f70da0ff0876c%20%3D%20L.marker%28%0A%20%20%20%20%20%20%20%20%20%20%20%20%20%20%20%20%5B37.57152%2C%20126.991853%5D%2C%0A%20%20%20%20%20%20%20%20%20%20%20%20%20%20%20%20%7B%22radius%22%3A%201%7D%0A%20%20%20%20%20%20%20%20%20%20%20%20%29.addTo%28marker_cluster_ff3cd88fa4414a1892fedbda405fa0e5%29%3B%0A%20%20%20%20%20%20%20%20%0A%20%20%20%20%0A%20%20%20%20%20%20%20%20%20%20%20%20var%20marker_6b17726c60c2449dad7c3f9eb51b402a%20%3D%20L.marker%28%0A%20%20%20%20%20%20%20%20%20%20%20%20%20%20%20%20%5B37.55679%2C%20126.923352%5D%2C%0A%20%20%20%20%20%20%20%20%20%20%20%20%20%20%20%20%7B%22radius%22%3A%201%7D%0A%20%20%20%20%20%20%20%20%20%20%20%20%29.addTo%28marker_cluster_ff3cd88fa4414a1892fedbda405fa0e5%29%3B%0A%20%20%20%20%20%20%20%20%0A%20%20%20%20%0A%20%20%20%20%20%20%20%20%20%20%20%20var%20marker_a512d27e58f34bb7aea522f3de2edf16%20%3D%20L.marker%28%0A%20%20%20%20%20%20%20%20%20%20%20%20%20%20%20%20%5B37.544566%2C%20127.056092%5D%2C%0A%20%20%20%20%20%20%20%20%20%20%20%20%20%20%20%20%7B%22radius%22%3A%201%7D%0A%20%20%20%20%20%20%20%20%20%20%20%20%29.addTo%28marker_cluster_ff3cd88fa4414a1892fedbda405fa0e5%29%3B%0A%20%20%20%20%20%20%20%20%0A%3C/script%3E onload=\"this.contentDocument.open();this.contentDocument.write(    decodeURIComponent(this.getAttribute('data-html')));this.contentDocument.close();\" allowfullscreen webkitallowfullscreen mozallowfullscreen></iframe></div></div>"
      ],
      "text/plain": [
       "<folium.folium.Map at 0x2516bba24f0>"
      ]
     },
     "execution_count": 335,
     "metadata": {},
     "output_type": "execute_result"
    }
   ],
   "source": [
    "#퇴근길 상위 20개 탑승지역\n",
    "map_f = folium.Map(location = [latitude, longitude],zoom_start = 10, width = 1000, height = 1000)\n",
    "marker_cluster = MarkerCluster().add_to(map_f)\n",
    "\n",
    "for lat, lon in tqdm(zip(top_station_lat_3, top_station_lon_3)):\n",
    "    folium.Marker([lat, lon], radius = 1).add_to(marker_cluster)\n",
    "\n",
    "map_f"
   ]
  },
  {
   "cell_type": "code",
   "execution_count": 336,
   "id": "d6054ff0",
   "metadata": {},
   "outputs": [],
   "source": [
    "#퇴근길 상위 20개 하차지역\n",
    "ow_count_off = pd.DataFrame(df_pre_com[(df_pre_com['off_hour'] >= 18) & (df_pre_com['off_hour'] < 20)]['off_area_name'].value_counts().reset_index())\n",
    "ow_count_off.columns = ['station', 'count']\n",
    "ow_count_off_20 = ow_count_off.sort_values(by = 'count', ascending = False).head(20)"
   ]
  },
  {
   "cell_type": "code",
   "execution_count": 337,
   "id": "cff60a6f",
   "metadata": {},
   "outputs": [
    {
     "name": "stdout",
     "output_type": "stream",
     "text": [
      "['강남역', '여의도역', '잠실역', '선릉역', '삼성역']\n",
      "20\n"
     ]
    }
   ],
   "source": [
    "top_station_4 = list(ow_count_on_20['station'])\n",
    "print(top_station_3[:5])\n",
    "print(len(top_station_3))"
   ]
  },
  {
   "cell_type": "code",
   "execution_count": 338,
   "id": "a6ab724b",
   "metadata": {},
   "outputs": [
    {
     "data": {
      "application/vnd.jupyter.widget-view+json": {
       "model_id": "57eb1b83768e4ab1a55cea345b82f915",
       "version_major": 2,
       "version_minor": 0
      },
      "text/plain": [
       "  0%|          | 0/20 [00:00<?, ?it/s]"
      ]
     },
     "metadata": {},
     "output_type": "display_data"
    },
    {
     "data": {
      "application/vnd.jupyter.widget-view+json": {
       "model_id": "5d420b908d8c4197899c6ee1c6ff3d85",
       "version_major": 2,
       "version_minor": 0
      },
      "text/plain": [
       "  0%|          | 0/20 [00:00<?, ?it/s]"
      ]
     },
     "metadata": {},
     "output_type": "display_data"
    }
   ],
   "source": [
    "top_station_lat_4 = [df_pre_com[df_pre_com['off_area_name'] == top_station_4[i]]['off_lat'].iloc[0] for i in tqdm(range(len(top_station_4)))]\n",
    "top_station_lon_4 = [df_pre_com[df_pre_com['off_area_name'] == top_station_4[i]]['off_lon'].iloc[0] for i in tqdm(range(len(top_station_4)))]"
   ]
  },
  {
   "cell_type": "code",
   "execution_count": 339,
   "id": "564d6e9a",
   "metadata": {},
   "outputs": [
    {
     "data": {
      "application/vnd.jupyter.widget-view+json": {
       "model_id": "a65afe78495e47b4a8a03dff7922d2ec",
       "version_major": 2,
       "version_minor": 0
      },
      "text/plain": [
       "0it [00:00, ?it/s]"
      ]
     },
     "metadata": {},
     "output_type": "display_data"
    },
    {
     "data": {
      "text/html": [
       "<div style=\"width:100%;\"><div style=\"position:relative;width:100%;height:0;padding-bottom:60%;\"><span style=\"color:#565656\">Make this Notebook Trusted to load map: File -> Trust Notebook</span><iframe src=\"about:blank\" style=\"position:absolute;width:100%;height:100%;left:0;top:0;border:none !important;\" data-html=%3C%21DOCTYPE%20html%3E%0A%3Chead%3E%20%20%20%20%0A%20%20%20%20%3Cmeta%20http-equiv%3D%22content-type%22%20content%3D%22text/html%3B%20charset%3DUTF-8%22%20/%3E%0A%20%20%20%20%0A%20%20%20%20%20%20%20%20%3Cscript%3E%0A%20%20%20%20%20%20%20%20%20%20%20%20L_NO_TOUCH%20%3D%20false%3B%0A%20%20%20%20%20%20%20%20%20%20%20%20L_DISABLE_3D%20%3D%20false%3B%0A%20%20%20%20%20%20%20%20%3C/script%3E%0A%20%20%20%20%0A%20%20%20%20%3Cstyle%3Ehtml%2C%20body%20%7Bwidth%3A%20100%25%3Bheight%3A%20100%25%3Bmargin%3A%200%3Bpadding%3A%200%3B%7D%3C/style%3E%0A%20%20%20%20%3Cstyle%3E%23map%20%7Bposition%3Aabsolute%3Btop%3A0%3Bbottom%3A0%3Bright%3A0%3Bleft%3A0%3B%7D%3C/style%3E%0A%20%20%20%20%3Cscript%20src%3D%22https%3A//cdn.jsdelivr.net/npm/leaflet%401.6.0/dist/leaflet.js%22%3E%3C/script%3E%0A%20%20%20%20%3Cscript%20src%3D%22https%3A//code.jquery.com/jquery-1.12.4.min.js%22%3E%3C/script%3E%0A%20%20%20%20%3Cscript%20src%3D%22https%3A//maxcdn.bootstrapcdn.com/bootstrap/3.2.0/js/bootstrap.min.js%22%3E%3C/script%3E%0A%20%20%20%20%3Cscript%20src%3D%22https%3A//cdnjs.cloudflare.com/ajax/libs/Leaflet.awesome-markers/2.0.2/leaflet.awesome-markers.js%22%3E%3C/script%3E%0A%20%20%20%20%3Clink%20rel%3D%22stylesheet%22%20href%3D%22https%3A//cdn.jsdelivr.net/npm/leaflet%401.6.0/dist/leaflet.css%22/%3E%0A%20%20%20%20%3Clink%20rel%3D%22stylesheet%22%20href%3D%22https%3A//maxcdn.bootstrapcdn.com/bootstrap/3.2.0/css/bootstrap.min.css%22/%3E%0A%20%20%20%20%3Clink%20rel%3D%22stylesheet%22%20href%3D%22https%3A//maxcdn.bootstrapcdn.com/bootstrap/3.2.0/css/bootstrap-theme.min.css%22/%3E%0A%20%20%20%20%3Clink%20rel%3D%22stylesheet%22%20href%3D%22https%3A//maxcdn.bootstrapcdn.com/font-awesome/4.6.3/css/font-awesome.min.css%22/%3E%0A%20%20%20%20%3Clink%20rel%3D%22stylesheet%22%20href%3D%22https%3A//cdnjs.cloudflare.com/ajax/libs/Leaflet.awesome-markers/2.0.2/leaflet.awesome-markers.css%22/%3E%0A%20%20%20%20%3Clink%20rel%3D%22stylesheet%22%20href%3D%22https%3A//cdn.jsdelivr.net/gh/python-visualization/folium/folium/templates/leaflet.awesome.rotate.min.css%22/%3E%0A%20%20%20%20%0A%20%20%20%20%20%20%20%20%20%20%20%20%3Cmeta%20name%3D%22viewport%22%20content%3D%22width%3Ddevice-width%2C%0A%20%20%20%20%20%20%20%20%20%20%20%20%20%20%20%20initial-scale%3D1.0%2C%20maximum-scale%3D1.0%2C%20user-scalable%3Dno%22%20/%3E%0A%20%20%20%20%20%20%20%20%20%20%20%20%3Cstyle%3E%0A%20%20%20%20%20%20%20%20%20%20%20%20%20%20%20%20%23map_f021b28f3e884447be11d30fce01cfa9%20%7B%0A%20%20%20%20%20%20%20%20%20%20%20%20%20%20%20%20%20%20%20%20position%3A%20relative%3B%0A%20%20%20%20%20%20%20%20%20%20%20%20%20%20%20%20%20%20%20%20width%3A%201000.0px%3B%0A%20%20%20%20%20%20%20%20%20%20%20%20%20%20%20%20%20%20%20%20height%3A%201000.0px%3B%0A%20%20%20%20%20%20%20%20%20%20%20%20%20%20%20%20%20%20%20%20left%3A%200.0%25%3B%0A%20%20%20%20%20%20%20%20%20%20%20%20%20%20%20%20%20%20%20%20top%3A%200.0%25%3B%0A%20%20%20%20%20%20%20%20%20%20%20%20%20%20%20%20%7D%0A%20%20%20%20%20%20%20%20%20%20%20%20%3C/style%3E%0A%20%20%20%20%20%20%20%20%0A%20%20%20%20%3Cscript%20src%3D%22https%3A//cdnjs.cloudflare.com/ajax/libs/leaflet.markercluster/1.1.0/leaflet.markercluster.js%22%3E%3C/script%3E%0A%20%20%20%20%3Clink%20rel%3D%22stylesheet%22%20href%3D%22https%3A//cdnjs.cloudflare.com/ajax/libs/leaflet.markercluster/1.1.0/MarkerCluster.css%22/%3E%0A%20%20%20%20%3Clink%20rel%3D%22stylesheet%22%20href%3D%22https%3A//cdnjs.cloudflare.com/ajax/libs/leaflet.markercluster/1.1.0/MarkerCluster.Default.css%22/%3E%0A%3C/head%3E%0A%3Cbody%3E%20%20%20%20%0A%20%20%20%20%0A%20%20%20%20%20%20%20%20%20%20%20%20%3Cdiv%20class%3D%22folium-map%22%20id%3D%22map_f021b28f3e884447be11d30fce01cfa9%22%20%3E%3C/div%3E%0A%20%20%20%20%20%20%20%20%0A%3C/body%3E%0A%3Cscript%3E%20%20%20%20%0A%20%20%20%20%0A%20%20%20%20%20%20%20%20%20%20%20%20var%20map_f021b28f3e884447be11d30fce01cfa9%20%3D%20L.map%28%0A%20%20%20%20%20%20%20%20%20%20%20%20%20%20%20%20%22map_f021b28f3e884447be11d30fce01cfa9%22%2C%0A%20%20%20%20%20%20%20%20%20%20%20%20%20%20%20%20%7B%0A%20%20%20%20%20%20%20%20%20%20%20%20%20%20%20%20%20%20%20%20center%3A%20%5B37.5560526%2C%20126.9667922%5D%2C%0A%20%20%20%20%20%20%20%20%20%20%20%20%20%20%20%20%20%20%20%20crs%3A%20L.CRS.EPSG3857%2C%0A%20%20%20%20%20%20%20%20%20%20%20%20%20%20%20%20%20%20%20%20zoom%3A%2010%2C%0A%20%20%20%20%20%20%20%20%20%20%20%20%20%20%20%20%20%20%20%20zoomControl%3A%20true%2C%0A%20%20%20%20%20%20%20%20%20%20%20%20%20%20%20%20%20%20%20%20preferCanvas%3A%20false%2C%0A%20%20%20%20%20%20%20%20%20%20%20%20%20%20%20%20%7D%0A%20%20%20%20%20%20%20%20%20%20%20%20%29%3B%0A%0A%20%20%20%20%20%20%20%20%20%20%20%20%0A%0A%20%20%20%20%20%20%20%20%0A%20%20%20%20%0A%20%20%20%20%20%20%20%20%20%20%20%20var%20tile_layer_de371920838244cdb9425af19f2c81c2%20%3D%20L.tileLayer%28%0A%20%20%20%20%20%20%20%20%20%20%20%20%20%20%20%20%22https%3A//%7Bs%7D.tile.openstreetmap.org/%7Bz%7D/%7Bx%7D/%7By%7D.png%22%2C%0A%20%20%20%20%20%20%20%20%20%20%20%20%20%20%20%20%7B%22attribution%22%3A%20%22Data%20by%20%5Cu0026copy%3B%20%5Cu003ca%20href%3D%5C%22http%3A//openstreetmap.org%5C%22%5Cu003eOpenStreetMap%5Cu003c/a%5Cu003e%2C%20under%20%5Cu003ca%20href%3D%5C%22http%3A//www.openstreetmap.org/copyright%5C%22%5Cu003eODbL%5Cu003c/a%5Cu003e.%22%2C%20%22detectRetina%22%3A%20false%2C%20%22maxNativeZoom%22%3A%2018%2C%20%22maxZoom%22%3A%2018%2C%20%22minZoom%22%3A%200%2C%20%22noWrap%22%3A%20false%2C%20%22opacity%22%3A%201%2C%20%22subdomains%22%3A%20%22abc%22%2C%20%22tms%22%3A%20false%7D%0A%20%20%20%20%20%20%20%20%20%20%20%20%29.addTo%28map_f021b28f3e884447be11d30fce01cfa9%29%3B%0A%20%20%20%20%20%20%20%20%0A%20%20%20%20%0A%20%20%20%20%20%20%20%20%20%20%20%20var%20marker_cluster_3cef04be98534d17b9dafc6c30b2d8d1%20%3D%20L.markerClusterGroup%28%0A%20%20%20%20%20%20%20%20%20%20%20%20%20%20%20%20%7B%7D%0A%20%20%20%20%20%20%20%20%20%20%20%20%29%3B%0A%20%20%20%20%20%20%20%20%20%20%20%20map_f021b28f3e884447be11d30fce01cfa9.addLayer%28marker_cluster_3cef04be98534d17b9dafc6c30b2d8d1%29%3B%0A%20%20%20%20%20%20%20%20%0A%20%20%20%20%0A%20%20%20%20%20%20%20%20%20%20%20%20var%20marker_9366bdfbf65c4d0bba1a4490e3a1f1f1%20%3D%20L.marker%28%0A%20%20%20%20%20%20%20%20%20%20%20%20%20%20%20%20%5B37.498153%2C%20127.028358%5D%2C%0A%20%20%20%20%20%20%20%20%20%20%20%20%20%20%20%20%7B%22radius%22%3A%201%7D%0A%20%20%20%20%20%20%20%20%20%20%20%20%29.addTo%28marker_cluster_3cef04be98534d17b9dafc6c30b2d8d1%29%3B%0A%20%20%20%20%20%20%20%20%0A%20%20%20%20%0A%20%20%20%20%20%20%20%20%20%20%20%20var%20marker_7928559e853246aa8ef2c4eebe31e07f%20%3D%20L.marker%28%0A%20%20%20%20%20%20%20%20%20%20%20%20%20%20%20%20%5B37.522027%2C%20126.924758%5D%2C%0A%20%20%20%20%20%20%20%20%20%20%20%20%20%20%20%20%7B%22radius%22%3A%201%7D%0A%20%20%20%20%20%20%20%20%20%20%20%20%29.addTo%28marker_cluster_3cef04be98534d17b9dafc6c30b2d8d1%29%3B%0A%20%20%20%20%20%20%20%20%0A%20%20%20%20%0A%20%20%20%20%20%20%20%20%20%20%20%20var%20marker_9b1962e7b4cd4dd682b72aabca9f60f6%20%3D%20L.marker%28%0A%20%20%20%20%20%20%20%20%20%20%20%20%20%20%20%20%5B37.513275%2C%20127.100164%5D%2C%0A%20%20%20%20%20%20%20%20%20%20%20%20%20%20%20%20%7B%22radius%22%3A%201%7D%0A%20%20%20%20%20%20%20%20%20%20%20%20%29.addTo%28marker_cluster_3cef04be98534d17b9dafc6c30b2d8d1%29%3B%0A%20%20%20%20%20%20%20%20%0A%20%20%20%20%0A%20%20%20%20%20%20%20%20%20%20%20%20var%20marker_8936d24371bc415f9ed0bbcf0307e648%20%3D%20L.marker%28%0A%20%20%20%20%20%20%20%20%20%20%20%20%20%20%20%20%5B37.50437%2C%20127.048481%5D%2C%0A%20%20%20%20%20%20%20%20%20%20%20%20%20%20%20%20%7B%22radius%22%3A%201%7D%0A%20%20%20%20%20%20%20%20%20%20%20%20%29.addTo%28marker_cluster_3cef04be98534d17b9dafc6c30b2d8d1%29%3B%0A%20%20%20%20%20%20%20%20%0A%20%20%20%20%0A%20%20%20%20%20%20%20%20%20%20%20%20var%20marker_1b6084f0bb254f45bea7c64ab4e35e19%20%3D%20L.marker%28%0A%20%20%20%20%20%20%20%20%20%20%20%20%20%20%20%20%5B37.508844%2C%20127.062999%5D%2C%0A%20%20%20%20%20%20%20%20%20%20%20%20%20%20%20%20%7B%22radius%22%3A%201%7D%0A%20%20%20%20%20%20%20%20%20%20%20%20%29.addTo%28marker_cluster_3cef04be98534d17b9dafc6c30b2d8d1%29%3B%0A%20%20%20%20%20%20%20%20%0A%20%20%20%20%0A%20%20%20%20%20%20%20%20%20%20%20%20var%20marker_46d23bbace8a4d3db43e813d7f81f17f%20%3D%20L.marker%28%0A%20%20%20%20%20%20%20%20%20%20%20%20%20%20%20%20%5B37.56599600000001%2C%20126.982161%5D%2C%0A%20%20%20%20%20%20%20%20%20%20%20%20%20%20%20%20%7B%22radius%22%3A%201%7D%0A%20%20%20%20%20%20%20%20%20%20%20%20%29.addTo%28marker_cluster_3cef04be98534d17b9dafc6c30b2d8d1%29%3B%0A%20%20%20%20%20%20%20%20%0A%20%20%20%20%0A%20%20%20%20%20%20%20%20%20%20%20%20var%20marker_f10722eea9244e7ab750304b29a97ab0%20%3D%20L.marker%28%0A%20%20%20%20%20%20%20%20%20%20%20%20%20%20%20%20%5B37.500672%2C%20127.036468%5D%2C%0A%20%20%20%20%20%20%20%20%20%20%20%20%20%20%20%20%7B%22radius%22%3A%201%7D%0A%20%20%20%20%20%20%20%20%20%20%20%20%29.addTo%28marker_cluster_3cef04be98534d17b9dafc6c30b2d8d1%29%3B%0A%20%20%20%20%20%20%20%20%0A%20%20%20%20%0A%20%20%20%20%20%20%20%20%20%20%20%20var%20marker_df5652271b004304b75d86280512402e%20%3D%20L.marker%28%0A%20%20%20%20%20%20%20%20%20%20%20%20%20%20%20%20%5B37.480376%2C%20126.882676%5D%2C%0A%20%20%20%20%20%20%20%20%20%20%20%20%20%20%20%20%7B%22radius%22%3A%201%7D%0A%20%20%20%20%20%20%20%20%20%20%20%20%29.addTo%28marker_cluster_3cef04be98534d17b9dafc6c30b2d8d1%29%3B%0A%20%20%20%20%20%20%20%20%0A%20%20%20%20%0A%20%20%20%20%20%20%20%20%20%20%20%20var%20marker_745bec44074d4c128df32a079cae8fd6%20%3D%20L.marker%28%0A%20%20%20%20%20%20%20%20%20%20%20%20%20%20%20%20%5B37.485243%2C%20126.901596%5D%2C%0A%20%20%20%20%20%20%20%20%20%20%20%20%20%20%20%20%7B%22radius%22%3A%201%7D%0A%20%20%20%20%20%20%20%20%20%20%20%20%29.addTo%28marker_cluster_3cef04be98534d17b9dafc6c30b2d8d1%29%3B%0A%20%20%20%20%20%20%20%20%0A%20%20%20%20%0A%20%20%20%20%20%20%20%20%20%20%20%20var%20marker_b26215a234fc40f9a8679cb79573026e%20%3D%20L.marker%28%0A%20%20%20%20%20%20%20%20%20%20%20%20%20%20%20%20%5B37.504872%2C%20127.004956%5D%2C%0A%20%20%20%20%20%20%20%20%20%20%20%20%20%20%20%20%7B%22radius%22%3A%201%7D%0A%20%20%20%20%20%20%20%20%20%20%20%20%29.addTo%28marker_cluster_3cef04be98534d17b9dafc6c30b2d8d1%29%3B%0A%20%20%20%20%20%20%20%20%0A%20%20%20%20%0A%20%20%20%20%20%20%20%20%20%20%20%20var%20marker_1242465e15fe435e9850a1e030a0f182%20%3D%20L.marker%28%0A%20%20%20%20%20%20%20%20%20%20%20%20%20%20%20%20%5B37.571631%2C%20126.976482%5D%2C%0A%20%20%20%20%20%20%20%20%20%20%20%20%20%20%20%20%7B%22radius%22%3A%201%7D%0A%20%20%20%20%20%20%20%20%20%20%20%20%29.addTo%28marker_cluster_3cef04be98534d17b9dafc6c30b2d8d1%29%3B%0A%20%20%20%20%20%20%20%20%0A%20%20%20%20%0A%20%20%20%20%20%20%20%20%20%20%20%20var%20marker_a850eb29857a459eab1c1376faa8e9e5%20%3D%20L.marker%28%0A%20%20%20%20%20%20%20%20%20%20%20%20%20%20%20%20%5B37.492938%2C%20127.01382%5D%2C%0A%20%20%20%20%20%20%20%20%20%20%20%20%20%20%20%20%7B%22radius%22%3A%201%7D%0A%20%20%20%20%20%20%20%20%20%20%20%20%29.addTo%28marker_cluster_3cef04be98534d17b9dafc6c30b2d8d1%29%3B%0A%20%20%20%20%20%20%20%20%0A%20%20%20%20%0A%20%20%20%20%20%20%20%20%20%20%20%20var%20marker_a4cd2a602de3400a8f4b16e6dea11e6b%20%3D%20L.marker%28%0A%20%20%20%20%20%20%20%20%20%20%20%20%20%20%20%20%5B37.56365%2C%20126.97553899999998%5D%2C%0A%20%20%20%20%20%20%20%20%20%20%20%20%20%20%20%20%7B%22radius%22%3A%201%7D%0A%20%20%20%20%20%20%20%20%20%20%20%20%29.addTo%28marker_cluster_3cef04be98534d17b9dafc6c30b2d8d1%29%3B%0A%20%20%20%20%20%20%20%20%0A%20%20%20%20%0A%20%20%20%20%20%20%20%20%20%20%20%20var%20marker_5cd51fbfcc8a45e6aff3b1ccf71638fc%20%3D%20L.marker%28%0A%20%20%20%20%20%20%20%20%20%20%20%20%20%20%20%20%5B37.553045%2C%20126.972625%5D%2C%0A%20%20%20%20%20%20%20%20%20%20%20%20%20%20%20%20%7B%22radius%22%3A%201%7D%0A%20%20%20%20%20%20%20%20%20%20%20%20%29.addTo%28marker_cluster_3cef04be98534d17b9dafc6c30b2d8d1%29%3B%0A%20%20%20%20%20%20%20%20%0A%20%20%20%20%0A%20%20%20%20%20%20%20%20%20%20%20%20var%20marker_2a1b7b0c49ca401bb30f8d6d5cdc5660%20%3D%20L.marker%28%0A%20%20%20%20%20%20%20%20%20%20%20%20%20%20%20%20%5B37.484609000000006%2C%20127.034674%5D%2C%0A%20%20%20%20%20%20%20%20%20%20%20%20%20%20%20%20%7B%22radius%22%3A%201%7D%0A%20%20%20%20%20%20%20%20%20%20%20%20%29.addTo%28marker_cluster_3cef04be98534d17b9dafc6c30b2d8d1%29%3B%0A%20%20%20%20%20%20%20%20%0A%20%20%20%20%0A%20%20%20%20%20%20%20%20%20%20%20%20var%20marker_0f1827987b4c4a56b27ad3a009907e15%20%3D%20L.marker%28%0A%20%20%20%20%20%20%20%20%20%20%20%20%20%20%20%20%5B37.566277%2C%20126.990967%5D%2C%0A%20%20%20%20%20%20%20%20%20%20%20%20%20%20%20%20%7B%22radius%22%3A%201%7D%0A%20%20%20%20%20%20%20%20%20%20%20%20%29.addTo%28marker_cluster_3cef04be98534d17b9dafc6c30b2d8d1%29%3B%0A%20%20%20%20%20%20%20%20%0A%20%20%20%20%0A%20%20%20%20%20%20%20%20%20%20%20%20var%20marker_36d8915ddd77459a9d2b2082b6cf95b6%20%3D%20L.marker%28%0A%20%20%20%20%20%20%20%20%20%20%20%20%20%20%20%20%5B37.565669%2C%20127.008977%5D%2C%0A%20%20%20%20%20%20%20%20%20%20%20%20%20%20%20%20%7B%22radius%22%3A%201%7D%0A%20%20%20%20%20%20%20%20%20%20%20%20%29.addTo%28marker_cluster_3cef04be98534d17b9dafc6c30b2d8d1%29%3B%0A%20%20%20%20%20%20%20%20%0A%20%20%20%20%0A%20%20%20%20%20%20%20%20%20%20%20%20var%20marker_55c86a177a6941fb9ce4742aef162861%20%3D%20L.marker%28%0A%20%20%20%20%20%20%20%20%20%20%20%20%20%20%20%20%5B37.57257%2C%20126.990396%5D%2C%0A%20%20%20%20%20%20%20%20%20%20%20%20%20%20%20%20%7B%22radius%22%3A%201%7D%0A%20%20%20%20%20%20%20%20%20%20%20%20%29.addTo%28marker_cluster_3cef04be98534d17b9dafc6c30b2d8d1%29%3B%0A%20%20%20%20%20%20%20%20%0A%20%20%20%20%0A%20%20%20%20%20%20%20%20%20%20%20%20var%20marker_9d2b0c060fb5474ebd7ad799a4d84e7a%20%3D%20L.marker%28%0A%20%20%20%20%20%20%20%20%20%20%20%20%20%20%20%20%5B37.556837%2C%20126.92375%5D%2C%0A%20%20%20%20%20%20%20%20%20%20%20%20%20%20%20%20%7B%22radius%22%3A%201%7D%0A%20%20%20%20%20%20%20%20%20%20%20%20%29.addTo%28marker_cluster_3cef04be98534d17b9dafc6c30b2d8d1%29%3B%0A%20%20%20%20%20%20%20%20%0A%20%20%20%20%0A%20%20%20%20%20%20%20%20%20%20%20%20var%20marker_760e98e01e4b4810b15df2087b4aaf4f%20%3D%20L.marker%28%0A%20%20%20%20%20%20%20%20%20%20%20%20%20%20%20%20%5B37.544566%2C%20127.056092%5D%2C%0A%20%20%20%20%20%20%20%20%20%20%20%20%20%20%20%20%7B%22radius%22%3A%201%7D%0A%20%20%20%20%20%20%20%20%20%20%20%20%29.addTo%28marker_cluster_3cef04be98534d17b9dafc6c30b2d8d1%29%3B%0A%20%20%20%20%20%20%20%20%0A%3C/script%3E onload=\"this.contentDocument.open();this.contentDocument.write(    decodeURIComponent(this.getAttribute('data-html')));this.contentDocument.close();\" allowfullscreen webkitallowfullscreen mozallowfullscreen></iframe></div></div>"
      ],
      "text/plain": [
       "<folium.folium.Map at 0x2516bbca1f0>"
      ]
     },
     "execution_count": 339,
     "metadata": {},
     "output_type": "execute_result"
    }
   ],
   "source": [
    "#퇴근길 상위 20개 하차지역\n",
    "map_f = folium.Map(location = [latitude, longitude],zoom_start = 10, width = 1000, height = 1000)\n",
    "marker_cluster = MarkerCluster().add_to(map_f)\n",
    "\n",
    "for lat, lon in tqdm(zip(top_station_lat_4, top_station_lon_4)):\n",
    "    folium.Marker([lat, lon], radius = 1).add_to(marker_cluster)\n",
    "\n",
    "map_f"
   ]
  },
  {
   "cell_type": "markdown",
   "id": "426feee2",
   "metadata": {},
   "source": [
    "### 2. Circuity가 낮은 지역을 대중교통 부족 현상이 보여지는 것으로 해석한다"
   ]
  },
  {
   "cell_type": "code",
   "execution_count": null,
   "id": "6ae83e76",
   "metadata": {},
   "outputs": [],
   "source": [
    "df_pre_com.info()"
   ]
  },
  {
   "cell_type": "code",
   "execution_count": null,
   "id": "65044008",
   "metadata": {},
   "outputs": [],
   "source": [
    "pd.DataFrame(df_pre_com.describe()['Circuity'])"
   ]
  },
  {
   "cell_type": "code",
   "execution_count": 346,
   "id": "2730280b",
   "metadata": {},
   "outputs": [],
   "source": [
    "df_pre_com_rein = df_pre_com.reset_index(drop = True)"
   ]
  },
  {
   "cell_type": "code",
   "execution_count": 347,
   "id": "748ab0e2",
   "metadata": {},
   "outputs": [],
   "source": [
    "move = []\n",
    "length = len(df_pre_com['card_name'])\n",
    "for i in range(length):\n",
    "    path = str(df_pre_com_rein['on_dong'][i]) + '_' + str(df_pre_com_rein['off_dong'][i])\n",
    "    move.append(path)"
   ]
  },
  {
   "cell_type": "code",
   "execution_count": 348,
   "id": "762eefbd",
   "metadata": {},
   "outputs": [],
   "source": [
    "df_circuity = df_pre_com.copy()"
   ]
  },
  {
   "cell_type": "code",
   "execution_count": 349,
   "id": "78c2cd49",
   "metadata": {},
   "outputs": [],
   "source": [
    "df_circuity['S_E_dong'] = move"
   ]
  },
  {
   "cell_type": "code",
   "execution_count": 350,
   "id": "2fcda9a1",
   "metadata": {},
   "outputs": [
    {
     "data": {
      "text/plain": [
       "1.2358421102378563"
      ]
     },
     "execution_count": 350,
     "metadata": {},
     "output_type": "execute_result"
    }
   ],
   "source": [
    "df_circuity['Circuity'].mean()"
   ]
  },
  {
   "cell_type": "code",
   "execution_count": 351,
   "id": "f26d8842",
   "metadata": {},
   "outputs": [],
   "source": [
    "df_circuity_overavg = df_circuity[df_circuity['Circuity'] > df_circuity['Circuity'].mean()] "
   ]
  },
  {
   "cell_type": "code",
   "execution_count": null,
   "id": "32f3efe0",
   "metadata": {},
   "outputs": [],
   "source": [
    "df_circuity_overavg.info()"
   ]
  },
  {
   "cell_type": "code",
   "execution_count": null,
   "id": "7248896f",
   "metadata": {},
   "outputs": [],
   "source": [
    "df_circuity_overavg.describe()"
   ]
  },
  {
   "cell_type": "markdown",
   "id": "85b747a4",
   "metadata": {},
   "source": [
    "* 전체 빈도데이터\n",
    "* 양재 1동 -> 양재 1동 : 양재역에서 인근 주거지역으로 가는 버스를 이용하는 경우가 많다. 셔틀버스 제공 가능\n",
    "* 휘경 1동 -> 회기동 : 회기역 -> 경의대 의료원(이미 바로 앞까지 가는 마을버스가 있다.)\n",
    "* 구의 3동 -> 역삼 1동 : 송파구를 돌아서 오는 루트밖에 없다(있긴한데 환승해야됨). 청담대교를 이용한 루트 가능\n",
    "* 개봉 1동 -> 개봉 1동 : 역에서 주거권으로 들어가는 경우가 많다. 수요가 있을지도 모른다\n",
    "* 역삼 1동 -> 구의 3동 : 송파구를 돌아서 오는 루트밖에 없다(있긴한데 환승해야됨). 청담대교를 이용한 루트 가능"
   ]
  },
  {
   "cell_type": "code",
   "execution_count": 354,
   "id": "d5f026f5",
   "metadata": {},
   "outputs": [
    {
     "data": {
      "text/plain": [
       "1123064_1123064    13949\n",
       "1124077_1123064    10861\n",
       "1123064_1124077    10687\n",
       "1122053_1123064     8352\n",
       "1123064_1120063     8012\n",
       "Name: S_E_dong, dtype: int64"
      ]
     },
     "execution_count": 354,
     "metadata": {},
     "output_type": "execute_result"
    }
   ],
   "source": [
    "# 전체 데이터\n",
    "# 양재 1동 -> 양재 1동 \n",
    "# 휘경 1동 -> 회기동 \n",
    "# 구의 3동 -> 역삼 1동 \n",
    "# 개봉 1동 -> 개봉 1동 \n",
    "# 역삼 1동 -> 구의 3동 \n",
    "df_circuity['S_E_dong'].value_counts().head(5)"
   ]
  },
  {
   "cell_type": "code",
   "execution_count": 355,
   "id": "df6d490f",
   "metadata": {},
   "outputs": [],
   "source": [
    "df_circuity_m = df_circuity_overavg.sort_values(by= 'Circuity', ascending=False).head(1000000)"
   ]
  },
  {
   "cell_type": "markdown",
   "id": "625c6100",
   "metadata": {},
   "source": [
    "* 상위 100만개 데이터\n",
    "* 수궁동 -> 수궁동 : 크게 돌아가진 않는다\n",
    "* 대학동 -> 낙성대동 : 학교를 한바퀴 돌고 내려가는 경향이 강하기 때문에 길다.\n",
    "* 전농 1동 -> 전농 1동 : 직선인 경로가 없다8  \n",
    "* 서교동 -> 신림동 : 지하철을 타면 돌아가긴 하지만 직선거리 버스가 이미 있다\n",
    "* 구의3동 -> 삼성1동 : 송파구를 돌아서 오는 루트밖에 없다. 청담대교를 이용한 루트 가능"
   ]
  },
  {
   "cell_type": "code",
   "execution_count": 356,
   "id": "ab8891db",
   "metadata": {},
   "outputs": [
    {
     "data": {
      "text/plain": [
       "1117069_1117069    2642\n",
       "1121073_1121058    2400\n",
       "1106083_1106083    2378\n",
       "1114066_1121069    1825\n",
       "1105062_1123058    1794\n",
       "Name: S_E_dong, dtype: int64"
      ]
     },
     "execution_count": 356,
     "metadata": {},
     "output_type": "execute_result"
    }
   ],
   "source": [
    "# 상위 100만개 데이터\n",
    "# 수궁동 -> 수궁동\n",
    "# 대학동 -> 낙성대동 \n",
    "# 전농 1동 -> 전농 1동 \n",
    "# 서교동 -> 신림동 \n",
    "# 구의3동 -> 삼성1동 \n",
    "df_circuity_m['S_E_dong'].value_counts().head(5)"
   ]
  },
  {
   "cell_type": "markdown",
   "id": "c95ab45d",
   "metadata": {},
   "source": [
    "### 3. 특정 시간대에 총 이동거리/ 총 이동시간의 비율이 낮아지는 경로는 모빌리티 수요가 있다고 판단한다"
   ]
  },
  {
   "cell_type": "code",
   "execution_count": null,
   "id": "e76c1703",
   "metadata": {},
   "outputs": [],
   "source": [
    "df_pre_com.info()"
   ]
  },
  {
   "cell_type": "code",
   "execution_count": 358,
   "id": "b67af9b8",
   "metadata": {},
   "outputs": [],
   "source": [
    "line_two_on ='신도림역|대림역|구로디지털단지역|신대방역|신림역|봉천역|서울대입구역|낙성대역'\n",
    "line_two_off ='교대역|강남역|역삼역|선릉역|삼성역'"
   ]
  },
  {
   "cell_type": "code",
   "execution_count": 359,
   "id": "844f54be",
   "metadata": {},
   "outputs": [],
   "source": [
    "line_number_two = df_pre_com[(df_pre_com['on_area_name'].str.contains(line_two_on)) & (df_pre_com['off_area_name'].str.contains(line_two_off)) & (df_pre_com['Bus'] == False) & (df_pre_com['Subway'] == True)]"
   ]
  },
  {
   "cell_type": "code",
   "execution_count": null,
   "id": "658839c4",
   "metadata": {},
   "outputs": [],
   "source": [
    "line_number_two.info()"
   ]
  },
  {
   "cell_type": "code",
   "execution_count": null,
   "id": "c398a91e",
   "metadata": {},
   "outputs": [],
   "source": [
    "line_number_two_nonzero = line_number_two[line_number_two['total_time'] != 0]\n",
    "line_number_two_nonzero.head()"
   ]
  },
  {
   "cell_type": "code",
   "execution_count": null,
   "id": "68410e49",
   "metadata": {},
   "outputs": [],
   "source": [
    "line_number_two_nonzero['dt_time'] = line_number_two_nonzero['total_distance'] / (line_number_two_nonzero['total_time']/60)\n",
    "line_number_two_nonzero.head()"
   ]
  },
  {
   "cell_type": "code",
   "execution_count": 363,
   "id": "d9a76549",
   "metadata": {},
   "outputs": [],
   "source": [
    "wt_line_two = line_number_two_nonzero[(line_number_two_nonzero['on_hour'] >= 7) & (line_number_two_nonzero['on_hour'] < 9)]"
   ]
  },
  {
   "cell_type": "code",
   "execution_count": 364,
   "id": "4807e9ce",
   "metadata": {},
   "outputs": [
    {
     "data": {
      "text/plain": [
       "신림역         3005\n",
       "서울대입구역      2498\n",
       "낙성대역        1933\n",
       "봉천역         1345\n",
       "구로디지털단지역    1204\n",
       "신대방역        1127\n",
       "신도림역        1039\n",
       "대림역          862\n",
       "Name: on_area_name, dtype: int64"
      ]
     },
     "execution_count": 364,
     "metadata": {},
     "output_type": "execute_result"
    }
   ],
   "source": [
    "wt_line_two['on_area_name'].value_counts()"
   ]
  },
  {
   "cell_type": "code",
   "execution_count": null,
   "id": "38bb2531",
   "metadata": {},
   "outputs": [],
   "source": [
    "pd.DataFrame(wt_line_two.describe()['dt_time'])"
   ]
  },
  {
   "cell_type": "code",
   "execution_count": 366,
   "id": "190644cf",
   "metadata": {},
   "outputs": [],
   "source": [
    "notwt_line_two = line_number_two_nonzero[(line_number_two_nonzero['on_hour'] < 7) | (line_number_two_nonzero['on_hour'] >= 9)]"
   ]
  },
  {
   "cell_type": "code",
   "execution_count": 367,
   "id": "062a72eb",
   "metadata": {},
   "outputs": [
    {
     "data": {
      "text/plain": [
       "서울대입구역      4593\n",
       "신림역         4434\n",
       "구로디지털단지역    2918\n",
       "낙성대역        2640\n",
       "봉천역         1828\n",
       "신도림역        1609\n",
       "신대방역        1512\n",
       "대림역         1289\n",
       "Name: on_area_name, dtype: int64"
      ]
     },
     "execution_count": 367,
     "metadata": {},
     "output_type": "execute_result"
    }
   ],
   "source": [
    "notwt_line_two['on_area_name'].value_counts()"
   ]
  },
  {
   "cell_type": "code",
   "execution_count": null,
   "id": "a384bf87",
   "metadata": {},
   "outputs": [],
   "source": [
    "pd.DataFrame(notwt_line_two.describe()['dt_time'])"
   ]
  },
  {
   "cell_type": "code",
   "execution_count": 369,
   "id": "e4cb86e6",
   "metadata": {},
   "outputs": [
    {
     "data": {
      "text/plain": [
       "<AxesSubplot:xlabel='transfer_ys', ylabel='Circuity'>"
      ]
     },
     "execution_count": 369,
     "metadata": {},
     "output_type": "execute_result"
    },
    {
     "data": {
      "image/png": "[encoded data removed]",
      "text/plain": [
       "<Figure size 720x720 with 1 Axes>"
      ]
     },
     "metadata": {},
     "output_type": "display_data"
    }
   ],
   "source": [
    "plt.figure(figsize = (10, 10))\n",
    "sns.boxplot(y=df_path['Circuity'],  x= df_path['transfer_ys'])"
   ]
  },
  {
   "cell_type": "code",
   "execution_count": 370,
   "id": "91a43267",
   "metadata": {},
   "outputs": [],
   "source": [
    "import scipy.stats"
   ]
  },
  {
   "cell_type": "code",
   "execution_count": 371,
   "id": "2a251da2",
   "metadata": {},
   "outputs": [
    {
     "data": {
      "text/plain": [
       "NormaltestResult(statistic=7424.112886126455, pvalue=0.0)"
      ]
     },
     "execution_count": 371,
     "metadata": {},
     "output_type": "execute_result"
    }
   ],
   "source": [
    "scipy.stats.normaltest(line_number_two_nonzero['dt_time'])"
   ]
  },
  {
   "cell_type": "code",
   "execution_count": 372,
   "id": "e90609d0",
   "metadata": {},
   "outputs": [
    {
     "data": {
      "text/plain": [
       "BartlettResult(statistic=829.5646696253615, pvalue=2.015179725144145e-182)"
      ]
     },
     "execution_count": 372,
     "metadata": {},
     "output_type": "execute_result"
    }
   ],
   "source": [
    "scipy.stats.bartlett(wt_line_two['dt_time'], notwt_line_two['dt_time'])"
   ]
  },
  {
   "cell_type": "code",
   "execution_count": 373,
   "id": "fb1f988c",
   "metadata": {},
   "outputs": [
    {
     "data": {
      "text/plain": [
       "Ttest_indResult(statistic=-51.02859992724365, pvalue=0.0)"
      ]
     },
     "execution_count": 373,
     "metadata": {},
     "output_type": "execute_result"
    }
   ],
   "source": [
    "scipy.stats.ttest_ind(wt_line_two['dt_time'], notwt_line_two['dt_time'], equal_var = False)"
   ]
  },
  {
   "cell_type": "code",
   "execution_count": 374,
   "id": "435a59cf",
   "metadata": {},
   "outputs": [
    {
     "data": {
      "text/plain": [
       "RanksumsResult(statistic=-60.673527337316344, pvalue=0.0)"
      ]
     },
     "execution_count": 374,
     "metadata": {},
     "output_type": "execute_result"
    }
   ],
   "source": [
    "scipy.stats.ranksums(wt_line_two['dt_time'], notwt_line_two['dt_time'])"
   ]
  },
  {
   "cell_type": "code",
   "execution_count": 375,
   "id": "e30c25f5",
   "metadata": {},
   "outputs": [
    {
     "name": "stdout",
     "output_type": "stream",
     "text": [
      "NormaltestResult(statistic=7424.112886126455, pvalue=0.0)\n",
      "BartlettResult(statistic=829.5646696253615, pvalue=2.015179725144145e-182)\n",
      "Ttest_indResult(statistic=-51.02859992724365, pvalue=0.0)\n",
      "RanksumsResult(statistic=-60.673527337316344, pvalue=0.0)\n"
     ]
    }
   ],
   "source": [
    "print(scipy.stats.normaltest(line_number_two_nonzero['dt_time']))\n",
    "print(scipy.stats.bartlett(wt_line_two['dt_time'], notwt_line_two['dt_time']))\n",
    "print(scipy.stats.ttest_ind(wt_line_two['dt_time'], notwt_line_two['dt_time'], equal_var = False))\n",
    "print(scipy.stats.ranksums(wt_line_two['dt_time'], notwt_line_two['dt_time']))"
   ]
  },
  {
   "cell_type": "markdown",
   "id": "3e4567b9",
   "metadata": {},
   "source": [
    "## Con3\n",
    "* 시각적으로 봤을 때, 출퇴근 시간에는 신도림 ~ 낙성대 구간 승차 후 교대 ~ 삼성에서 하차하는 사람들이 많았다.\n",
    "* 출근 시간에 그렇지 않은 시간보다 분당 30m 씩 덜 가는 것으로 보이며 이는 통계적으로 유의한 차이가 있다고 말할 수 있다.\n",
    "* 출근 시간에 해당 구역을 이동할 때, 혼잡한 지하철과 시간 지연이 예상되므로 이를 해결할 수 있는 다른 교통 수단에 대한 수요가 있을 법해 보인다.\n",
    "* 다른 경로에서 똑같은 현상을 찾아볼 수 없을까?"
   ]
  },
  {
   "cell_type": "markdown",
   "id": "276567ac",
   "metadata": {},
   "source": [
    "### 4. 이동 거리 대비 시간 비율이 높다면 대중교통은 부족한 것으로 여긴다"
   ]
  },
  {
   "cell_type": "code",
   "execution_count": null,
   "id": "31da03fa",
   "metadata": {},
   "outputs": [],
   "source": [
    "df_pre_com.info()"
   ]
  },
  {
   "cell_type": "code",
   "execution_count": null,
   "id": "e878b28c",
   "metadata": {},
   "outputs": [],
   "source": [
    "df_time = df_pre_com[['card_name', 'on_area_name', 'on_dong', 'off_area_name', 'off_dong', 'total_distance' , 'total_time', 'on_hour', 'on_minute', 'off_hour', 'off_minute']]\n",
    "df_time.head()"
   ]
  },
  {
   "cell_type": "code",
   "execution_count": null,
   "id": "a1f362b8",
   "metadata": {},
   "outputs": [],
   "source": [
    "#total time는 현실적으로 0이 나올 수 없지만 0이 나오는 경우가 있다. -> 제거\n",
    "df_time.describe()"
   ]
  },
  {
   "cell_type": "markdown",
   "id": "37e32650",
   "metadata": {},
   "source": [
    "* 너무 짧은 이동시간이나(순간이동) 너무 긴 이동시간(9시간 가까이)들을 어떠한 기준으로 제거 할 것인가?\n",
    "* 일단은 IQR을 사용하여 제거"
   ]
  },
  {
   "cell_type": "code",
   "execution_count": 379,
   "id": "7b519a46",
   "metadata": {},
   "outputs": [],
   "source": [
    "time_iqr = df_time['total_time'].quantile(0.75) - df_time['total_time'].quantile(0.25)\n",
    "outlier_step = time_iqr * 1.5"
   ]
  },
  {
   "cell_type": "code",
   "execution_count": 380,
   "id": "b48ad202",
   "metadata": {},
   "outputs": [
    {
     "name": "stdout",
     "output_type": "stream",
     "text": [
      "1495.0\n",
      "2242.5\n"
     ]
    }
   ],
   "source": [
    "print(time_iqr)\n",
    "print(outlier_step)"
   ]
  },
  {
   "cell_type": "code",
   "execution_count": 381,
   "id": "226c77b7",
   "metadata": {},
   "outputs": [
    {
     "data": {
      "text/plain": [
       "-1577.5"
      ]
     },
     "execution_count": 381,
     "metadata": {},
     "output_type": "execute_result"
    }
   ],
   "source": [
    "df_time['total_time'].quantile(0.25) - outlier_step"
   ]
  },
  {
   "cell_type": "code",
   "execution_count": 382,
   "id": "b6faa991",
   "metadata": {},
   "outputs": [],
   "source": [
    "# IQR을 사용하되 하위 데이터는 10분 이상이라는 조건을 설정한다.\n",
    "df_time_nonlier = df_time[(df_time['total_time'] < df_time['total_time'].quantile(0.75) + outlier_step) & (df_time['total_time'] > 600)]"
   ]
  },
  {
   "cell_type": "code",
   "execution_count": null,
   "id": "b87a23db",
   "metadata": {},
   "outputs": [],
   "source": [
    "df_time_nonlier.describe()"
   ]
  },
  {
   "cell_type": "code",
   "execution_count": 384,
   "id": "70f430ba",
   "metadata": {},
   "outputs": [
    {
     "name": "stderr",
     "output_type": "stream",
     "text": [
      "C:\\Users\\user\\AppData\\Local\\Temp/ipykernel_4496/490469653.py:1: SettingWithCopyWarning: \n",
      "A value is trying to be set on a copy of a slice from a DataFrame.\n",
      "Try using .loc[row_indexer,col_indexer] = value instead\n",
      "\n",
      "See the caveats in the documentation: https://pandas.pydata.org/pandas-docs/stable/user_guide/indexing.html#returning-a-view-versus-a-copy\n",
      "  df_time_nonlier['dt_ratio'] = df_time_nonlier['total_distance']/ (df_time_nonlier['total_time']/60)\n"
     ]
    }
   ],
   "source": [
    "df_time_nonlier['dt_ratio'] = df_time_nonlier['total_distance']/ (df_time_nonlier['total_time']/60)"
   ]
  },
  {
   "cell_type": "code",
   "execution_count": null,
   "id": "9397ab0f",
   "metadata": {},
   "outputs": [],
   "source": [
    "df_time_nonlier.info()"
   ]
  },
  {
   "cell_type": "code",
   "execution_count": null,
   "id": "a29fed7f",
   "metadata": {},
   "outputs": [],
   "source": [
    "df_time_nonlier.describe()"
   ]
  },
  {
   "cell_type": "code",
   "execution_count": null,
   "id": "1673cdb1",
   "metadata": {},
   "outputs": [],
   "source": [
    "df_time_nonlier.describe()[['total_distance', 'total_time', 'dt_ratio']]"
   ]
  },
  {
   "cell_type": "code",
   "execution_count": null,
   "id": "aaad0a9d",
   "metadata": {},
   "outputs": [],
   "source": [
    "# 출 퇴근 시간 고려하지 않은 전체 동 이동 데이터\n",
    "# 평균 보다 이동 거리/ 이동 시간이 낮은 데이터만 추출\n",
    "ratio_under_five = df_time_nonlier.sort_values(by='dt_ratio')[df_time_nonlier.sort_values(by='dt_ratio')['dt_ratio'] <= 315]\n",
    "ratio_under_five.head()"
   ]
  },
  {
   "cell_type": "code",
   "execution_count": 389,
   "id": "21408abf",
   "metadata": {},
   "outputs": [],
   "source": [
    "ratio_under_five.reset_index(drop=True, inplace = True)"
   ]
  },
  {
   "cell_type": "code",
   "execution_count": 390,
   "id": "b421c729",
   "metadata": {},
   "outputs": [
    {
     "data": {
      "application/vnd.jupyter.widget-view+json": {
       "model_id": "c5373ba2eda146d799035f3f0fcdbb31",
       "version_major": 2,
       "version_minor": 0
      },
      "text/plain": [
       "  0%|          | 0/2941230 [00:00<?, ?it/s]"
      ]
     },
     "metadata": {},
     "output_type": "display_data"
    }
   ],
   "source": [
    "movement = []\n",
    "length = len(ratio_under_five['card_name'])\n",
    "for i in tqdm(range(length)):\n",
    "    movement.append(str(ratio_under_five['on_dong'][i]) + '_' + str(ratio_under_five['off_dong'][i]))"
   ]
  },
  {
   "cell_type": "code",
   "execution_count": 391,
   "id": "9e645c0f",
   "metadata": {},
   "outputs": [
    {
     "data": {
      "text/plain": [
       "1121073_1121058    2931\n",
       "1117072_1117072    2763\n",
       "1114073_1114066    2666\n",
       "1123064_1105053    2601\n",
       "1123064_1122053    2590\n",
       "1122053_1123064    2552\n",
       "1101061_1102054    2489\n",
       "1123064_1122059    2457\n",
       "1123058_1123064    2451\n",
       "1114066_1114073    2449\n",
       "1101061_1114066    2312\n",
       "1122066_1122066    2227\n",
       "1122059_1123064    2170\n",
       "1102055_1113075    2043\n",
       "1105053_1123064    1989\n",
       "1102054_1101061    1983\n",
       "1114074_1114066    1947\n",
       "1123064_1123058    1790\n",
       "1102059_1102055    1772\n",
       "1101063_1102052    1762\n",
       "Name: movement, dtype: int64"
      ]
     },
     "execution_count": 391,
     "metadata": {},
     "output_type": "execute_result"
    }
   ],
   "source": [
    "# 대학동 -> 낙성대동\n",
    "# 노량진 1동 -> 노량진 1동\n",
    "# 성산 2동 -> 서교동\n",
    "# 종로 1,2,3,4가동 -> 회현동\n",
    "# 서교동 -> 성산 2동\n",
    "ratio_under_five['movement'] = movement\n",
    "ratio_under_five['movement'].value_counts().head(20)"
   ]
  },
  {
   "cell_type": "code",
   "execution_count": 392,
   "id": "878fed90",
   "metadata": {},
   "outputs": [
    {
     "data": {
      "text/plain": [
       "1121073_1121058    2931\n",
       "1117072_1117072    2763\n",
       "1114073_1114066    2666\n",
       "1123064_1105053    2601\n",
       "1123064_1122053    2590\n",
       "1122053_1123064    2552\n",
       "1101061_1102054    2489\n",
       "1123064_1122059    2457\n",
       "1123058_1123064    2451\n",
       "1114066_1114073    2449\n",
       "1101061_1114066    2312\n",
       "1122066_1122066    2227\n",
       "1122059_1123064    2170\n",
       "1102055_1113075    2043\n",
       "1105053_1123064    1989\n",
       "1102054_1101061    1983\n",
       "1114074_1114066    1947\n",
       "1123064_1123058    1790\n",
       "1102059_1102055    1772\n",
       "1101063_1102052    1762\n",
       "Name: movement, dtype: int64"
      ]
     },
     "execution_count": 392,
     "metadata": {},
     "output_type": "execute_result"
    }
   ],
   "source": [
    "# 대학동 -> 낙성대동\n",
    "# 노량진 1동 -> 노량진 1동\n",
    "# 성산 2동 -> 서교동\n",
    "# 종로 1,2,3,4가동 -> 회현동\n",
    "# 서교동 -> 성산 2동\n",
    "ratio_under_five['movement'] = movement\n",
    "ratio_under_five['movement'].value_counts().head(20)"
   ]
  },
  {
   "cell_type": "code",
   "execution_count": null,
   "id": "9616d1f8",
   "metadata": {},
   "outputs": [],
   "source": [
    "#출 퇴근 시간 고려한 동 이동 데이터\n",
    "wt_ruf = ratio_under_five[(ratio_under_five['on_hour'] >= 7) & (ratio_under_five['on_hour'] < 9)]\n",
    "wt_ruf.head()"
   ]
  },
  {
   "cell_type": "code",
   "execution_count": 394,
   "id": "3ea274b9",
   "metadata": {},
   "outputs": [
    {
     "data": {
      "text/plain": [
       "1117065_1118051    689\n",
       "1117072_1117072    674\n",
       "1118058_1118057    599\n",
       "1105053_1123064    568\n",
       "1108066_1101061    533\n",
       "1119069_1119054    501\n",
       "1115072_1119054    480\n",
       "1123076_1123075    475\n",
       "3111055_1122066    452\n",
       "1108082_1101061    447\n",
       "1122066_1122066    446\n",
       "1117065_1117055    428\n",
       "1119056_1119054    428\n",
       "1119055_1119054    419\n",
       "1116073_1119054    406\n",
       "1119073_1119054    391\n",
       "1114066_1119054    367\n",
       "1119061_1119054    365\n",
       "1108085_1111056    345\n",
       "1121069_1118051    334\n",
       "Name: movement, dtype: int64"
      ]
     },
     "execution_count": 394,
     "metadata": {},
     "output_type": "execute_result"
    }
   ],
   "source": [
    "# 개봉3동 -> 가산동\n",
    "# 개봉1동 -> 개봉1동\n",
    "# 시흥2동 -> 시흥1동\n",
    "# 신길7동 -> 여의동\n",
    "# 길음1동 -> 종로 1,2,3,4가동\n",
    "wt_ruf['movement'].value_counts().head(20)"
   ]
  },
  {
   "cell_type": "code",
   "execution_count": null,
   "id": "c60bb29a",
   "metadata": {},
   "outputs": [],
   "source": [
    "#1117065_1118051\n",
    "df_pre_com[(df_pre_com['on_dong'] == 1117065) & (df_pre_com['off_dong'] == 1118051)]"
   ]
  },
  {
   "cell_type": "code",
   "execution_count": 396,
   "id": "01df06bb",
   "metadata": {},
   "outputs": [
    {
     "data": {
      "text/plain": [
       "1117065_1118051    689\n",
       "1117072_1117072    674\n",
       "1118058_1118057    599\n",
       "1105053_1123064    568\n",
       "1108066_1101061    533\n",
       "1119069_1119054    501\n",
       "1115072_1119054    480\n",
       "1123076_1123075    475\n",
       "3111055_1122066    452\n",
       "1108082_1101061    447\n",
       "1122066_1122066    446\n",
       "1117065_1117055    428\n",
       "1119056_1119054    428\n",
       "1119055_1119054    419\n",
       "1116073_1119054    406\n",
       "1119073_1119054    391\n",
       "1114066_1119054    367\n",
       "1119061_1119054    365\n",
       "1108085_1111056    345\n",
       "1121069_1118051    334\n",
       "Name: movement, dtype: int64"
      ]
     },
     "execution_count": 396,
     "metadata": {},
     "output_type": "execute_result"
    }
   ],
   "source": [
    "# 개봉3동 -> 가산동\n",
    "# 개봉1동 -> 개봉1동\n",
    "# 시흥2동 -> 시흥1동\n",
    "# 신길7동 -> 여의동\n",
    "# 길음1동 -> 종로 1,2,3,4가동\n",
    "wt_ruf['movement'].value_counts().head(20)"
   ]
  },
  {
   "cell_type": "code",
   "execution_count": 397,
   "id": "b0fee039",
   "metadata": {},
   "outputs": [
    {
     "data": {
      "text/plain": [
       "(5832532, 12)"
      ]
     },
     "execution_count": 397,
     "metadata": {},
     "output_type": "execute_result"
    }
   ],
   "source": [
    "df_time_nonlier.shape"
   ]
  },
  {
   "cell_type": "code",
   "execution_count": null,
   "id": "5871232d",
   "metadata": {},
   "outputs": [],
   "source": [
    "df_time_nonlier.describe()"
   ]
  },
  {
   "cell_type": "code",
   "execution_count": 399,
   "id": "cddb8b7c",
   "metadata": {},
   "outputs": [],
   "source": [
    "df_time_nonlier_second = df_time_nonlier.copy()"
   ]
  },
  {
   "cell_type": "code",
   "execution_count": 400,
   "id": "446f71c6",
   "metadata": {},
   "outputs": [],
   "source": [
    "df_time_nonlier_second['dt_ratio'] = df_time_nonlier['dt_ratio']/60"
   ]
  },
  {
   "cell_type": "code",
   "execution_count": null,
   "id": "bfa90019",
   "metadata": {},
   "outputs": [],
   "source": [
    "df_time_nonlier_second.describe()"
   ]
  },
  {
   "cell_type": "code",
   "execution_count": null,
   "id": "3f1b3e30",
   "metadata": {},
   "outputs": [],
   "source": [
    "# 출 퇴근 시간 고려하지 않은 전체 동 이동 데이터\n",
    "# 평균 보다 이동 거리/ 이동 시간이 비교적 낮은 데이터만 추출\n",
    "ratio_under_five = df_time_nonlier_second[df_time_nonlier_second['dt_ratio'] <= 5.25589].sort_values(by = 'dt_ratio')\n",
    "ratio_under_five.describe()"
   ]
  },
  {
   "cell_type": "code",
   "execution_count": 403,
   "id": "99258eba",
   "metadata": {},
   "outputs": [],
   "source": [
    "ratio_under_five.reset_index(drop=True, inplace = True)"
   ]
  },
  {
   "cell_type": "code",
   "execution_count": null,
   "id": "c3dc6ef9",
   "metadata": {},
   "outputs": [],
   "source": [
    "ratio_under_five.head()"
   ]
  },
  {
   "cell_type": "code",
   "execution_count": 405,
   "id": "e52b7892",
   "metadata": {},
   "outputs": [
    {
     "data": {
      "text/plain": [
       "(2948391, 12)"
      ]
     },
     "execution_count": 405,
     "metadata": {},
     "output_type": "execute_result"
    }
   ],
   "source": [
    "ratio_under_five.shape"
   ]
  },
  {
   "cell_type": "code",
   "execution_count": 406,
   "id": "8cfc7c28",
   "metadata": {},
   "outputs": [
    {
     "name": "stdout",
     "output_type": "stream",
     "text": [
      "(425, 3)\n",
      "(551, 3)\n"
     ]
    }
   ],
   "source": [
    "df_seoul = pd.read_csv(location + '/seoul_id.csv', encoding = 'euc-kr')\n",
    "df_gyeongki = pd.read_csv(location + '/gyeonggi_id.csv', encoding = 'euc-kr')\n",
    "print(df_seoul.shape)\n",
    "print(df_gyeongki.shape)"
   ]
  },
  {
   "cell_type": "code",
   "execution_count": 407,
   "id": "d4f08ed8",
   "metadata": {},
   "outputs": [],
   "source": [
    "ratio_under_five = pd.merge(ratio_under_five, df_seoul, left_on = 'on_dong', right_on = '행정구역번호', how = 'left')\n",
    "ratio_under_five = pd.merge(ratio_under_five, df_seoul, left_on = 'off_dong', right_on = '행정구역번호', how = 'left')"
   ]
  },
  {
   "cell_type": "code",
   "execution_count": 408,
   "id": "d65f7a4c",
   "metadata": {},
   "outputs": [],
   "source": [
    "ratio_under_five['route'] = ratio_under_five['읍면동명칭_x'] + ratio_under_five['읍면동명칭_y']"
   ]
  },
  {
   "cell_type": "code",
   "execution_count": null,
   "id": "aafecb80",
   "metadata": {},
   "outputs": [],
   "source": [
    "ratio_under_five.head()"
   ]
  },
  {
   "cell_type": "code",
   "execution_count": 410,
   "id": "e9f2bd49",
   "metadata": {},
   "outputs": [
    {
     "name": "stdout",
     "output_type": "stream",
     "text": [
      "(2927973, 19)\n"
     ]
    }
   ],
   "source": [
    "df_final = ratio_under_five[ratio_under_five['on_dong']!=ratio_under_five['off_dong']]\n",
    "print(df_final.shape)"
   ]
  },
  {
   "cell_type": "code",
   "execution_count": 411,
   "id": "f95adc9e",
   "metadata": {},
   "outputs": [
    {
     "data": {
      "text/plain": [
       "<AxesSubplot:xlabel='on_hour', ylabel='Count'>"
      ]
     },
     "execution_count": 411,
     "metadata": {},
     "output_type": "execute_result"
    },
    {
     "data": {
      "image/png": "[encoded data removed]",
      "text/plain": [
       "<Figure size 432x288 with 1 Axes>"
      ]
     },
     "metadata": {},
     "output_type": "display_data"
    }
   ],
   "source": [
    "sns.histplot(data = df_final, x = 'on_hour')\n",
    "#가장 이용자가 많은 시간 출근시간 7~9시 , 퇴근시간 17~19시"
   ]
  },
  {
   "cell_type": "code",
   "execution_count": 412,
   "id": "fe021a02",
   "metadata": {},
   "outputs": [
    {
     "name": "stdout",
     "output_type": "stream",
     "text": [
      "(483208, 19)\n",
      "(1166565, 19)\n",
      "(518744, 19)\n",
      "(626129, 19)\n"
     ]
    }
   ],
   "source": [
    "# 아침 7시~9시전 출근시간 시간 데이터 분류\n",
    "df_onwork = df_final[(df_final['on_hour']==7)|(df_final['on_hour']==8)]\n",
    "df_day = df_final[(df_final['on_hour']>=9)&(df_final['on_hour']<=16)]\n",
    "df_offwork = df_final[(df_final['on_hour']==17)|(df_final['on_hour']==18)]\n",
    "df_night = df_final[(df_final['on_hour']>=19)&(df_final['on_hour']<=23)]\n",
    "print(df_onwork.shape)\n",
    "print(df_day.shape)\n",
    "print(df_offwork.shape)\n",
    "print(df_night.shape)"
   ]
  },
  {
   "cell_type": "code",
   "execution_count": 413,
   "id": "eceb432c",
   "metadata": {},
   "outputs": [
    {
     "data": {
      "text/plain": [
       "대학동낙성대동           2932\n",
       "성산2동서교동           2666\n",
       "역삼1동화양동           2618\n",
       "역삼1동서초3동          2592\n",
       "서초3동역삼1동          2557\n",
       "종로1·2·3·4가동회현동    2489\n",
       "삼성1동역삼1동          2462\n",
       "역삼1동반포3동          2457\n",
       "서교동성산2동           2449\n",
       "종로1·2·3·4가동서교동    2313\n",
       "반포3동역삼1동          2172\n",
       "명동신촌동             2049\n",
       "화양동역삼1동           2001\n",
       "회현동종로1·2·3·4가동    1983\n",
       "상암동서교동            1947\n",
       "역삼1동삼성1동          1802\n",
       "광희동명동             1772\n",
       "종로5·6가동소공동        1763\n",
       "석관동공릉2동           1721\n",
       "명동광희동             1612\n",
       "Name: route, dtype: int64"
      ]
     },
     "execution_count": 413,
     "metadata": {},
     "output_type": "execute_result"
    }
   ],
   "source": [
    "df_final['route'].value_counts().head(20)"
   ]
  },
  {
   "cell_type": "code",
   "execution_count": 414,
   "id": "b993ab8e",
   "metadata": {},
   "outputs": [
    {
     "data": {
      "text/plain": [
       "대학동낙성대동     2932\n",
       "성산2동서교동     2666\n",
       "역삼1동화양동     2618\n",
       "역삼1동서초3동    2592\n",
       "서초3동역삼1동    2557\n",
       "Name: route, dtype: int64"
      ]
     },
     "execution_count": 414,
     "metadata": {},
     "output_type": "execute_result"
    }
   ],
   "source": [
    "df_final['route'].value_counts().head(5)"
   ]
  },
  {
   "cell_type": "code",
   "execution_count": 415,
   "id": "9d24571a",
   "metadata": {},
   "outputs": [
    {
     "data": {
      "text/html": [
       "<div>\n",
       "<style scoped>\n",
       "    .dataframe tbody tr th:only-of-type {\n",
       "        vertical-align: middle;\n",
       "    }\n",
       "\n",
       "    .dataframe tbody tr th {\n",
       "        vertical-align: top;\n",
       "    }\n",
       "\n",
       "    .dataframe thead th {\n",
       "        text-align: right;\n",
       "    }\n",
       "</style>\n",
       "<table border=\"1\" class=\"dataframe\">\n",
       "  <thead>\n",
       "    <tr style=\"text-align: right;\">\n",
       "      <th></th>\n",
       "      <th>index</th>\n",
       "      <th>route</th>\n",
       "    </tr>\n",
       "  </thead>\n",
       "  <tbody>\n",
       "    <tr>\n",
       "      <th>0</th>\n",
       "      <td>개봉3동가산동</td>\n",
       "      <td>689</td>\n",
       "    </tr>\n",
       "    <tr>\n",
       "      <th>1</th>\n",
       "      <td>시흥2동시흥1동</td>\n",
       "      <td>599</td>\n",
       "    </tr>\n",
       "    <tr>\n",
       "      <th>2</th>\n",
       "      <td>화양동역삼1동</td>\n",
       "      <td>570</td>\n",
       "    </tr>\n",
       "    <tr>\n",
       "      <th>3</th>\n",
       "      <td>길음1동종로1·2·3·4가동</td>\n",
       "      <td>533</td>\n",
       "    </tr>\n",
       "    <tr>\n",
       "      <th>4</th>\n",
       "      <td>신길7동여의동</td>\n",
       "      <td>501</td>\n",
       "    </tr>\n",
       "    <tr>\n",
       "      <th>5</th>\n",
       "      <td>신정4동여의동</td>\n",
       "      <td>481</td>\n",
       "    </tr>\n",
       "    <tr>\n",
       "      <th>6</th>\n",
       "      <td>세곡동수서동</td>\n",
       "      <td>476</td>\n",
       "    </tr>\n",
       "    <tr>\n",
       "      <th>7</th>\n",
       "      <td>삼선동종로1·2·3·4가동</td>\n",
       "      <td>447</td>\n",
       "    </tr>\n",
       "    <tr>\n",
       "      <th>8</th>\n",
       "      <td>개봉3동구로4동</td>\n",
       "      <td>430</td>\n",
       "    </tr>\n",
       "    <tr>\n",
       "      <th>9</th>\n",
       "      <td>당산2동여의동</td>\n",
       "      <td>428</td>\n",
       "    </tr>\n",
       "    <tr>\n",
       "      <th>10</th>\n",
       "      <td>당산1동여의동</td>\n",
       "      <td>419</td>\n",
       "    </tr>\n",
       "    <tr>\n",
       "      <th>11</th>\n",
       "      <td>화곡1동여의동</td>\n",
       "      <td>406</td>\n",
       "    </tr>\n",
       "    <tr>\n",
       "      <th>12</th>\n",
       "      <td>영등포본동여의동</td>\n",
       "      <td>391</td>\n",
       "    </tr>\n",
       "    <tr>\n",
       "      <th>13</th>\n",
       "      <td>서교동여의동</td>\n",
       "      <td>367</td>\n",
       "    </tr>\n",
       "    <tr>\n",
       "      <th>14</th>\n",
       "      <td>양평1동여의동</td>\n",
       "      <td>367</td>\n",
       "    </tr>\n",
       "    <tr>\n",
       "      <th>15</th>\n",
       "      <td>석관동공릉2동</td>\n",
       "      <td>345</td>\n",
       "    </tr>\n",
       "    <tr>\n",
       "      <th>16</th>\n",
       "      <td>신림동가산동</td>\n",
       "      <td>335</td>\n",
       "    </tr>\n",
       "    <tr>\n",
       "      <th>17</th>\n",
       "      <td>아현동사직동</td>\n",
       "      <td>334</td>\n",
       "    </tr>\n",
       "    <tr>\n",
       "      <th>18</th>\n",
       "      <td>독산1동가산동</td>\n",
       "      <td>327</td>\n",
       "    </tr>\n",
       "    <tr>\n",
       "      <th>19</th>\n",
       "      <td>난곡동조원동</td>\n",
       "      <td>323</td>\n",
       "    </tr>\n",
       "    <tr>\n",
       "      <th>20</th>\n",
       "      <td>대학동낙성대동</td>\n",
       "      <td>316</td>\n",
       "    </tr>\n",
       "    <tr>\n",
       "      <th>21</th>\n",
       "      <td>장안2동휘경1동</td>\n",
       "      <td>307</td>\n",
       "    </tr>\n",
       "    <tr>\n",
       "      <th>22</th>\n",
       "      <td>신도림동여의동</td>\n",
       "      <td>305</td>\n",
       "    </tr>\n",
       "    <tr>\n",
       "      <th>23</th>\n",
       "      <td>사당1동서초3동</td>\n",
       "      <td>302</td>\n",
       "    </tr>\n",
       "    <tr>\n",
       "      <th>24</th>\n",
       "      <td>양평2동여의동</td>\n",
       "      <td>301</td>\n",
       "    </tr>\n",
       "    <tr>\n",
       "      <th>25</th>\n",
       "      <td>화곡1동당산1동</td>\n",
       "      <td>298</td>\n",
       "    </tr>\n",
       "    <tr>\n",
       "      <th>26</th>\n",
       "      <td>목1동여의동</td>\n",
       "      <td>297</td>\n",
       "    </tr>\n",
       "    <tr>\n",
       "      <th>27</th>\n",
       "      <td>서초3동역삼1동</td>\n",
       "      <td>295</td>\n",
       "    </tr>\n",
       "    <tr>\n",
       "      <th>28</th>\n",
       "      <td>동선동종로1·2·3·4가동</td>\n",
       "      <td>294</td>\n",
       "    </tr>\n",
       "    <tr>\n",
       "      <th>29</th>\n",
       "      <td>사당1동역삼1동</td>\n",
       "      <td>290</td>\n",
       "    </tr>\n",
       "  </tbody>\n",
       "</table>\n",
       "</div>"
      ],
      "text/plain": [
       "              index  route\n",
       "0           개봉3동가산동    689\n",
       "1          시흥2동시흥1동    599\n",
       "2           화양동역삼1동    570\n",
       "3   길음1동종로1·2·3·4가동    533\n",
       "4           신길7동여의동    501\n",
       "5           신정4동여의동    481\n",
       "6            세곡동수서동    476\n",
       "7    삼선동종로1·2·3·4가동    447\n",
       "8          개봉3동구로4동    430\n",
       "9           당산2동여의동    428\n",
       "10          당산1동여의동    419\n",
       "11          화곡1동여의동    406\n",
       "12         영등포본동여의동    391\n",
       "13           서교동여의동    367\n",
       "14          양평1동여의동    367\n",
       "15          석관동공릉2동    345\n",
       "16           신림동가산동    335\n",
       "17           아현동사직동    334\n",
       "18          독산1동가산동    327\n",
       "19           난곡동조원동    323\n",
       "20          대학동낙성대동    316\n",
       "21         장안2동휘경1동    307\n",
       "22          신도림동여의동    305\n",
       "23         사당1동서초3동    302\n",
       "24          양평2동여의동    301\n",
       "25         화곡1동당산1동    298\n",
       "26           목1동여의동    297\n",
       "27         서초3동역삼1동    295\n",
       "28   동선동종로1·2·3·4가동    294\n",
       "29         사당1동역삼1동    290"
      ]
     },
     "execution_count": 415,
     "metadata": {},
     "output_type": "execute_result"
    }
   ],
   "source": [
    "#출근 시간대에 사람들이 많이 이용하는 구간 (구간 & 이용 빈도수)\n",
    "df_onwork['route'].value_counts().head(30).reset_index()"
   ]
  },
  {
   "cell_type": "code",
   "execution_count": 416,
   "id": "a204895e",
   "metadata": {},
   "outputs": [
    {
     "data": {
      "text/html": [
       "<div>\n",
       "<style scoped>\n",
       "    .dataframe tbody tr th:only-of-type {\n",
       "        vertical-align: middle;\n",
       "    }\n",
       "\n",
       "    .dataframe tbody tr th {\n",
       "        vertical-align: top;\n",
       "    }\n",
       "\n",
       "    .dataframe thead th {\n",
       "        text-align: right;\n",
       "    }\n",
       "</style>\n",
       "<table border=\"1\" class=\"dataframe\">\n",
       "  <thead>\n",
       "    <tr style=\"text-align: right;\">\n",
       "      <th></th>\n",
       "      <th>index</th>\n",
       "      <th>route</th>\n",
       "    </tr>\n",
       "  </thead>\n",
       "  <tbody>\n",
       "    <tr>\n",
       "      <th>0</th>\n",
       "      <td>서초3동역삼1동</td>\n",
       "      <td>1353</td>\n",
       "    </tr>\n",
       "    <tr>\n",
       "      <th>1</th>\n",
       "      <td>삼성1동역삼1동</td>\n",
       "      <td>1348</td>\n",
       "    </tr>\n",
       "    <tr>\n",
       "      <th>2</th>\n",
       "      <td>역삼1동서초3동</td>\n",
       "      <td>1332</td>\n",
       "    </tr>\n",
       "    <tr>\n",
       "      <th>3</th>\n",
       "      <td>종로5·6가동소공동</td>\n",
       "      <td>1321</td>\n",
       "    </tr>\n",
       "    <tr>\n",
       "      <th>4</th>\n",
       "      <td>반포3동역삼1동</td>\n",
       "      <td>1294</td>\n",
       "    </tr>\n",
       "    <tr>\n",
       "      <th>5</th>\n",
       "      <td>역삼1동반포3동</td>\n",
       "      <td>1211</td>\n",
       "    </tr>\n",
       "    <tr>\n",
       "      <th>6</th>\n",
       "      <td>회현동종로1·2·3·4가동</td>\n",
       "      <td>1201</td>\n",
       "    </tr>\n",
       "    <tr>\n",
       "      <th>7</th>\n",
       "      <td>성산2동서교동</td>\n",
       "      <td>1200</td>\n",
       "    </tr>\n",
       "    <tr>\n",
       "      <th>8</th>\n",
       "      <td>서교동성산2동</td>\n",
       "      <td>1150</td>\n",
       "    </tr>\n",
       "    <tr>\n",
       "      <th>9</th>\n",
       "      <td>종로1·2·3·4가동회현동</td>\n",
       "      <td>1132</td>\n",
       "    </tr>\n",
       "    <tr>\n",
       "      <th>10</th>\n",
       "      <td>소공동종로5·6가동</td>\n",
       "      <td>1065</td>\n",
       "    </tr>\n",
       "    <tr>\n",
       "      <th>11</th>\n",
       "      <td>역삼1동삼성1동</td>\n",
       "      <td>1033</td>\n",
       "    </tr>\n",
       "    <tr>\n",
       "      <th>12</th>\n",
       "      <td>명동신촌동</td>\n",
       "      <td>953</td>\n",
       "    </tr>\n",
       "    <tr>\n",
       "      <th>13</th>\n",
       "      <td>대학동낙성대동</td>\n",
       "      <td>880</td>\n",
       "    </tr>\n",
       "    <tr>\n",
       "      <th>14</th>\n",
       "      <td>종로1·2·3·4가동서교동</td>\n",
       "      <td>877</td>\n",
       "    </tr>\n",
       "    <tr>\n",
       "      <th>15</th>\n",
       "      <td>종로1·2·3·4가동사직동</td>\n",
       "      <td>861</td>\n",
       "    </tr>\n",
       "    <tr>\n",
       "      <th>16</th>\n",
       "      <td>화양동역삼1동</td>\n",
       "      <td>834</td>\n",
       "    </tr>\n",
       "    <tr>\n",
       "      <th>17</th>\n",
       "      <td>광희동명동</td>\n",
       "      <td>834</td>\n",
       "    </tr>\n",
       "    <tr>\n",
       "      <th>18</th>\n",
       "      <td>서교동신촌동</td>\n",
       "      <td>817</td>\n",
       "    </tr>\n",
       "    <tr>\n",
       "      <th>19</th>\n",
       "      <td>서교동종로1·2·3·4가동</td>\n",
       "      <td>812</td>\n",
       "    </tr>\n",
       "    <tr>\n",
       "      <th>20</th>\n",
       "      <td>종로5·6가동종로1·2·3·4가동</td>\n",
       "      <td>806</td>\n",
       "    </tr>\n",
       "    <tr>\n",
       "      <th>21</th>\n",
       "      <td>종로5·6가동명동</td>\n",
       "      <td>803</td>\n",
       "    </tr>\n",
       "    <tr>\n",
       "      <th>22</th>\n",
       "      <td>종로5·6가동회현동</td>\n",
       "      <td>795</td>\n",
       "    </tr>\n",
       "    <tr>\n",
       "      <th>23</th>\n",
       "      <td>종로5·6가동제기동</td>\n",
       "      <td>788</td>\n",
       "    </tr>\n",
       "    <tr>\n",
       "      <th>24</th>\n",
       "      <td>사직동종로1·2·3·4가동</td>\n",
       "      <td>782</td>\n",
       "    </tr>\n",
       "    <tr>\n",
       "      <th>25</th>\n",
       "      <td>반포3동서초3동</td>\n",
       "      <td>762</td>\n",
       "    </tr>\n",
       "    <tr>\n",
       "      <th>26</th>\n",
       "      <td>신촌동명동</td>\n",
       "      <td>749</td>\n",
       "    </tr>\n",
       "    <tr>\n",
       "      <th>27</th>\n",
       "      <td>종로1·2·3·4가동종로5·6가동</td>\n",
       "      <td>741</td>\n",
       "    </tr>\n",
       "    <tr>\n",
       "      <th>28</th>\n",
       "      <td>서초3동반포3동</td>\n",
       "      <td>738</td>\n",
       "    </tr>\n",
       "    <tr>\n",
       "      <th>29</th>\n",
       "      <td>인헌동대학동</td>\n",
       "      <td>730</td>\n",
       "    </tr>\n",
       "  </tbody>\n",
       "</table>\n",
       "</div>"
      ],
      "text/plain": [
       "                 index  route\n",
       "0             서초3동역삼1동   1353\n",
       "1             삼성1동역삼1동   1348\n",
       "2             역삼1동서초3동   1332\n",
       "3           종로5·6가동소공동   1321\n",
       "4             반포3동역삼1동   1294\n",
       "5             역삼1동반포3동   1211\n",
       "6       회현동종로1·2·3·4가동   1201\n",
       "7              성산2동서교동   1200\n",
       "8              서교동성산2동   1150\n",
       "9       종로1·2·3·4가동회현동   1132\n",
       "10          소공동종로5·6가동   1065\n",
       "11            역삼1동삼성1동   1033\n",
       "12               명동신촌동    953\n",
       "13             대학동낙성대동    880\n",
       "14      종로1·2·3·4가동서교동    877\n",
       "15      종로1·2·3·4가동사직동    861\n",
       "16             화양동역삼1동    834\n",
       "17               광희동명동    834\n",
       "18              서교동신촌동    817\n",
       "19      서교동종로1·2·3·4가동    812\n",
       "20  종로5·6가동종로1·2·3·4가동    806\n",
       "21           종로5·6가동명동    803\n",
       "22          종로5·6가동회현동    795\n",
       "23          종로5·6가동제기동    788\n",
       "24      사직동종로1·2·3·4가동    782\n",
       "25            반포3동서초3동    762\n",
       "26               신촌동명동    749\n",
       "27  종로1·2·3·4가동종로5·6가동    741\n",
       "28            서초3동반포3동    738\n",
       "29              인헌동대학동    730"
      ]
     },
     "execution_count": 416,
     "metadata": {},
     "output_type": "execute_result"
    }
   ],
   "source": [
    "#낮 시간대에 사람들이 많이 이용하는 구간 (구간 & 이용 빈도수)\n",
    "df_day['route'].value_counts().head(30).reset_index()"
   ]
  },
  {
   "cell_type": "code",
   "execution_count": 417,
   "id": "e6b2ff48",
   "metadata": {},
   "outputs": [
    {
     "data": {
      "text/html": [
       "<div>\n",
       "<style scoped>\n",
       "    .dataframe tbody tr th:only-of-type {\n",
       "        vertical-align: middle;\n",
       "    }\n",
       "\n",
       "    .dataframe tbody tr th {\n",
       "        vertical-align: top;\n",
       "    }\n",
       "\n",
       "    .dataframe thead th {\n",
       "        text-align: right;\n",
       "    }\n",
       "</style>\n",
       "<table border=\"1\" class=\"dataframe\">\n",
       "  <thead>\n",
       "    <tr style=\"text-align: right;\">\n",
       "      <th></th>\n",
       "      <th>index</th>\n",
       "      <th>route</th>\n",
       "    </tr>\n",
       "  </thead>\n",
       "  <tbody>\n",
       "    <tr>\n",
       "      <th>0</th>\n",
       "      <td>대학동낙성대동</td>\n",
       "      <td>884</td>\n",
       "    </tr>\n",
       "    <tr>\n",
       "      <th>1</th>\n",
       "      <td>역삼1동화양동</td>\n",
       "      <td>808</td>\n",
       "    </tr>\n",
       "    <tr>\n",
       "      <th>2</th>\n",
       "      <td>여의동서교동</td>\n",
       "      <td>643</td>\n",
       "    </tr>\n",
       "    <tr>\n",
       "      <th>3</th>\n",
       "      <td>성산2동서교동</td>\n",
       "      <td>623</td>\n",
       "    </tr>\n",
       "    <tr>\n",
       "      <th>4</th>\n",
       "      <td>역삼1동반포3동</td>\n",
       "      <td>618</td>\n",
       "    </tr>\n",
       "    <tr>\n",
       "      <th>5</th>\n",
       "      <td>종로1·2·3·4가동서교동</td>\n",
       "      <td>607</td>\n",
       "    </tr>\n",
       "    <tr>\n",
       "      <th>6</th>\n",
       "      <td>역삼1동서초3동</td>\n",
       "      <td>591</td>\n",
       "    </tr>\n",
       "    <tr>\n",
       "      <th>7</th>\n",
       "      <td>종로1·2·3·4가동회현동</td>\n",
       "      <td>578</td>\n",
       "    </tr>\n",
       "    <tr>\n",
       "      <th>8</th>\n",
       "      <td>삼성1동역삼1동</td>\n",
       "      <td>546</td>\n",
       "    </tr>\n",
       "    <tr>\n",
       "      <th>9</th>\n",
       "      <td>상암동서교동</td>\n",
       "      <td>517</td>\n",
       "    </tr>\n",
       "    <tr>\n",
       "      <th>10</th>\n",
       "      <td>가산동개봉3동</td>\n",
       "      <td>482</td>\n",
       "    </tr>\n",
       "    <tr>\n",
       "      <th>11</th>\n",
       "      <td>여의동당산2동</td>\n",
       "      <td>474</td>\n",
       "    </tr>\n",
       "    <tr>\n",
       "      <th>12</th>\n",
       "      <td>여의동영등포본동</td>\n",
       "      <td>455</td>\n",
       "    </tr>\n",
       "    <tr>\n",
       "      <th>13</th>\n",
       "      <td>서초3동역삼1동</td>\n",
       "      <td>439</td>\n",
       "    </tr>\n",
       "    <tr>\n",
       "      <th>14</th>\n",
       "      <td>명동신촌동</td>\n",
       "      <td>425</td>\n",
       "    </tr>\n",
       "    <tr>\n",
       "      <th>15</th>\n",
       "      <td>서교동성산2동</td>\n",
       "      <td>414</td>\n",
       "    </tr>\n",
       "    <tr>\n",
       "      <th>16</th>\n",
       "      <td>사직동서교동</td>\n",
       "      <td>396</td>\n",
       "    </tr>\n",
       "    <tr>\n",
       "      <th>17</th>\n",
       "      <td>종로1·2·3·4가동삼선동</td>\n",
       "      <td>365</td>\n",
       "    </tr>\n",
       "    <tr>\n",
       "      <th>18</th>\n",
       "      <td>서초3동사당1동</td>\n",
       "      <td>362</td>\n",
       "    </tr>\n",
       "    <tr>\n",
       "      <th>19</th>\n",
       "      <td>여의동신길7동</td>\n",
       "      <td>349</td>\n",
       "    </tr>\n",
       "    <tr>\n",
       "      <th>20</th>\n",
       "      <td>소공동서교동</td>\n",
       "      <td>346</td>\n",
       "    </tr>\n",
       "    <tr>\n",
       "      <th>21</th>\n",
       "      <td>신촌동서교동</td>\n",
       "      <td>344</td>\n",
       "    </tr>\n",
       "    <tr>\n",
       "      <th>22</th>\n",
       "      <td>종로1·2·3·4가동신촌동</td>\n",
       "      <td>340</td>\n",
       "    </tr>\n",
       "    <tr>\n",
       "      <th>23</th>\n",
       "      <td>종로5·6가동청량리동</td>\n",
       "      <td>339</td>\n",
       "    </tr>\n",
       "    <tr>\n",
       "      <th>24</th>\n",
       "      <td>광희동명동</td>\n",
       "      <td>335</td>\n",
       "    </tr>\n",
       "    <tr>\n",
       "      <th>25</th>\n",
       "      <td>종로5·6가동회현동</td>\n",
       "      <td>332</td>\n",
       "    </tr>\n",
       "    <tr>\n",
       "      <th>26</th>\n",
       "      <td>회현동종로1·2·3·4가동</td>\n",
       "      <td>331</td>\n",
       "    </tr>\n",
       "    <tr>\n",
       "      <th>27</th>\n",
       "      <td>여의동당산1동</td>\n",
       "      <td>330</td>\n",
       "    </tr>\n",
       "    <tr>\n",
       "      <th>28</th>\n",
       "      <td>반포3동역삼1동</td>\n",
       "      <td>321</td>\n",
       "    </tr>\n",
       "    <tr>\n",
       "      <th>29</th>\n",
       "      <td>명동서교동</td>\n",
       "      <td>320</td>\n",
       "    </tr>\n",
       "  </tbody>\n",
       "</table>\n",
       "</div>"
      ],
      "text/plain": [
       "             index  route\n",
       "0          대학동낙성대동    884\n",
       "1          역삼1동화양동    808\n",
       "2           여의동서교동    643\n",
       "3          성산2동서교동    623\n",
       "4         역삼1동반포3동    618\n",
       "5   종로1·2·3·4가동서교동    607\n",
       "6         역삼1동서초3동    591\n",
       "7   종로1·2·3·4가동회현동    578\n",
       "8         삼성1동역삼1동    546\n",
       "9           상암동서교동    517\n",
       "10         가산동개봉3동    482\n",
       "11         여의동당산2동    474\n",
       "12        여의동영등포본동    455\n",
       "13        서초3동역삼1동    439\n",
       "14           명동신촌동    425\n",
       "15         서교동성산2동    414\n",
       "16          사직동서교동    396\n",
       "17  종로1·2·3·4가동삼선동    365\n",
       "18        서초3동사당1동    362\n",
       "19         여의동신길7동    349\n",
       "20          소공동서교동    346\n",
       "21          신촌동서교동    344\n",
       "22  종로1·2·3·4가동신촌동    340\n",
       "23     종로5·6가동청량리동    339\n",
       "24           광희동명동    335\n",
       "25      종로5·6가동회현동    332\n",
       "26  회현동종로1·2·3·4가동    331\n",
       "27         여의동당산1동    330\n",
       "28        반포3동역삼1동    321\n",
       "29           명동서교동    320"
      ]
     },
     "execution_count": 417,
     "metadata": {},
     "output_type": "execute_result"
    }
   ],
   "source": [
    "#퇴근 시간대에 사람들이 많이 이용하는 구간\n",
    "df_offwork['route'].value_counts().head(30).reset_index()"
   ]
  },
  {
   "cell_type": "code",
   "execution_count": 418,
   "id": "fc5ba1f5",
   "metadata": {},
   "outputs": [
    {
     "data": {
      "text/html": [
       "<div>\n",
       "<style scoped>\n",
       "    .dataframe tbody tr th:only-of-type {\n",
       "        vertical-align: middle;\n",
       "    }\n",
       "\n",
       "    .dataframe tbody tr th {\n",
       "        vertical-align: top;\n",
       "    }\n",
       "\n",
       "    .dataframe thead th {\n",
       "        text-align: right;\n",
       "    }\n",
       "</style>\n",
       "<table border=\"1\" class=\"dataframe\">\n",
       "  <thead>\n",
       "    <tr style=\"text-align: right;\">\n",
       "      <th></th>\n",
       "      <th>index</th>\n",
       "      <th>route</th>\n",
       "    </tr>\n",
       "  </thead>\n",
       "  <tbody>\n",
       "    <tr>\n",
       "      <th>0</th>\n",
       "      <td>역삼1동화양동</td>\n",
       "      <td>1002</td>\n",
       "    </tr>\n",
       "    <tr>\n",
       "      <th>1</th>\n",
       "      <td>대학동낙성대동</td>\n",
       "      <td>748</td>\n",
       "    </tr>\n",
       "    <tr>\n",
       "      <th>2</th>\n",
       "      <td>서교동성산2동</td>\n",
       "      <td>737</td>\n",
       "    </tr>\n",
       "    <tr>\n",
       "      <th>3</th>\n",
       "      <td>종로1·2·3·4가동서교동</td>\n",
       "      <td>730</td>\n",
       "    </tr>\n",
       "    <tr>\n",
       "      <th>4</th>\n",
       "      <td>명동광희동</td>\n",
       "      <td>725</td>\n",
       "    </tr>\n",
       "    <tr>\n",
       "      <th>5</th>\n",
       "      <td>종로1·2·3·4가동삼선동</td>\n",
       "      <td>669</td>\n",
       "    </tr>\n",
       "    <tr>\n",
       "      <th>6</th>\n",
       "      <td>명동서교동</td>\n",
       "      <td>626</td>\n",
       "    </tr>\n",
       "    <tr>\n",
       "      <th>7</th>\n",
       "      <td>종로1·2·3·4가동회현동</td>\n",
       "      <td>625</td>\n",
       "    </tr>\n",
       "    <tr>\n",
       "      <th>8</th>\n",
       "      <td>명동신촌동</td>\n",
       "      <td>552</td>\n",
       "    </tr>\n",
       "    <tr>\n",
       "      <th>9</th>\n",
       "      <td>역삼1동반포3동</td>\n",
       "      <td>541</td>\n",
       "    </tr>\n",
       "    <tr>\n",
       "      <th>10</th>\n",
       "      <td>광희동명동</td>\n",
       "      <td>530</td>\n",
       "    </tr>\n",
       "    <tr>\n",
       "      <th>11</th>\n",
       "      <td>상암동서교동</td>\n",
       "      <td>527</td>\n",
       "    </tr>\n",
       "    <tr>\n",
       "      <th>12</th>\n",
       "      <td>여의동당산2동</td>\n",
       "      <td>514</td>\n",
       "    </tr>\n",
       "    <tr>\n",
       "      <th>13</th>\n",
       "      <td>종로1·2·3·4가동동선동</td>\n",
       "      <td>506</td>\n",
       "    </tr>\n",
       "    <tr>\n",
       "      <th>14</th>\n",
       "      <td>성산2동서교동</td>\n",
       "      <td>506</td>\n",
       "    </tr>\n",
       "    <tr>\n",
       "      <th>15</th>\n",
       "      <td>종로1·2·3·4가동송천동</td>\n",
       "      <td>494</td>\n",
       "    </tr>\n",
       "    <tr>\n",
       "      <th>16</th>\n",
       "      <td>종로1·2·3·4가동길음1동</td>\n",
       "      <td>493</td>\n",
       "    </tr>\n",
       "    <tr>\n",
       "      <th>17</th>\n",
       "      <td>명동회현동</td>\n",
       "      <td>487</td>\n",
       "    </tr>\n",
       "    <tr>\n",
       "      <th>18</th>\n",
       "      <td>역삼1동서초3동</td>\n",
       "      <td>482</td>\n",
       "    </tr>\n",
       "    <tr>\n",
       "      <th>19</th>\n",
       "      <td>서교동염창동</td>\n",
       "      <td>477</td>\n",
       "    </tr>\n",
       "    <tr>\n",
       "      <th>20</th>\n",
       "      <td>삼성1동역삼1동</td>\n",
       "      <td>470</td>\n",
       "    </tr>\n",
       "    <tr>\n",
       "      <th>21</th>\n",
       "      <td>명동종로5·6가동</td>\n",
       "      <td>467</td>\n",
       "    </tr>\n",
       "    <tr>\n",
       "      <th>22</th>\n",
       "      <td>시흥1동시흥2동</td>\n",
       "      <td>457</td>\n",
       "    </tr>\n",
       "    <tr>\n",
       "      <th>23</th>\n",
       "      <td>삼성1동잠실6동</td>\n",
       "      <td>457</td>\n",
       "    </tr>\n",
       "    <tr>\n",
       "      <th>24</th>\n",
       "      <td>가산동시흥2동</td>\n",
       "      <td>450</td>\n",
       "    </tr>\n",
       "    <tr>\n",
       "      <th>25</th>\n",
       "      <td>서교동갈현1동</td>\n",
       "      <td>448</td>\n",
       "    </tr>\n",
       "    <tr>\n",
       "      <th>26</th>\n",
       "      <td>가양1동화곡1동</td>\n",
       "      <td>433</td>\n",
       "    </tr>\n",
       "    <tr>\n",
       "      <th>27</th>\n",
       "      <td>종로1·2·3·4가동아현동</td>\n",
       "      <td>428</td>\n",
       "    </tr>\n",
       "    <tr>\n",
       "      <th>28</th>\n",
       "      <td>서교동당산2동</td>\n",
       "      <td>425</td>\n",
       "    </tr>\n",
       "    <tr>\n",
       "      <th>29</th>\n",
       "      <td>청룡동대학동</td>\n",
       "      <td>425</td>\n",
       "    </tr>\n",
       "  </tbody>\n",
       "</table>\n",
       "</div>"
      ],
      "text/plain": [
       "              index  route\n",
       "0           역삼1동화양동   1002\n",
       "1           대학동낙성대동    748\n",
       "2           서교동성산2동    737\n",
       "3    종로1·2·3·4가동서교동    730\n",
       "4             명동광희동    725\n",
       "5    종로1·2·3·4가동삼선동    669\n",
       "6             명동서교동    626\n",
       "7    종로1·2·3·4가동회현동    625\n",
       "8             명동신촌동    552\n",
       "9          역삼1동반포3동    541\n",
       "10            광희동명동    530\n",
       "11           상암동서교동    527\n",
       "12          여의동당산2동    514\n",
       "13   종로1·2·3·4가동동선동    506\n",
       "14          성산2동서교동    506\n",
       "15   종로1·2·3·4가동송천동    494\n",
       "16  종로1·2·3·4가동길음1동    493\n",
       "17            명동회현동    487\n",
       "18         역삼1동서초3동    482\n",
       "19           서교동염창동    477\n",
       "20         삼성1동역삼1동    470\n",
       "21        명동종로5·6가동    467\n",
       "22         시흥1동시흥2동    457\n",
       "23         삼성1동잠실6동    457\n",
       "24          가산동시흥2동    450\n",
       "25          서교동갈현1동    448\n",
       "26         가양1동화곡1동    433\n",
       "27   종로1·2·3·4가동아현동    428\n",
       "28          서교동당산2동    425\n",
       "29           청룡동대학동    425"
      ]
     },
     "execution_count": 418,
     "metadata": {},
     "output_type": "execute_result"
    }
   ],
   "source": [
    "#밤 시간대에 사람들이 많이 이용하는 구간\n",
    "df_night['route'].value_counts().head(30).reset_index()"
   ]
  },
  {
   "cell_type": "code",
   "execution_count": 419,
   "id": "267e4d2d",
   "metadata": {},
   "outputs": [
    {
     "data": {
      "text/html": [
       "<div>\n",
       "<style scoped>\n",
       "    .dataframe tbody tr th:only-of-type {\n",
       "        vertical-align: middle;\n",
       "    }\n",
       "\n",
       "    .dataframe tbody tr th {\n",
       "        vertical-align: top;\n",
       "    }\n",
       "\n",
       "    .dataframe thead th {\n",
       "        text-align: right;\n",
       "    }\n",
       "</style>\n",
       "<table border=\"1\" class=\"dataframe\">\n",
       "  <thead>\n",
       "    <tr style=\"text-align: right;\">\n",
       "      <th></th>\n",
       "      <th>탑승한 지역</th>\n",
       "      <th>탑승자 수</th>\n",
       "    </tr>\n",
       "  </thead>\n",
       "  <tbody>\n",
       "    <tr>\n",
       "      <th>0</th>\n",
       "      <td>화곡1동</td>\n",
       "      <td>4882</td>\n",
       "    </tr>\n",
       "    <tr>\n",
       "      <th>1</th>\n",
       "      <td>서교동</td>\n",
       "      <td>3780</td>\n",
       "    </tr>\n",
       "    <tr>\n",
       "      <th>2</th>\n",
       "      <td>삼선동</td>\n",
       "      <td>3323</td>\n",
       "    </tr>\n",
       "    <tr>\n",
       "      <th>3</th>\n",
       "      <td>길음1동</td>\n",
       "      <td>3263</td>\n",
       "    </tr>\n",
       "    <tr>\n",
       "      <th>4</th>\n",
       "      <td>신정4동</td>\n",
       "      <td>3064</td>\n",
       "    </tr>\n",
       "    <tr>\n",
       "      <th>5</th>\n",
       "      <td>성산2동</td>\n",
       "      <td>2918</td>\n",
       "    </tr>\n",
       "    <tr>\n",
       "      <th>6</th>\n",
       "      <td>상도1동</td>\n",
       "      <td>2904</td>\n",
       "    </tr>\n",
       "    <tr>\n",
       "      <th>7</th>\n",
       "      <td>종암동</td>\n",
       "      <td>2793</td>\n",
       "    </tr>\n",
       "    <tr>\n",
       "      <th>8</th>\n",
       "      <td>우장산동</td>\n",
       "      <td>2775</td>\n",
       "    </tr>\n",
       "    <tr>\n",
       "      <th>9</th>\n",
       "      <td>신정3동</td>\n",
       "      <td>2632</td>\n",
       "    </tr>\n",
       "    <tr>\n",
       "      <th>10</th>\n",
       "      <td>연희동</td>\n",
       "      <td>2567</td>\n",
       "    </tr>\n",
       "    <tr>\n",
       "      <th>11</th>\n",
       "      <td>사당1동</td>\n",
       "      <td>2487</td>\n",
       "    </tr>\n",
       "    <tr>\n",
       "      <th>12</th>\n",
       "      <td>개봉3동</td>\n",
       "      <td>2399</td>\n",
       "    </tr>\n",
       "    <tr>\n",
       "      <th>13</th>\n",
       "      <td>답십리1동</td>\n",
       "      <td>2377</td>\n",
       "    </tr>\n",
       "    <tr>\n",
       "      <th>14</th>\n",
       "      <td>송천동</td>\n",
       "      <td>2367</td>\n",
       "    </tr>\n",
       "  </tbody>\n",
       "</table>\n",
       "</div>"
      ],
      "text/plain": [
       "   탑승한 지역  탑승자 수\n",
       "0    화곡1동   4882\n",
       "1     서교동   3780\n",
       "2     삼선동   3323\n",
       "3    길음1동   3263\n",
       "4    신정4동   3064\n",
       "5    성산2동   2918\n",
       "6    상도1동   2904\n",
       "7     종암동   2793\n",
       "8    우장산동   2775\n",
       "9    신정3동   2632\n",
       "10    연희동   2567\n",
       "11   사당1동   2487\n",
       "12   개봉3동   2399\n",
       "13  답십리1동   2377\n",
       "14    송천동   2367"
      ]
     },
     "execution_count": 419,
     "metadata": {},
     "output_type": "execute_result"
    }
   ],
   "source": [
    "on_onwork = df_onwork['읍면동명칭_x'].value_counts().head(15).reset_index()\n",
    "on_onwork = on_onwork.rename(columns = {'index':'탑승한 지역', '읍면동명칭_x':'탑승자 수'})\n",
    "on_onwork #출근 시간대 최다 탑승 지역"
   ]
  },
  {
   "cell_type": "code",
   "execution_count": 420,
   "id": "07f7ba9a",
   "metadata": {},
   "outputs": [
    {
     "data": {
      "text/html": [
       "<div>\n",
       "<style scoped>\n",
       "    .dataframe tbody tr th:only-of-type {\n",
       "        vertical-align: middle;\n",
       "    }\n",
       "\n",
       "    .dataframe tbody tr th {\n",
       "        vertical-align: top;\n",
       "    }\n",
       "\n",
       "    .dataframe thead th {\n",
       "        text-align: right;\n",
       "    }\n",
       "</style>\n",
       "<table border=\"1\" class=\"dataframe\">\n",
       "  <thead>\n",
       "    <tr style=\"text-align: right;\">\n",
       "      <th></th>\n",
       "      <th>하차한 지역</th>\n",
       "      <th>하차 횟수</th>\n",
       "    </tr>\n",
       "  </thead>\n",
       "  <tbody>\n",
       "    <tr>\n",
       "      <th>0</th>\n",
       "      <td>종로1·2·3·4가동</td>\n",
       "      <td>18562</td>\n",
       "    </tr>\n",
       "    <tr>\n",
       "      <th>1</th>\n",
       "      <td>여의동</td>\n",
       "      <td>18094</td>\n",
       "    </tr>\n",
       "    <tr>\n",
       "      <th>2</th>\n",
       "      <td>역삼1동</td>\n",
       "      <td>16575</td>\n",
       "    </tr>\n",
       "    <tr>\n",
       "      <th>3</th>\n",
       "      <td>명동</td>\n",
       "      <td>9640</td>\n",
       "    </tr>\n",
       "    <tr>\n",
       "      <th>4</th>\n",
       "      <td>가산동</td>\n",
       "      <td>8250</td>\n",
       "    </tr>\n",
       "    <tr>\n",
       "      <th>5</th>\n",
       "      <td>소공동</td>\n",
       "      <td>8208</td>\n",
       "    </tr>\n",
       "    <tr>\n",
       "      <th>6</th>\n",
       "      <td>사직동</td>\n",
       "      <td>8037</td>\n",
       "    </tr>\n",
       "    <tr>\n",
       "      <th>7</th>\n",
       "      <td>삼성1동</td>\n",
       "      <td>7126</td>\n",
       "    </tr>\n",
       "    <tr>\n",
       "      <th>8</th>\n",
       "      <td>서초3동</td>\n",
       "      <td>6625</td>\n",
       "    </tr>\n",
       "    <tr>\n",
       "      <th>9</th>\n",
       "      <td>회현동</td>\n",
       "      <td>6560</td>\n",
       "    </tr>\n",
       "    <tr>\n",
       "      <th>10</th>\n",
       "      <td>서초2동</td>\n",
       "      <td>5706</td>\n",
       "    </tr>\n",
       "    <tr>\n",
       "      <th>11</th>\n",
       "      <td>종로5·6가동</td>\n",
       "      <td>5341</td>\n",
       "    </tr>\n",
       "    <tr>\n",
       "      <th>12</th>\n",
       "      <td>서교동</td>\n",
       "      <td>5046</td>\n",
       "    </tr>\n",
       "    <tr>\n",
       "      <th>13</th>\n",
       "      <td>신촌동</td>\n",
       "      <td>4659</td>\n",
       "    </tr>\n",
       "    <tr>\n",
       "      <th>14</th>\n",
       "      <td>성수2가3동</td>\n",
       "      <td>4322</td>\n",
       "    </tr>\n",
       "  </tbody>\n",
       "</table>\n",
       "</div>"
      ],
      "text/plain": [
       "         하차한 지역  하차 횟수\n",
       "0   종로1·2·3·4가동  18562\n",
       "1           여의동  18094\n",
       "2          역삼1동  16575\n",
       "3            명동   9640\n",
       "4           가산동   8250\n",
       "5           소공동   8208\n",
       "6           사직동   8037\n",
       "7          삼성1동   7126\n",
       "8          서초3동   6625\n",
       "9           회현동   6560\n",
       "10         서초2동   5706\n",
       "11      종로5·6가동   5341\n",
       "12          서교동   5046\n",
       "13          신촌동   4659\n",
       "14       성수2가3동   4322"
      ]
     },
     "execution_count": 420,
     "metadata": {},
     "output_type": "execute_result"
    }
   ],
   "source": [
    "off_onwork= df_onwork['읍면동명칭_y'].value_counts().head(15).reset_index()\n",
    "off_onwork = off_onwork.rename(columns = {'index':'하차한 지역', '읍면동명칭_y':'하차 횟수'})\n",
    "off_onwork #출근 시간대 최다 하차 지역"
   ]
  },
  {
   "cell_type": "code",
   "execution_count": 421,
   "id": "c90e07e5",
   "metadata": {},
   "outputs": [
    {
     "data": {
      "text/html": [
       "<div>\n",
       "<style scoped>\n",
       "    .dataframe tbody tr th:only-of-type {\n",
       "        vertical-align: middle;\n",
       "    }\n",
       "\n",
       "    .dataframe tbody tr th {\n",
       "        vertical-align: top;\n",
       "    }\n",
       "\n",
       "    .dataframe thead th {\n",
       "        text-align: right;\n",
       "    }\n",
       "</style>\n",
       "<table border=\"1\" class=\"dataframe\">\n",
       "  <thead>\n",
       "    <tr style=\"text-align: right;\">\n",
       "      <th></th>\n",
       "      <th>승차한 지역</th>\n",
       "      <th>승차 횟수</th>\n",
       "    </tr>\n",
       "  </thead>\n",
       "  <tbody>\n",
       "    <tr>\n",
       "      <th>0</th>\n",
       "      <td>종로1·2·3·4가동</td>\n",
       "      <td>18901</td>\n",
       "    </tr>\n",
       "    <tr>\n",
       "      <th>1</th>\n",
       "      <td>여의동</td>\n",
       "      <td>14433</td>\n",
       "    </tr>\n",
       "    <tr>\n",
       "      <th>2</th>\n",
       "      <td>역삼1동</td>\n",
       "      <td>14367</td>\n",
       "    </tr>\n",
       "    <tr>\n",
       "      <th>3</th>\n",
       "      <td>명동</td>\n",
       "      <td>10189</td>\n",
       "    </tr>\n",
       "    <tr>\n",
       "      <th>4</th>\n",
       "      <td>소공동</td>\n",
       "      <td>8963</td>\n",
       "    </tr>\n",
       "    <tr>\n",
       "      <th>5</th>\n",
       "      <td>서교동</td>\n",
       "      <td>8017</td>\n",
       "    </tr>\n",
       "    <tr>\n",
       "      <th>6</th>\n",
       "      <td>사직동</td>\n",
       "      <td>7249</td>\n",
       "    </tr>\n",
       "    <tr>\n",
       "      <th>7</th>\n",
       "      <td>종로5·6가동</td>\n",
       "      <td>7215</td>\n",
       "    </tr>\n",
       "    <tr>\n",
       "      <th>8</th>\n",
       "      <td>가산동</td>\n",
       "      <td>7071</td>\n",
       "    </tr>\n",
       "    <tr>\n",
       "      <th>9</th>\n",
       "      <td>회현동</td>\n",
       "      <td>7070</td>\n",
       "    </tr>\n",
       "    <tr>\n",
       "      <th>10</th>\n",
       "      <td>삼성1동</td>\n",
       "      <td>6559</td>\n",
       "    </tr>\n",
       "    <tr>\n",
       "      <th>11</th>\n",
       "      <td>서초3동</td>\n",
       "      <td>6304</td>\n",
       "    </tr>\n",
       "    <tr>\n",
       "      <th>12</th>\n",
       "      <td>신촌동</td>\n",
       "      <td>5523</td>\n",
       "    </tr>\n",
       "    <tr>\n",
       "      <th>13</th>\n",
       "      <td>서초2동</td>\n",
       "      <td>5128</td>\n",
       "    </tr>\n",
       "    <tr>\n",
       "      <th>14</th>\n",
       "      <td>광희동</td>\n",
       "      <td>4584</td>\n",
       "    </tr>\n",
       "  </tbody>\n",
       "</table>\n",
       "</div>"
      ],
      "text/plain": [
       "         승차한 지역  승차 횟수\n",
       "0   종로1·2·3·4가동  18901\n",
       "1           여의동  14433\n",
       "2          역삼1동  14367\n",
       "3            명동  10189\n",
       "4           소공동   8963\n",
       "5           서교동   8017\n",
       "6           사직동   7249\n",
       "7       종로5·6가동   7215\n",
       "8           가산동   7071\n",
       "9           회현동   7070\n",
       "10         삼성1동   6559\n",
       "11         서초3동   6304\n",
       "12          신촌동   5523\n",
       "13         서초2동   5128\n",
       "14          광희동   4584"
      ]
     },
     "execution_count": 421,
     "metadata": {},
     "output_type": "execute_result"
    }
   ],
   "source": [
    "on_offwork = df_offwork['읍면동명칭_x'].value_counts().head(15).reset_index()\n",
    "on_offwork = on_offwork.rename(columns = {'index':'승차한 지역', '읍면동명칭_x':'승차 횟수'})\n",
    "on_offwork #퇴근 시간대 최다 승차 지역"
   ]
  },
  {
   "cell_type": "code",
   "execution_count": 422,
   "id": "c04f4991",
   "metadata": {},
   "outputs": [
    {
     "data": {
      "text/html": [
       "<div>\n",
       "<style scoped>\n",
       "    .dataframe tbody tr th:only-of-type {\n",
       "        vertical-align: middle;\n",
       "    }\n",
       "\n",
       "    .dataframe tbody tr th {\n",
       "        vertical-align: top;\n",
       "    }\n",
       "\n",
       "    .dataframe thead th {\n",
       "        text-align: right;\n",
       "    }\n",
       "</style>\n",
       "<table border=\"1\" class=\"dataframe\">\n",
       "  <thead>\n",
       "    <tr style=\"text-align: right;\">\n",
       "      <th></th>\n",
       "      <th>하차한 지역</th>\n",
       "      <th>하차 횟수</th>\n",
       "    </tr>\n",
       "  </thead>\n",
       "  <tbody>\n",
       "    <tr>\n",
       "      <th>0</th>\n",
       "      <td>서교동</td>\n",
       "      <td>11304</td>\n",
       "    </tr>\n",
       "    <tr>\n",
       "      <th>1</th>\n",
       "      <td>종로1·2·3·4가동</td>\n",
       "      <td>8758</td>\n",
       "    </tr>\n",
       "    <tr>\n",
       "      <th>2</th>\n",
       "      <td>역삼1동</td>\n",
       "      <td>7343</td>\n",
       "    </tr>\n",
       "    <tr>\n",
       "      <th>3</th>\n",
       "      <td>명동</td>\n",
       "      <td>5440</td>\n",
       "    </tr>\n",
       "    <tr>\n",
       "      <th>4</th>\n",
       "      <td>화양동</td>\n",
       "      <td>4967</td>\n",
       "    </tr>\n",
       "    <tr>\n",
       "      <th>5</th>\n",
       "      <td>신촌동</td>\n",
       "      <td>4842</td>\n",
       "    </tr>\n",
       "    <tr>\n",
       "      <th>6</th>\n",
       "      <td>여의동</td>\n",
       "      <td>4547</td>\n",
       "    </tr>\n",
       "    <tr>\n",
       "      <th>7</th>\n",
       "      <td>회현동</td>\n",
       "      <td>4394</td>\n",
       "    </tr>\n",
       "    <tr>\n",
       "      <th>8</th>\n",
       "      <td>반포3동</td>\n",
       "      <td>4040</td>\n",
       "    </tr>\n",
       "    <tr>\n",
       "      <th>9</th>\n",
       "      <td>서초3동</td>\n",
       "      <td>3893</td>\n",
       "    </tr>\n",
       "    <tr>\n",
       "      <th>10</th>\n",
       "      <td>사당1동</td>\n",
       "      <td>3603</td>\n",
       "    </tr>\n",
       "    <tr>\n",
       "      <th>11</th>\n",
       "      <td>화곡1동</td>\n",
       "      <td>3227</td>\n",
       "    </tr>\n",
       "    <tr>\n",
       "      <th>12</th>\n",
       "      <td>혜화동</td>\n",
       "      <td>3175</td>\n",
       "    </tr>\n",
       "    <tr>\n",
       "      <th>13</th>\n",
       "      <td>잠실6동</td>\n",
       "      <td>3165</td>\n",
       "    </tr>\n",
       "    <tr>\n",
       "      <th>14</th>\n",
       "      <td>신도림동</td>\n",
       "      <td>3094</td>\n",
       "    </tr>\n",
       "  </tbody>\n",
       "</table>\n",
       "</div>"
      ],
      "text/plain": [
       "         하차한 지역  하차 횟수\n",
       "0           서교동  11304\n",
       "1   종로1·2·3·4가동   8758\n",
       "2          역삼1동   7343\n",
       "3            명동   5440\n",
       "4           화양동   4967\n",
       "5           신촌동   4842\n",
       "6           여의동   4547\n",
       "7           회현동   4394\n",
       "8          반포3동   4040\n",
       "9          서초3동   3893\n",
       "10         사당1동   3603\n",
       "11         화곡1동   3227\n",
       "12          혜화동   3175\n",
       "13         잠실6동   3165\n",
       "14         신도림동   3094"
      ]
     },
     "execution_count": 422,
     "metadata": {},
     "output_type": "execute_result"
    }
   ],
   "source": [
    "off_offwork = df_offwork['읍면동명칭_y'].value_counts().head(15).reset_index()\n",
    "off_offwork = off_offwork.rename(columns = {'index':'하차한 지역', '읍면동명칭_y':'하차 횟수'})\n",
    "off_offwork #퇴근 시간대 최다 하차 지역"
   ]
  },
  {
   "cell_type": "code",
   "execution_count": 423,
   "id": "8d52af58",
   "metadata": {},
   "outputs": [
    {
     "data": {
      "text/html": [
       "<div>\n",
       "<style scoped>\n",
       "    .dataframe tbody tr th:only-of-type {\n",
       "        vertical-align: middle;\n",
       "    }\n",
       "\n",
       "    .dataframe tbody tr th {\n",
       "        vertical-align: top;\n",
       "    }\n",
       "\n",
       "    .dataframe thead th {\n",
       "        text-align: right;\n",
       "    }\n",
       "</style>\n",
       "<table border=\"1\" class=\"dataframe\">\n",
       "  <thead>\n",
       "    <tr style=\"text-align: right;\">\n",
       "      <th></th>\n",
       "      <th>index</th>\n",
       "      <th>읍면동명칭_x</th>\n",
       "    </tr>\n",
       "  </thead>\n",
       "  <tbody>\n",
       "    <tr>\n",
       "      <th>0</th>\n",
       "      <td>종로1·2·3·4가동</td>\n",
       "      <td>30268</td>\n",
       "    </tr>\n",
       "    <tr>\n",
       "      <th>1</th>\n",
       "      <td>역삼1동</td>\n",
       "      <td>20080</td>\n",
       "    </tr>\n",
       "    <tr>\n",
       "      <th>2</th>\n",
       "      <td>명동</td>\n",
       "      <td>16305</td>\n",
       "    </tr>\n",
       "    <tr>\n",
       "      <th>3</th>\n",
       "      <td>서교동</td>\n",
       "      <td>16196</td>\n",
       "    </tr>\n",
       "    <tr>\n",
       "      <th>4</th>\n",
       "      <td>종로5·6가동</td>\n",
       "      <td>15905</td>\n",
       "    </tr>\n",
       "    <tr>\n",
       "      <th>5</th>\n",
       "      <td>여의동</td>\n",
       "      <td>15198</td>\n",
       "    </tr>\n",
       "    <tr>\n",
       "      <th>6</th>\n",
       "      <td>소공동</td>\n",
       "      <td>13949</td>\n",
       "    </tr>\n",
       "    <tr>\n",
       "      <th>7</th>\n",
       "      <td>회현동</td>\n",
       "      <td>13353</td>\n",
       "    </tr>\n",
       "    <tr>\n",
       "      <th>8</th>\n",
       "      <td>서초3동</td>\n",
       "      <td>12279</td>\n",
       "    </tr>\n",
       "    <tr>\n",
       "      <th>9</th>\n",
       "      <td>반포3동</td>\n",
       "      <td>12177</td>\n",
       "    </tr>\n",
       "    <tr>\n",
       "      <th>10</th>\n",
       "      <td>신촌동</td>\n",
       "      <td>11717</td>\n",
       "    </tr>\n",
       "    <tr>\n",
       "      <th>11</th>\n",
       "      <td>사직동</td>\n",
       "      <td>9735</td>\n",
       "    </tr>\n",
       "    <tr>\n",
       "      <th>12</th>\n",
       "      <td>삼성1동</td>\n",
       "      <td>9133</td>\n",
       "    </tr>\n",
       "    <tr>\n",
       "      <th>13</th>\n",
       "      <td>광희동</td>\n",
       "      <td>8807</td>\n",
       "    </tr>\n",
       "    <tr>\n",
       "      <th>14</th>\n",
       "      <td>서초2동</td>\n",
       "      <td>8466</td>\n",
       "    </tr>\n",
       "  </tbody>\n",
       "</table>\n",
       "</div>"
      ],
      "text/plain": [
       "          index  읍면동명칭_x\n",
       "0   종로1·2·3·4가동    30268\n",
       "1          역삼1동    20080\n",
       "2            명동    16305\n",
       "3           서교동    16196\n",
       "4       종로5·6가동    15905\n",
       "5           여의동    15198\n",
       "6           소공동    13949\n",
       "7           회현동    13353\n",
       "8          서초3동    12279\n",
       "9          반포3동    12177\n",
       "10          신촌동    11717\n",
       "11          사직동     9735\n",
       "12         삼성1동     9133\n",
       "13          광희동     8807\n",
       "14         서초2동     8466"
      ]
     },
     "execution_count": 423,
     "metadata": {},
     "output_type": "execute_result"
    }
   ],
   "source": [
    "day_on = df_day['읍면동명칭_x'].value_counts().head(15).reset_index()\n",
    "day_on"
   ]
  },
  {
   "cell_type": "code",
   "execution_count": 424,
   "id": "77dd271b",
   "metadata": {},
   "outputs": [
    {
     "data": {
      "text/html": [
       "<div>\n",
       "<style scoped>\n",
       "    .dataframe tbody tr th:only-of-type {\n",
       "        vertical-align: middle;\n",
       "    }\n",
       "\n",
       "    .dataframe tbody tr th {\n",
       "        vertical-align: top;\n",
       "    }\n",
       "\n",
       "    .dataframe thead th {\n",
       "        text-align: right;\n",
       "    }\n",
       "</style>\n",
       "<table border=\"1\" class=\"dataframe\">\n",
       "  <thead>\n",
       "    <tr style=\"text-align: right;\">\n",
       "      <th></th>\n",
       "      <th>index</th>\n",
       "      <th>읍면동명칭_y</th>\n",
       "    </tr>\n",
       "  </thead>\n",
       "  <tbody>\n",
       "    <tr>\n",
       "      <th>0</th>\n",
       "      <td>종로1·2·3·4가동</td>\n",
       "      <td>37801</td>\n",
       "    </tr>\n",
       "    <tr>\n",
       "      <th>1</th>\n",
       "      <td>역삼1동</td>\n",
       "      <td>22393</td>\n",
       "    </tr>\n",
       "    <tr>\n",
       "      <th>2</th>\n",
       "      <td>서교동</td>\n",
       "      <td>21064</td>\n",
       "    </tr>\n",
       "    <tr>\n",
       "      <th>3</th>\n",
       "      <td>명동</td>\n",
       "      <td>20786</td>\n",
       "    </tr>\n",
       "    <tr>\n",
       "      <th>4</th>\n",
       "      <td>종로5·6가동</td>\n",
       "      <td>16472</td>\n",
       "    </tr>\n",
       "    <tr>\n",
       "      <th>5</th>\n",
       "      <td>회현동</td>\n",
       "      <td>15860</td>\n",
       "    </tr>\n",
       "    <tr>\n",
       "      <th>6</th>\n",
       "      <td>소공동</td>\n",
       "      <td>14980</td>\n",
       "    </tr>\n",
       "    <tr>\n",
       "      <th>7</th>\n",
       "      <td>신촌동</td>\n",
       "      <td>14356</td>\n",
       "    </tr>\n",
       "    <tr>\n",
       "      <th>8</th>\n",
       "      <td>여의동</td>\n",
       "      <td>13232</td>\n",
       "    </tr>\n",
       "    <tr>\n",
       "      <th>9</th>\n",
       "      <td>반포3동</td>\n",
       "      <td>12543</td>\n",
       "    </tr>\n",
       "    <tr>\n",
       "      <th>10</th>\n",
       "      <td>서초3동</td>\n",
       "      <td>12221</td>\n",
       "    </tr>\n",
       "    <tr>\n",
       "      <th>11</th>\n",
       "      <td>사직동</td>\n",
       "      <td>11545</td>\n",
       "    </tr>\n",
       "    <tr>\n",
       "      <th>12</th>\n",
       "      <td>삼성1동</td>\n",
       "      <td>10808</td>\n",
       "    </tr>\n",
       "    <tr>\n",
       "      <th>13</th>\n",
       "      <td>광희동</td>\n",
       "      <td>10547</td>\n",
       "    </tr>\n",
       "    <tr>\n",
       "      <th>14</th>\n",
       "      <td>잠실6동</td>\n",
       "      <td>9397</td>\n",
       "    </tr>\n",
       "  </tbody>\n",
       "</table>\n",
       "</div>"
      ],
      "text/plain": [
       "          index  읍면동명칭_y\n",
       "0   종로1·2·3·4가동    37801\n",
       "1          역삼1동    22393\n",
       "2           서교동    21064\n",
       "3            명동    20786\n",
       "4       종로5·6가동    16472\n",
       "5           회현동    15860\n",
       "6           소공동    14980\n",
       "7           신촌동    14356\n",
       "8           여의동    13232\n",
       "9          반포3동    12543\n",
       "10         서초3동    12221\n",
       "11          사직동    11545\n",
       "12         삼성1동    10808\n",
       "13          광희동    10547\n",
       "14         잠실6동     9397"
      ]
     },
     "execution_count": 424,
     "metadata": {},
     "output_type": "execute_result"
    }
   ],
   "source": [
    "day_off = df_day['읍면동명칭_y'].value_counts().head(15).reset_index()\n",
    "day_off"
   ]
  },
  {
   "cell_type": "code",
   "execution_count": 425,
   "id": "7f5b9ce4",
   "metadata": {},
   "outputs": [
    {
     "data": {
      "text/html": [
       "<div>\n",
       "<style scoped>\n",
       "    .dataframe tbody tr th:only-of-type {\n",
       "        vertical-align: middle;\n",
       "    }\n",
       "\n",
       "    .dataframe tbody tr th {\n",
       "        vertical-align: top;\n",
       "    }\n",
       "\n",
       "    .dataframe thead th {\n",
       "        text-align: right;\n",
       "    }\n",
       "</style>\n",
       "<table border=\"1\" class=\"dataframe\">\n",
       "  <thead>\n",
       "    <tr style=\"text-align: right;\">\n",
       "      <th></th>\n",
       "      <th>index</th>\n",
       "      <th>읍면동명칭_x</th>\n",
       "    </tr>\n",
       "  </thead>\n",
       "  <tbody>\n",
       "    <tr>\n",
       "      <th>0</th>\n",
       "      <td>종로1·2·3·4가동</td>\n",
       "      <td>29271</td>\n",
       "    </tr>\n",
       "    <tr>\n",
       "      <th>1</th>\n",
       "      <td>서교동</td>\n",
       "      <td>18526</td>\n",
       "    </tr>\n",
       "    <tr>\n",
       "      <th>2</th>\n",
       "      <td>역삼1동</td>\n",
       "      <td>18217</td>\n",
       "    </tr>\n",
       "    <tr>\n",
       "      <th>3</th>\n",
       "      <td>명동</td>\n",
       "      <td>17119</td>\n",
       "    </tr>\n",
       "    <tr>\n",
       "      <th>4</th>\n",
       "      <td>여의동</td>\n",
       "      <td>14262</td>\n",
       "    </tr>\n",
       "    <tr>\n",
       "      <th>5</th>\n",
       "      <td>소공동</td>\n",
       "      <td>8126</td>\n",
       "    </tr>\n",
       "    <tr>\n",
       "      <th>6</th>\n",
       "      <td>신촌동</td>\n",
       "      <td>7902</td>\n",
       "    </tr>\n",
       "    <tr>\n",
       "      <th>7</th>\n",
       "      <td>서초3동</td>\n",
       "      <td>7470</td>\n",
       "    </tr>\n",
       "    <tr>\n",
       "      <th>8</th>\n",
       "      <td>회현동</td>\n",
       "      <td>7329</td>\n",
       "    </tr>\n",
       "    <tr>\n",
       "      <th>9</th>\n",
       "      <td>광희동</td>\n",
       "      <td>7251</td>\n",
       "    </tr>\n",
       "    <tr>\n",
       "      <th>10</th>\n",
       "      <td>사직동</td>\n",
       "      <td>7216</td>\n",
       "    </tr>\n",
       "    <tr>\n",
       "      <th>11</th>\n",
       "      <td>삼성1동</td>\n",
       "      <td>7182</td>\n",
       "    </tr>\n",
       "    <tr>\n",
       "      <th>12</th>\n",
       "      <td>종로5·6가동</td>\n",
       "      <td>7096</td>\n",
       "    </tr>\n",
       "    <tr>\n",
       "      <th>13</th>\n",
       "      <td>서초2동</td>\n",
       "      <td>7037</td>\n",
       "    </tr>\n",
       "    <tr>\n",
       "      <th>14</th>\n",
       "      <td>가산동</td>\n",
       "      <td>6892</td>\n",
       "    </tr>\n",
       "  </tbody>\n",
       "</table>\n",
       "</div>"
      ],
      "text/plain": [
       "          index  읍면동명칭_x\n",
       "0   종로1·2·3·4가동    29271\n",
       "1           서교동    18526\n",
       "2          역삼1동    18217\n",
       "3            명동    17119\n",
       "4           여의동    14262\n",
       "5           소공동     8126\n",
       "6           신촌동     7902\n",
       "7          서초3동     7470\n",
       "8           회현동     7329\n",
       "9           광희동     7251\n",
       "10          사직동     7216\n",
       "11         삼성1동     7182\n",
       "12      종로5·6가동     7096\n",
       "13         서초2동     7037\n",
       "14          가산동     6892"
      ]
     },
     "execution_count": 425,
     "metadata": {},
     "output_type": "execute_result"
    }
   ],
   "source": [
    "night_on = df_night['읍면동명칭_x'].value_counts().head(15).reset_index()\n",
    "night_on"
   ]
  },
  {
   "cell_type": "code",
   "execution_count": 426,
   "id": "d26bb284",
   "metadata": {},
   "outputs": [
    {
     "data": {
      "text/html": [
       "<div>\n",
       "<style scoped>\n",
       "    .dataframe tbody tr th:only-of-type {\n",
       "        vertical-align: middle;\n",
       "    }\n",
       "\n",
       "    .dataframe tbody tr th {\n",
       "        vertical-align: top;\n",
       "    }\n",
       "\n",
       "    .dataframe thead th {\n",
       "        text-align: right;\n",
       "    }\n",
       "</style>\n",
       "<table border=\"1\" class=\"dataframe\">\n",
       "  <thead>\n",
       "    <tr style=\"text-align: right;\">\n",
       "      <th></th>\n",
       "      <th>index</th>\n",
       "      <th>읍면동명칭_y</th>\n",
       "    </tr>\n",
       "  </thead>\n",
       "  <tbody>\n",
       "    <tr>\n",
       "      <th>0</th>\n",
       "      <td>서교동</td>\n",
       "      <td>10360</td>\n",
       "    </tr>\n",
       "    <tr>\n",
       "      <th>1</th>\n",
       "      <td>역삼1동</td>\n",
       "      <td>5445</td>\n",
       "    </tr>\n",
       "    <tr>\n",
       "      <th>2</th>\n",
       "      <td>화양동</td>\n",
       "      <td>5305</td>\n",
       "    </tr>\n",
       "    <tr>\n",
       "      <th>3</th>\n",
       "      <td>종로1·2·3·4가동</td>\n",
       "      <td>4831</td>\n",
       "    </tr>\n",
       "    <tr>\n",
       "      <th>4</th>\n",
       "      <td>회현동</td>\n",
       "      <td>4704</td>\n",
       "    </tr>\n",
       "    <tr>\n",
       "      <th>5</th>\n",
       "      <td>사당1동</td>\n",
       "      <td>4418</td>\n",
       "    </tr>\n",
       "    <tr>\n",
       "      <th>6</th>\n",
       "      <td>명동</td>\n",
       "      <td>4396</td>\n",
       "    </tr>\n",
       "    <tr>\n",
       "      <th>7</th>\n",
       "      <td>화곡1동</td>\n",
       "      <td>4274</td>\n",
       "    </tr>\n",
       "    <tr>\n",
       "      <th>8</th>\n",
       "      <td>광희동</td>\n",
       "      <td>4229</td>\n",
       "    </tr>\n",
       "    <tr>\n",
       "      <th>9</th>\n",
       "      <td>신촌동</td>\n",
       "      <td>4088</td>\n",
       "    </tr>\n",
       "    <tr>\n",
       "      <th>10</th>\n",
       "      <td>송천동</td>\n",
       "      <td>4052</td>\n",
       "    </tr>\n",
       "    <tr>\n",
       "      <th>11</th>\n",
       "      <td>삼선동</td>\n",
       "      <td>3855</td>\n",
       "    </tr>\n",
       "    <tr>\n",
       "      <th>12</th>\n",
       "      <td>반포3동</td>\n",
       "      <td>3630</td>\n",
       "    </tr>\n",
       "    <tr>\n",
       "      <th>13</th>\n",
       "      <td>상도1동</td>\n",
       "      <td>3629</td>\n",
       "    </tr>\n",
       "    <tr>\n",
       "      <th>14</th>\n",
       "      <td>여의동</td>\n",
       "      <td>3562</td>\n",
       "    </tr>\n",
       "  </tbody>\n",
       "</table>\n",
       "</div>"
      ],
      "text/plain": [
       "          index  읍면동명칭_y\n",
       "0           서교동    10360\n",
       "1          역삼1동     5445\n",
       "2           화양동     5305\n",
       "3   종로1·2·3·4가동     4831\n",
       "4           회현동     4704\n",
       "5          사당1동     4418\n",
       "6            명동     4396\n",
       "7          화곡1동     4274\n",
       "8           광희동     4229\n",
       "9           신촌동     4088\n",
       "10          송천동     4052\n",
       "11          삼선동     3855\n",
       "12         반포3동     3630\n",
       "13         상도1동     3629\n",
       "14          여의동     3562"
      ]
     },
     "execution_count": 426,
     "metadata": {},
     "output_type": "execute_result"
    }
   ],
   "source": [
    "night_off = df_night['읍면동명칭_y'].value_counts().head(15).reset_index()\n",
    "night_off"
   ]
  },
  {
   "cell_type": "code",
   "execution_count": 427,
   "id": "08b90f2e",
   "metadata": {},
   "outputs": [
    {
     "data": {
      "text/plain": [
       "{'동 이름': 1,\n",
       " '화곡1동': 4882,\n",
       " '서교동': 3780,\n",
       " '삼선동': 3323,\n",
       " '길음1동': 3263,\n",
       " '신정4동': 3064,\n",
       " '성산2동': 2918,\n",
       " '상도1동': 2904,\n",
       " '종암동': 2793,\n",
       " '우장산동': 2775,\n",
       " '신정3동': 2632,\n",
       " '연희동': 2567,\n",
       " '사당1동': 2487,\n",
       " '개봉3동': 2399,\n",
       " '답십리1동': 2377,\n",
       " '송천동': 2367}"
      ]
     },
     "execution_count": 427,
     "metadata": {},
     "output_type": "execute_result"
    }
   ],
   "source": [
    "dict_on_onwork = {'동 이름':1}\n",
    "for i in range(len(on_onwork)):\n",
    "    dict_on_onwork[on_onwork.loc[i,'탑승한 지역']]=on_onwork.loc[i,'탑승자 수']\n",
    "dict_on_onwork"
   ]
  },
  {
   "cell_type": "code",
   "execution_count": 428,
   "id": "4b40dbdd",
   "metadata": {},
   "outputs": [
    {
     "data": {
      "text/plain": [
       "{'동 이름': 1,\n",
       " '종로1·2·3·4가동': 18562,\n",
       " '여의동': 18094,\n",
       " '역삼1동': 16575,\n",
       " '명동': 9640,\n",
       " '가산동': 8250,\n",
       " '소공동': 8208,\n",
       " '사직동': 8037,\n",
       " '삼성1동': 7126,\n",
       " '서초3동': 6625,\n",
       " '회현동': 6560,\n",
       " '서초2동': 5706,\n",
       " '종로5·6가동': 5341,\n",
       " '서교동': 5046,\n",
       " '신촌동': 4659,\n",
       " '성수2가3동': 4322}"
      ]
     },
     "execution_count": 428,
     "metadata": {},
     "output_type": "execute_result"
    }
   ],
   "source": [
    "dict_off_onwork = {'동 이름':1}\n",
    "for i in range(len(off_onwork)):\n",
    "    dict_off_onwork[off_onwork.loc[i,'하차한 지역']]=off_onwork.loc[i,'하차 횟수']\n",
    "dict_off_onwork"
   ]
  },
  {
   "cell_type": "code",
   "execution_count": 429,
   "id": "c03cb01a",
   "metadata": {},
   "outputs": [
    {
     "data": {
      "text/plain": [
       "{'동 이름': 1,\n",
       " '종로1·2·3·4가동': 18901,\n",
       " '여의동': 14433,\n",
       " '역삼1동': 14367,\n",
       " '명동': 10189,\n",
       " '소공동': 8963,\n",
       " '서교동': 8017,\n",
       " '사직동': 7249,\n",
       " '종로5·6가동': 7215,\n",
       " '가산동': 7071,\n",
       " '회현동': 7070,\n",
       " '삼성1동': 6559,\n",
       " '서초3동': 6304,\n",
       " '신촌동': 5523,\n",
       " '서초2동': 5128,\n",
       " '광희동': 4584}"
      ]
     },
     "execution_count": 429,
     "metadata": {},
     "output_type": "execute_result"
    }
   ],
   "source": [
    "dict_on_offwork = {'동 이름':1}\n",
    "for i in range(len(on_offwork)):\n",
    "    dict_on_offwork[on_offwork.loc[i,'승차한 지역']]=on_offwork.loc[i,'승차 횟수']\n",
    "dict_on_offwork"
   ]
  },
  {
   "cell_type": "code",
   "execution_count": 430,
   "id": "5bd4ab2b",
   "metadata": {},
   "outputs": [
    {
     "data": {
      "text/plain": [
       "{'동 이름': 1,\n",
       " '서교동': 11304,\n",
       " '종로1·2·3·4가동': 8758,\n",
       " '역삼1동': 7343,\n",
       " '명동': 5440,\n",
       " '화양동': 4967,\n",
       " '신촌동': 4842,\n",
       " '여의동': 4547,\n",
       " '회현동': 4394,\n",
       " '반포3동': 4040,\n",
       " '서초3동': 3893,\n",
       " '사당1동': 3603,\n",
       " '화곡1동': 3227,\n",
       " '혜화동': 3175,\n",
       " '잠실6동': 3165,\n",
       " '신도림동': 3094}"
      ]
     },
     "execution_count": 430,
     "metadata": {},
     "output_type": "execute_result"
    }
   ],
   "source": [
    "dict_off_offwork = {'동 이름':1}\n",
    "for i in range(len(off_offwork)):\n",
    "    dict_off_offwork[off_offwork.loc[i,'하차한 지역']]=off_offwork.loc[i,'하차 횟수']\n",
    "dict_off_offwork"
   ]
  },
  {
   "cell_type": "code",
   "execution_count": 431,
   "id": "d2c8d1fc",
   "metadata": {},
   "outputs": [
    {
     "data": {
      "text/plain": [
       "{'동 이름': 1,\n",
       " '종로1·2·3·4가동': 30268,\n",
       " '역삼1동': 20080,\n",
       " '명동': 16305,\n",
       " '서교동': 16196,\n",
       " '종로5·6가동': 15905,\n",
       " '여의동': 15198,\n",
       " '소공동': 13949,\n",
       " '회현동': 13353,\n",
       " '서초3동': 12279,\n",
       " '반포3동': 12177,\n",
       " '신촌동': 11717,\n",
       " '사직동': 9735,\n",
       " '삼성1동': 9133,\n",
       " '광희동': 8807,\n",
       " '서초2동': 8466}"
      ]
     },
     "execution_count": 431,
     "metadata": {},
     "output_type": "execute_result"
    }
   ],
   "source": [
    "dict_on_day = {'동 이름':1}\n",
    "for i in range(len(day_on)):\n",
    "    dict_on_day[day_on.loc[i,'index']]=day_on.loc[i,'읍면동명칭_x']\n",
    "dict_on_day"
   ]
  },
  {
   "cell_type": "code",
   "execution_count": 432,
   "id": "b462938d",
   "metadata": {},
   "outputs": [
    {
     "data": {
      "text/plain": [
       "{'동 이름': 1,\n",
       " '종로1·2·3·4가동': 37801,\n",
       " '역삼1동': 22393,\n",
       " '서교동': 21064,\n",
       " '명동': 20786,\n",
       " '종로5·6가동': 16472,\n",
       " '회현동': 15860,\n",
       " '소공동': 14980,\n",
       " '신촌동': 14356,\n",
       " '여의동': 13232,\n",
       " '반포3동': 12543,\n",
       " '서초3동': 12221,\n",
       " '사직동': 11545,\n",
       " '삼성1동': 10808,\n",
       " '광희동': 10547,\n",
       " '잠실6동': 9397}"
      ]
     },
     "execution_count": 432,
     "metadata": {},
     "output_type": "execute_result"
    }
   ],
   "source": [
    "dict_off_day = {'동 이름':1}\n",
    "for i in range(len(day_off)):\n",
    "    dict_off_day[day_off.loc[i,'index']]=day_off.loc[i,'읍면동명칭_y']\n",
    "dict_off_day"
   ]
  },
  {
   "cell_type": "code",
   "execution_count": 433,
   "id": "446dc061",
   "metadata": {},
   "outputs": [
    {
     "data": {
      "text/plain": [
       "{'동 이름': 1,\n",
       " '종로1·2·3·4가동': 29271,\n",
       " '서교동': 18526,\n",
       " '역삼1동': 18217,\n",
       " '명동': 17119,\n",
       " '여의동': 14262,\n",
       " '소공동': 8126,\n",
       " '신촌동': 7902,\n",
       " '서초3동': 7470,\n",
       " '회현동': 7329,\n",
       " '광희동': 7251,\n",
       " '사직동': 7216,\n",
       " '삼성1동': 7182,\n",
       " '종로5·6가동': 7096,\n",
       " '서초2동': 7037,\n",
       " '가산동': 6892}"
      ]
     },
     "execution_count": 433,
     "metadata": {},
     "output_type": "execute_result"
    }
   ],
   "source": [
    "dict_on_night = {'동 이름':1}\n",
    "for i in range(len(night_on)):\n",
    "    dict_on_night[night_on.loc[i,'index']]=night_on.loc[i,'읍면동명칭_x']\n",
    "dict_on_night"
   ]
  },
  {
   "cell_type": "code",
   "execution_count": 434,
   "id": "6388a694",
   "metadata": {},
   "outputs": [
    {
     "data": {
      "text/plain": [
       "{'동 이름': 1,\n",
       " '서교동': 10360,\n",
       " '역삼1동': 5445,\n",
       " '화양동': 5305,\n",
       " '종로1·2·3·4가동': 4831,\n",
       " '회현동': 4704,\n",
       " '사당1동': 4418,\n",
       " '명동': 4396,\n",
       " '화곡1동': 4274,\n",
       " '광희동': 4229,\n",
       " '신촌동': 4088,\n",
       " '송천동': 4052,\n",
       " '삼선동': 3855,\n",
       " '반포3동': 3630,\n",
       " '상도1동': 3629,\n",
       " '여의동': 3562}"
      ]
     },
     "execution_count": 434,
     "metadata": {},
     "output_type": "execute_result"
    }
   ],
   "source": [
    "dict_off_night = {'동 이름':1}\n",
    "for i in range(len(night_off)):\n",
    "    dict_off_night[night_off.loc[i,'index']]=night_off.loc[i,'읍면동명칭_y']\n",
    "dict_off_night"
   ]
  },
  {
   "cell_type": "code",
   "execution_count": 435,
   "id": "e0e21d46",
   "metadata": {},
   "outputs": [],
   "source": [
    "# Wordcloud 설치 이슈로 인해 이후 코드는 동봉된 파일 확인 요망"
   ]
  },
  {
   "cell_type": "code",
   "execution_count": 436,
   "id": "b7f25e63",
   "metadata": {},
   "outputs": [],
   "source": [
    "# Wordcloud Point"
   ]
  },
  {
   "cell_type": "markdown",
   "id": "6fab478b",
   "metadata": {},
   "source": [
    "## Con4\n",
    "* 초당 이동거리 = 총 이동거리/ 총 이동시간\n",
    "* 일부 구간은 다른 지역보다 초당 이동거리가 낮게 나오는 지역에서 수요가 있을 법한 지역을 찾을 수 있을 것이다."
   ]
  },
  {
   "cell_type": "markdown",
   "id": "d5d90a59",
   "metadata": {},
   "source": [
    "### 시간을 고려하지 않고 분석 했을 때\n",
    "* 대학동 -> 낙성대동/ 노량진 1동 -> 노량진 1동 / 성산 2동 -> 서교동/ 종로 1,2,3,4가동 -> 회현동 / 서교동 -> 성산 2동\n",
    "* 상기 지역들은 초당 이동거리가 평균 보다 적은 경우에 이동이 가장 많이 일어나는 동 경로\n",
    "* 대학동 -> 낙성대동 : 거리가 멀지 않음에도 서울대학교에 등교하는 학생들이 많아 시간이 오래 걸리는 것으로 추측\n",
    "* 노량진 1동 -> 노량진 1동 : 노량진역 일대가 유동인구가 많고 지하철역과 버스역이 인근에 접해있어 이용객이 많은 것으로 추정(수요가 있다고 판단하기는 힘들다)\n",
    "* 종로 1,2,3,4가동 -> 회현동 : 대부분의 대중 교통 경로가 서울 시내인 종각역, 을지로입구역, 회회현역을 가로 지르는 혼잡한 구역을 지나가는 가는 것이 이유로 추측됨(대체 경로 제공은 가능할 듯)\n",
    "* 성산 2동 -> 서교동 : 합정역 -> 홍대 입구역 -> 신촌역 -> 이대역으로 이어지는 도로구간이 혼잡해서 그런것으로 파악(가까운 거리로 수요가 있다고 판단하기 어려움)"
   ]
  },
  {
   "cell_type": "markdown",
   "id": "3138e22c",
   "metadata": {},
   "source": [
    "### 출퇴근 시간을 고려해서 분석했을 때\n",
    "* 개봉3동 -> 가산동/ 개봉1동 -> 개봉1동/ 시흥2동 -> 시흥1동/ 신길7동 -> 여의동/ 길음1동 -> 종로 1,2,3,4가동\n",
    "* 개봉3동 -> 가산동 : 가산동에 사무실이 많아 출근 경로로 예상되어 지연 될 가능성 높음. 해당지역 약 5km으로 먼 거리는 아니나 한번에 갈 수 있는 대중교통이 없음(한번에 갈 수 있는 경로를 제공하면 수요가 있을 것으로 예측됨)\n",
    "* 개봉1동 -> 개봉1동 : 이유 불명(같은 지역으로 수요가 있을 것으로 예측되지는 않음)\n",
    "* 시흥2동 -> 시흥1동 : 이유 불명(같은 지역으로 수요가 있을 것으로 예측되지는 않음)\n",
    "* 신길7동 -> 여의동 : 출근길 교통 혼잡 및 신길, 대방, 노량진 역으로 가는 구역을 지나가는 것이 이유로 추측 됨. 다만 이동 시간이 오래걸리지는 않고, 환승 없이 이동이 가능 한 수단이 많다.(수요가 있을 것이라고 판단하기는 어렵다)\n",
    "* 길음1동 -> 종로 1,2,3,4가동 : 종로구에 사무실이 많아 출근길이 혼잡지역으로 예상됨, 지하철을 타면 환승을 할 수 밖에 없고, 버스를 타면 환승없이 이동이 가능하나 대부분의 노선이 같은 경로를 사용(대체 경로 제공 가능할 것으로 판단)"
   ]
  },
  {
   "cell_type": "markdown",
   "id": "14da4b25",
   "metadata": {},
   "source": [
    "###  5. 야간에 지하철이 운행을 중단하는 구간에 모빌리티 서비스 수요가 있는지 확인한다"
   ]
  },
  {
   "cell_type": "markdown",
   "id": "8a8d2171",
   "metadata": {},
   "source": [
    "* 막차 : 종착역 도착 기준으로 00:00시까지\n",
    "* 12시~1시(포함) 하차를 막차의 기준으로 한다.\n",
    "* 2시 이후 승,하차 기록이 있는 데이터는 신뢰할 수 없다"
   ]
  },
  {
   "cell_type": "code",
   "execution_count": 437,
   "id": "218f9226",
   "metadata": {
    "scrolled": true
   },
   "outputs": [
    {
     "data": {
      "text/plain": [
       "8     866526\n",
       "18    670691\n",
       "19    612856\n",
       "9     535205\n",
       "17    475241\n",
       "7     418456\n",
       "16    416393\n",
       "20    382586\n",
       "22    352614\n",
       "15    351474\n",
       "21    346585\n",
       "10    334530\n",
       "13    329985\n",
       "14    322266\n",
       "11    303593\n",
       "12    301059\n",
       "23    228714\n",
       "6     164957\n",
       "0      93758\n",
       "5      61191\n",
       "4      13162\n",
       "1      12082\n",
       "2       3586\n",
       "3       2334\n",
       "Name: off_hour, dtype: int64"
      ]
     },
     "execution_count": 437,
     "metadata": {},
     "output_type": "execute_result"
    }
   ],
   "source": [
    "# 막차인지 어떻게 확인 할 것인가\n",
    "df_pre_com['off_hour'].value_counts()"
   ]
  },
  {
   "cell_type": "markdown",
   "id": "aadacaf9",
   "metadata": {},
   "source": [
    "* 종착역 : 신도림역, 서울대입구역, 홍대입구역, 수유역, 노원역, 잠실역, 당산역, 낙성대, 까치산역       \n",
    "* 비 종착역 : 신림역, 사당역, 건대입구역, 쌍문역, 구로디지털단지역, 연신내역, 천호, 미아사거리, 합정, 신대방역,  낙성대,"
   ]
  },
  {
   "cell_type": "code",
   "execution_count": 438,
   "id": "1bb1cffe",
   "metadata": {},
   "outputs": [],
   "source": [
    "top_off_20 = df_pre_com[(df_pre_com['off_hour'] >= 0) & (df_pre_com['off_hour'] < 2)]['off_area_name'].value_counts().head(20)"
   ]
  },
  {
   "cell_type": "code",
   "execution_count": 439,
   "id": "061ea642",
   "metadata": {},
   "outputs": [
    {
     "data": {
      "text/html": [
       "<div>\n",
       "<style scoped>\n",
       "    .dataframe tbody tr th:only-of-type {\n",
       "        vertical-align: middle;\n",
       "    }\n",
       "\n",
       "    .dataframe tbody tr th {\n",
       "        vertical-align: top;\n",
       "    }\n",
       "\n",
       "    .dataframe thead th {\n",
       "        text-align: right;\n",
       "    }\n",
       "</style>\n",
       "<table border=\"1\" class=\"dataframe\">\n",
       "  <thead>\n",
       "    <tr style=\"text-align: right;\">\n",
       "      <th></th>\n",
       "      <th>off_area_name</th>\n",
       "      <th>count</th>\n",
       "    </tr>\n",
       "  </thead>\n",
       "  <tbody>\n",
       "    <tr>\n",
       "      <th>0</th>\n",
       "      <td>신림역</td>\n",
       "      <td>1365</td>\n",
       "    </tr>\n",
       "    <tr>\n",
       "      <th>1</th>\n",
       "      <td>신도림역</td>\n",
       "      <td>1225</td>\n",
       "    </tr>\n",
       "    <tr>\n",
       "      <th>2</th>\n",
       "      <td>사당역</td>\n",
       "      <td>991</td>\n",
       "    </tr>\n",
       "    <tr>\n",
       "      <th>3</th>\n",
       "      <td>건대입구역</td>\n",
       "      <td>858</td>\n",
       "    </tr>\n",
       "    <tr>\n",
       "      <th>4</th>\n",
       "      <td>서울대입구역</td>\n",
       "      <td>845</td>\n",
       "    </tr>\n",
       "    <tr>\n",
       "      <th>5</th>\n",
       "      <td>쌍문역</td>\n",
       "      <td>815</td>\n",
       "    </tr>\n",
       "    <tr>\n",
       "      <th>6</th>\n",
       "      <td>구로디지털단지역</td>\n",
       "      <td>798</td>\n",
       "    </tr>\n",
       "    <tr>\n",
       "      <th>7</th>\n",
       "      <td>홍대입구역</td>\n",
       "      <td>776</td>\n",
       "    </tr>\n",
       "    <tr>\n",
       "      <th>8</th>\n",
       "      <td>연신내역</td>\n",
       "      <td>718</td>\n",
       "    </tr>\n",
       "    <tr>\n",
       "      <th>9</th>\n",
       "      <td>수유역</td>\n",
       "      <td>628</td>\n",
       "    </tr>\n",
       "    <tr>\n",
       "      <th>10</th>\n",
       "      <td>노원역</td>\n",
       "      <td>601</td>\n",
       "    </tr>\n",
       "    <tr>\n",
       "      <th>11</th>\n",
       "      <td>잠실역</td>\n",
       "      <td>597</td>\n",
       "    </tr>\n",
       "    <tr>\n",
       "      <th>12</th>\n",
       "      <td>당산역</td>\n",
       "      <td>557</td>\n",
       "    </tr>\n",
       "    <tr>\n",
       "      <th>13</th>\n",
       "      <td>천호역</td>\n",
       "      <td>556</td>\n",
       "    </tr>\n",
       "    <tr>\n",
       "      <th>14</th>\n",
       "      <td>미아사거리역</td>\n",
       "      <td>552</td>\n",
       "    </tr>\n",
       "    <tr>\n",
       "      <th>15</th>\n",
       "      <td>합정역</td>\n",
       "      <td>547</td>\n",
       "    </tr>\n",
       "    <tr>\n",
       "      <th>16</th>\n",
       "      <td>낙성대역</td>\n",
       "      <td>517</td>\n",
       "    </tr>\n",
       "    <tr>\n",
       "      <th>17</th>\n",
       "      <td>신대방역</td>\n",
       "      <td>466</td>\n",
       "    </tr>\n",
       "    <tr>\n",
       "      <th>18</th>\n",
       "      <td>창동역</td>\n",
       "      <td>447</td>\n",
       "    </tr>\n",
       "    <tr>\n",
       "      <th>19</th>\n",
       "      <td>까치산역</td>\n",
       "      <td>446</td>\n",
       "    </tr>\n",
       "  </tbody>\n",
       "</table>\n",
       "</div>"
      ],
      "text/plain": [
       "   off_area_name  count\n",
       "0            신림역   1365\n",
       "1           신도림역   1225\n",
       "2            사당역    991\n",
       "3          건대입구역    858\n",
       "4         서울대입구역    845\n",
       "5            쌍문역    815\n",
       "6       구로디지털단지역    798\n",
       "7          홍대입구역    776\n",
       "8           연신내역    718\n",
       "9            수유역    628\n",
       "10           노원역    601\n",
       "11           잠실역    597\n",
       "12           당산역    557\n",
       "13           천호역    556\n",
       "14        미아사거리역    552\n",
       "15           합정역    547\n",
       "16          낙성대역    517\n",
       "17          신대방역    466\n",
       "18           창동역    447\n",
       "19          까치산역    446"
      ]
     },
     "execution_count": 439,
     "metadata": {},
     "output_type": "execute_result"
    }
   ],
   "source": [
    "df_top_off_20 = pd.DataFrame(top_off_20).reset_index()\n",
    "df_top_off_20.columns = ['off_area_name', 'count']\n",
    "df_top_off_20"
   ]
  },
  {
   "cell_type": "code",
   "execution_count": 440,
   "id": "84e301ad",
   "metadata": {},
   "outputs": [
    {
     "data": {
      "text/plain": [
       "0          신림역\n",
       "1         신도림역\n",
       "2          사당역\n",
       "3        건대입구역\n",
       "4       서울대입구역\n",
       "5          쌍문역\n",
       "6     구로디지털단지역\n",
       "7        홍대입구역\n",
       "8         연신내역\n",
       "9          수유역\n",
       "10         노원역\n",
       "11         잠실역\n",
       "12         당산역\n",
       "13         천호역\n",
       "14      미아사거리역\n",
       "15         합정역\n",
       "16        낙성대역\n",
       "17        신대방역\n",
       "18         창동역\n",
       "19        까치산역\n",
       "Name: off_area_name, dtype: object"
      ]
     },
     "execution_count": 440,
     "metadata": {},
     "output_type": "execute_result"
    }
   ],
   "source": [
    "df_top_off_20['off_area_name']"
   ]
  },
  {
   "cell_type": "code",
   "execution_count": 441,
   "id": "06b1ff40",
   "metadata": {},
   "outputs": [],
   "source": [
    "top_off_lon = [df_pre_com[df_pre_com['off_area_name'] == df_top_off_20['off_area_name'][i]]['off_lon'].iloc[0] for i in range(len(df_top_off_20['off_area_name']))]\n",
    "top_off_lat = [df_pre_com[df_pre_com['off_area_name'] == df_top_off_20['off_area_name'][i]]['off_lat'].iloc[0] for i in range(len(df_top_off_20['off_area_name']))]"
   ]
  },
  {
   "cell_type": "code",
   "execution_count": 442,
   "id": "b3f81dc9",
   "metadata": {},
   "outputs": [
    {
     "data": {
      "text/plain": [
       "[126.929731,\n",
       " 126.891508,\n",
       " 126.981664,\n",
       " 127.071082,\n",
       " 126.95273,\n",
       " 127.034745,\n",
       " 126.901596,\n",
       " 126.92375,\n",
       " 126.920904,\n",
       " 127.025505,\n",
       " 127.060568,\n",
       " 127.100164,\n",
       " 126.900525,\n",
       " 127.123178,\n",
       " 127.030084,\n",
       " 126.914496,\n",
       " 126.963508,\n",
       " 126.913306,\n",
       " 127.047672,\n",
       " 126.846421]"
      ]
     },
     "execution_count": 442,
     "metadata": {},
     "output_type": "execute_result"
    }
   ],
   "source": [
    "top_off_lon"
   ]
  },
  {
   "cell_type": "code",
   "execution_count": 443,
   "id": "c6f98bbe",
   "metadata": {},
   "outputs": [
    {
     "name": "stdout",
     "output_type": "stream",
     "text": [
      "신림역\n",
      "신도림역\n",
      "사당역\n",
      "건대입구역\n",
      "서울대입구역\n",
      "쌍문역\n",
      "구로디지털단지역\n",
      "홍대입구역\n",
      "연신내역\n",
      "수유역\n",
      "노원역\n",
      "잠실역\n",
      "당산역\n",
      "천호역\n",
      "미아사거리역\n",
      "합정역\n",
      "낙성대역\n",
      "신대방역\n",
      "창동역\n",
      "까치산역\n"
     ]
    }
   ],
   "source": [
    "for name in list(df_top_off_20['off_area_name']):\n",
    "    print(name)"
   ]
  },
  {
   "cell_type": "code",
   "execution_count": 444,
   "id": "f358d3a8",
   "metadata": {},
   "outputs": [
    {
     "data": {
      "text/plain": [
       "branca.element.IFrame"
      ]
     },
     "execution_count": 444,
     "metadata": {},
     "output_type": "execute_result"
    }
   ],
   "source": [
    "folium.IFrame"
   ]
  },
  {
   "cell_type": "code",
   "execution_count": 445,
   "id": "61e9f3e7",
   "metadata": {},
   "outputs": [
    {
     "data": {
      "application/vnd.jupyter.widget-view+json": {
       "model_id": "3cbcf262af3344a9819c0e80f2aaa342",
       "version_major": 2,
       "version_minor": 0
      },
      "text/plain": [
       "0it [00:00, ?it/s]"
      ]
     },
     "metadata": {},
     "output_type": "display_data"
    },
    {
     "data": {
      "text/html": [
       "<div style=\"width:100%;\"><div style=\"position:relative;width:100%;height:0;padding-bottom:60%;\"><span style=\"color:#565656\">Make this Notebook Trusted to load map: File -> Trust Notebook</span><iframe src=\"about:blank\" style=\"position:absolute;width:100%;height:100%;left:0;top:0;border:none !important;\" data-html=%3C%21DOCTYPE%20html%3E%0A%3Chead%3E%20%20%20%20%0A%20%20%20%20%3Cmeta%20http-equiv%3D%22content-type%22%20content%3D%22text/html%3B%20charset%3DUTF-8%22%20/%3E%0A%20%20%20%20%0A%20%20%20%20%20%20%20%20%3Cscript%3E%0A%20%20%20%20%20%20%20%20%20%20%20%20L_NO_TOUCH%20%3D%20false%3B%0A%20%20%20%20%20%20%20%20%20%20%20%20L_DISABLE_3D%20%3D%20false%3B%0A%20%20%20%20%20%20%20%20%3C/script%3E%0A%20%20%20%20%0A%20%20%20%20%3Cstyle%3Ehtml%2C%20body%20%7Bwidth%3A%20100%25%3Bheight%3A%20100%25%3Bmargin%3A%200%3Bpadding%3A%200%3B%7D%3C/style%3E%0A%20%20%20%20%3Cstyle%3E%23map%20%7Bposition%3Aabsolute%3Btop%3A0%3Bbottom%3A0%3Bright%3A0%3Bleft%3A0%3B%7D%3C/style%3E%0A%20%20%20%20%3Cscript%20src%3D%22https%3A//cdn.jsdelivr.net/npm/leaflet%401.6.0/dist/leaflet.js%22%3E%3C/script%3E%0A%20%20%20%20%3Cscript%20src%3D%22https%3A//code.jquery.com/jquery-1.12.4.min.js%22%3E%3C/script%3E%0A%20%20%20%20%3Cscript%20src%3D%22https%3A//maxcdn.bootstrapcdn.com/bootstrap/3.2.0/js/bootstrap.min.js%22%3E%3C/script%3E%0A%20%20%20%20%3Cscript%20src%3D%22https%3A//cdnjs.cloudflare.com/ajax/libs/Leaflet.awesome-markers/2.0.2/leaflet.awesome-markers.js%22%3E%3C/script%3E%0A%20%20%20%20%3Clink%20rel%3D%22stylesheet%22%20href%3D%22https%3A//cdn.jsdelivr.net/npm/leaflet%401.6.0/dist/leaflet.css%22/%3E%0A%20%20%20%20%3Clink%20rel%3D%22stylesheet%22%20href%3D%22https%3A//maxcdn.bootstrapcdn.com/bootstrap/3.2.0/css/bootstrap.min.css%22/%3E%0A%20%20%20%20%3Clink%20rel%3D%22stylesheet%22%20href%3D%22https%3A//maxcdn.bootstrapcdn.com/bootstrap/3.2.0/css/bootstrap-theme.min.css%22/%3E%0A%20%20%20%20%3Clink%20rel%3D%22stylesheet%22%20href%3D%22https%3A//maxcdn.bootstrapcdn.com/font-awesome/4.6.3/css/font-awesome.min.css%22/%3E%0A%20%20%20%20%3Clink%20rel%3D%22stylesheet%22%20href%3D%22https%3A//cdnjs.cloudflare.com/ajax/libs/Leaflet.awesome-markers/2.0.2/leaflet.awesome-markers.css%22/%3E%0A%20%20%20%20%3Clink%20rel%3D%22stylesheet%22%20href%3D%22https%3A//cdn.jsdelivr.net/gh/python-visualization/folium/folium/templates/leaflet.awesome.rotate.min.css%22/%3E%0A%20%20%20%20%0A%20%20%20%20%20%20%20%20%20%20%20%20%3Cmeta%20name%3D%22viewport%22%20content%3D%22width%3Ddevice-width%2C%0A%20%20%20%20%20%20%20%20%20%20%20%20%20%20%20%20initial-scale%3D1.0%2C%20maximum-scale%3D1.0%2C%20user-scalable%3Dno%22%20/%3E%0A%20%20%20%20%20%20%20%20%20%20%20%20%3Cstyle%3E%0A%20%20%20%20%20%20%20%20%20%20%20%20%20%20%20%20%23map_3c44efe7f2f345d0a4b93f77c27c11a3%20%7B%0A%20%20%20%20%20%20%20%20%20%20%20%20%20%20%20%20%20%20%20%20position%3A%20relative%3B%0A%20%20%20%20%20%20%20%20%20%20%20%20%20%20%20%20%20%20%20%20width%3A%20100.0%25%3B%0A%20%20%20%20%20%20%20%20%20%20%20%20%20%20%20%20%20%20%20%20height%3A%20100.0%25%3B%0A%20%20%20%20%20%20%20%20%20%20%20%20%20%20%20%20%20%20%20%20left%3A%200.0%25%3B%0A%20%20%20%20%20%20%20%20%20%20%20%20%20%20%20%20%20%20%20%20top%3A%200.0%25%3B%0A%20%20%20%20%20%20%20%20%20%20%20%20%20%20%20%20%7D%0A%20%20%20%20%20%20%20%20%20%20%20%20%3C/style%3E%0A%20%20%20%20%20%20%20%20%0A%3C/head%3E%0A%3Cbody%3E%20%20%20%20%0A%20%20%20%20%0A%20%20%20%20%20%20%20%20%20%20%20%20%3Cdiv%20class%3D%22folium-map%22%20id%3D%22map_3c44efe7f2f345d0a4b93f77c27c11a3%22%20%3E%3C/div%3E%0A%20%20%20%20%20%20%20%20%0A%3C/body%3E%0A%3Cscript%3E%20%20%20%20%0A%20%20%20%20%0A%20%20%20%20%20%20%20%20%20%20%20%20var%20map_3c44efe7f2f345d0a4b93f77c27c11a3%20%3D%20L.map%28%0A%20%20%20%20%20%20%20%20%20%20%20%20%20%20%20%20%22map_3c44efe7f2f345d0a4b93f77c27c11a3%22%2C%0A%20%20%20%20%20%20%20%20%20%20%20%20%20%20%20%20%7B%0A%20%20%20%20%20%20%20%20%20%20%20%20%20%20%20%20%20%20%20%20center%3A%20%5B37.512%2C%20126.95%5D%2C%0A%20%20%20%20%20%20%20%20%20%20%20%20%20%20%20%20%20%20%20%20crs%3A%20L.CRS.EPSG3857%2C%0A%20%20%20%20%20%20%20%20%20%20%20%20%20%20%20%20%20%20%20%20zoom%3A%2012%2C%0A%20%20%20%20%20%20%20%20%20%20%20%20%20%20%20%20%20%20%20%20zoomControl%3A%20true%2C%0A%20%20%20%20%20%20%20%20%20%20%20%20%20%20%20%20%20%20%20%20preferCanvas%3A%20false%2C%0A%20%20%20%20%20%20%20%20%20%20%20%20%20%20%20%20%7D%0A%20%20%20%20%20%20%20%20%20%20%20%20%29%3B%0A%0A%20%20%20%20%20%20%20%20%20%20%20%20%0A%0A%20%20%20%20%20%20%20%20%0A%20%20%20%20%0A%20%20%20%20%20%20%20%20%20%20%20%20var%20tile_layer_ea665878c49747deb3ee8f66bd34fb18%20%3D%20L.tileLayer%28%0A%20%20%20%20%20%20%20%20%20%20%20%20%20%20%20%20%22https%3A//%7Bs%7D.tile.openstreetmap.org/%7Bz%7D/%7Bx%7D/%7By%7D.png%22%2C%0A%20%20%20%20%20%20%20%20%20%20%20%20%20%20%20%20%7B%22attribution%22%3A%20%22Data%20by%20%5Cu0026copy%3B%20%5Cu003ca%20href%3D%5C%22http%3A//openstreetmap.org%5C%22%5Cu003eOpenStreetMap%5Cu003c/a%5Cu003e%2C%20under%20%5Cu003ca%20href%3D%5C%22http%3A//www.openstreetmap.org/copyright%5C%22%5Cu003eODbL%5Cu003c/a%5Cu003e.%22%2C%20%22detectRetina%22%3A%20false%2C%20%22maxNativeZoom%22%3A%2018%2C%20%22maxZoom%22%3A%2018%2C%20%22minZoom%22%3A%200%2C%20%22noWrap%22%3A%20false%2C%20%22opacity%22%3A%201%2C%20%22subdomains%22%3A%20%22abc%22%2C%20%22tms%22%3A%20false%7D%0A%20%20%20%20%20%20%20%20%20%20%20%20%29.addTo%28map_3c44efe7f2f345d0a4b93f77c27c11a3%29%3B%0A%20%20%20%20%20%20%20%20%0A%20%20%20%20%0A%20%20%20%20%20%20%20%20%20%20%20%20var%20marker_122454b671714926aa695e5b30222049%20%3D%20L.marker%28%0A%20%20%20%20%20%20%20%20%20%20%20%20%20%20%20%20%5B37.484247%2C%20126.929731%5D%2C%0A%20%20%20%20%20%20%20%20%20%20%20%20%20%20%20%20%7B%7D%0A%20%20%20%20%20%20%20%20%20%20%20%20%29.addTo%28map_3c44efe7f2f345d0a4b93f77c27c11a3%29%3B%0A%20%20%20%20%20%20%20%20%0A%20%20%20%20%0A%20%20%20%20%20%20%20%20var%20popup_06459c72df504d63a66a9937d3ee2c2d%20%3D%20L.popup%28%7B%22maxWidth%22%3A%20100%2C%20%22minWidth%22%3A%2080%7D%29%3B%0A%0A%20%20%20%20%20%20%20%20%0A%20%20%20%20%20%20%20%20%20%20%20%20var%20i_frame_eff2f739d9444300824d55679658d888%20%3D%20%24%28%60%3Cdiv%20style%3D%22width%3A100%25%3B%22%3E%3Cdiv%20style%3D%22position%3Arelative%3Bwidth%3A100%25%3Bheight%3A0%3Bpadding-bottom%3A60%25%3B%22%3E%3Ciframe%20src%3D%22data%3Atext/html%3Bcharset%3Dutf-8%3Bbase64%2CCiAgICDsi6Drprzsl60%3D%22%20style%3D%22position%3Aabsolute%3Bwidth%3A100%25%3Bheight%3A100%25%3Bleft%3A0%3Btop%3A0%3Bborder%3Anone%20%21important%3B%22%3E%3C/iframe%3E%3C/div%3E%3C/div%3E%60%29%5B0%5D%3B%0A%20%20%20%20%20%20%20%20%20%20%20%20popup_06459c72df504d63a66a9937d3ee2c2d.setContent%28i_frame_eff2f739d9444300824d55679658d888%29%3B%0A%20%20%20%20%20%20%20%20%0A%0A%20%20%20%20%20%20%20%20marker_122454b671714926aa695e5b30222049.bindPopup%28popup_06459c72df504d63a66a9937d3ee2c2d%29%0A%20%20%20%20%20%20%20%20%3B%0A%0A%20%20%20%20%20%20%20%20%0A%20%20%20%20%0A%20%20%20%20%0A%20%20%20%20%20%20%20%20%20%20%20%20var%20marker_99b6fe8b3fd94a9d943e2f59c83cd48f%20%3D%20L.marker%28%0A%20%20%20%20%20%20%20%20%20%20%20%20%20%20%20%20%5B37.50844%2C%20126.891508%5D%2C%0A%20%20%20%20%20%20%20%20%20%20%20%20%20%20%20%20%7B%7D%0A%20%20%20%20%20%20%20%20%20%20%20%20%29.addTo%28map_3c44efe7f2f345d0a4b93f77c27c11a3%29%3B%0A%20%20%20%20%20%20%20%20%0A%20%20%20%20%0A%20%20%20%20%20%20%20%20var%20popup_be46426f5b7549bc89fd2e52cdc8c7ae%20%3D%20L.popup%28%7B%22maxWidth%22%3A%20100%2C%20%22minWidth%22%3A%2080%7D%29%3B%0A%0A%20%20%20%20%20%20%20%20%0A%20%20%20%20%20%20%20%20%20%20%20%20var%20i_frame_5f56e30584c94ecabeb05db5e3376c32%20%3D%20%24%28%60%3Cdiv%20style%3D%22width%3A100%25%3B%22%3E%3Cdiv%20style%3D%22position%3Arelative%3Bwidth%3A100%25%3Bheight%3A0%3Bpadding-bottom%3A60%25%3B%22%3E%3Ciframe%20src%3D%22data%3Atext/html%3Bcharset%3Dutf-8%3Bbase64%2CCiAgICDsi6Drj4Trprzsl60%3D%22%20style%3D%22position%3Aabsolute%3Bwidth%3A100%25%3Bheight%3A100%25%3Bleft%3A0%3Btop%3A0%3Bborder%3Anone%20%21important%3B%22%3E%3C/iframe%3E%3C/div%3E%3C/div%3E%60%29%5B0%5D%3B%0A%20%20%20%20%20%20%20%20%20%20%20%20popup_be46426f5b7549bc89fd2e52cdc8c7ae.setContent%28i_frame_5f56e30584c94ecabeb05db5e3376c32%29%3B%0A%20%20%20%20%20%20%20%20%0A%0A%20%20%20%20%20%20%20%20marker_99b6fe8b3fd94a9d943e2f59c83cd48f.bindPopup%28popup_be46426f5b7549bc89fd2e52cdc8c7ae%29%0A%20%20%20%20%20%20%20%20%3B%0A%0A%20%20%20%20%20%20%20%20%0A%20%20%20%20%0A%20%20%20%20%0A%20%20%20%20%20%20%20%20%20%20%20%20var%20marker_bf1e75a4619245599f9131756b7fe991%20%3D%20L.marker%28%0A%20%20%20%20%20%20%20%20%20%20%20%20%20%20%20%20%5B37.477312%2C%20126.981664%5D%2C%0A%20%20%20%20%20%20%20%20%20%20%20%20%20%20%20%20%7B%7D%0A%20%20%20%20%20%20%20%20%20%20%20%20%29.addTo%28map_3c44efe7f2f345d0a4b93f77c27c11a3%29%3B%0A%20%20%20%20%20%20%20%20%0A%20%20%20%20%0A%20%20%20%20%20%20%20%20var%20popup_4940429717e4482e9cb634cc506809f0%20%3D%20L.popup%28%7B%22maxWidth%22%3A%20100%2C%20%22minWidth%22%3A%2080%7D%29%3B%0A%0A%20%20%20%20%20%20%20%20%0A%20%20%20%20%20%20%20%20%20%20%20%20var%20i_frame_86c789ea0a12463eaef4e9614436ed4d%20%3D%20%24%28%60%3Cdiv%20style%3D%22width%3A100%25%3B%22%3E%3Cdiv%20style%3D%22position%3Arelative%3Bwidth%3A100%25%3Bheight%3A0%3Bpadding-bottom%3A60%25%3B%22%3E%3Ciframe%20src%3D%22data%3Atext/html%3Bcharset%3Dutf-8%3Bbase64%2CCiAgICDsgqzri7nsl60%3D%22%20style%3D%22position%3Aabsolute%3Bwidth%3A100%25%3Bheight%3A100%25%3Bleft%3A0%3Btop%3A0%3Bborder%3Anone%20%21important%3B%22%3E%3C/iframe%3E%3C/div%3E%3C/div%3E%60%29%5B0%5D%3B%0A%20%20%20%20%20%20%20%20%20%20%20%20popup_4940429717e4482e9cb634cc506809f0.setContent%28i_frame_86c789ea0a12463eaef4e9614436ed4d%29%3B%0A%20%20%20%20%20%20%20%20%0A%0A%20%20%20%20%20%20%20%20marker_bf1e75a4619245599f9131756b7fe991.bindPopup%28popup_4940429717e4482e9cb634cc506809f0%29%0A%20%20%20%20%20%20%20%20%3B%0A%0A%20%20%20%20%20%20%20%20%0A%20%20%20%20%0A%20%20%20%20%0A%20%20%20%20%20%20%20%20%20%20%20%20var%20marker_a8ef7d4dfdfc41f59352b675031716c3%20%3D%20L.marker%28%0A%20%20%20%20%20%20%20%20%20%20%20%20%20%20%20%20%5B37.540892%2C%20127.071082%5D%2C%0A%20%20%20%20%20%20%20%20%20%20%20%20%20%20%20%20%7B%7D%0A%20%20%20%20%20%20%20%20%20%20%20%20%29.addTo%28map_3c44efe7f2f345d0a4b93f77c27c11a3%29%3B%0A%20%20%20%20%20%20%20%20%0A%20%20%20%20%0A%20%20%20%20%20%20%20%20var%20popup_79ec8410a97846c999e23f125b40600b%20%3D%20L.popup%28%7B%22maxWidth%22%3A%20100%2C%20%22minWidth%22%3A%2080%7D%29%3B%0A%0A%20%20%20%20%20%20%20%20%0A%20%20%20%20%20%20%20%20%20%20%20%20var%20i_frame_4e0db4b163184081ab663d5a82118135%20%3D%20%24%28%60%3Cdiv%20style%3D%22width%3A100%25%3B%22%3E%3Cdiv%20style%3D%22position%3Arelative%3Bwidth%3A100%25%3Bheight%3A0%3Bpadding-bottom%3A60%25%3B%22%3E%3Ciframe%20src%3D%22data%3Atext/html%3Bcharset%3Dutf-8%3Bbase64%2CCiAgICDqsbTrjIDsnoXqtazsl60%3D%22%20style%3D%22position%3Aabsolute%3Bwidth%3A100%25%3Bheight%3A100%25%3Bleft%3A0%3Btop%3A0%3Bborder%3Anone%20%21important%3B%22%3E%3C/iframe%3E%3C/div%3E%3C/div%3E%60%29%5B0%5D%3B%0A%20%20%20%20%20%20%20%20%20%20%20%20popup_79ec8410a97846c999e23f125b40600b.setContent%28i_frame_4e0db4b163184081ab663d5a82118135%29%3B%0A%20%20%20%20%20%20%20%20%0A%0A%20%20%20%20%20%20%20%20marker_a8ef7d4dfdfc41f59352b675031716c3.bindPopup%28popup_79ec8410a97846c999e23f125b40600b%29%0A%20%20%20%20%20%20%20%20%3B%0A%0A%20%20%20%20%20%20%20%20%0A%20%20%20%20%0A%20%20%20%20%0A%20%20%20%20%20%20%20%20%20%20%20%20var%20marker_72f683fb63904f7cb78d090ae770f23d%20%3D%20L.marker%28%0A%20%20%20%20%20%20%20%20%20%20%20%20%20%20%20%20%5B37.480108%2C%20126.95273%5D%2C%0A%20%20%20%20%20%20%20%20%20%20%20%20%20%20%20%20%7B%7D%0A%20%20%20%20%20%20%20%20%20%20%20%20%29.addTo%28map_3c44efe7f2f345d0a4b93f77c27c11a3%29%3B%0A%20%20%20%20%20%20%20%20%0A%20%20%20%20%0A%20%20%20%20%20%20%20%20var%20popup_323efd788f454ed18c1cb33a9d478c4d%20%3D%20L.popup%28%7B%22maxWidth%22%3A%20100%2C%20%22minWidth%22%3A%2080%7D%29%3B%0A%0A%20%20%20%20%20%20%20%20%0A%20%20%20%20%20%20%20%20%20%20%20%20var%20i_frame_a0428c292f8a4d2b8ac5ca9e1f95f883%20%3D%20%24%28%60%3Cdiv%20style%3D%22width%3A100%25%3B%22%3E%3Cdiv%20style%3D%22position%3Arelative%3Bwidth%3A100%25%3Bheight%3A0%3Bpadding-bottom%3A60%25%3B%22%3E%3Ciframe%20src%3D%22data%3Atext/html%3Bcharset%3Dutf-8%3Bbase64%2CCiAgICDshJzsmrjrjIDsnoXqtazsl60%3D%22%20style%3D%22position%3Aabsolute%3Bwidth%3A100%25%3Bheight%3A100%25%3Bleft%3A0%3Btop%3A0%3Bborder%3Anone%20%21important%3B%22%3E%3C/iframe%3E%3C/div%3E%3C/div%3E%60%29%5B0%5D%3B%0A%20%20%20%20%20%20%20%20%20%20%20%20popup_323efd788f454ed18c1cb33a9d478c4d.setContent%28i_frame_a0428c292f8a4d2b8ac5ca9e1f95f883%29%3B%0A%20%20%20%20%20%20%20%20%0A%0A%20%20%20%20%20%20%20%20marker_72f683fb63904f7cb78d090ae770f23d.bindPopup%28popup_323efd788f454ed18c1cb33a9d478c4d%29%0A%20%20%20%20%20%20%20%20%3B%0A%0A%20%20%20%20%20%20%20%20%0A%20%20%20%20%0A%20%20%20%20%0A%20%20%20%20%20%20%20%20%20%20%20%20var%20marker_7699139d08e34ac6b02fe8b19e183e5d%20%3D%20L.marker%28%0A%20%20%20%20%20%20%20%20%20%20%20%20%20%20%20%20%5B37.648815%2C%20127.034745%5D%2C%0A%20%20%20%20%20%20%20%20%20%20%20%20%20%20%20%20%7B%7D%0A%20%20%20%20%20%20%20%20%20%20%20%20%29.addTo%28map_3c44efe7f2f345d0a4b93f77c27c11a3%29%3B%0A%20%20%20%20%20%20%20%20%0A%20%20%20%20%0A%20%20%20%20%20%20%20%20var%20popup_39d8e1bd2f70487798d447ba3b2184e2%20%3D%20L.popup%28%7B%22maxWidth%22%3A%20100%2C%20%22minWidth%22%3A%2080%7D%29%3B%0A%0A%20%20%20%20%20%20%20%20%0A%20%20%20%20%20%20%20%20%20%20%20%20var%20i_frame_b1536a64befc44cc96c35f4dcaedabc0%20%3D%20%24%28%60%3Cdiv%20style%3D%22width%3A100%25%3B%22%3E%3Cdiv%20style%3D%22position%3Arelative%3Bwidth%3A100%25%3Bheight%3A0%3Bpadding-bottom%3A60%25%3B%22%3E%3Ciframe%20src%3D%22data%3Atext/html%3Bcharset%3Dutf-8%3Bbase64%2CCiAgICDsjI3rrLjsl60%3D%22%20style%3D%22position%3Aabsolute%3Bwidth%3A100%25%3Bheight%3A100%25%3Bleft%3A0%3Btop%3A0%3Bborder%3Anone%20%21important%3B%22%3E%3C/iframe%3E%3C/div%3E%3C/div%3E%60%29%5B0%5D%3B%0A%20%20%20%20%20%20%20%20%20%20%20%20popup_39d8e1bd2f70487798d447ba3b2184e2.setContent%28i_frame_b1536a64befc44cc96c35f4dcaedabc0%29%3B%0A%20%20%20%20%20%20%20%20%0A%0A%20%20%20%20%20%20%20%20marker_7699139d08e34ac6b02fe8b19e183e5d.bindPopup%28popup_39d8e1bd2f70487798d447ba3b2184e2%29%0A%20%20%20%20%20%20%20%20%3B%0A%0A%20%20%20%20%20%20%20%20%0A%20%20%20%20%0A%20%20%20%20%0A%20%20%20%20%20%20%20%20%20%20%20%20var%20marker_59cee6ea325b4b5cbc6c1312dd78b2b7%20%3D%20L.marker%28%0A%20%20%20%20%20%20%20%20%20%20%20%20%20%20%20%20%5B37.485243%2C%20126.901596%5D%2C%0A%20%20%20%20%20%20%20%20%20%20%20%20%20%20%20%20%7B%7D%0A%20%20%20%20%20%20%20%20%20%20%20%20%29.addTo%28map_3c44efe7f2f345d0a4b93f77c27c11a3%29%3B%0A%20%20%20%20%20%20%20%20%0A%20%20%20%20%0A%20%20%20%20%20%20%20%20var%20popup_dc4f897df16b4d4995ee7842d179fec6%20%3D%20L.popup%28%7B%22maxWidth%22%3A%20100%2C%20%22minWidth%22%3A%2080%7D%29%3B%0A%0A%20%20%20%20%20%20%20%20%0A%20%20%20%20%20%20%20%20%20%20%20%20var%20i_frame_6cd3f926f7884c20af60e0dd6dd39343%20%3D%20%24%28%60%3Cdiv%20style%3D%22width%3A100%25%3B%22%3E%3Cdiv%20style%3D%22position%3Arelative%3Bwidth%3A100%25%3Bheight%3A0%3Bpadding-bottom%3A60%25%3B%22%3E%3Ciframe%20src%3D%22data%3Atext/html%3Bcharset%3Dutf-8%3Bbase64%2CCiAgICDqtazroZzrlJTsp4DthLjri6jsp4Dsl60%3D%22%20style%3D%22position%3Aabsolute%3Bwidth%3A100%25%3Bheight%3A100%25%3Bleft%3A0%3Btop%3A0%3Bborder%3Anone%20%21important%3B%22%3E%3C/iframe%3E%3C/div%3E%3C/div%3E%60%29%5B0%5D%3B%0A%20%20%20%20%20%20%20%20%20%20%20%20popup_dc4f897df16b4d4995ee7842d179fec6.setContent%28i_frame_6cd3f926f7884c20af60e0dd6dd39343%29%3B%0A%20%20%20%20%20%20%20%20%0A%0A%20%20%20%20%20%20%20%20marker_59cee6ea325b4b5cbc6c1312dd78b2b7.bindPopup%28popup_dc4f897df16b4d4995ee7842d179fec6%29%0A%20%20%20%20%20%20%20%20%3B%0A%0A%20%20%20%20%20%20%20%20%0A%20%20%20%20%0A%20%20%20%20%0A%20%20%20%20%20%20%20%20%20%20%20%20var%20marker_b01f60497be743d0aeccf6d3b65eebd4%20%3D%20L.marker%28%0A%20%20%20%20%20%20%20%20%20%20%20%20%20%20%20%20%5B37.556837%2C%20126.92375%5D%2C%0A%20%20%20%20%20%20%20%20%20%20%20%20%20%20%20%20%7B%7D%0A%20%20%20%20%20%20%20%20%20%20%20%20%29.addTo%28map_3c44efe7f2f345d0a4b93f77c27c11a3%29%3B%0A%20%20%20%20%20%20%20%20%0A%20%20%20%20%0A%20%20%20%20%20%20%20%20var%20popup_5e7a193661c54f51908a2e9fc95189cb%20%3D%20L.popup%28%7B%22maxWidth%22%3A%20100%2C%20%22minWidth%22%3A%2080%7D%29%3B%0A%0A%20%20%20%20%20%20%20%20%0A%20%20%20%20%20%20%20%20%20%20%20%20var%20i_frame_aaa4d881d2684648aceae2faf69faab9%20%3D%20%24%28%60%3Cdiv%20style%3D%22width%3A100%25%3B%22%3E%3Cdiv%20style%3D%22position%3Arelative%3Bwidth%3A100%25%3Bheight%3A0%3Bpadding-bottom%3A60%25%3B%22%3E%3Ciframe%20src%3D%22data%3Atext/html%3Bcharset%3Dutf-8%3Bbase64%2CCiAgICDtmY3rjIDsnoXqtazsl60%3D%22%20style%3D%22position%3Aabsolute%3Bwidth%3A100%25%3Bheight%3A100%25%3Bleft%3A0%3Btop%3A0%3Bborder%3Anone%20%21important%3B%22%3E%3C/iframe%3E%3C/div%3E%3C/div%3E%60%29%5B0%5D%3B%0A%20%20%20%20%20%20%20%20%20%20%20%20popup_5e7a193661c54f51908a2e9fc95189cb.setContent%28i_frame_aaa4d881d2684648aceae2faf69faab9%29%3B%0A%20%20%20%20%20%20%20%20%0A%0A%20%20%20%20%20%20%20%20marker_b01f60497be743d0aeccf6d3b65eebd4.bindPopup%28popup_5e7a193661c54f51908a2e9fc95189cb%29%0A%20%20%20%20%20%20%20%20%3B%0A%0A%20%20%20%20%20%20%20%20%0A%20%20%20%20%0A%20%20%20%20%0A%20%20%20%20%20%20%20%20%20%20%20%20var%20marker_c6d5600011c3445abc17639c8e7c65b2%20%3D%20L.marker%28%0A%20%20%20%20%20%20%20%20%20%20%20%20%20%20%20%20%5B37.619418%2C%20126.920904%5D%2C%0A%20%20%20%20%20%20%20%20%20%20%20%20%20%20%20%20%7B%7D%0A%20%20%20%20%20%20%20%20%20%20%20%20%29.addTo%28map_3c44efe7f2f345d0a4b93f77c27c11a3%29%3B%0A%20%20%20%20%20%20%20%20%0A%20%20%20%20%0A%20%20%20%20%20%20%20%20var%20popup_d0a89808b3434ddab81a00a93fbc1fe6%20%3D%20L.popup%28%7B%22maxWidth%22%3A%20100%2C%20%22minWidth%22%3A%2080%7D%29%3B%0A%0A%20%20%20%20%20%20%20%20%0A%20%20%20%20%20%20%20%20%20%20%20%20var%20i_frame_b77c72ce0e474876a46c8c339605c74c%20%3D%20%24%28%60%3Cdiv%20style%3D%22width%3A100%25%3B%22%3E%3Cdiv%20style%3D%22position%3Arelative%3Bwidth%3A100%25%3Bheight%3A0%3Bpadding-bottom%3A60%25%3B%22%3E%3Ciframe%20src%3D%22data%3Atext/html%3Bcharset%3Dutf-8%3Bbase64%2CCiAgICDsl7Dsi6DrgrTsl60%3D%22%20style%3D%22position%3Aabsolute%3Bwidth%3A100%25%3Bheight%3A100%25%3Bleft%3A0%3Btop%3A0%3Bborder%3Anone%20%21important%3B%22%3E%3C/iframe%3E%3C/div%3E%3C/div%3E%60%29%5B0%5D%3B%0A%20%20%20%20%20%20%20%20%20%20%20%20popup_d0a89808b3434ddab81a00a93fbc1fe6.setContent%28i_frame_b77c72ce0e474876a46c8c339605c74c%29%3B%0A%20%20%20%20%20%20%20%20%0A%0A%20%20%20%20%20%20%20%20marker_c6d5600011c3445abc17639c8e7c65b2.bindPopup%28popup_d0a89808b3434ddab81a00a93fbc1fe6%29%0A%20%20%20%20%20%20%20%20%3B%0A%0A%20%20%20%20%20%20%20%20%0A%20%20%20%20%0A%20%20%20%20%0A%20%20%20%20%20%20%20%20%20%20%20%20var%20marker_3fdd0d38ee6042c3b3c228020561c555%20%3D%20L.marker%28%0A%20%20%20%20%20%20%20%20%20%20%20%20%20%20%20%20%5B37.637873%2C%20127.025505%5D%2C%0A%20%20%20%20%20%20%20%20%20%20%20%20%20%20%20%20%7B%7D%0A%20%20%20%20%20%20%20%20%20%20%20%20%29.addTo%28map_3c44efe7f2f345d0a4b93f77c27c11a3%29%3B%0A%20%20%20%20%20%20%20%20%0A%20%20%20%20%0A%20%20%20%20%20%20%20%20var%20popup_d297ce22751f453fa22b40d99cd97d7f%20%3D%20L.popup%28%7B%22maxWidth%22%3A%20100%2C%20%22minWidth%22%3A%2080%7D%29%3B%0A%0A%20%20%20%20%20%20%20%20%0A%20%20%20%20%20%20%20%20%20%20%20%20var%20i_frame_9c30133d1ae54eef983c9b2231806f4c%20%3D%20%24%28%60%3Cdiv%20style%3D%22width%3A100%25%3B%22%3E%3Cdiv%20style%3D%22position%3Arelative%3Bwidth%3A100%25%3Bheight%3A0%3Bpadding-bottom%3A60%25%3B%22%3E%3Ciframe%20src%3D%22data%3Atext/html%3Bcharset%3Dutf-8%3Bbase64%2CCiAgICDsiJjsnKDsl60%3D%22%20style%3D%22position%3Aabsolute%3Bwidth%3A100%25%3Bheight%3A100%25%3Bleft%3A0%3Btop%3A0%3Bborder%3Anone%20%21important%3B%22%3E%3C/iframe%3E%3C/div%3E%3C/div%3E%60%29%5B0%5D%3B%0A%20%20%20%20%20%20%20%20%20%20%20%20popup_d297ce22751f453fa22b40d99cd97d7f.setContent%28i_frame_9c30133d1ae54eef983c9b2231806f4c%29%3B%0A%20%20%20%20%20%20%20%20%0A%0A%20%20%20%20%20%20%20%20marker_3fdd0d38ee6042c3b3c228020561c555.bindPopup%28popup_d297ce22751f453fa22b40d99cd97d7f%29%0A%20%20%20%20%20%20%20%20%3B%0A%0A%20%20%20%20%20%20%20%20%0A%20%20%20%20%0A%20%20%20%20%0A%20%20%20%20%20%20%20%20%20%20%20%20var%20marker_676619774dd84578a928065473117326%20%3D%20L.marker%28%0A%20%20%20%20%20%20%20%20%20%20%20%20%20%20%20%20%5B37.654444%2C%20127.060568%5D%2C%0A%20%20%20%20%20%20%20%20%20%20%20%20%20%20%20%20%7B%7D%0A%20%20%20%20%20%20%20%20%20%20%20%20%29.addTo%28map_3c44efe7f2f345d0a4b93f77c27c11a3%29%3B%0A%20%20%20%20%20%20%20%20%0A%20%20%20%20%0A%20%20%20%20%20%20%20%20var%20popup_bb1c79e645b043f08eb90f30e148333a%20%3D%20L.popup%28%7B%22maxWidth%22%3A%20100%2C%20%22minWidth%22%3A%2080%7D%29%3B%0A%0A%20%20%20%20%20%20%20%20%0A%20%20%20%20%20%20%20%20%20%20%20%20var%20i_frame_908002ff41cc4602b1b6291921b81e95%20%3D%20%24%28%60%3Cdiv%20style%3D%22width%3A100%25%3B%22%3E%3Cdiv%20style%3D%22position%3Arelative%3Bwidth%3A100%25%3Bheight%3A0%3Bpadding-bottom%3A60%25%3B%22%3E%3Ciframe%20src%3D%22data%3Atext/html%3Bcharset%3Dutf-8%3Bbase64%2CCiAgICDrhbjsm5Dsl60%3D%22%20style%3D%22position%3Aabsolute%3Bwidth%3A100%25%3Bheight%3A100%25%3Bleft%3A0%3Btop%3A0%3Bborder%3Anone%20%21important%3B%22%3E%3C/iframe%3E%3C/div%3E%3C/div%3E%60%29%5B0%5D%3B%0A%20%20%20%20%20%20%20%20%20%20%20%20popup_bb1c79e645b043f08eb90f30e148333a.setContent%28i_frame_908002ff41cc4602b1b6291921b81e95%29%3B%0A%20%20%20%20%20%20%20%20%0A%0A%20%20%20%20%20%20%20%20marker_676619774dd84578a928065473117326.bindPopup%28popup_bb1c79e645b043f08eb90f30e148333a%29%0A%20%20%20%20%20%20%20%20%3B%0A%0A%20%20%20%20%20%20%20%20%0A%20%20%20%20%0A%20%20%20%20%0A%20%20%20%20%20%20%20%20%20%20%20%20var%20marker_99a04328b64a4d11a604b409a6b1883a%20%3D%20L.marker%28%0A%20%20%20%20%20%20%20%20%20%20%20%20%20%20%20%20%5B37.513275%2C%20127.100164%5D%2C%0A%20%20%20%20%20%20%20%20%20%20%20%20%20%20%20%20%7B%7D%0A%20%20%20%20%20%20%20%20%20%20%20%20%29.addTo%28map_3c44efe7f2f345d0a4b93f77c27c11a3%29%3B%0A%20%20%20%20%20%20%20%20%0A%20%20%20%20%0A%20%20%20%20%20%20%20%20var%20popup_15dd4c1021a945e781603d5cbc24d317%20%3D%20L.popup%28%7B%22maxWidth%22%3A%20100%2C%20%22minWidth%22%3A%2080%7D%29%3B%0A%0A%20%20%20%20%20%20%20%20%0A%20%20%20%20%20%20%20%20%20%20%20%20var%20i_frame_b9499205c1424a01b9eb4ffed8d9631c%20%3D%20%24%28%60%3Cdiv%20style%3D%22width%3A100%25%3B%22%3E%3Cdiv%20style%3D%22position%3Arelative%3Bwidth%3A100%25%3Bheight%3A0%3Bpadding-bottom%3A60%25%3B%22%3E%3Ciframe%20src%3D%22data%3Atext/html%3Bcharset%3Dutf-8%3Bbase64%2CCiAgICDsnqDsi6Tsl60%3D%22%20style%3D%22position%3Aabsolute%3Bwidth%3A100%25%3Bheight%3A100%25%3Bleft%3A0%3Btop%3A0%3Bborder%3Anone%20%21important%3B%22%3E%3C/iframe%3E%3C/div%3E%3C/div%3E%60%29%5B0%5D%3B%0A%20%20%20%20%20%20%20%20%20%20%20%20popup_15dd4c1021a945e781603d5cbc24d317.setContent%28i_frame_b9499205c1424a01b9eb4ffed8d9631c%29%3B%0A%20%20%20%20%20%20%20%20%0A%0A%20%20%20%20%20%20%20%20marker_99a04328b64a4d11a604b409a6b1883a.bindPopup%28popup_15dd4c1021a945e781603d5cbc24d317%29%0A%20%20%20%20%20%20%20%20%3B%0A%0A%20%20%20%20%20%20%20%20%0A%20%20%20%20%0A%20%20%20%20%0A%20%20%20%20%20%20%20%20%20%20%20%20var%20marker_c93571c6f8744f5b9b27c8675520529c%20%3D%20L.marker%28%0A%20%20%20%20%20%20%20%20%20%20%20%20%20%20%20%20%5B37.534728%2C%20126.900525%5D%2C%0A%20%20%20%20%20%20%20%20%20%20%20%20%20%20%20%20%7B%7D%0A%20%20%20%20%20%20%20%20%20%20%20%20%29.addTo%28map_3c44efe7f2f345d0a4b93f77c27c11a3%29%3B%0A%20%20%20%20%20%20%20%20%0A%20%20%20%20%0A%20%20%20%20%20%20%20%20var%20popup_8cdee3c1982343adb684c02bd47858a1%20%3D%20L.popup%28%7B%22maxWidth%22%3A%20100%2C%20%22minWidth%22%3A%2080%7D%29%3B%0A%0A%20%20%20%20%20%20%20%20%0A%20%20%20%20%20%20%20%20%20%20%20%20var%20i_frame_19b4b779c711444fbccddfaf2bd3a5c0%20%3D%20%24%28%60%3Cdiv%20style%3D%22width%3A100%25%3B%22%3E%3Cdiv%20style%3D%22position%3Arelative%3Bwidth%3A100%25%3Bheight%3A0%3Bpadding-bottom%3A60%25%3B%22%3E%3Ciframe%20src%3D%22data%3Atext/html%3Bcharset%3Dutf-8%3Bbase64%2CCiAgICDri7nsgrDsl60%3D%22%20style%3D%22position%3Aabsolute%3Bwidth%3A100%25%3Bheight%3A100%25%3Bleft%3A0%3Btop%3A0%3Bborder%3Anone%20%21important%3B%22%3E%3C/iframe%3E%3C/div%3E%3C/div%3E%60%29%5B0%5D%3B%0A%20%20%20%20%20%20%20%20%20%20%20%20popup_8cdee3c1982343adb684c02bd47858a1.setContent%28i_frame_19b4b779c711444fbccddfaf2bd3a5c0%29%3B%0A%20%20%20%20%20%20%20%20%0A%0A%20%20%20%20%20%20%20%20marker_c93571c6f8744f5b9b27c8675520529c.bindPopup%28popup_8cdee3c1982343adb684c02bd47858a1%29%0A%20%20%20%20%20%20%20%20%3B%0A%0A%20%20%20%20%20%20%20%20%0A%20%20%20%20%0A%20%20%20%20%0A%20%20%20%20%20%20%20%20%20%20%20%20var%20marker_65bab389610e470589e8be63cd329a07%20%3D%20L.marker%28%0A%20%20%20%20%20%20%20%20%20%20%20%20%20%20%20%20%5B37.537911%2C%20127.123178%5D%2C%0A%20%20%20%20%20%20%20%20%20%20%20%20%20%20%20%20%7B%7D%0A%20%20%20%20%20%20%20%20%20%20%20%20%29.addTo%28map_3c44efe7f2f345d0a4b93f77c27c11a3%29%3B%0A%20%20%20%20%20%20%20%20%0A%20%20%20%20%0A%20%20%20%20%20%20%20%20var%20popup_e35b74fc3d124107ae3fa52da7eb8fab%20%3D%20L.popup%28%7B%22maxWidth%22%3A%20100%2C%20%22minWidth%22%3A%2080%7D%29%3B%0A%0A%20%20%20%20%20%20%20%20%0A%20%20%20%20%20%20%20%20%20%20%20%20var%20i_frame_56c9696ebd2f4c7e85a41c986164ee76%20%3D%20%24%28%60%3Cdiv%20style%3D%22width%3A100%25%3B%22%3E%3Cdiv%20style%3D%22position%3Arelative%3Bwidth%3A100%25%3Bheight%3A0%3Bpadding-bottom%3A60%25%3B%22%3E%3Ciframe%20src%3D%22data%3Atext/html%3Bcharset%3Dutf-8%3Bbase64%2CCiAgICDsspztmLjsl60%3D%22%20style%3D%22position%3Aabsolute%3Bwidth%3A100%25%3Bheight%3A100%25%3Bleft%3A0%3Btop%3A0%3Bborder%3Anone%20%21important%3B%22%3E%3C/iframe%3E%3C/div%3E%3C/div%3E%60%29%5B0%5D%3B%0A%20%20%20%20%20%20%20%20%20%20%20%20popup_e35b74fc3d124107ae3fa52da7eb8fab.setContent%28i_frame_56c9696ebd2f4c7e85a41c986164ee76%29%3B%0A%20%20%20%20%20%20%20%20%0A%0A%20%20%20%20%20%20%20%20marker_65bab389610e470589e8be63cd329a07.bindPopup%28popup_e35b74fc3d124107ae3fa52da7eb8fab%29%0A%20%20%20%20%20%20%20%20%3B%0A%0A%20%20%20%20%20%20%20%20%0A%20%20%20%20%0A%20%20%20%20%0A%20%20%20%20%20%20%20%20%20%20%20%20var%20marker_c63de024659b4b7681b76e7948f0bfc5%20%3D%20L.marker%28%0A%20%20%20%20%20%20%20%20%20%20%20%20%20%20%20%20%5B37.613251%2C%20127.030084%5D%2C%0A%20%20%20%20%20%20%20%20%20%20%20%20%20%20%20%20%7B%7D%0A%20%20%20%20%20%20%20%20%20%20%20%20%29.addTo%28map_3c44efe7f2f345d0a4b93f77c27c11a3%29%3B%0A%20%20%20%20%20%20%20%20%0A%20%20%20%20%0A%20%20%20%20%20%20%20%20var%20popup_5c612c40783741c192865538df2d2b3c%20%3D%20L.popup%28%7B%22maxWidth%22%3A%20100%2C%20%22minWidth%22%3A%2080%7D%29%3B%0A%0A%20%20%20%20%20%20%20%20%0A%20%20%20%20%20%20%20%20%20%20%20%20var%20i_frame_6da74771dca441f1a83bd4dc5584aba6%20%3D%20%24%28%60%3Cdiv%20style%3D%22width%3A100%25%3B%22%3E%3Cdiv%20style%3D%22position%3Arelative%3Bwidth%3A100%25%3Bheight%3A0%3Bpadding-bottom%3A60%25%3B%22%3E%3Ciframe%20src%3D%22data%3Atext/html%3Bcharset%3Dutf-8%3Bbase64%2CCiAgICDrr7jslYTsgqzqsbDrpqzsl60%3D%22%20style%3D%22position%3Aabsolute%3Bwidth%3A100%25%3Bheight%3A100%25%3Bleft%3A0%3Btop%3A0%3Bborder%3Anone%20%21important%3B%22%3E%3C/iframe%3E%3C/div%3E%3C/div%3E%60%29%5B0%5D%3B%0A%20%20%20%20%20%20%20%20%20%20%20%20popup_5c612c40783741c192865538df2d2b3c.setContent%28i_frame_6da74771dca441f1a83bd4dc5584aba6%29%3B%0A%20%20%20%20%20%20%20%20%0A%0A%20%20%20%20%20%20%20%20marker_c63de024659b4b7681b76e7948f0bfc5.bindPopup%28popup_5c612c40783741c192865538df2d2b3c%29%0A%20%20%20%20%20%20%20%20%3B%0A%0A%20%20%20%20%20%20%20%20%0A%20%20%20%20%0A%20%20%20%20%0A%20%20%20%20%20%20%20%20%20%20%20%20var%20marker_bff2720f291d42a08ff1454e6fa3ab98%20%3D%20L.marker%28%0A%20%20%20%20%20%20%20%20%20%20%20%20%20%20%20%20%5B37.549982%2C%20126.914496%5D%2C%0A%20%20%20%20%20%20%20%20%20%20%20%20%20%20%20%20%7B%7D%0A%20%20%20%20%20%20%20%20%20%20%20%20%29.addTo%28map_3c44efe7f2f345d0a4b93f77c27c11a3%29%3B%0A%20%20%20%20%20%20%20%20%0A%20%20%20%20%0A%20%20%20%20%20%20%20%20var%20popup_d8a6e9c9c87044b592ae7c7186d73096%20%3D%20L.popup%28%7B%22maxWidth%22%3A%20100%2C%20%22minWidth%22%3A%2080%7D%29%3B%0A%0A%20%20%20%20%20%20%20%20%0A%20%20%20%20%20%20%20%20%20%20%20%20var%20i_frame_f3ed2d57ff124cd192379c7b8dbc8872%20%3D%20%24%28%60%3Cdiv%20style%3D%22width%3A100%25%3B%22%3E%3Cdiv%20style%3D%22position%3Arelative%3Bwidth%3A100%25%3Bheight%3A0%3Bpadding-bottom%3A60%25%3B%22%3E%3Ciframe%20src%3D%22data%3Atext/html%3Bcharset%3Dutf-8%3Bbase64%2CCiAgICDtlansoJXsl60%3D%22%20style%3D%22position%3Aabsolute%3Bwidth%3A100%25%3Bheight%3A100%25%3Bleft%3A0%3Btop%3A0%3Bborder%3Anone%20%21important%3B%22%3E%3C/iframe%3E%3C/div%3E%3C/div%3E%60%29%5B0%5D%3B%0A%20%20%20%20%20%20%20%20%20%20%20%20popup_d8a6e9c9c87044b592ae7c7186d73096.setContent%28i_frame_f3ed2d57ff124cd192379c7b8dbc8872%29%3B%0A%20%20%20%20%20%20%20%20%0A%0A%20%20%20%20%20%20%20%20marker_bff2720f291d42a08ff1454e6fa3ab98.bindPopup%28popup_d8a6e9c9c87044b592ae7c7186d73096%29%0A%20%20%20%20%20%20%20%20%3B%0A%0A%20%20%20%20%20%20%20%20%0A%20%20%20%20%0A%20%20%20%20%0A%20%20%20%20%20%20%20%20%20%20%20%20var%20marker_9d17a56a77dc40b3ab58f79ddcd518a5%20%3D%20L.marker%28%0A%20%20%20%20%20%20%20%20%20%20%20%20%20%20%20%20%5B37.477071%2C%20126.963508%5D%2C%0A%20%20%20%20%20%20%20%20%20%20%20%20%20%20%20%20%7B%7D%0A%20%20%20%20%20%20%20%20%20%20%20%20%29.addTo%28map_3c44efe7f2f345d0a4b93f77c27c11a3%29%3B%0A%20%20%20%20%20%20%20%20%0A%20%20%20%20%0A%20%20%20%20%20%20%20%20var%20popup_84f323f7f70843169cfe8df0a9cf688c%20%3D%20L.popup%28%7B%22maxWidth%22%3A%20100%2C%20%22minWidth%22%3A%2080%7D%29%3B%0A%0A%20%20%20%20%20%20%20%20%0A%20%20%20%20%20%20%20%20%20%20%20%20var%20i_frame_c617e912174548ec81b2bb7dad0a69d7%20%3D%20%24%28%60%3Cdiv%20style%3D%22width%3A100%25%3B%22%3E%3Cdiv%20style%3D%22position%3Arelative%3Bwidth%3A100%25%3Bheight%3A0%3Bpadding-bottom%3A60%25%3B%22%3E%3Ciframe%20src%3D%22data%3Atext/html%3Bcharset%3Dutf-8%3Bbase64%2CCiAgICDrgpnshLHrjIDsl60%3D%22%20style%3D%22position%3Aabsolute%3Bwidth%3A100%25%3Bheight%3A100%25%3Bleft%3A0%3Btop%3A0%3Bborder%3Anone%20%21important%3B%22%3E%3C/iframe%3E%3C/div%3E%3C/div%3E%60%29%5B0%5D%3B%0A%20%20%20%20%20%20%20%20%20%20%20%20popup_84f323f7f70843169cfe8df0a9cf688c.setContent%28i_frame_c617e912174548ec81b2bb7dad0a69d7%29%3B%0A%20%20%20%20%20%20%20%20%0A%0A%20%20%20%20%20%20%20%20marker_9d17a56a77dc40b3ab58f79ddcd518a5.bindPopup%28popup_84f323f7f70843169cfe8df0a9cf688c%29%0A%20%20%20%20%20%20%20%20%3B%0A%0A%20%20%20%20%20%20%20%20%0A%20%20%20%20%0A%20%20%20%20%0A%20%20%20%20%20%20%20%20%20%20%20%20var%20marker_8abd9c31a8a94c73be803286835586a9%20%3D%20L.marker%28%0A%20%20%20%20%20%20%20%20%20%20%20%20%20%20%20%20%5B37.48755900000001%2C%20126.913306%5D%2C%0A%20%20%20%20%20%20%20%20%20%20%20%20%20%20%20%20%7B%7D%0A%20%20%20%20%20%20%20%20%20%20%20%20%29.addTo%28map_3c44efe7f2f345d0a4b93f77c27c11a3%29%3B%0A%20%20%20%20%20%20%20%20%0A%20%20%20%20%0A%20%20%20%20%20%20%20%20var%20popup_f743ad5351784fc2a20025101b229bce%20%3D%20L.popup%28%7B%22maxWidth%22%3A%20100%2C%20%22minWidth%22%3A%2080%7D%29%3B%0A%0A%20%20%20%20%20%20%20%20%0A%20%20%20%20%20%20%20%20%20%20%20%20var%20i_frame_2a7d3c40599f4703a55d94f338c42ac7%20%3D%20%24%28%60%3Cdiv%20style%3D%22width%3A100%25%3B%22%3E%3Cdiv%20style%3D%22position%3Arelative%3Bwidth%3A100%25%3Bheight%3A0%3Bpadding-bottom%3A60%25%3B%22%3E%3Ciframe%20src%3D%22data%3Atext/html%3Bcharset%3Dutf-8%3Bbase64%2CCiAgICDsi6DrjIDrsKnsl60%3D%22%20style%3D%22position%3Aabsolute%3Bwidth%3A100%25%3Bheight%3A100%25%3Bleft%3A0%3Btop%3A0%3Bborder%3Anone%20%21important%3B%22%3E%3C/iframe%3E%3C/div%3E%3C/div%3E%60%29%5B0%5D%3B%0A%20%20%20%20%20%20%20%20%20%20%20%20popup_f743ad5351784fc2a20025101b229bce.setContent%28i_frame_2a7d3c40599f4703a55d94f338c42ac7%29%3B%0A%20%20%20%20%20%20%20%20%0A%0A%20%20%20%20%20%20%20%20marker_8abd9c31a8a94c73be803286835586a9.bindPopup%28popup_f743ad5351784fc2a20025101b229bce%29%0A%20%20%20%20%20%20%20%20%3B%0A%0A%20%20%20%20%20%20%20%20%0A%20%20%20%20%0A%20%20%20%20%0A%20%20%20%20%20%20%20%20%20%20%20%20var%20marker_04c4166ad3e74f24bc0c1d7f6f82410a%20%3D%20L.marker%28%0A%20%20%20%20%20%20%20%20%20%20%20%20%20%20%20%20%5B37.653205%2C%20127.047672%5D%2C%0A%20%20%20%20%20%20%20%20%20%20%20%20%20%20%20%20%7B%7D%0A%20%20%20%20%20%20%20%20%20%20%20%20%29.addTo%28map_3c44efe7f2f345d0a4b93f77c27c11a3%29%3B%0A%20%20%20%20%20%20%20%20%0A%20%20%20%20%0A%20%20%20%20%20%20%20%20var%20popup_9fb07bb8d2374148a9bdabc9897ddfac%20%3D%20L.popup%28%7B%22maxWidth%22%3A%20100%2C%20%22minWidth%22%3A%2080%7D%29%3B%0A%0A%20%20%20%20%20%20%20%20%0A%20%20%20%20%20%20%20%20%20%20%20%20var%20i_frame_e511c5fad48e4ccb90374a7a8bf15baa%20%3D%20%24%28%60%3Cdiv%20style%3D%22width%3A100%25%3B%22%3E%3Cdiv%20style%3D%22position%3Arelative%3Bwidth%3A100%25%3Bheight%3A0%3Bpadding-bottom%3A60%25%3B%22%3E%3Ciframe%20src%3D%22data%3Atext/html%3Bcharset%3Dutf-8%3Bbase64%2CCiAgICDssL3rj5nsl60%3D%22%20style%3D%22position%3Aabsolute%3Bwidth%3A100%25%3Bheight%3A100%25%3Bleft%3A0%3Btop%3A0%3Bborder%3Anone%20%21important%3B%22%3E%3C/iframe%3E%3C/div%3E%3C/div%3E%60%29%5B0%5D%3B%0A%20%20%20%20%20%20%20%20%20%20%20%20popup_9fb07bb8d2374148a9bdabc9897ddfac.setContent%28i_frame_e511c5fad48e4ccb90374a7a8bf15baa%29%3B%0A%20%20%20%20%20%20%20%20%0A%0A%20%20%20%20%20%20%20%20marker_04c4166ad3e74f24bc0c1d7f6f82410a.bindPopup%28popup_9fb07bb8d2374148a9bdabc9897ddfac%29%0A%20%20%20%20%20%20%20%20%3B%0A%0A%20%20%20%20%20%20%20%20%0A%20%20%20%20%0A%20%20%20%20%0A%20%20%20%20%20%20%20%20%20%20%20%20var%20marker_57e73b76e58d4aa6abd1ad3e2c46f215%20%3D%20L.marker%28%0A%20%20%20%20%20%20%20%20%20%20%20%20%20%20%20%20%5B37.532211%2C%20126.846421%5D%2C%0A%20%20%20%20%20%20%20%20%20%20%20%20%20%20%20%20%7B%7D%0A%20%20%20%20%20%20%20%20%20%20%20%20%29.addTo%28map_3c44efe7f2f345d0a4b93f77c27c11a3%29%3B%0A%20%20%20%20%20%20%20%20%0A%20%20%20%20%0A%20%20%20%20%20%20%20%20var%20popup_de677d7c8d1c4077b42ab9ded105a3aa%20%3D%20L.popup%28%7B%22maxWidth%22%3A%20100%2C%20%22minWidth%22%3A%2080%7D%29%3B%0A%0A%20%20%20%20%20%20%20%20%0A%20%20%20%20%20%20%20%20%20%20%20%20var%20i_frame_a14b3a8c539c4826b2dbfb844e6b45a6%20%3D%20%24%28%60%3Cdiv%20style%3D%22width%3A100%25%3B%22%3E%3Cdiv%20style%3D%22position%3Arelative%3Bwidth%3A100%25%3Bheight%3A0%3Bpadding-bottom%3A60%25%3B%22%3E%3Ciframe%20src%3D%22data%3Atext/html%3Bcharset%3Dutf-8%3Bbase64%2CCiAgICDquYzsuZjsgrDsl60%3D%22%20style%3D%22position%3Aabsolute%3Bwidth%3A100%25%3Bheight%3A100%25%3Bleft%3A0%3Btop%3A0%3Bborder%3Anone%20%21important%3B%22%3E%3C/iframe%3E%3C/div%3E%3C/div%3E%60%29%5B0%5D%3B%0A%20%20%20%20%20%20%20%20%20%20%20%20popup_de677d7c8d1c4077b42ab9ded105a3aa.setContent%28i_frame_a14b3a8c539c4826b2dbfb844e6b45a6%29%3B%0A%20%20%20%20%20%20%20%20%0A%0A%20%20%20%20%20%20%20%20marker_57e73b76e58d4aa6abd1ad3e2c46f215.bindPopup%28popup_de677d7c8d1c4077b42ab9ded105a3aa%29%0A%20%20%20%20%20%20%20%20%3B%0A%0A%20%20%20%20%20%20%20%20%0A%20%20%20%20%0A%3C/script%3E onload=\"this.contentDocument.open();this.contentDocument.write(    decodeURIComponent(this.getAttribute('data-html')));this.contentDocument.close();\" allowfullscreen webkitallowfullscreen mozallowfullscreen></iframe></div></div>"
      ],
      "text/plain": [
       "<folium.folium.Map at 0x250948f1e80>"
      ]
     },
     "execution_count": 445,
     "metadata": {},
     "output_type": "execute_result"
    }
   ],
   "source": [
    "#야간에 하차가 많이 일어나는 Top 10의 지도그리기\n",
    "map_off = folium.Map(location = [37.512, 126.950], zoom_start = 12)\n",
    "\n",
    "for lat, lon, name in  tqdm(zip(top_off_lat, top_off_lon, list(df_top_off_20['off_area_name']))):\n",
    "    iframe = folium.IFrame(name)\n",
    "    popup = folium.Popup(iframe, min_width = 80, max_width = 100)\n",
    "    folium.Marker([lat, lon], popup=popup).add_to(map_off)\n",
    "    \n",
    "map_off"
   ]
  },
  {
   "cell_type": "code",
   "execution_count": 446,
   "id": "4f5787fd",
   "metadata": {},
   "outputs": [],
   "source": [
    "map_off.save('map.html')"
   ]
  },
  {
   "cell_type": "code",
   "execution_count": null,
   "id": "f33c46ca",
   "metadata": {},
   "outputs": [],
   "source": [
    "df_pre_com[(df_pre_com['off_hour'] >= 0) & (df_pre_com['off_hour'] < 2)]"
   ]
  },
  {
   "cell_type": "markdown",
   "id": "dd5c3691",
   "metadata": {},
   "source": [
    "* 하차가 많이 일어나는 Top10의 출발지를 조사"
   ]
  },
  {
   "cell_type": "code",
   "execution_count": 448,
   "id": "28c18f7a",
   "metadata": {},
   "outputs": [
    {
     "data": {
      "text/plain": [
       "강남역         203\n",
       "홍대입구역        99\n",
       "사당역          64\n",
       "합정역          51\n",
       "잠실역          43\n",
       "선릉역          40\n",
       "삼성역          38\n",
       "구로디지털단지역     37\n",
       "교대역          34\n",
       "신촌역          31\n",
       "Name: on_area_name, dtype: int64"
      ]
     },
     "execution_count": 448,
     "metadata": {},
     "output_type": "execute_result"
    }
   ],
   "source": [
    "# 신림역에서 야간에 하차하는 사람들은 대략적으로 어디서 오는가\n",
    "to_sinlim = df_pre_com[(df_pre_com['off_hour'] >= 0) & (df_pre_com['off_hour'] < 2) & (df_pre_com['off_area_name'] == '신림역')]['on_area_name'].value_counts().head(10)\n",
    "to_sinlim"
   ]
  },
  {
   "cell_type": "code",
   "execution_count": 449,
   "id": "f40bf8de",
   "metadata": {},
   "outputs": [],
   "source": [
    "sns.set_style('darkgrid')"
   ]
  },
  {
   "cell_type": "code",
   "execution_count": 450,
   "id": "08703461",
   "metadata": {},
   "outputs": [],
   "source": [
    "# 그래프 속성\n",
    "mpl.rc('font', family = 'Malgun Gothic')\n",
    "mpl.rc('axes', unicode_minus = False)"
   ]
  },
  {
   "cell_type": "code",
   "execution_count": 451,
   "id": "c484fe1a",
   "metadata": {},
   "outputs": [
    {
     "data": {
      "text/plain": [
       "Text(0, 0.5, 'Count')"
      ]
     },
     "execution_count": 451,
     "metadata": {},
     "output_type": "execute_result"
    },
    {
     "data": {
      "image/png": "[encoded data removed]",
      "text/plain": [
       "<Figure size 1368x576 with 1 Axes>"
      ]
     },
     "metadata": {},
     "output_type": "display_data"
    }
   ],
   "source": [
    "plt.figure(figsize = (19, 8))\n",
    "sns.barplot(x='index', y='on_area_name', data = pd.DataFrame(to_sinlim).reset_index())\n",
    "plt.title('신림역으로 오는 경로')\n",
    "plt.xlabel('출발역')\n",
    "plt.ylabel('Count')"
   ]
  },
  {
   "cell_type": "code",
   "execution_count": 452,
   "id": "1a6b9185",
   "metadata": {},
   "outputs": [
    {
     "data": {
      "text/plain": [
       "홍대입구역       122\n",
       "강남역         109\n",
       "합정역          71\n",
       "신촌역          57\n",
       "사당역          36\n",
       "을지로입구역       35\n",
       "구로디지털단지역     31\n",
       "종각역          31\n",
       "역삼역          28\n",
       "신림역          25\n",
       "Name: on_area_name, dtype: int64"
      ]
     },
     "execution_count": 452,
     "metadata": {},
     "output_type": "execute_result"
    }
   ],
   "source": [
    "# 신도림에서 야간에 하차하는 사람들은 대략적으로 어디서 오는가\n",
    "to_sindolim = df_pre_com[(df_pre_com['off_hour'] >= 0) & (df_pre_com['off_hour'] < 2) & (df_pre_com['off_area_name'] == '신도림역')]['on_area_name'].value_counts().head(10)\n",
    "to_sindolim"
   ]
  },
  {
   "cell_type": "code",
   "execution_count": 453,
   "id": "47bc11f8",
   "metadata": {},
   "outputs": [
    {
     "data": {
      "text/plain": [
       "Text(0, 0.5, 'Count')"
      ]
     },
     "execution_count": 453,
     "metadata": {},
     "output_type": "execute_result"
    },
    {
     "data": {
      "image/png": "[encoded data removed]",
      "text/plain": [
       "<Figure size 1368x576 with 1 Axes>"
      ]
     },
     "metadata": {},
     "output_type": "display_data"
    }
   ],
   "source": [
    "plt.figure(figsize = (19, 8))\n",
    "sns.barplot(x='index', y='on_area_name', data = pd.DataFrame(to_sindolim).reset_index())\n",
    "plt.title('신도림역으로 오는 경로')\n",
    "plt.xlabel('출발역')\n",
    "plt.ylabel('Count')"
   ]
  },
  {
   "cell_type": "code",
   "execution_count": 454,
   "id": "894aa5cc",
   "metadata": {},
   "outputs": [
    {
     "data": {
      "text/plain": [
       "강남역           76\n",
       "혜화역           37\n",
       "홍대입구역         33\n",
       "교대역           28\n",
       "신림역           26\n",
       "선릉역           24\n",
       "충무로역          24\n",
       "삼성역           22\n",
       "동대문역사문화공원역    21\n",
       "신촌역           20\n",
       "Name: on_area_name, dtype: int64"
      ]
     },
     "execution_count": 454,
     "metadata": {},
     "output_type": "execute_result"
    }
   ],
   "source": [
    "# 사당역에서 야간에 하차하는 사람들은 대략적으로 어디서 오는가\n",
    "to_sadang = df_pre_com[(df_pre_com['off_hour'] >= 0) & (df_pre_com['off_hour'] < 2) & (df_pre_com['off_area_name'] == '사당역')]['on_area_name'].value_counts().head(10)\n",
    "to_sadang"
   ]
  },
  {
   "cell_type": "code",
   "execution_count": 455,
   "id": "3575a9e5",
   "metadata": {},
   "outputs": [
    {
     "data": {
      "text/plain": [
       "Text(0, 0.5, 'Count')"
      ]
     },
     "execution_count": 455,
     "metadata": {},
     "output_type": "execute_result"
    },
    {
     "data": {
      "image/png": "[encoded data removed]",
      "text/plain": [
       "<Figure size 1368x576 with 1 Axes>"
      ]
     },
     "metadata": {},
     "output_type": "display_data"
    }
   ],
   "source": [
    "plt.figure(figsize = (19, 8))\n",
    "sns.barplot(x='index', y='on_area_name', data = pd.DataFrame(to_sadang).reset_index())\n",
    "plt.title('사당역으로 오는 경로')\n",
    "plt.xlabel('출발역')\n",
    "plt.ylabel('Count')"
   ]
  },
  {
   "cell_type": "code",
   "execution_count": 456,
   "id": "64a881dd",
   "metadata": {},
   "outputs": [
    {
     "data": {
      "text/plain": [
       "강남역           68\n",
       "홍대입구역         47\n",
       "신촌역           29\n",
       "동대문역사문화공원역    25\n",
       "을지로입구역        24\n",
       "잠실역           23\n",
       "강변역           23\n",
       "사당역           21\n",
       "왕십리역          19\n",
       "논현역           18\n",
       "Name: on_area_name, dtype: int64"
      ]
     },
     "execution_count": 456,
     "metadata": {},
     "output_type": "execute_result"
    }
   ],
   "source": [
    "# 건대입구역에서 야간에 하차하는 사람들은 대략적으로 어디서 오는가\n",
    "to_gundae = df_pre_com[(df_pre_com['off_hour'] >= 0) & (df_pre_com['off_hour'] < 2) & (df_pre_com['off_area_name'] == '건대입구역')]['on_area_name'].value_counts().head(10)\n",
    "to_gundae"
   ]
  },
  {
   "cell_type": "code",
   "execution_count": 457,
   "id": "3bbe06ba",
   "metadata": {},
   "outputs": [
    {
     "data": {
      "text/plain": [
       "Text(0, 0.5, 'Count')"
      ]
     },
     "execution_count": 457,
     "metadata": {},
     "output_type": "execute_result"
    },
    {
     "data": {
      "image/png": "[encoded data removed]",
      "text/plain": [
       "<Figure size 1368x576 with 1 Axes>"
      ]
     },
     "metadata": {},
     "output_type": "display_data"
    }
   ],
   "source": [
    "plt.figure(figsize = (19, 8))\n",
    "sns.barplot(x='index', y='on_area_name', data = pd.DataFrame(to_sadang).reset_index())\n",
    "plt.title('건대입구역으로 오는 경로')\n",
    "plt.xlabel('출발역')\n",
    "plt.ylabel('Count')"
   ]
  },
  {
   "cell_type": "code",
   "execution_count": 458,
   "id": "bd819cdf",
   "metadata": {},
   "outputs": [
    {
     "data": {
      "text/plain": [
       "강남역      161\n",
       "사당역       53\n",
       "교대역       45\n",
       "삼성역       36\n",
       "홍대입구역     32\n",
       "역삼역       30\n",
       "선릉역       24\n",
       "합정역       22\n",
       "신림역       22\n",
       "건대입구역     21\n",
       "Name: on_area_name, dtype: int64"
      ]
     },
     "execution_count": 458,
     "metadata": {},
     "output_type": "execute_result"
    }
   ],
   "source": [
    "# 서울대입구역에서 야간에 하차하는 사람들은 대략적으로 어디서 오는가\n",
    "to_seouluniv = df_pre_com[(df_pre_com['off_hour'] >= 0) & (df_pre_com['off_hour'] < 2) & (df_pre_com['off_area_name'] == '서울대입구역')]['on_area_name'].value_counts().head(10)\n",
    "to_seouluniv"
   ]
  },
  {
   "cell_type": "code",
   "execution_count": 459,
   "id": "f0c58871",
   "metadata": {},
   "outputs": [
    {
     "data": {
      "text/plain": [
       "Text(0, 0.5, 'Count')"
      ]
     },
     "execution_count": 459,
     "metadata": {},
     "output_type": "execute_result"
    },
    {
     "data": {
      "image/png": "[encoded data removed]",
      "text/plain": [
       "<Figure size 1368x576 with 1 Axes>"
      ]
     },
     "metadata": {},
     "output_type": "display_data"
    }
   ],
   "source": [
    "plt.figure(figsize = (19, 8))\n",
    "sns.barplot(x='index', y='on_area_name', data = pd.DataFrame(to_seouluniv).reset_index())\n",
    "plt.title('서울대입구역으로 오는 경로')\n",
    "plt.xlabel('출발역')\n",
    "plt.ylabel('Count')"
   ]
  },
  {
   "cell_type": "code",
   "execution_count": 460,
   "id": "bc05b780",
   "metadata": {},
   "outputs": [
    {
     "data": {
      "text/plain": [
       "명동역           31\n",
       "홍대입구역         26\n",
       "혜화역           24\n",
       "수유역.강북구청      21\n",
       "동대문역사문화공원역    21\n",
       "충무로역          20\n",
       "사당역           19\n",
       "서울역           17\n",
       "신촌역           17\n",
       "동대문역          16\n",
       "Name: on_area_name, dtype: int64"
      ]
     },
     "execution_count": 460,
     "metadata": {},
     "output_type": "execute_result"
    }
   ],
   "source": [
    "# 쌍문역에서 야간에 하차하는 사람들은 대략적으로 어디서 오는가\n",
    "to_ssangmoon = df_pre_com[(df_pre_com['off_hour'] >= 0) & (df_pre_com['off_hour'] < 2) & (df_pre_com['off_area_name'] == '쌍문역')]['on_area_name'].value_counts().head(10)\n",
    "to_ssangmoon"
   ]
  },
  {
   "cell_type": "code",
   "execution_count": 461,
   "id": "9d257cdf",
   "metadata": {},
   "outputs": [
    {
     "data": {
      "text/plain": [
       "Text(0, 0.5, 'Count')"
      ]
     },
     "execution_count": 461,
     "metadata": {},
     "output_type": "execute_result"
    },
    {
     "data": {
      "image/png": "[encoded data removed]",
      "text/plain": [
       "<Figure size 1368x576 with 1 Axes>"
      ]
     },
     "metadata": {},
     "output_type": "display_data"
    }
   ],
   "source": [
    "plt.figure(figsize = (19, 8))\n",
    "sns.barplot(x='index', y='on_area_name', data = pd.DataFrame(to_ssangmoon).reset_index())\n",
    "plt.title('쌍문역으로 오는 경로')\n",
    "plt.xlabel('출발역')\n",
    "plt.ylabel('Count')"
   ]
  },
  {
   "cell_type": "code",
   "execution_count": 462,
   "id": "8e2b2fc2",
   "metadata": {},
   "outputs": [
    {
     "data": {
      "text/plain": [
       "강남역           76\n",
       "홍대입구역         60\n",
       "합정역           35\n",
       "을지로입구역        26\n",
       "신촌역           23\n",
       "선릉역           21\n",
       "교대역           21\n",
       "동대문역사문화공원역    16\n",
       "신도림역          16\n",
       "서울대입구역        15\n",
       "Name: on_area_name, dtype: int64"
      ]
     },
     "execution_count": 462,
     "metadata": {},
     "output_type": "execute_result"
    }
   ],
   "source": [
    "# 구로디지털단지역에서 야간에 하차하는 사람들은 대략적으로 어디서 오는가\n",
    "to_gurodigit = df_pre_com[(df_pre_com['off_hour'] >= 0) & (df_pre_com['off_hour'] < 2) & (df_pre_com['off_area_name'] == '구로디지털단지역')]['on_area_name'].value_counts().head(10)\n",
    "to_gurodigit"
   ]
  },
  {
   "cell_type": "code",
   "execution_count": 463,
   "id": "80af5ff3",
   "metadata": {},
   "outputs": [
    {
     "data": {
      "text/plain": [
       "Text(0, 0.5, 'Count')"
      ]
     },
     "execution_count": 463,
     "metadata": {},
     "output_type": "execute_result"
    },
    {
     "data": {
      "image/png": "[encoded data removed]",
      "text/plain": [
       "<Figure size 1368x576 with 1 Axes>"
      ]
     },
     "metadata": {},
     "output_type": "display_data"
    }
   ],
   "source": [
    "plt.figure(figsize = (19, 8))\n",
    "sns.barplot(x='index', y='on_area_name', data = pd.DataFrame(to_gurodigit).reset_index())\n",
    "plt.title('구로디지털단지역으로 오는 경로')\n",
    "plt.xlabel('출발역')\n",
    "plt.ylabel('Count')"
   ]
  },
  {
   "cell_type": "code",
   "execution_count": 464,
   "id": "9f2124f7",
   "metadata": {},
   "outputs": [
    {
     "data": {
      "text/plain": [
       "합정역       27\n",
       "압구정역      26\n",
       "종로3가역     25\n",
       "충무로역      21\n",
       "상수역       18\n",
       "신사역       17\n",
       "건대입구역     16\n",
       "안국역       15\n",
       "경복궁역      15\n",
       "을지로3가역    14\n",
       "Name: on_area_name, dtype: int64"
      ]
     },
     "execution_count": 464,
     "metadata": {},
     "output_type": "execute_result"
    }
   ],
   "source": [
    "# 연신내역에서 야간에 하차하는 사람들은 대략적으로 어디서 오는가\n",
    "to_yoensin = df_pre_com[(df_pre_com['off_hour'] >= 0) & (df_pre_com['off_hour'] < 2) & (df_pre_com['off_area_name'] == '연신내역')]['on_area_name'].value_counts().head(10)\n",
    "to_yoensin "
   ]
  },
  {
   "cell_type": "code",
   "execution_count": 465,
   "id": "0abd2cb7",
   "metadata": {},
   "outputs": [
    {
     "data": {
      "text/plain": [
       "Text(0, 0.5, 'Count')"
      ]
     },
     "execution_count": 465,
     "metadata": {},
     "output_type": "execute_result"
    },
    {
     "data": {
      "image/png": "[encoded data removed]",
      "text/plain": [
       "<Figure size 1368x576 with 1 Axes>"
      ]
     },
     "metadata": {},
     "output_type": "display_data"
    }
   ],
   "source": [
    "plt.figure(figsize = (19, 8))\n",
    "sns.barplot(x='index', y='on_area_name', data = pd.DataFrame(to_yoensin).reset_index())\n",
    "plt.title('연신내역으로 오는 경로')\n",
    "plt.xlabel('출발역')\n",
    "plt.ylabel('Count')"
   ]
  },
  {
   "cell_type": "code",
   "execution_count": 466,
   "id": "cf3e5de6",
   "metadata": {},
   "outputs": [
    {
     "data": {
      "text/plain": [
       "홍대입구역         39\n",
       "충무로역          30\n",
       "명동역           29\n",
       "노원역           27\n",
       "동대문역사문화공원역    24\n",
       "사당역           24\n",
       "서울역           20\n",
       "혜화역           17\n",
       "강남역           12\n",
       "창동역           12\n",
       "Name: on_area_name, dtype: int64"
      ]
     },
     "execution_count": 466,
     "metadata": {},
     "output_type": "execute_result"
    }
   ],
   "source": [
    "# 수유역에서 야간에 하차하는 사람들은 대략적으로 어디서 오는가\n",
    "to_suyu = df_pre_com[(df_pre_com['off_hour'] >= 0) & (df_pre_com['off_hour'] < 2) & (df_pre_com['off_area_name'] == '수유역')]['on_area_name'].value_counts().head(10)\n",
    "to_suyu"
   ]
  },
  {
   "cell_type": "code",
   "execution_count": 467,
   "id": "b9d130d4",
   "metadata": {},
   "outputs": [
    {
     "data": {
      "text/plain": [
       "Text(0, 0.5, 'Count')"
      ]
     },
     "execution_count": 467,
     "metadata": {},
     "output_type": "execute_result"
    },
    {
     "data": {
      "image/png": "[encoded data removed]",
      "text/plain": [
       "<Figure size 1368x576 with 1 Axes>"
      ]
     },
     "metadata": {},
     "output_type": "display_data"
    }
   ],
   "source": [
    "plt.figure(figsize = (19, 8))\n",
    "sns.barplot(x='index', y='on_area_name', data = pd.DataFrame(to_suyu).reset_index())\n",
    "plt.title('연신내역으로 오는 경로')\n",
    "plt.xlabel('출발역')\n",
    "plt.ylabel('Count')"
   ]
  },
  {
   "cell_type": "markdown",
   "id": "b4421157",
   "metadata": {},
   "source": [
    "## Con5\n",
    "- 홍대입구역, 신촌, 합정역에서 에서 신림, 사당, 서울대입구 역 쪽으로 오는 사람들이 상위권에 자리잡고 있다. 이들에게서 수요가 생기지 않을까\n",
    "- 역으로, 홍대입구역에서 건대입구, 사당, 신림, 서울대입구 역으로 오는 사람들도 상위권에 자리잡고 있다. 이들에게서도 수요가 생기지 않을까\n",
    "- 홍대입구 ~ 수유 구간은 지하철을 타면 한번 갈아타야 하며, 버스가 있긴하지만 지하철에 비해 시간이 오래 걸린다. 홍대입구 ~ 수유 구간에 수요가 있지 않을까\n",
    "\n",
    "\n",
    "- 종착역인 신도림역, 홍대입구역, 잠실역, 당산역은 인구 거주 지역이기보다 다른 교통수단으로 환승하려는 인원이 많을 것으로 짐작된다. 이를 뒷받침할 데이터가 있지 않을까 "
   ]
  },
  {
   "cell_type": "markdown",
   "id": "d6fcb904",
   "metadata": {},
   "source": [
    "###  6. 환승을 많이 하는 사람들에게 모빌리티 서비스에 대한 수요가 있다고 판단한다."
   ]
  },
  {
   "cell_type": "code",
   "execution_count": 468,
   "id": "2f0487f9",
   "metadata": {},
   "outputs": [],
   "source": [
    "df_pre_com.reset_index(inplace = True, drop = True)"
   ]
  },
  {
   "cell_type": "code",
   "execution_count": null,
   "id": "986d85ef",
   "metadata": {},
   "outputs": [],
   "source": [
    "df_pre_com.info()"
   ]
  },
  {
   "cell_type": "code",
   "execution_count": 470,
   "id": "3dce75f9",
   "metadata": {},
   "outputs": [],
   "source": [
    "df_path = df_pre_com[['card_name', 'Bus', 'Subway', 'on_area_name', 'on_dong', 'off_area_name', 'off_dong','no_transfer', 'on_hour', 'on_minute', 'off_hour', 'off_minute', 'Circuity']]"
   ]
  },
  {
   "cell_type": "code",
   "execution_count": 471,
   "id": "de006620",
   "metadata": {},
   "outputs": [
    {
     "data": {
      "text/plain": [
       "0    5433357\n",
       "1    1848852\n",
       "2     285140\n",
       "3      26985\n",
       "4       5510\n",
       "Name: no_transfer, dtype: int64"
      ]
     },
     "execution_count": 471,
     "metadata": {},
     "output_type": "execute_result"
    }
   ],
   "source": [
    "df_path['no_transfer'].value_counts()"
   ]
  },
  {
   "cell_type": "code",
   "execution_count": 472,
   "id": "7131a3ce",
   "metadata": {},
   "outputs": [
    {
     "data": {
      "application/vnd.jupyter.widget-view+json": {
       "model_id": "3579ed97347d4c9f906121fc0fba6492",
       "version_major": 2,
       "version_minor": 0
      },
      "text/plain": [
       "  0%|          | 0/7599844 [00:00<?, ?it/s]"
      ]
     },
     "metadata": {},
     "output_type": "display_data"
    }
   ],
   "source": [
    "transfer = []\n",
    "for i in tqdm(range(0, len(df_pre_com['card_name']))):\n",
    "    if (df_pre_com['Bus'][i] == True) & (df_pre_com['Subway'][i] == True):\n",
    "        transfer.append(str(1))\n",
    "    else:\n",
    "        transfer.append(str(0))"
   ]
  },
  {
   "cell_type": "code",
   "execution_count": 473,
   "id": "fd89a478",
   "metadata": {
    "scrolled": true
   },
   "outputs": [
    {
     "name": "stderr",
     "output_type": "stream",
     "text": [
      "C:\\Users\\user\\AppData\\Local\\Temp/ipykernel_4496/4234088220.py:1: SettingWithCopyWarning: \n",
      "A value is trying to be set on a copy of a slice from a DataFrame.\n",
      "Try using .loc[row_indexer,col_indexer] = value instead\n",
      "\n",
      "See the caveats in the documentation: https://pandas.pydata.org/pandas-docs/stable/user_guide/indexing.html#returning-a-view-versus-a-copy\n",
      "  df_path['transfer_ys'] = transfer\n"
     ]
    }
   ],
   "source": [
    "df_path['transfer_ys'] = transfer"
   ]
  },
  {
   "cell_type": "code",
   "execution_count": 474,
   "id": "90494b89",
   "metadata": {
    "scrolled": true
   },
   "outputs": [
    {
     "data": {
      "text/plain": [
       "0    6529190\n",
       "1    1070654\n",
       "Name: transfer_ys, dtype: int64"
      ]
     },
     "execution_count": 474,
     "metadata": {},
     "output_type": "execute_result"
    }
   ],
   "source": [
    "df_path['transfer_ys'].value_counts()"
   ]
  },
  {
   "cell_type": "code",
   "execution_count": null,
   "id": "bd435c21",
   "metadata": {},
   "outputs": [],
   "source": [
    "df_path.sort_values(by = 'Circuity', ascending=False).head()"
   ]
  },
  {
   "cell_type": "code",
   "execution_count": 476,
   "id": "726dc60a",
   "metadata": {},
   "outputs": [
    {
     "data": {
      "text/plain": [
       "0    5433357\n",
       "1    1848852\n",
       "2     285140\n",
       "3      26985\n",
       "4       5510\n",
       "Name: no_transfer, dtype: int64"
      ]
     },
     "execution_count": 476,
     "metadata": {},
     "output_type": "execute_result"
    }
   ],
   "source": [
    "#한번이라도 환스을 한 경험이 있는 경우 vs # 한번도 환승을 해본 경험이 없는 경우\n",
    "# 5433357 vs 2166487\n",
    "df_path['no_transfer'].value_counts()"
   ]
  },
  {
   "cell_type": "code",
   "execution_count": 477,
   "id": "202f4625",
   "metadata": {},
   "outputs": [],
   "source": [
    "#stop"
   ]
  },
  {
   "cell_type": "code",
   "execution_count": 478,
   "id": "55a9cb68",
   "metadata": {},
   "outputs": [],
   "source": [
    "trans_n = df_path[df_path['transfer_ys'] == '0']"
   ]
  },
  {
   "cell_type": "code",
   "execution_count": null,
   "id": "78aae98b",
   "metadata": {},
   "outputs": [],
   "source": [
    "trans_n.describe()"
   ]
  },
  {
   "cell_type": "code",
   "execution_count": null,
   "id": "6354fd35",
   "metadata": {},
   "outputs": [],
   "source": [
    "trans_n.describe()[['Circuity']]"
   ]
  },
  {
   "cell_type": "code",
   "execution_count": 481,
   "id": "b3486769",
   "metadata": {},
   "outputs": [],
   "source": [
    "trans_y = df_path[df_path['transfer_ys'] == '1']"
   ]
  },
  {
   "cell_type": "code",
   "execution_count": null,
   "id": "583a03fd",
   "metadata": {},
   "outputs": [],
   "source": [
    "trans_y.describe()"
   ]
  },
  {
   "cell_type": "code",
   "execution_count": null,
   "id": "4643f892",
   "metadata": {},
   "outputs": [],
   "source": [
    "trans_y.describe()[['Circuity']]"
   ]
  },
  {
   "cell_type": "code",
   "execution_count": 484,
   "id": "e75a31d4",
   "metadata": {},
   "outputs": [
    {
     "data": {
      "text/plain": [
       "<AxesSubplot:xlabel='transfer_ys', ylabel='Circuity'>"
      ]
     },
     "execution_count": 484,
     "metadata": {},
     "output_type": "execute_result"
    },
    {
     "data": {
      "image/png": "[encoded data removed]",
      "text/plain": [
       "<Figure size 720x720 with 1 Axes>"
      ]
     },
     "metadata": {},
     "output_type": "display_data"
    }
   ],
   "source": [
    "plt.figure(figsize = (10, 10))\n",
    "sns.boxplot(y=df_path['Circuity'],  x= df_path['transfer_ys'])"
   ]
  },
  {
   "cell_type": "code",
   "execution_count": 485,
   "id": "d3b3f7df",
   "metadata": {},
   "outputs": [
    {
     "data": {
      "text/plain": [
       "NormaltestResult(statistic=571775.7575807455, pvalue=0.0)"
      ]
     },
     "execution_count": 485,
     "metadata": {},
     "output_type": "execute_result"
    }
   ],
   "source": [
    "scipy.stats.normaltest(df_path['Circuity'])"
   ]
  },
  {
   "cell_type": "code",
   "execution_count": 486,
   "id": "63ff1dfc",
   "metadata": {},
   "outputs": [
    {
     "data": {
      "text/plain": [
       "BartlettResult(statistic=12863.816666540071, pvalue=0.0)"
      ]
     },
     "execution_count": 486,
     "metadata": {},
     "output_type": "execute_result"
    }
   ],
   "source": [
    "scipy.stats.bartlett(trans_n['Circuity'], trans_y['Circuity'])"
   ]
  },
  {
   "cell_type": "code",
   "execution_count": 487,
   "id": "6f498c2b",
   "metadata": {},
   "outputs": [
    {
     "data": {
      "text/plain": [
       "Ttest_indResult(statistic=-462.54548202333774, pvalue=0.0)"
      ]
     },
     "execution_count": 487,
     "metadata": {},
     "output_type": "execute_result"
    }
   ],
   "source": [
    "# 환승여부에 따른 Circuity 차이가 있다\n",
    "scipy.stats.ttest_ind(trans_n['Circuity'], trans_y['Circuity'], equal_var = False)"
   ]
  },
  {
   "cell_type": "code",
   "execution_count": 488,
   "id": "3fb21d7b",
   "metadata": {},
   "outputs": [
    {
     "data": {
      "text/plain": [
       "RanksumsResult(statistic=-490.1412210617904, pvalue=0.0)"
      ]
     },
     "execution_count": 488,
     "metadata": {},
     "output_type": "execute_result"
    }
   ],
   "source": [
    "# 환승여부에 따른 Circuity 차이가 있다\n",
    "scipy.stats.ranksums(trans_n['Circuity'], trans_y['Circuity'])"
   ]
  },
  {
   "cell_type": "code",
   "execution_count": 489,
   "id": "85e18f05",
   "metadata": {},
   "outputs": [
    {
     "name": "stdout",
     "output_type": "stream",
     "text": [
      "NormaltestResult(statistic=571775.7575807455, pvalue=0.0)\n",
      "BartlettResult(statistic=12863.816666540071, pvalue=0.0)\n",
      "Ttest_indResult(statistic=-462.54548202333774, pvalue=0.0)\n",
      "RanksumsResult(statistic=-490.1412210617904, pvalue=0.0)\n"
     ]
    }
   ],
   "source": [
    "print(scipy.stats.normaltest(df_path['Circuity']))\n",
    "print(scipy.stats.bartlett(trans_n['Circuity'], trans_y['Circuity']))\n",
    "print(scipy.stats.ttest_ind(trans_n['Circuity'], trans_y['Circuity'], equal_var = False))\n",
    "print(scipy.stats.ranksums(trans_n['Circuity'], trans_y['Circuity']))"
   ]
  },
  {
   "cell_type": "code",
   "execution_count": 490,
   "id": "47c70733",
   "metadata": {},
   "outputs": [],
   "source": [
    "trans_y_move = trans_y[['card_name', 'on_area_name', 'on_dong', 'off_area_name','off_dong', 'on_hour', 'off_hour','no_transfer', 'Circuity']]"
   ]
  },
  {
   "cell_type": "code",
   "execution_count": null,
   "id": "f127ab8b",
   "metadata": {},
   "outputs": [],
   "source": [
    "trans_y_move.head()"
   ]
  },
  {
   "cell_type": "code",
   "execution_count": 492,
   "id": "c6b84e38",
   "metadata": {},
   "outputs": [],
   "source": [
    "trans_y.reset_index(drop = True, inplace = True)"
   ]
  },
  {
   "cell_type": "code",
   "execution_count": 493,
   "id": "c3e047b5",
   "metadata": {},
   "outputs": [
    {
     "data": {
      "application/vnd.jupyter.widget-view+json": {
       "model_id": "68f438700b7240e3b6d2a0f49c9fb685",
       "version_major": 2,
       "version_minor": 0
      },
      "text/plain": [
       "  0%|          | 0/1070654 [00:00<?, ?it/s]"
      ]
     },
     "metadata": {},
     "output_type": "display_data"
    }
   ],
   "source": [
    "trans_movement = []\n",
    "length = len(trans_y['card_name'])\n",
    "for i in tqdm(range(length)):\n",
    "    path = str(trans_y['on_dong'][i]) + '_' + str(trans_y['off_dong'][i])\n",
    "    trans_movement.append((path))"
   ]
  },
  {
   "cell_type": "code",
   "execution_count": 494,
   "id": "7481ff07",
   "metadata": {},
   "outputs": [
    {
     "name": "stderr",
     "output_type": "stream",
     "text": [
      "C:\\Users\\user\\AppData\\Local\\Temp/ipykernel_4496/444122341.py:1: SettingWithCopyWarning: \n",
      "A value is trying to be set on a copy of a slice from a DataFrame.\n",
      "Try using .loc[row_indexer,col_indexer] = value instead\n",
      "\n",
      "See the caveats in the documentation: https://pandas.pydata.org/pandas-docs/stable/user_guide/indexing.html#returning-a-view-versus-a-copy\n",
      "  trans_y['movement'] = trans_movement\n"
     ]
    }
   ],
   "source": [
    "trans_y['movement'] = trans_movement"
   ]
  },
  {
   "cell_type": "code",
   "execution_count": 495,
   "id": "e7c70d06",
   "metadata": {},
   "outputs": [
    {
     "data": {
      "text/html": [
       "<div>\n",
       "<style scoped>\n",
       "    .dataframe tbody tr th:only-of-type {\n",
       "        vertical-align: middle;\n",
       "    }\n",
       "\n",
       "    .dataframe tbody tr th {\n",
       "        vertical-align: top;\n",
       "    }\n",
       "\n",
       "    .dataframe thead th {\n",
       "        text-align: right;\n",
       "    }\n",
       "</style>\n",
       "<table border=\"1\" class=\"dataframe\">\n",
       "  <thead>\n",
       "    <tr style=\"text-align: right;\">\n",
       "      <th></th>\n",
       "      <th>movement</th>\n",
       "    </tr>\n",
       "  </thead>\n",
       "  <tbody>\n",
       "    <tr>\n",
       "      <th>1121073_1123064</th>\n",
       "      <td>1404</td>\n",
       "    </tr>\n",
       "    <tr>\n",
       "      <th>1123064_1121073</th>\n",
       "      <td>798</td>\n",
       "    </tr>\n",
       "    <tr>\n",
       "      <th>1121083_1123064</th>\n",
       "      <td>783</td>\n",
       "    </tr>\n",
       "    <tr>\n",
       "      <th>1124064_1123064</th>\n",
       "      <td>757</td>\n",
       "    </tr>\n",
       "    <tr>\n",
       "      <th>1123064_1121066</th>\n",
       "      <td>718</td>\n",
       "    </tr>\n",
       "  </tbody>\n",
       "</table>\n",
       "</div>"
      ],
      "text/plain": [
       "                 movement\n",
       "1121073_1123064      1404\n",
       "1123064_1121073       798\n",
       "1121083_1123064       783\n",
       "1124064_1123064       757\n",
       "1123064_1121066       718"
      ]
     },
     "execution_count": 495,
     "metadata": {},
     "output_type": "execute_result"
    }
   ],
   "source": [
    "# 대학동 - > 역삼1동\n",
    "# 역삼1동 -> 대학동\n",
    "# 미성동 -> 역삼1동\n",
    "# 삼전동 -> 역삼1동\n",
    "# 역삼1동 -> 서림동\n",
    "pd.DataFrame(trans_y['movement'].value_counts().head(5))"
   ]
  },
  {
   "cell_type": "code",
   "execution_count": null,
   "id": "dd84f1fe",
   "metadata": {},
   "outputs": [],
   "source": [
    "trans_y.head()"
   ]
  },
  {
   "cell_type": "code",
   "execution_count": null,
   "id": "e0fdeca1",
   "metadata": {},
   "outputs": [],
   "source": [
    "trans_y[trans_y['movement'] == '1121073_1123064'].describe()"
   ]
  },
  {
   "cell_type": "code",
   "execution_count": null,
   "id": "a84a2bfa",
   "metadata": {},
   "outputs": [],
   "source": [
    "trans_y[trans_y['movement'] == '1121073_1123064'].head()"
   ]
  },
  {
   "cell_type": "code",
   "execution_count": 499,
   "id": "832c82f2",
   "metadata": {
    "scrolled": true
   },
   "outputs": [],
   "source": [
    "daehak_yeoksam = pd.DataFrame(trans_y[trans_y['movement'] == '1121073_1123064']['on_hour'].value_counts()).reset_index()\n",
    "daehak_yeoksam.columns = ['Hour', 'Count']"
   ]
  },
  {
   "cell_type": "code",
   "execution_count": 500,
   "id": "ae613b25",
   "metadata": {},
   "outputs": [
    {
     "data": {
      "text/plain": [
       "<AxesSubplot:xlabel='Hour', ylabel='Count'>"
      ]
     },
     "execution_count": 500,
     "metadata": {},
     "output_type": "execute_result"
    },
    {
     "data": {
      "image/png": "[encoded data removed]",
      "text/plain": [
       "<Figure size 576x360 with 1 Axes>"
      ]
     },
     "metadata": {},
     "output_type": "display_data"
    }
   ],
   "source": [
    "plt.figure(figsize=(8, 5))\n",
    "sns.barplot(data=daehak_yeoksam, x='Hour', y='Count')"
   ]
  },
  {
   "cell_type": "code",
   "execution_count": null,
   "id": "95a688f2",
   "metadata": {},
   "outputs": [],
   "source": [
    "trans_y[(trans_y['movement'] == '1123064_1121073')].head()"
   ]
  },
  {
   "cell_type": "code",
   "execution_count": null,
   "id": "e6903d61",
   "metadata": {},
   "outputs": [],
   "source": [
    "trans_y[trans_y['movement'] == '1123064_1121073'].describe()"
   ]
  },
  {
   "cell_type": "code",
   "execution_count": 503,
   "id": "da77fa7c",
   "metadata": {},
   "outputs": [
    {
     "data": {
      "text/plain": [
       "21    86\n",
       "22    69\n",
       "18    69\n",
       "20    61\n",
       "19    59\n",
       "8     56\n",
       "17    54\n",
       "10    52\n",
       "9     40\n",
       "13    37\n",
       "15    35\n",
       "12    34\n",
       "23    33\n",
       "14    28\n",
       "7     25\n",
       "16    24\n",
       "11    23\n",
       "6      7\n",
       "5      6\n",
       "Name: on_hour, dtype: int64"
      ]
     },
     "execution_count": 503,
     "metadata": {},
     "output_type": "execute_result"
    }
   ],
   "source": [
    "trans_y[trans_y['movement'] == '1123064_1121073']['on_hour'].value_counts()"
   ]
  },
  {
   "cell_type": "code",
   "execution_count": 504,
   "id": "d9a595cd",
   "metadata": {
    "scrolled": true
   },
   "outputs": [],
   "source": [
    "yeoksam_daehak = trans_y[trans_y['movement'] == '1123064_1121073']['on_hour'].value_counts().reset_index()\n",
    "yeoksam_daehak.columns = ['Hour', 'Count']"
   ]
  },
  {
   "cell_type": "code",
   "execution_count": 505,
   "id": "96e614d8",
   "metadata": {},
   "outputs": [
    {
     "data": {
      "text/html": [
       "<div>\n",
       "<style scoped>\n",
       "    .dataframe tbody tr th:only-of-type {\n",
       "        vertical-align: middle;\n",
       "    }\n",
       "\n",
       "    .dataframe tbody tr th {\n",
       "        vertical-align: top;\n",
       "    }\n",
       "\n",
       "    .dataframe thead th {\n",
       "        text-align: right;\n",
       "    }\n",
       "</style>\n",
       "<table border=\"1\" class=\"dataframe\">\n",
       "  <thead>\n",
       "    <tr style=\"text-align: right;\">\n",
       "      <th></th>\n",
       "      <th>Hour</th>\n",
       "      <th>Count</th>\n",
       "    </tr>\n",
       "  </thead>\n",
       "  <tbody>\n",
       "    <tr>\n",
       "      <th>0</th>\n",
       "      <td>21</td>\n",
       "      <td>86</td>\n",
       "    </tr>\n",
       "    <tr>\n",
       "      <th>1</th>\n",
       "      <td>22</td>\n",
       "      <td>69</td>\n",
       "    </tr>\n",
       "    <tr>\n",
       "      <th>2</th>\n",
       "      <td>18</td>\n",
       "      <td>69</td>\n",
       "    </tr>\n",
       "    <tr>\n",
       "      <th>3</th>\n",
       "      <td>20</td>\n",
       "      <td>61</td>\n",
       "    </tr>\n",
       "    <tr>\n",
       "      <th>4</th>\n",
       "      <td>19</td>\n",
       "      <td>59</td>\n",
       "    </tr>\n",
       "    <tr>\n",
       "      <th>5</th>\n",
       "      <td>8</td>\n",
       "      <td>56</td>\n",
       "    </tr>\n",
       "    <tr>\n",
       "      <th>6</th>\n",
       "      <td>17</td>\n",
       "      <td>54</td>\n",
       "    </tr>\n",
       "    <tr>\n",
       "      <th>7</th>\n",
       "      <td>10</td>\n",
       "      <td>52</td>\n",
       "    </tr>\n",
       "    <tr>\n",
       "      <th>8</th>\n",
       "      <td>9</td>\n",
       "      <td>40</td>\n",
       "    </tr>\n",
       "    <tr>\n",
       "      <th>9</th>\n",
       "      <td>13</td>\n",
       "      <td>37</td>\n",
       "    </tr>\n",
       "    <tr>\n",
       "      <th>10</th>\n",
       "      <td>15</td>\n",
       "      <td>35</td>\n",
       "    </tr>\n",
       "    <tr>\n",
       "      <th>11</th>\n",
       "      <td>12</td>\n",
       "      <td>34</td>\n",
       "    </tr>\n",
       "    <tr>\n",
       "      <th>12</th>\n",
       "      <td>23</td>\n",
       "      <td>33</td>\n",
       "    </tr>\n",
       "    <tr>\n",
       "      <th>13</th>\n",
       "      <td>14</td>\n",
       "      <td>28</td>\n",
       "    </tr>\n",
       "    <tr>\n",
       "      <th>14</th>\n",
       "      <td>7</td>\n",
       "      <td>25</td>\n",
       "    </tr>\n",
       "    <tr>\n",
       "      <th>15</th>\n",
       "      <td>16</td>\n",
       "      <td>24</td>\n",
       "    </tr>\n",
       "    <tr>\n",
       "      <th>16</th>\n",
       "      <td>11</td>\n",
       "      <td>23</td>\n",
       "    </tr>\n",
       "    <tr>\n",
       "      <th>17</th>\n",
       "      <td>6</td>\n",
       "      <td>7</td>\n",
       "    </tr>\n",
       "    <tr>\n",
       "      <th>18</th>\n",
       "      <td>5</td>\n",
       "      <td>6</td>\n",
       "    </tr>\n",
       "  </tbody>\n",
       "</table>\n",
       "</div>"
      ],
      "text/plain": [
       "    Hour  Count\n",
       "0     21     86\n",
       "1     22     69\n",
       "2     18     69\n",
       "3     20     61\n",
       "4     19     59\n",
       "5      8     56\n",
       "6     17     54\n",
       "7     10     52\n",
       "8      9     40\n",
       "9     13     37\n",
       "10    15     35\n",
       "11    12     34\n",
       "12    23     33\n",
       "13    14     28\n",
       "14     7     25\n",
       "15    16     24\n",
       "16    11     23\n",
       "17     6      7\n",
       "18     5      6"
      ]
     },
     "execution_count": 505,
     "metadata": {},
     "output_type": "execute_result"
    }
   ],
   "source": [
    "yeoksam_daehak"
   ]
  },
  {
   "cell_type": "code",
   "execution_count": 506,
   "id": "649b0b70",
   "metadata": {},
   "outputs": [
    {
     "data": {
      "text/plain": [
       "<AxesSubplot:xlabel='Hour', ylabel='Count'>"
      ]
     },
     "execution_count": 506,
     "metadata": {},
     "output_type": "execute_result"
    },
    {
     "data": {
      "image/png": "[encoded data removed]",
      "text/plain": [
       "<Figure size 576x360 with 1 Axes>"
      ]
     },
     "metadata": {},
     "output_type": "display_data"
    }
   ],
   "source": [
    "plt.figure(figsize=(8, 5))\n",
    "sns.barplot(data=yeoksam_daehak, x='Hour', y='Count')"
   ]
  },
  {
   "cell_type": "code",
   "execution_count": 507,
   "id": "3f60f113",
   "metadata": {},
   "outputs": [],
   "source": [
    "misung_yeoksam = trans_y[trans_y['movement'] == '1121083_1123064']['on_hour'].value_counts().reset_index()\n",
    "misung_yeoksam.columns = ['Hour', 'Count']"
   ]
  },
  {
   "cell_type": "code",
   "execution_count": 508,
   "id": "62c0e6bf",
   "metadata": {},
   "outputs": [
    {
     "data": {
      "text/plain": [
       "<AxesSubplot:xlabel='Hour', ylabel='Count'>"
      ]
     },
     "execution_count": 508,
     "metadata": {},
     "output_type": "execute_result"
    },
    {
     "data": {
      "image/png": "[encoded data removed]",
      "text/plain": [
       "<Figure size 576x360 with 1 Axes>"
      ]
     },
     "metadata": {},
     "output_type": "display_data"
    }
   ],
   "source": [
    "plt.figure(figsize=(8, 5))\n",
    "sns.barplot(data=misung_yeoksam, x='Hour', y='Count')"
   ]
  },
  {
   "cell_type": "code",
   "execution_count": 509,
   "id": "fd956f23",
   "metadata": {},
   "outputs": [],
   "source": [
    "yeoksam_serlim = trans_y[trans_y['movement'] == '1123064_1121066']['on_hour'].value_counts().reset_index()\n",
    "yeoksam_serlim.columns = ['Hour', 'Count']"
   ]
  },
  {
   "cell_type": "code",
   "execution_count": 510,
   "id": "2507470e",
   "metadata": {},
   "outputs": [
    {
     "data": {
      "text/plain": [
       "<AxesSubplot:xlabel='Hour', ylabel='Count'>"
      ]
     },
     "execution_count": 510,
     "metadata": {},
     "output_type": "execute_result"
    },
    {
     "data": {
      "image/png": "[encoded data removed]",
      "text/plain": [
       "<Figure size 576x360 with 1 Axes>"
      ]
     },
     "metadata": {},
     "output_type": "display_data"
    }
   ],
   "source": [
    "plt.figure(figsize=(8, 5))\n",
    "sns.barplot(data=yeoksam_serlim, x='Hour', y='Count')"
   ]
  }
 ],
 "metadata": {
  "kernelspec": {
   "display_name": "Python 3 (ipykernel)",
   "language": "python",
   "name": "python3"
  },
  "language_info": {
   "codemirror_mode": {
    "name": "ipython",
    "version": 3
   },
   "file_extension": ".py",
   "mimetype": "text/x-python",
   "name": "python",
   "nbconvert_exporter": "python",
   "pygments_lexer": "ipython3",
   "version": "3.9.7"
  }
 },
 "nbformat": 4,
 "nbformat_minor": 5
}
